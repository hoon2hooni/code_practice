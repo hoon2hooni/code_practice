{
 "cells": [
  {
   "cell_type": "code",
   "execution_count": 17,
   "metadata": {
    "scrolled": true
   },
   "outputs": [
    {
     "name": "stdout",
     "output_type": "stream",
     "text": [
      "12 1000000\n",
      "100000 100000 100000 100000 100000 100000 100000 100000 100000 100000 100000 -100000\n"
     ]
    }
   ],
   "source": [
    "n, S = map(int,input().split())\n",
    "nums = list(map(int, input().split()))\n",
    "nums = sorted(nums, reverse =True)\n",
    "cnt = 0\n",
    "def get_sum(idx, num_sum):\n",
    "    global cnt\n",
    "    if idx >= n:\n",
    "        return\n",
    "    num_sum += nums[idx]\n",
    "    if num_sum < 0:\n",
    "        return\n",
    "\n",
    "    if num_sum == S:\n",
    "        cnt +=1\n",
    "    get_sum(idx + 1, num_sum)\n",
    "    get_sum(idx + 1, num_sum -nums[idx])\n",
    "        \n",
    "        \n",
    "    \n",
    "    \n",
    "                  "
   ]
  },
  {
   "cell_type": "code",
   "execution_count": 18,
   "metadata": {},
   "outputs": [],
   "source": [
    "5 0\n",
    "-7 -3 -2 5 8"
   ]
  },
  {
   "cell_type": "code",
   "execution_count": 19,
   "metadata": {},
   "outputs": [
    {
     "data": {
      "text/plain": [
       "12"
      ]
     },
     "execution_count": 19,
     "metadata": {},
     "output_type": "execute_result"
    }
   ],
   "source": [
    "cnt"
   ]
  },
  {
   "cell_type": "code",
   "execution_count": null,
   "metadata": {},
   "outputs": [],
   "source": [
    "12 1000000\n",
    "100000 100000 100000 100000 100000 100000 100000 100000 100000 100000 100000 -100000"
   ]
  },
  {
   "cell_type": "code",
   "execution_count": 4,
   "metadata": {},
   "outputs": [
    {
     "name": "stdout",
     "output_type": "stream",
     "text": [
      "12 1000000\n",
      "100000 100000 100000 100000 100000 100000 100000 100000 100000 100000 100000 -100000\n",
      "12\n"
     ]
    }
   ],
   "source": [
    "from itertools import combinations\n",
    "length, num = [int(i) for i in input().split()] \n",
    "arr = [int(i) for i in input().split()]\n",
    "cnt = 0\n",
    "for n in range(1,length+1):\n",
    "    cnt += sum([1 for i in list(combinations(arr, n)) if sum(i) == num])\n",
    "print(cnt)"
   ]
  },
  {
   "cell_type": "markdown",
   "metadata": {},
   "source": [
    "# "
   ]
  }
 ],
 "metadata": {
  "kernelspec": {
   "display_name": "Python 3",
   "language": "python",
   "name": "python3"
  },
  "language_info": {
   "codemirror_mode": {
    "name": "ipython",
    "version": 3
   },
   "file_extension": ".py",
   "mimetype": "text/x-python",
   "name": "python",
   "nbconvert_exporter": "python",
   "pygments_lexer": "ipython3",
   "version": "3.8.5"
  }
 },
 "nbformat": 4,
 "nbformat_minor": 4
}
