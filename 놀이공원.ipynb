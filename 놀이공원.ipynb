{
 "cells": [
  {
   "cell_type": "code",
   "execution_count": null,
   "metadata": {},
   "outputs": [],
   "source": [
    "22 5\n",
    "1 2 3 4 5"
   ]
  },
  {
   "cell_type": "code",
   "execution_count": 1,
   "metadata": {},
   "outputs": [
    {
     "name": "stdout",
     "output_type": "stream",
     "text": [
      "22 5\n",
      "1 2 3 4 5\n"
     ]
    }
   ],
   "source": [
    "n,m =map(int, input().split())\n",
    "times = list(map(int, input().split()))\n",
    "\n",
    "copied_times = times[:]\n",
    "\n",
    "def run_machines(n):\n",
    "    available_count = 0\n",
    "    find_idx = n\n",
    "    for idx, t in enumerate(copied_times):\n",
    "        copied_times[idx] -= 1\n",
    "        if copied_times[idx] == 0:\n",
    "            available_count += 1\n",
    "            if n == available_count:\n",
    "                return str(idx+1)\n",
    "            copied_times[idx] = times[idx]\n",
    "    return available_count\n",
    "\n",
    "n = 22\n",
    "\n",
    "n -= m\n",
    "while n > 0:\n",
    "    cnt = run_machines(n)\n",
    "    if type(cnt) == str:\n",
    "        print(cnt)\n",
    "        break\n",
    "    else:\n",
    "        n -= cnt\n",
    "\n",
    "        \n"
   ]
  },
  {
   "cell_type": "code",
   "execution_count": 35,
   "metadata": {},
   "outputs": [
    {
     "data": {
      "text/plain": [
       "0"
      ]
     },
     "execution_count": 35,
     "metadata": {},
     "output_type": "execute_result"
    }
   ],
   "source": [
    "n"
   ]
  },
  {
   "cell_type": "code",
   "execution_count": null,
   "metadata": {},
   "outputs": [],
   "source": []
  }
 ],
 "metadata": {
  "kernelspec": {
   "display_name": "Python 3",
   "language": "python",
   "name": "python3"
  },
  "language_info": {
   "codemirror_mode": {
    "name": "ipython",
    "version": 3
   },
   "file_extension": ".py",
   "mimetype": "text/x-python",
   "name": "python",
   "nbconvert_exporter": "python",
   "pygments_lexer": "ipython3",
   "version": "3.8.5"
  }
 },
 "nbformat": 4,
 "nbformat_minor": 4
}
