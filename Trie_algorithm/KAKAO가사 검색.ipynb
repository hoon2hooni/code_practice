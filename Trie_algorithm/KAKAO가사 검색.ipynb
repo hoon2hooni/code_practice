{
 "cells": [
  {
   "cell_type": "code",
   "execution_count": 19,
   "metadata": {},
   "outputs": [],
   "source": [
    "from collections import defaultdict\n",
    "def string2graph(word : str) -> dict:\n",
    "    n = len(word)\n",
    "    graph = dict()\n",
    "    for i in range(0,n-1):\n",
    "        graph[i,word[i]] = (i+1,word[i+1])\n",
    "    return graph\n",
    "\n",
    "        "
   ]
  },
  {
   "cell_type": "code",
   "execution_count": 29,
   "metadata": {},
   "outputs": [],
   "source": [
    "hello_graph = string2graph(\"hello?o\")\n"
   ]
  },
  {
   "cell_type": "code",
   "execution_count": 30,
   "metadata": {},
   "outputs": [
    {
     "name": "stdout",
     "output_type": "stream",
     "text": [
      "(1, 'e')\n",
      "(2, 'l')\n",
      "(3, 'l')\n",
      "(4, 'o')\n",
      "(5, 'o')\n",
      "(6, 'o')\n"
     ]
    },
    {
     "ename": "KeyError",
     "evalue": "(6, 'o')",
     "output_type": "error",
     "traceback": [
      "\u001b[0;31m---------------------------------------------------------------------------\u001b[0m",
      "\u001b[0;31mKeyError\u001b[0m                                  Traceback (most recent call last)",
      "\u001b[0;32m<ipython-input-30-f2f0ba0119b1>\u001b[0m in \u001b[0;36m<module>\u001b[0;34m\u001b[0m\n\u001b[1;32m      2\u001b[0m \u001b[0;32mwhile\u001b[0m \u001b[0;32mTrue\u001b[0m\u001b[0;34m:\u001b[0m\u001b[0;34m\u001b[0m\u001b[0;34m\u001b[0m\u001b[0m\n\u001b[1;32m      3\u001b[0m     \u001b[0mprint\u001b[0m\u001b[0;34m(\u001b[0m\u001b[0mi\u001b[0m\u001b[0;34m)\u001b[0m\u001b[0;34m\u001b[0m\u001b[0;34m\u001b[0m\u001b[0m\n\u001b[0;32m----> 4\u001b[0;31m     \u001b[0mi\u001b[0m \u001b[0;34m=\u001b[0m \u001b[0mhello_graph\u001b[0m\u001b[0;34m[\u001b[0m\u001b[0mi\u001b[0m\u001b[0;34m]\u001b[0m\u001b[0;34m\u001b[0m\u001b[0;34m\u001b[0m\u001b[0m\n\u001b[0m\u001b[1;32m      5\u001b[0m \u001b[0;34m\u001b[0m\u001b[0m\n",
      "\u001b[0;31mKeyError\u001b[0m: (6, 'o')"
     ]
    }
   ],
   "source": [
    "i = hello_graph[0,\"hello\"[0]]\n",
    "while True:\n",
    "    print(i)\n",
    "    i = hello_graph[i]\n",
    "    if i[1] == \"?\":\n",
    "        \n",
    "    "
   ]
  },
  {
   "cell_type": "code",
   "execution_count": 64,
   "metadata": {},
   "outputs": [
    {
     "data": {
      "text/plain": [
       "'fro--'"
      ]
     },
     "execution_count": 64,
     "metadata": {},
     "output_type": "execute_result"
    }
   ],
   "source": [
    "import re\n",
    "word =\"fro??\"\n",
    "word = word.replace(\"?\",\".\")\n",
    "a =re.compile(f\"{word}\")\n",
    "a.match(\"fro---\").group()"
   ]
  },
  {
   "cell_type": "code",
   "execution_count": 82,
   "metadata": {},
   "outputs": [],
   "source": [
    "def get_quries(word:str):\n",
    "    word =word.replace(\"?\",\".\")\n",
    "    q = re.compile(f\"{word}\")\n",
    "    return q\n",
    "\n",
    "def find_match(word:str, query):\n",
    "    n = len(query)\n",
    "    if len(word) != n:\n",
    "        return False\n",
    "    else:\n",
    "        q = get_quries(query)\n",
    "        match_word = q.match(word)\n",
    "        if match_word:    \n",
    "            if len(match_word.group()) == n:\n",
    "                print(word,query)\n",
    "                return True\n",
    "        return False\n",
    "    \n",
    "\n",
    "\n",
    "\n",
    "ans = []\n",
    "for query in queries:\n",
    "    cnt = 0\n",
    "    for word in words:\n",
    "        if find_match(word, query) is True:\n",
    "            cnt += 1\n",
    "    ans.append(cnt)\n",
    "    "
   ]
  },
  {
   "cell_type": "code",
   "execution_count": 86,
   "metadata": {},
   "outputs": [
    {
     "data": {
      "text/plain": [
       "[3, 2, 4, 1, 0]"
      ]
     },
     "execution_count": 86,
     "metadata": {},
     "output_type": "execute_result"
    }
   ],
   "source": [
    "ans"
   ]
  },
  {
   "cell_type": "code",
   "execution_count": 32,
   "metadata": {},
   "outputs": [
    {
     "name": "stdout",
     "output_type": "stream",
     "text": [
      "Help on method_descriptor:\n",
      "\n",
      "isalnum(self, /)\n",
      "    Return True if the string is an alpha-numeric string, False otherwise.\n",
      "    \n",
      "    A string is alpha-numeric if all characters in the string are alpha-numeric and\n",
      "    there is at least one character in the string.\n",
      "\n"
     ]
    }
   ],
   "source": [
    "help(str.isalnum)"
   ]
  },
  {
   "cell_type": "code",
   "execution_count": 28,
   "metadata": {},
   "outputs": [],
   "source": [
    "import time\n",
    "start = time.time()  # 시작 시간 저장\n",
    "def solution(words, queries):\n",
    "    \n",
    "    def get_quries(word:str):\n",
    "        word =word.replace(\"?\",\".\")\n",
    "        q = re.compile(f\"{word}\")\n",
    "        return q\n",
    "\n",
    "    def is_fittable_word_by_query(word:str, query):\n",
    "        n = len(query)\n",
    "        if len(word) != n:\n",
    "            return False\n",
    "        else:\n",
    "            q = get_quries(query)\n",
    "            match_word = q.match(word)\n",
    "            if match_word:\n",
    "                if (\n",
    "                    match_word.span()[0] == query[0] \n",
    "                    and match_word.span()[1] == query[-1]\n",
    "                ):\n",
    "                    return True\n",
    "            return False\n",
    "        \n",
    "    ans = []\n",
    "    for query in queries:\n",
    "        cnt = 0\n",
    "        for word in words:\n",
    "            if find_match(word, query) is True:\n",
    "                cnt += 1\n",
    "        ans.append(cnt)\n",
    "    return ans"
   ]
  },
  {
   "cell_type": "code",
   "execution_count": 29,
   "metadata": {},
   "outputs": [
    {
     "name": "stdout",
     "output_type": "stream",
     "text": [
      "time : 0.0001919269561767578\n"
     ]
    }
   ],
   "source": [
    "\n",
    "words = [\"frodo\", \"front\", \"frost\", \"frozen\", \"frame\", \"kakao\"]\n",
    "queries  = [\"fro??\", \"????o\", \"fr???\", \"fro???\", \"pro?\"]\n",
    "\n",
    "start = time.time()  # 시작 시간 저장\n",
    "solution(words,queries)\n",
    "print(\"time :\", time.time() - start)\n",
    "\n"
   ]
  },
  {
   "cell_type": "code",
   "execution_count": 30,
   "metadata": {},
   "outputs": [
    {
     "ename": "TypeError",
     "evalue": "'module' object is not callable",
     "output_type": "error",
     "traceback": [
      "\u001b[0;31m---------------------------------------------------------------------------\u001b[0m",
      "\u001b[0;31mTypeError\u001b[0m                                 Traceback (most recent call last)",
      "\u001b[0;32m<ipython-input-30-bd481d5a7b22>\u001b[0m in \u001b[0;36m<module>\u001b[0;34m\u001b[0m\n\u001b[0;32m----> 1\u001b[0;31m \u001b[0mre\u001b[0m\u001b[0;34m(\u001b[0m\u001b[0;34m\".\"\u001b[0m\u001b[0;34m)\u001b[0m\u001b[0;34m\u001b[0m\u001b[0;34m\u001b[0m\u001b[0m\n\u001b[0m",
      "\u001b[0;31mTypeError\u001b[0m: 'module' object is not callable"
     ]
    }
   ],
   "source": [
    "re(\".\")"
   ]
  },
  {
   "cell_type": "code",
   "execution_count": null,
   "metadata": {},
   "outputs": [],
   "source": []
  },
  {
   "cell_type": "code",
   "execution_count": null,
   "metadata": {},
   "outputs": [],
   "source": []
  }
 ],
 "metadata": {
  "kernelspec": {
   "display_name": "Python 3",
   "language": "python",
   "name": "python3"
  },
  "language_info": {
   "codemirror_mode": {
    "name": "ipython",
    "version": 3
   },
   "file_extension": ".py",
   "mimetype": "text/x-python",
   "name": "python",
   "nbconvert_exporter": "python",
   "pygments_lexer": "ipython3",
   "version": "3.8.5"
  }
 },
 "nbformat": 4,
 "nbformat_minor": 4
}
