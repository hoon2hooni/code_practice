{
 "cells": [
  {
   "cell_type": "code",
   "execution_count": 21,
   "metadata": {},
   "outputs": [
    {
     "name": "stdout",
     "output_type": "stream",
     "text": [
      "2\n",
      "11\n",
      "1 2 2 2 3 3 1 1 1 3 3\n",
      "[(1, 1.0), (2, 3.003)]\n",
      "[(2, 3.003), (3, 2.005)]\n",
      "[(2, 3.003), (1, 3.008)]\n",
      "1 3\n"
     ]
    }
   ],
   "source": [
    "win_nums = int(input())\n",
    "windows = dict()\n",
    "n = int(input())\n",
    "\n",
    "for idx, cand in enumerate(input().split()):\n",
    "    cand = int(cand)\n",
    "    weighted_idx =1/1000 *idx\n",
    "    if cand in windows.keys():\n",
    "        windows[cand] += 1\n",
    "        continue\n",
    "    \n",
    "    if len(windows) < win_nums:\n",
    "        windows[cand] = weighted_idx + 1\n",
    "        continue\n",
    "        \n",
    "    \n",
    "    #창이 다 차있으면??\n",
    "    min_key = min([(key, value) for key, value in windows.items()], key = lambda x: x[1])[0]\n",
    "    del windows[min_key]\n",
    "    windows[cand] = weighted_idx + 1\n",
    "    \n",
    "print(\" \".join(map(str,sorted(windows.keys()))))\n",
    "\n",
    "    "
   ]
  },
  {
   "cell_type": "code",
   "execution_count": 12,
   "metadata": {},
   "outputs": [
    {
     "data": {
      "text/plain": [
       "'1 2 3'"
      ]
     },
     "execution_count": 12,
     "metadata": {},
     "output_type": "execute_result"
    }
   ],
   "source": [
    "\" \".join([\"1\",\"2\",\"3\"])"
   ]
  },
  {
   "cell_type": "code",
   "execution_count": null,
   "metadata": {},
   "outputs": [],
   "source": []
  }
 ],
 "metadata": {
  "kernelspec": {
   "display_name": "Python 3.8.5 64-bit ('base': conda)",
   "language": "python",
   "name": "python385jvsc74a57bd0b2bb918a0942ba26a9376c97fc5cc9ed2446350eb0970c42479b753998e6d837"
  },
  "language_info": {
   "codemirror_mode": {
    "name": "ipython",
    "version": 3
   },
   "file_extension": ".py",
   "mimetype": "text/x-python",
   "name": "python",
   "nbconvert_exporter": "python",
   "pygments_lexer": "ipython3",
   "version": "3.8.5"
  }
 },
 "nbformat": 4,
 "nbformat_minor": 4
}
