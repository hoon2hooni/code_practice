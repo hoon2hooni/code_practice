{
  "nbformat": 4,
  "nbformat_minor": 0,
  "metadata": {
    "colab": {
      "name": "nlp_in_action_51-71_.ipynb",
      "provenance": [],
      "collapsed_sections": [],
      "authorship_tag": "ABX9TyO1dCVz5wdHiWD36FkCe9f+",
      "include_colab_link": true
    },
    "kernelspec": {
      "name": "python3",
      "display_name": "Python 3"
    }
  },
  "cells": [
    {
      "cell_type": "markdown",
      "metadata": {
        "id": "view-in-github",
        "colab_type": "text"
      },
      "source": [
        "<a href=\"https://colab.research.google.com/github/hoon2hooni/code_practice/blob/master/nlp_in_action_51_71_.ipynb\" target=\"_parent\"><img src=\"https://colab.research.google.com/assets/colab-badge.svg\" alt=\"Open In Colab\"/></a>"
      ]
    },
    {
      "cell_type": "code",
      "metadata": {
        "id": "QV4tNzimqLgX"
      },
      "source": [
        "import numpy as np"
      ],
      "execution_count": 1,
      "outputs": []
    },
    {
      "cell_type": "code",
      "metadata": {
        "id": "hfAbmi-Iqa1C"
      },
      "source": [
        "import pandas as pd"
      ],
      "execution_count": 2,
      "outputs": []
    },
    {
      "cell_type": "code",
      "metadata": {
        "colab": {
          "base_uri": "https://localhost:8080/"
        },
        "id": "CJoFyU2wqeiS",
        "outputId": "1aac645f-c570-4966-c0ff-de295d4d59b9"
      },
      "source": [
        "v1 = pd.np.array([1,2,3])\n",
        "v2 = pd.np.array([4,5,6])\n",
        "\n",
        "(v1*v2).sum()"
      ],
      "execution_count": 3,
      "outputs": [
        {
          "output_type": "stream",
          "text": [
            "/usr/local/lib/python3.6/dist-packages/ipykernel_launcher.py:1: FutureWarning: The pandas.np module is deprecated and will be removed from pandas in a future version. Import numpy directly instead\n",
            "  \"\"\"Entry point for launching an IPython kernel.\n",
            "/usr/local/lib/python3.6/dist-packages/ipykernel_launcher.py:2: FutureWarning: The pandas.np module is deprecated and will be removed from pandas in a future version. Import numpy directly instead\n",
            "  \n"
          ],
          "name": "stderr"
        },
        {
          "output_type": "execute_result",
          "data": {
            "text/plain": [
              "32"
            ]
          },
          "metadata": {
            "tags": []
          },
          "execution_count": 3
        }
      ]
    },
    {
      "cell_type": "code",
      "metadata": {
        "colab": {
          "base_uri": "https://localhost:8080/"
        },
        "id": "l-EurM_IqmBM",
        "outputId": "c44142f5-bd6f-4597-f3d6-96b4a7da6407"
      },
      "source": [
        "sum([x1 * x2 for x1 , x2 in zip(v1,v2)]) #이렇게 하나하나씩 처리하지 말아야한다"
      ],
      "execution_count": 4,
      "outputs": [
        {
          "output_type": "execute_result",
          "data": {
            "text/plain": [
              "32"
            ]
          },
          "metadata": {
            "tags": []
          },
          "execution_count": 4
        }
      ]
    },
    {
      "cell_type": "code",
      "metadata": {
        "colab": {
          "base_uri": "https://localhost:8080/"
        },
        "id": "lSNgaV1Wqrnv",
        "outputId": "e57c3bd4-8b31-4735-eeea-7db920e6d178"
      },
      "source": [
        "#두 단어 모음의 중복 측정\n",
        "\n",
        "sentences = \"\"\"Sometimes to understand a word's meaning you need more than a definition.\\n\"\"\"\n",
        "sentences +=\"\"\"At YourDictionary we try to give you all of the tools\\n\"\"\"\n",
        "sentences +=\"\"\"you need to really understand what the word means.\\n\"\"\"\n",
        "sentences +=\"\"\"Seeing the word in a sentence can provide more context and relevance.\"\"\"\n",
        "\n",
        "corpus = {}\n",
        "for i,sent in enumerate(sentences.split('\\n')):\n",
        "    corpus['sent{}'.format(i)] = dict((tok, 1) for tok in sent.split()) #dict((mapping!!))\n",
        "\n",
        "print(corpus)\n",
        "df = pd.DataFrame.from_records(corpus).fillna(0).astype(int).T"
      ],
      "execution_count": 6,
      "outputs": [
        {
          "output_type": "stream",
          "text": [
            "{'sent0': {'Sometimes': 1, 'to': 1, 'understand': 1, 'a': 1, \"word's\": 1, 'meaning': 1, 'you': 1, 'need': 1, 'more': 1, 'than': 1, 'definition.': 1}, 'sent1': {'At': 1, 'YourDictionary': 1, 'we': 1, 'try': 1, 'to': 1, 'give': 1, 'you': 1, 'all': 1, 'of': 1, 'the': 1, 'tools': 1}, 'sent2': {'you': 1, 'need': 1, 'to': 1, 'really': 1, 'understand': 1, 'what': 1, 'the': 1, 'word': 1, 'means.': 1}, 'sent3': {'Seeing': 1, 'the': 1, 'word': 1, 'in': 1, 'a': 1, 'sentence': 1, 'can': 1, 'provide': 1, 'more': 1, 'context': 1, 'and': 1, 'relevance.': 1}}\n"
          ],
          "name": "stdout"
        }
      ]
    },
    {
      "cell_type": "code",
      "metadata": {
        "colab": {
          "base_uri": "https://localhost:8080/",
          "height": 193
        },
        "id": "MOUD3J0MrHEo",
        "outputId": "1930d74e-46d2-48d0-f1f2-66ece125df6a"
      },
      "source": [
        "df"
      ],
      "execution_count": 7,
      "outputs": [
        {
          "output_type": "execute_result",
          "data": {
            "text/html": [
              "<div>\n",
              "<style scoped>\n",
              "    .dataframe tbody tr th:only-of-type {\n",
              "        vertical-align: middle;\n",
              "    }\n",
              "\n",
              "    .dataframe tbody tr th {\n",
              "        vertical-align: top;\n",
              "    }\n",
              "\n",
              "    .dataframe thead th {\n",
              "        text-align: right;\n",
              "    }\n",
              "</style>\n",
              "<table border=\"1\" class=\"dataframe\">\n",
              "  <thead>\n",
              "    <tr style=\"text-align: right;\">\n",
              "      <th></th>\n",
              "      <th>Sometimes</th>\n",
              "      <th>to</th>\n",
              "      <th>understand</th>\n",
              "      <th>a</th>\n",
              "      <th>word's</th>\n",
              "      <th>meaning</th>\n",
              "      <th>you</th>\n",
              "      <th>need</th>\n",
              "      <th>more</th>\n",
              "      <th>than</th>\n",
              "      <th>definition.</th>\n",
              "      <th>At</th>\n",
              "      <th>YourDictionary</th>\n",
              "      <th>we</th>\n",
              "      <th>try</th>\n",
              "      <th>give</th>\n",
              "      <th>all</th>\n",
              "      <th>of</th>\n",
              "      <th>the</th>\n",
              "      <th>tools</th>\n",
              "      <th>really</th>\n",
              "      <th>what</th>\n",
              "      <th>word</th>\n",
              "      <th>means.</th>\n",
              "      <th>Seeing</th>\n",
              "      <th>in</th>\n",
              "      <th>sentence</th>\n",
              "      <th>can</th>\n",
              "      <th>provide</th>\n",
              "      <th>context</th>\n",
              "      <th>and</th>\n",
              "      <th>relevance.</th>\n",
              "    </tr>\n",
              "  </thead>\n",
              "  <tbody>\n",
              "    <tr>\n",
              "      <th>sent0</th>\n",
              "      <td>1</td>\n",
              "      <td>1</td>\n",
              "      <td>1</td>\n",
              "      <td>1</td>\n",
              "      <td>1</td>\n",
              "      <td>1</td>\n",
              "      <td>1</td>\n",
              "      <td>1</td>\n",
              "      <td>1</td>\n",
              "      <td>1</td>\n",
              "      <td>1</td>\n",
              "      <td>0</td>\n",
              "      <td>0</td>\n",
              "      <td>0</td>\n",
              "      <td>0</td>\n",
              "      <td>0</td>\n",
              "      <td>0</td>\n",
              "      <td>0</td>\n",
              "      <td>0</td>\n",
              "      <td>0</td>\n",
              "      <td>0</td>\n",
              "      <td>0</td>\n",
              "      <td>0</td>\n",
              "      <td>0</td>\n",
              "      <td>0</td>\n",
              "      <td>0</td>\n",
              "      <td>0</td>\n",
              "      <td>0</td>\n",
              "      <td>0</td>\n",
              "      <td>0</td>\n",
              "      <td>0</td>\n",
              "      <td>0</td>\n",
              "    </tr>\n",
              "    <tr>\n",
              "      <th>sent1</th>\n",
              "      <td>0</td>\n",
              "      <td>1</td>\n",
              "      <td>0</td>\n",
              "      <td>0</td>\n",
              "      <td>0</td>\n",
              "      <td>0</td>\n",
              "      <td>1</td>\n",
              "      <td>0</td>\n",
              "      <td>0</td>\n",
              "      <td>0</td>\n",
              "      <td>0</td>\n",
              "      <td>1</td>\n",
              "      <td>1</td>\n",
              "      <td>1</td>\n",
              "      <td>1</td>\n",
              "      <td>1</td>\n",
              "      <td>1</td>\n",
              "      <td>1</td>\n",
              "      <td>1</td>\n",
              "      <td>1</td>\n",
              "      <td>0</td>\n",
              "      <td>0</td>\n",
              "      <td>0</td>\n",
              "      <td>0</td>\n",
              "      <td>0</td>\n",
              "      <td>0</td>\n",
              "      <td>0</td>\n",
              "      <td>0</td>\n",
              "      <td>0</td>\n",
              "      <td>0</td>\n",
              "      <td>0</td>\n",
              "      <td>0</td>\n",
              "    </tr>\n",
              "    <tr>\n",
              "      <th>sent2</th>\n",
              "      <td>0</td>\n",
              "      <td>1</td>\n",
              "      <td>1</td>\n",
              "      <td>0</td>\n",
              "      <td>0</td>\n",
              "      <td>0</td>\n",
              "      <td>1</td>\n",
              "      <td>1</td>\n",
              "      <td>0</td>\n",
              "      <td>0</td>\n",
              "      <td>0</td>\n",
              "      <td>0</td>\n",
              "      <td>0</td>\n",
              "      <td>0</td>\n",
              "      <td>0</td>\n",
              "      <td>0</td>\n",
              "      <td>0</td>\n",
              "      <td>0</td>\n",
              "      <td>1</td>\n",
              "      <td>0</td>\n",
              "      <td>1</td>\n",
              "      <td>1</td>\n",
              "      <td>1</td>\n",
              "      <td>1</td>\n",
              "      <td>0</td>\n",
              "      <td>0</td>\n",
              "      <td>0</td>\n",
              "      <td>0</td>\n",
              "      <td>0</td>\n",
              "      <td>0</td>\n",
              "      <td>0</td>\n",
              "      <td>0</td>\n",
              "    </tr>\n",
              "    <tr>\n",
              "      <th>sent3</th>\n",
              "      <td>0</td>\n",
              "      <td>0</td>\n",
              "      <td>0</td>\n",
              "      <td>1</td>\n",
              "      <td>0</td>\n",
              "      <td>0</td>\n",
              "      <td>0</td>\n",
              "      <td>0</td>\n",
              "      <td>1</td>\n",
              "      <td>0</td>\n",
              "      <td>0</td>\n",
              "      <td>0</td>\n",
              "      <td>0</td>\n",
              "      <td>0</td>\n",
              "      <td>0</td>\n",
              "      <td>0</td>\n",
              "      <td>0</td>\n",
              "      <td>0</td>\n",
              "      <td>1</td>\n",
              "      <td>0</td>\n",
              "      <td>0</td>\n",
              "      <td>0</td>\n",
              "      <td>1</td>\n",
              "      <td>0</td>\n",
              "      <td>1</td>\n",
              "      <td>1</td>\n",
              "      <td>1</td>\n",
              "      <td>1</td>\n",
              "      <td>1</td>\n",
              "      <td>1</td>\n",
              "      <td>1</td>\n",
              "      <td>1</td>\n",
              "    </tr>\n",
              "  </tbody>\n",
              "</table>\n",
              "</div>"
            ],
            "text/plain": [
              "       Sometimes  to  understand  a  ...  provide  context  and  relevance.\n",
              "sent0          1   1           1  1  ...        0        0    0           0\n",
              "sent1          0   1           0  0  ...        0        0    0           0\n",
              "sent2          0   1           1  0  ...        0        0    0           0\n",
              "sent3          0   0           0  1  ...        1        1    1           1\n",
              "\n",
              "[4 rows x 32 columns]"
            ]
          },
          "metadata": {
            "tags": []
          },
          "execution_count": 7
        }
      ]
    },
    {
      "cell_type": "code",
      "metadata": {
        "id": "cJClKsZ4rJHc"
      },
      "source": [
        "df = df.T"
      ],
      "execution_count": 8,
      "outputs": []
    },
    {
      "cell_type": "code",
      "metadata": {
        "colab": {
          "base_uri": "https://localhost:8080/"
        },
        "id": "PKLEtiQSrMTj",
        "outputId": "fe501fbd-d03f-4b0c-c168-d00098702ac4"
      },
      "source": [
        "df.sent0.dot(df.sent1)"
      ],
      "execution_count": 9,
      "outputs": [
        {
          "output_type": "execute_result",
          "data": {
            "text/plain": [
              "2"
            ]
          },
          "metadata": {
            "tags": []
          },
          "execution_count": 9
        }
      ]
    },
    {
      "cell_type": "code",
      "metadata": {
        "colab": {
          "base_uri": "https://localhost:8080/"
        },
        "id": "dTqnbRLirOxx",
        "outputId": "04a4da8f-3a0f-470e-87a0-e416d1bb2bb5"
      },
      "source": [
        "df.sent0.dot(df.sent2)"
      ],
      "execution_count": 10,
      "outputs": [
        {
          "output_type": "execute_result",
          "data": {
            "text/plain": [
              "4"
            ]
          },
          "metadata": {
            "tags": []
          },
          "execution_count": 10
        }
      ]
    },
    {
      "cell_type": "code",
      "metadata": {
        "colab": {
          "base_uri": "https://localhost:8080/"
        },
        "id": "QHiEhYOYrR94",
        "outputId": "85f5c5f7-2b79-4663-950c-afeaec42b3f4"
      },
      "source": [
        "for i in range(0,4):\n",
        "    dot_prod = df['sent{}'.format(i)].dot(df.sent0)\n",
        "    print(dot_prod)"
      ],
      "execution_count": 19,
      "outputs": [
        {
          "output_type": "stream",
          "text": [
            "11\n",
            "2\n",
            "4\n",
            "2\n"
          ],
          "name": "stdout"
        }
      ]
    },
    {
      "cell_type": "code",
      "metadata": {
        "colab": {
          "base_uri": "https://localhost:8080/"
        },
        "id": "tn-2g9_Crc1v",
        "outputId": "95872f76-ccd8-450c-9255-1fec27125b98"
      },
      "source": [
        "[(k,v) for (k,v) in (df.sent0 & df.sent3).items() if v]"
      ],
      "execution_count": 20,
      "outputs": [
        {
          "output_type": "execute_result",
          "data": {
            "text/plain": [
              "[('a', 1), ('more', 1)]"
            ]
          },
          "metadata": {
            "tags": []
          },
          "execution_count": 20
        }
      ]
    },
    {
      "cell_type": "code",
      "metadata": {
        "colab": {
          "base_uri": "https://localhost:8080/"
        },
        "id": "meWkXCVWr7Fw",
        "outputId": "33dc26b5-2b60-478d-c7ae-4349e32244b2"
      },
      "source": [
        "#정규 표현식을 이요한 몬티첼로 문장의 토큰화\n",
        "import re\n",
        "\n",
        "sentence = \"\"\"Thomas Jefferson began building Monticello at the\\\n",
        "age of 26.\"\"\"\n",
        "tokens = re.split(r'[-\\s.,!?]+', sentence) #+의 경우 하나 이상\n",
        "\"\"\"\n",
        "\\s 의 경우 키보드에서 스페이스바나 탭 키 그리고 엔터키를 눌렸을 때 입려되는 다양항한 공백 문자들을 대표한다\n",
        "즉 r'[\\s]'의 경우  r'[ \\t(탭), \\n(개행), \\f 폼피드 , \\v 수직 문자탭]' 문자의 범윌르 지정할 수도 있다\n",
        "예를들면 r'[0-9]' 0~9숫자 r'[a-z]'  d\n",
        "\"\"\"\n",
        "tokens"
      ],
      "execution_count": 24,
      "outputs": [
        {
          "output_type": "execute_result",
          "data": {
            "text/plain": [
              "['Thomas',\n",
              " 'Jefferson',\n",
              " 'began',\n",
              " 'building',\n",
              " 'Monticello',\n",
              " 'at',\n",
              " 'theage',\n",
              " 'of',\n",
              " '26',\n",
              " '']"
            ]
          },
          "metadata": {
            "tags": []
          },
          "execution_count": 24
        }
      ]
    },
    {
      "cell_type": "code",
      "metadata": {
        "colab": {
          "base_uri": "https://localhost:8080/"
        },
        "id": "9g9KiBZmtGFZ",
        "outputId": "b944f706-a605-4253-9d18-e1d0cf290765"
      },
      "source": [
        "pattern = re.compile(r'([-\\s.,;!?])+')\n",
        "tokens = pattern.split(sentence)\n",
        "tokens"
      ],
      "execution_count": 27,
      "outputs": [
        {
          "output_type": "execute_result",
          "data": {
            "text/plain": [
              "['Thomas',\n",
              " ' ',\n",
              " 'Jefferson',\n",
              " ' ',\n",
              " 'began',\n",
              " ' ',\n",
              " 'building',\n",
              " ' ',\n",
              " 'Monticello',\n",
              " ' ',\n",
              " 'at',\n",
              " ' ',\n",
              " 'theage',\n",
              " ' ',\n",
              " 'of',\n",
              " ' ',\n",
              " '26',\n",
              " '.',\n",
              " '']"
            ]
          },
          "metadata": {
            "tags": []
          },
          "execution_count": 27
        }
      ]
    },
    {
      "cell_type": "code",
      "metadata": {
        "colab": {
          "base_uri": "https://localhost:8080/"
        },
        "id": "9nvs-PGBu-S9",
        "outputId": "49e82c65-0146-4d59-b77c-60462a54f2e2"
      },
      "source": [
        "[x for x in  tokens if x and x not in '- \\t\\n.,;!?']\n",
        "#list(filter(lambda x: x if x and x not in '- \\t\\n.,!?' else None, tokens))"
      ],
      "execution_count": 31,
      "outputs": [
        {
          "output_type": "execute_result",
          "data": {
            "text/plain": [
              "['Thomas',\n",
              " 'Jefferson',\n",
              " 'began',\n",
              " 'building',\n",
              " 'Monticello',\n",
              " 'at',\n",
              " 'theage',\n",
              " 'of',\n",
              " '26']"
            ]
          },
          "metadata": {
            "tags": []
          },
          "execution_count": 31
        }
      ]
    },
    {
      "cell_type": "code",
      "metadata": {
        "colab": {
          "base_uri": "https://localhost:8080/"
        },
        "id": "FKu9Et8gvhBe",
        "outputId": "74566942-55ee-44d2-8e68-37208a887e35"
      },
      "source": [
        "list(filter(lambda x: x if x and x not in '- \\n\\t,.;!?' else None, tokens))"
      ],
      "execution_count": 33,
      "outputs": [
        {
          "output_type": "execute_result",
          "data": {
            "text/plain": [
              "['Thomas',\n",
              " 'Jefferson',\n",
              " 'began',\n",
              " 'building',\n",
              " 'Monticello',\n",
              " 'at',\n",
              " 'theage',\n",
              " 'of',\n",
              " '26']"
            ]
          },
          "metadata": {
            "tags": []
          },
          "execution_count": 33
        }
      ]
    },
    {
      "cell_type": "code",
      "metadata": {
        "id": "Tk4PRZ2ewKbD"
      },
      "source": [
        "import nltk"
      ],
      "execution_count": 34,
      "outputs": []
    },
    {
      "cell_type": "code",
      "metadata": {
        "id": "SU1vQHtGwb1g"
      },
      "source": [
        "from nltk.tokenize import RegexpTokenizer"
      ],
      "execution_count": 35,
      "outputs": []
    },
    {
      "cell_type": "code",
      "metadata": {
        "colab": {
          "base_uri": "https://localhost:8080/"
        },
        "id": "ks6yJsI6we6w",
        "outputId": "50a5115e-3bdc-40e2-87ef-4aa6e5603ee4"
      },
      "source": [
        "tokenizer = RegexpTokenizer(r'\\w+|$[0-9.]+|\\S+') #공백 토큰들 자동으로 해줌\n",
        "tokenizer.tokenize(sentence)"
      ],
      "execution_count": 38,
      "outputs": [
        {
          "output_type": "execute_result",
          "data": {
            "text/plain": [
              "['Thomas',\n",
              " 'Jefferson',\n",
              " 'began',\n",
              " 'building',\n",
              " 'Monticello',\n",
              " 'at',\n",
              " 'theage',\n",
              " 'of',\n",
              " '26',\n",
              " '.']"
            ]
          },
          "metadata": {
            "tags": []
          },
          "execution_count": 38
        }
      ]
    },
    {
      "cell_type": "code",
      "metadata": {
        "colab": {
          "base_uri": "https://localhost:8080/"
        },
        "id": "xQznc65cwpBc",
        "outputId": "cc3121a5-cbd4-4152-9ea6-9f81042d4465"
      },
      "source": [
        "from nltk.tokenize import TreebankWordTokenizer\n",
        "sentence = \"\"\"Monticello wasn't designated as UNESCO World Heritage\\\n",
        "site until 1987.\"\"\"\n",
        "tokenizer = TreebankWordTokenizer() #wasn't -> 'was' 'n't'\n",
        "tokenizer.tokenize(sentence) \n"
      ],
      "execution_count": 39,
      "outputs": [
        {
          "output_type": "execute_result",
          "data": {
            "text/plain": [
              "['Monticello',\n",
              " 'was',\n",
              " \"n't\",\n",
              " 'designated',\n",
              " 'as',\n",
              " 'UNESCO',\n",
              " 'World',\n",
              " 'Heritagesite',\n",
              " 'until',\n",
              " '1987',\n",
              " '.']"
            ]
          },
          "metadata": {
            "tags": []
          },
          "execution_count": 39
        }
      ]
    },
    {
      "cell_type": "code",
      "metadata": {
        "colab": {
          "base_uri": "https://localhost:8080/"
        },
        "id": "6Z-Ik_h3xoAR",
        "outputId": "5725c6f1-404d-4aee-b916-76e245fb90d7"
      },
      "source": [
        "#casual tokenzie 도 있다\n",
        "\n",
        "message =\"\"\" RT @TJMonticello Best day everrrrrrrr at Monticello.\\\n",
        "Awesommmmmeeeee day:) \"\"\"\n",
        "\n",
        "from nltk.tokenize.casual import  casual_tokenize\n",
        "casual_tokenize(message)"
      ],
      "execution_count": 42,
      "outputs": [
        {
          "output_type": "execute_result",
          "data": {
            "text/plain": [
              "['RT',\n",
              " '@TJMonticello',\n",
              " 'Best',\n",
              " 'day',\n",
              " 'everrrrrrrr',\n",
              " 'at',\n",
              " 'Monticello',\n",
              " '.',\n",
              " 'Awesommmmmeeeee',\n",
              " 'day',\n",
              " ':)']"
            ]
          },
          "metadata": {
            "tags": []
          },
          "execution_count": 42
        }
      ]
    },
    {
      "cell_type": "code",
      "metadata": {
        "id": "2jPwIAn6yPS6"
      },
      "source": [
        "#n 그램을 이요한 어휘 확장\n",
        "\n",
        "#I scream, you scream, we all scream for ice cream.\n",
        "#해결책은 n-그램이다.\n",
        "\n",
        "from nltk.util import ngrams"
      ],
      "execution_count": 45,
      "outputs": []
    },
    {
      "cell_type": "code",
      "metadata": {
        "colab": {
          "base_uri": "https://localhost:8080/"
        },
        "id": "GLkrSpWk476t",
        "outputId": "4be222f1-c1db-4927-d85d-1bed34781431"
      },
      "source": [
        "pattern = re.compile(r'([-\\s.,;!?])+')\n",
        "tokens = pattern.split(sentence)\n",
        "tokens = [x for x in tokens if x and x not in '- \\t\\n.,;!?']\n",
        "list(ngrams(tokens,2))"
      ],
      "execution_count": 50,
      "outputs": [
        {
          "output_type": "execute_result",
          "data": {
            "text/plain": [
              "[('Monticello', \"wasn't\"),\n",
              " (\"wasn't\", 'designated'),\n",
              " ('designated', 'as'),\n",
              " ('as', 'UNESCO'),\n",
              " ('UNESCO', 'World'),\n",
              " ('World', 'Heritagesite'),\n",
              " ('Heritagesite', 'until'),\n",
              " ('until', '1987')]"
            ]
          },
          "metadata": {
            "tags": []
          },
          "execution_count": 50
        }
      ]
    },
    {
      "cell_type": "code",
      "metadata": {
        "colab": {
          "base_uri": "https://localhost:8080/"
        },
        "id": "lmhfk3A35IgF",
        "outputId": "c549c782-bfd8-4deb-d94f-0cdf50985dfa"
      },
      "source": [
        "list(ngrams(tokens,3))"
      ],
      "execution_count": 51,
      "outputs": [
        {
          "output_type": "execute_result",
          "data": {
            "text/plain": [
              "[('Monticello', \"wasn't\", 'designated'),\n",
              " (\"wasn't\", 'designated', 'as'),\n",
              " ('designated', 'as', 'UNESCO'),\n",
              " ('as', 'UNESCO', 'World'),\n",
              " ('UNESCO', 'World', 'Heritagesite'),\n",
              " ('World', 'Heritagesite', 'until'),\n",
              " ('Heritagesite', 'until', '1987')]"
            ]
          },
          "metadata": {
            "tags": []
          },
          "execution_count": 51
        }
      ]
    },
    {
      "cell_type": "code",
      "metadata": {
        "colab": {
          "base_uri": "https://localhost:8080/"
        },
        "id": "lJS8lZr85yGw",
        "outputId": "f82e36cb-2231-4214-8186-b89cdc517fda"
      },
      "source": [
        "two_gram = list(ngrams(tokens,2))\n",
        "print(two_gram)"
      ],
      "execution_count": 55,
      "outputs": [
        {
          "output_type": "stream",
          "text": [
            "[('Monticello', \"wasn't\"), (\"wasn't\", 'designated'), ('designated', 'as'), ('as', 'UNESCO'), ('UNESCO', 'World'), ('World', 'Heritagesite'), ('Heritagesite', 'until'), ('until', '1987')]\n"
          ],
          "name": "stdout"
        }
      ]
    },
    {
      "cell_type": "code",
      "metadata": {
        "colab": {
          "base_uri": "https://localhost:8080/"
        },
        "id": "lI-gyKWo52SN",
        "outputId": "fff07ec6-4d02-4379-d1fd-32da58cd538c"
      },
      "source": [
        "[\" \".join(x) for x in two_gram]"
      ],
      "execution_count": 58,
      "outputs": [
        {
          "output_type": "execute_result",
          "data": {
            "text/plain": [
              "[\"Monticello wasn't\",\n",
              " \"wasn't designated\",\n",
              " 'designated as',\n",
              " 'as UNESCO',\n",
              " 'UNESCO World',\n",
              " 'World Heritagesite',\n",
              " 'Heritagesite until',\n",
              " 'until 1987']"
            ]
          },
          "metadata": {
            "tags": []
          },
          "execution_count": 58
        }
      ]
    },
    {
      "cell_type": "code",
      "metadata": {
        "colab": {
          "base_uri": "https://localhost:8080/",
          "height": 69
        },
        "id": "TFpqOtm656xj",
        "outputId": "4dbac8f0-084a-4bac-97b2-612cb8d34399"
      },
      "source": [
        "#불용어 stop-words\n",
        "\"\"\"\n",
        "a an, the the, and or , of on \n",
        "이전부터 nlp 파이프라인에서는 텍스트의 정보 추출에 필요한 계산량을 줄이기위 해\n",
        "불용어를 제외했다 그러나 불용어 자체는 정보를 ㅂ려로 전달하지 않는다고 해도 \n",
        "n-그램에 표함된 불용어는 중요한 관계 정보를 제공 할 수 있다\n",
        "\n",
        "mark reported to the ceo\n",
        "Suzanne reported as the CEO to the board\n",
        "\n",
        "\"\"\"\n",
        "\n",
        "\n",
        "\n"
      ],
      "execution_count": 59,
      "outputs": [
        {
          "output_type": "execute_result",
          "data": {
            "application/vnd.google.colaboratory.intrinsic+json": {
              "type": "string"
            },
            "text/plain": [
              "'\\na an, the the, and or , of on \\n이전부터 nlp 파이프라인에서는 텍스트의 정보 추출에 필요한 계산량을 줄이기위 해\\n불용어를 제외했다 그러나 불용어 자체는 정보를 ㅂ려로 전달하지 않는다고 해도 \\nn-그램에 표함된 불용어는 중요한 관계 정보를 제공 할 수 있다\\n\\nmark reported to the ceo\\nSuzanne reported as the CEO to the board\\n\\n'"
            ]
          },
          "metadata": {
            "tags": []
          },
          "execution_count": 59
        }
      ]
    },
    {
      "cell_type": "code",
      "metadata": {
        "id": "zhsg3ZBO9XA3"
      },
      "source": [
        "#어휘 정규화 \n",
        "\n",
        "#어휘의 크를 줄이는 방법중 하나는 어휘를 정규화(normalization)하는 것 이다.\n",
        "#어휘가 작아지면 과대적합이 일어날 가능성도 적어진다\n",
        "\n",
        "#1 대소문자 합치기\n"
      ],
      "execution_count": 60,
      "outputs": []
    },
    {
      "cell_type": "code",
      "metadata": {
        "id": "RKynVK199sKi"
      },
      "source": [
        "#예외는 있음 doctor와 Doctor \n",
        "#고유 명사 인식을 하기휘해 대문자를 유지 시키는 것이 유리 할 수도있다\n",
        "#허나 대소문자 구성을 그대로 유지하면 어휘가 약 두배로 커지고 메모리와 처리 시간도 두 배가 된다.\n"
      ],
      "execution_count": 61,
      "outputs": []
    },
    {
      "cell_type": "code",
      "metadata": {
        "colab": {
          "base_uri": "https://localhost:8080/"
        },
        "id": "Dv2O4yIL-Hee",
        "outputId": "57d5706f-a5bc-402f-ad67-ccbeb031e2f6"
      },
      "source": [
        "tokens = ['House', 'Visitor', 'Center']\n",
        "normalized_tokens = [x.lower() for x in tokens] #대문자들 소문자로 바꿔주는 내장 함수\n",
        "print(normalized_tokens)"
      ],
      "execution_count": 62,
      "outputs": [
        {
          "output_type": "stream",
          "text": [
            "['house', 'visitor', 'center']\n"
          ],
          "name": "stdout"
        }
      ]
    },
    {
      "cell_type": "code",
      "metadata": {
        "id": "QhnxrfxE-Xl8"
      },
      "source": [
        "#camel 표기법과 같이 단어를 지능 적으로 대소문자로 구분하는 경우도 있기에 \n",
        "#언제 적재 적소로 대소문자 정규화를 해주는 것은 개발자의 역량에 달려있다\n",
        "\n",
        "#고유 명사들을 유지하기위해 문장의 첫 단어만 소문자로 정규화를 해주는 경우도 있다\n",
        "#하지만 문장의 첫 단어가 고유명사 일때는 해결 할 수 없다\n",
        "#그래서 여러 nlp 파이프라인들은 대소문자 정규화를 아예 생략하는 경우가 많다\n",
        "#왜냐하면 고유 명사에 관한 정보를 잃어서 생기는 손해가 더 크기 때문이다.\n",
        "#대소문자 정규화는 기계 학습 파이프라인의 과대적합을 줄이는대 효과적이다\n",
        "#즉 정답은 없다 각 상황에 맞는 정규화를 해야한다.\n",
        "\n"
      ],
      "execution_count": 63,
      "outputs": []
    },
    {
      "cell_type": "code",
      "metadata": {
        "id": "oaZJYKjjAGws"
      },
      "source": [
        "#어간 추출\n",
        "\n",
        "#단어 끝의 복수형 접미사나 소유격 접미사에 의한 의미차이를 제거 하는 것이다.\n",
        "#더 나아가서 동사의 여러 불규칙 변형을 하나의 기본형으로 통합할 수도 있다.\n",
        "#어간 추출 역시 재현율은 증가 정밀도는 줄인다 \n",
        "#검색엔진에서 이를 막기위해 \"따옴표로 검색해주면\" 어간 추출 대신 그 단어들로 이루어진 정확한 \n",
        "#문구로 검색을 수행 된다.\n"
      ],
      "execution_count": 64,
      "outputs": []
    },
    {
      "cell_type": "code",
      "metadata": {
        "id": "FYrb2pViA-yL"
      },
      "source": [
        "#python 내장함수로 후행s 처리하는법\n",
        "\n",
        "def stem(pharse):\n",
        "    return ' '.join([re.findall('^(.*ss|.*?)(s)?$',\n",
        "                               word)[0][0].strip(\"'\") for word in pharse.lower().split()])"
      ],
      "execution_count": 66,
      "outputs": []
    },
    {
      "cell_type": "code",
      "metadata": {
        "colab": {
          "base_uri": "https://localhost:8080/",
          "height": 35
        },
        "id": "dP5A4RV9BnQe",
        "outputId": "50683785-c45e-4eef-a927-96a2bb1c9ba3"
      },
      "source": [
        "stem('houses')"
      ],
      "execution_count": 67,
      "outputs": [
        {
          "output_type": "execute_result",
          "data": {
            "application/vnd.google.colaboratory.intrinsic+json": {
              "type": "string"
            },
            "text/plain": [
              "'house'"
            ]
          },
          "metadata": {
            "tags": []
          },
          "execution_count": 67
        }
      ]
    },
    {
      "cell_type": "code",
      "metadata": {
        "colab": {
          "base_uri": "https://localhost:8080/",
          "height": 35
        },
        "id": "twwHP-zTBpDc",
        "outputId": "c0d7a864-bbfc-4765-e1f2-1d279db2d1cf"
      },
      "source": [
        "stem(\"Doctor House's calls\")"
      ],
      "execution_count": 68,
      "outputs": [
        {
          "output_type": "execute_result",
          "data": {
            "application/vnd.google.colaboratory.intrinsic+json": {
              "type": "string"
            },
            "text/plain": [
              "'doctor house call'"
            ]
          },
          "metadata": {
            "tags": []
          },
          "execution_count": 68
        }
      ]
    },
    {
      "cell_type": "code",
      "metadata": {
        "id": "RLbNRkazBs7v"
      },
      "source": [
        "#위 정규식 규칙 설명\n",
        "#만일 단어가 둘 이상의 s로 끝나면, 어간은 그 단어 자체이고 접미사는 빈 문자열이다.\n",
        "#만일 단어가 하나의 s로 끝나면, 어간은 단어에서 s를 제외한 부분이고 접미사는 s이다.\n",
        "#만일 단어가 s로 끝나지 않으면, 어간은 그 단어 자체이고 접미사는 없다."
      ],
      "execution_count": null,
      "outputs": []
    }
  ]
}