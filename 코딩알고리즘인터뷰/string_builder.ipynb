{
 "cells": [
  {
   "cell_type": "code",
   "execution_count": 1,
   "metadata": {},
   "outputs": [],
   "source": [
    "strings = [\"aa\", \"bb\", \"cc\",\"dd\"]"
   ]
  },
  {
   "cell_type": "code",
   "execution_count": 18,
   "metadata": {},
   "outputs": [
    {
     "name": "stdout",
     "output_type": "stream",
     "text": [
      "0.184577초 걸렸습니다.\n"
     ]
    }
   ],
   "source": [
    "import timeit\n",
    "#비효율적인방법\n",
    "start_time = timeit.default_timer() # 시작 시간 체크\n",
    "ans = \"\"\n",
    "for _ in range(1000000):\n",
    "    ans += \"num\"\n",
    "\n",
    "terminate_time = timeit.default_timer() # 종료 시간 체크  \n",
    " \n",
    "print(\"%f초 걸렸습니다.\" % (terminate_time - start_time))\n"
   ]
  },
  {
   "cell_type": "code",
   "execution_count": 17,
   "metadata": {},
   "outputs": [
    {
     "name": "stdout",
     "output_type": "stream",
     "text": [
      "0.118878초 걸렸습니다.\n"
     ]
    }
   ],
   "source": [
    "#유사 string_builder활용법\n",
    "\n",
    "import timeit\n",
    "#효율적인방법\n",
    "ans =\"\"\n",
    "array = []\n",
    "start_time = timeit.default_timer() # 시작 시간 체크\n",
    "for _ in range(1000000):\n",
    "    array.append(\"num\")\n",
    "ans = \"\".join(array)\n",
    "\n",
    "terminate_time = timeit.default_timer() # 종료 시간 체크  \n",
    " \n",
    "print(\"%f초 걸렸습니다.\" % (terminate_time - start_time))"
   ]
  },
  {
   "cell_type": "code",
   "execution_count": null,
   "metadata": {},
   "outputs": [],
   "source": []
  },
  {
   "cell_type": "code",
   "execution_count": null,
   "metadata": {},
   "outputs": [],
   "source": []
  }
 ],
 "metadata": {
  "kernelspec": {
   "display_name": "Python 3.8.5 64-bit ('base': conda)",
   "language": "python",
   "name": "python385jvsc74a57bd0b2bb918a0942ba26a9376c97fc5cc9ed2446350eb0970c42479b753998e6d837"
  },
  "language_info": {
   "codemirror_mode": {
    "name": "ipython",
    "version": 3
   },
   "file_extension": ".py",
   "mimetype": "text/x-python",
   "name": "python",
   "nbconvert_exporter": "python",
   "pygments_lexer": "ipython3",
   "version": "3.8.5"
  }
 },
 "nbformat": 4,
 "nbformat_minor": 4
}
