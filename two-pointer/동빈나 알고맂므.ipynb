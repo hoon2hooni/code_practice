{
 "cells": [
  {
   "cell_type": "code",
   "execution_count": 13,
   "metadata": {},
   "outputs": [
    {
     "name": "stdout",
     "output_type": "stream",
     "text": [
      "0\n",
      "3\n",
      "1 2\n",
      "3\n",
      "2 3\n",
      "4\n",
      "5\n",
      "4 4\n"
     ]
    }
   ],
   "source": [
    "arr =[1,2,3,2,5]\n",
    "n = len(arr)\n",
    "end  = 0 \n",
    "target = 5\n",
    "tmp = 0\n",
    "for start in range(n):\n",
    "    print(end)\n",
    "    while tmp < target and end < n:\n",
    "        tmp += arr[end]\n",
    "        end += 1\n",
    "    if tmp == target:\n",
    "        print(start,end-1)\n",
    "    tmp -= arr[start]\n",
    "    "
   ]
  },
  {
   "cell_type": "code",
   "execution_count": 14,
   "metadata": {},
   "outputs": [],
   "source": [
    "sum_arr =[0]\n",
    "num_sum = 0\n",
    "for i in range(n):\n",
    "    num_sum += arr[i]\n",
    "    sum_arr.append(num_sum)"
   ]
  },
  {
   "cell_type": "code",
   "execution_count": 15,
   "metadata": {},
   "outputs": [
    {
     "data": {
      "text/plain": [
       "5"
      ]
     },
     "execution_count": 15,
     "metadata": {},
     "output_type": "execute_result"
    }
   ],
   "source": [
    "sum_arr[3]-sum_arr[1] "
   ]
  },
  {
   "cell_type": "code",
   "execution_count": 17,
   "metadata": {},
   "outputs": [
    {
     "data": {
      "text/plain": [
       "5"
      ]
     },
     "execution_count": 17,
     "metadata": {},
     "output_type": "execute_result"
    }
   ],
   "source": [
    "sum(arr[1:3])"
   ]
  },
  {
   "cell_type": "code",
   "execution_count": null,
   "metadata": {},
   "outputs": [],
   "source": []
  }
 ],
 "metadata": {
  "kernelspec": {
   "display_name": "Python 3",
   "language": "python",
   "name": "python3"
  },
  "language_info": {
   "codemirror_mode": {
    "name": "ipython",
    "version": 3
   },
   "file_extension": ".py",
   "mimetype": "text/x-python",
   "name": "python",
   "nbconvert_exporter": "python",
   "pygments_lexer": "ipython3",
   "version": "3.8.5"
  }
 },
 "nbformat": 4,
 "nbformat_minor": 4
}
