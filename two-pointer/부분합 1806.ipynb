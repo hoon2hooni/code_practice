{
 "cells": [
  {
   "cell_type": "code",
   "execution_count": 12,
   "metadata": {},
   "outputs": [
    {
     "ename": "SyntaxError",
     "evalue": "invalid syntax (<ipython-input-12-e1b5daef0089>, line 1)",
     "output_type": "error",
     "traceback": [
      "\u001b[0;36m  File \u001b[0;32m\"<ipython-input-12-e1b5daef0089>\"\u001b[0;36m, line \u001b[0;32m1\u001b[0m\n\u001b[0;31m    10 15\u001b[0m\n\u001b[0m       ^\u001b[0m\n\u001b[0;31mSyntaxError\u001b[0m\u001b[0;31m:\u001b[0m invalid syntax\n"
     ]
    }
   ],
   "source": [
    "10 15\n",
    "5 1 3 5 10 7 4 9 2 8"
   ]
  },
  {
   "cell_type": "code",
   "execution_count": 17,
   "metadata": {
    "scrolled": true
   },
   "outputs": [
    {
     "name": "stdout",
     "output_type": "stream",
     "text": [
      "10 15\n",
      "5 1 3 5 10 7 4 9 2 8\n",
      "ans:1000000 ,start:0 ,end:0, std:5, move_end:True\n",
      "ans:1000000 ,start:0 ,end:1, std:6, move_end:True\n",
      "ans:1000000 ,start:0 ,end:2, std:9, move_end:True\n",
      "ans:1000000 ,start:0 ,end:3, std:14, move_end:True\n",
      "ans:1000000 ,start:0 ,end:4, std:24, move_end:True\n",
      "ans:5 ,start:0 ,end:4, std:24, move_end:False\n",
      "ans:5 ,start:1 ,end:4, std:19, move_end:False\n",
      "ans:4 ,start:2 ,end:4, std:18, move_end:False\n",
      "ans:3 ,start:3 ,end:4, std:15, move_end:False\n",
      "ans:2 ,start:3 ,end:5, std:22, move_end:True\n",
      "ans:2 ,start:3 ,end:5, std:22, move_end:False\n",
      "ans:2 ,start:4 ,end:5, std:17, move_end:False\n",
      "ans:2 ,start:5 ,end:5, std:7, move_end:False\n",
      "ans:2 ,start:5 ,end:6, std:11, move_end:True\n",
      "ans:2 ,start:5 ,end:7, std:20, move_end:True\n",
      "ans:2 ,start:5 ,end:7, std:20, move_end:False\n",
      "ans:2 ,start:6 ,end:7, std:13, move_end:False\n",
      "ans:2 ,start:6 ,end:8, std:15, move_end:True\n",
      "ans:2 ,start:6 ,end:8, std:15, move_end:False\n",
      "ans:2 ,start:6 ,end:9, std:23, move_end:True\n",
      "ans:2 ,start:7 ,end:9, std:19, move_end:True\n",
      "ans:2 ,start:8 ,end:9, std:10, move_end:True\n",
      "2\n"
     ]
    }
   ],
   "source": [
    "n, target = map(int,input().split())\n",
    "nums = list(map(int,input().split()))\n",
    "\n",
    "start = 0 \n",
    "end = 0\n",
    "move_end = True\n",
    "ans = 1000000\n",
    "finish_mark = False\n",
    "std = nums[0]\n",
    "while True:\n",
    "    print(f\"ans:{ans} ,start:{start} ,end:{end}, std:{std}, move_end:{move_end}\")\n",
    "    if finish_mark == True:\n",
    "        break\n",
    "    if ans == 1:\n",
    "        break\n",
    "    #end가 끝에 도달했을때\n",
    "    if end == n-1:\n",
    "        if std < target:\n",
    "            finish_mark = True\n",
    "            break\n",
    "        else:\n",
    "            new_ans = end-start +1\n",
    "            ans = min((new_ans),ans)\n",
    "            std -= nums[start]\n",
    "            start += 1\n",
    "        continue\n",
    "        \n",
    "    #end가 증가할때\n",
    "    if move_end == True:\n",
    "        if  std >= target:\n",
    "            new_ans = end -start + 1\n",
    "            ans = min(new_ans,ans)\n",
    "            move_end = False\n",
    "        else:\n",
    "            end += 1\n",
    "            std += nums[end]\n",
    "    #start가 증가할때\n",
    "    else:\n",
    "        if std > target:\n",
    "            new_ans = end -start + 1\n",
    "            ans = min(new_ans,ans)\n",
    "            std -= nums[start]\n",
    "            start += 1\n",
    "        else:\n",
    "            if std == target:\n",
    "                new_ans = end -start + 1\n",
    "                ans = min(new_ans,ans)\n",
    "            move_end = True\n",
    "            end += 1\n",
    "            std +=nums[end]\n",
    "print(ans)\n",
    "        \n",
    "     "
   ]
  },
  {
   "cell_type": "code",
   "execution_count": 29,
   "metadata": {},
   "outputs": [],
   "source": [
    "def checker():\n",
    "    if sum(nums[start:end+1]) >= target:\n",
    "    return True\n",
    "        \n",
    "        \n",
    "    \n",
    "    "
   ]
  },
  {
   "cell_type": "code",
   "execution_count": 3,
   "metadata": {},
   "outputs": [
    {
     "name": "stdout",
     "output_type": "stream",
     "text": [
      "아아\n"
     ]
    }
   ],
   "source": [
    "import math\n",
    "test = math.inf\n",
    "\n",
    "if test == math.inf:\n",
    "    print(\"아아\")"
   ]
  },
  {
   "cell_type": "code",
   "execution_count": null,
   "metadata": {},
   "outputs": [],
   "source": [
    "import math \n",
    "n, target = map(int,input().split())\n",
    "nums = list(map(int,input().split()))\n",
    "start = 0 \n",
    "end = 0\n",
    "move_end = True\n",
    "ans = math.inf\n",
    "finish = True\n",
    "while True:\n",
    "    if ans == 1 or finish == False:\n",
    "        break\n",
    "    #end가 끝에 도달했을때\n",
    "    if end == n-1:\n",
    "        if sum(nums[start:end+1]) < target:\n",
    "            finish = False\n",
    "        else:\n",
    "            new_ans = end-start +1\n",
    "            ans = min((new_ans),ans)\n",
    "            start += 1\n",
    "        continue\n",
    "        \n",
    "    #end가 증가할때\n",
    "    if move_end == True:\n",
    "        if sum(nums[start:end+1]) >= target:\n",
    "            new_ans = end -start + 1\n",
    "            ans = min(new_ans,ans)\n",
    "            move_end = False\n",
    "        else:\n",
    "            end += 1\n",
    "    #start가 증가할때\n",
    "    else:\n",
    "        if sum(nums[start:end+1]) >= target:\n",
    "            new_ans = end -start + 1\n",
    "            ans = min(new_ans,ans)\n",
    "            start += 1\n",
    "        else:\n",
    "            move_end = True\n",
    "            end += 1\n",
    "if ans == math.inf:\n",
    "    print(0)\n",
    "else:\n",
    "    print(ans)\n",
    "        \n",
    "     "
   ]
  }
 ],
 "metadata": {
  "kernelspec": {
   "display_name": "Python 3",
   "language": "python",
   "name": "python3"
  },
  "language_info": {
   "codemirror_mode": {
    "name": "ipython",
    "version": 3
   },
   "file_extension": ".py",
   "mimetype": "text/x-python",
   "name": "python",
   "nbconvert_exporter": "python",
   "pygments_lexer": "ipython3",
   "version": "3.8.5"
  }
 },
 "nbformat": 4,
 "nbformat_minor": 4
}
