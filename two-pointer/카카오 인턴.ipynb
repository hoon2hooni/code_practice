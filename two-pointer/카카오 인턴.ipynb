{
 "cells": [
  {
   "cell_type": "code",
   "execution_count": null,
   "metadata": {},
   "outputs": [],
   "source": [
    "from collections import defaultdict\n",
    "def get_count(gems:list) -> int:\n",
    "    visited =set()\n",
    "    for gem in gems:\n",
    "        visited.add(gem)\n",
    "    return len(visited)\n",
    "\n",
    "def solution(gems):\n",
    "    cnt = get_count(gems)\n",
    "    #작으면 r증가\n",
    "    #크면 l증가\n",
    "    gem_dic = defaultdict(int)\n",
    "    gems = [0] +gems\n",
    "    n = len(gems)\n",
    "    r = 1\n",
    "    tmp = 1\n",
    "    #l, r 1부터시작\n",
    "    min_length = n\n",
    "    gem_dic[gems[r]] = 1\n",
    "    for l in range(1,n):\n",
    "        while tmp < cnt and r < n-1:\n",
    "            r += 1\n",
    "            if gem_dic[gems[r]] == 0:\n",
    "                tmp += 1\n",
    "            gem_dic[gems[r]] += 1\n",
    "            \n",
    "        if tmp == cnt and r-l < min_length:\n",
    "            ans = [l,r]\n",
    "            min_length = r-l\n",
    "            \n",
    "        #min이제 움직이기..\n",
    "        if gem_dic[gems[l]] > 1:\n",
    "            gem_dic[gems[l]] -= 1\n",
    "            continue\n",
    "            \n",
    "        gem_dic[gems[l]] -= 1 \n",
    "        tmp -= 1\n",
    "        if r == n-1:\n",
    "            break\n",
    "\n",
    "    return ans"
   ]
  }
 ],
 "metadata": {
  "kernelspec": {
   "display_name": "Python 3",
   "language": "python",
   "name": "python3"
  },
  "language_info": {
   "codemirror_mode": {
    "name": "ipython",
    "version": 3
   },
   "file_extension": ".py",
   "mimetype": "text/x-python",
   "name": "python",
   "nbconvert_exporter": "python",
   "pygments_lexer": "ipython3",
   "version": "3.8.5"
  }
 },
 "nbformat": 4,
 "nbformat_minor": 4
}
