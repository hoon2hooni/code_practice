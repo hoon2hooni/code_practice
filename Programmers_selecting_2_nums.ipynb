{
 "cells": [
  {
   "cell_type": "markdown",
   "metadata": {},
   "source": [
    "# Set은 순서를 보장하지 않는다. 따라서 마지막에 sort 해주어야함 "
   ]
  },
  {
   "cell_type": "code",
   "execution_count": 1,
   "metadata": {},
   "outputs": [],
   "source": [
    "def solution(numbers):\n",
    "    l_nums = sorted(numbers)\n",
    "    answer_set = set()\n",
    "    length = len(l_nums)\n",
    "    for i in range(length):\n",
    "        for j in range(i+1, length):\n",
    "            num = l_nums[i] + l_nums[j]\n",
    "            answer_set.add(num)\n",
    "    answer = list(answer_set) # 내 실수 return answer_set 해버림\n",
    "    answer.sort()\n",
    "    return answer"
   ]
  },
  {
   "cell_type": "code",
   "execution_count": null,
   "metadata": {},
   "outputs": [],
   "source": []
  }
 ],
 "metadata": {
  "kernelspec": {
   "display_name": "Python 3",
   "language": "python",
   "name": "python3"
  },
  "language_info": {
   "codemirror_mode": {
    "name": "ipython",
    "version": 3
   },
   "file_extension": ".py",
   "mimetype": "text/x-python",
   "name": "python",
   "nbconvert_exporter": "python",
   "pygments_lexer": "ipython3",
   "version": "3.8.5"
  }
 },
 "nbformat": 4,
 "nbformat_minor": 4
}
