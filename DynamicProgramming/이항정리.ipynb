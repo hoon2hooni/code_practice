{
 "cells": [
  {
   "cell_type": "code",
   "execution_count": 14,
   "metadata": {},
   "outputs": [
    {
     "name": "stdout",
     "output_type": "stream",
     "text": [
      "5 3\n"
     ]
    }
   ],
   "source": [
    "n, r = map(int, input().split())\n",
    "\n",
    "dp=[[0]*(n+1)for _ in range(r+1)]\n",
    "for r_ in range(r+1):\n",
    "    for n_ in range(n+1):\n",
    "        if n_ == 0:\n",
    "            dp[r_][n_] = 0\n",
    "            continue\n",
    "        if r_ == 0:\n",
    "            dp[r_][n_] = 1\n",
    "            continue\n",
    "        if r_ > n_:\n",
    "            dp[r_][n_] = 0\n",
    "        elif r_ == n_:\n",
    "            dp[r_][n_] = 1\n",
    "        else:\n",
    "            dp[r_][n_] = dp[r_-1][n_-1] + dp[r_][n_-1]\n"
   ]
  },
  {
   "cell_type": "code",
   "execution_count": 15,
   "metadata": {},
   "outputs": [
    {
     "data": {
      "text/plain": [
       "10"
      ]
     },
     "execution_count": 15,
     "metadata": {},
     "output_type": "execute_result"
    }
   ],
   "source": [
    "dp[-1][-1]"
   ]
  },
  {
   "cell_type": "code",
   "execution_count": 16,
   "metadata": {},
   "outputs": [
    {
     "data": {
      "text/plain": [
       "[[0, 1, 1, 1, 1, 1],\n",
       " [0, 1, 2, 3, 4, 5],\n",
       " [0, 0, 1, 3, 6, 10],\n",
       " [0, 0, 0, 1, 4, 10]]"
      ]
     },
     "execution_count": 16,
     "metadata": {},
     "output_type": "execute_result"
    }
   ],
   "source": [
    "dp"
   ]
  },
  {
   "cell_type": "code",
   "execution_count": 18,
   "metadata": {},
   "outputs": [
    {
     "name": "stdout",
     "output_type": "stream",
     "text": [
      "continue쌔\n"
     ]
    }
   ],
   "source": [
    "for i in range(n):\n",
    "    if i == 1:\n",
    "        print(\"continue쌔\")\n",
    "        continue\n",
    "    if i == 1:\n",
    "        print(\"continue구려\")"
   ]
  },
  {
   "cell_type": "code",
   "execution_count": null,
   "metadata": {},
   "outputs": [],
   "source": []
  }
 ],
 "metadata": {
  "kernelspec": {
   "display_name": "Python 3",
   "language": "python",
   "name": "python3"
  },
  "language_info": {
   "codemirror_mode": {
    "name": "ipython",
    "version": 3
   },
   "file_extension": ".py",
   "mimetype": "text/x-python",
   "name": "python",
   "nbconvert_exporter": "python",
   "pygments_lexer": "ipython3",
   "version": "3.8.5"
  }
 },
 "nbformat": 4,
 "nbformat_minor": 4
}
