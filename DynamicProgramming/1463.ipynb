{
 "cells": [
  {
   "cell_type": "code",
   "execution_count": 56,
   "metadata": {},
   "outputs": [],
   "source": [
    "arr =[9999]*(10+1)\n",
    "\n",
    "def top_down(flag, std):\n",
    "    \n",
    "    if arr[std] != 999999:\n",
    "        if flag == \"삼\":\n",
    "            arr[std*3] = min(arr[std*3],arr[std]+1)\n",
    "        elif flag ==\"이\":\n",
    "            arr[std*2] = min(arr[std*2], arr[std] + 1)\n",
    "        else:\n",
    "            arr[std+1] = min(arr[std+1], arr[std] +1)\n",
    "        return \n",
    "    else:\n",
    "        if std % 3 ==0:\n",
    "            arr[std] = top_down(\"삼\", std//3)\n",
    "        if std % 2 == 0:\n",
    "            arr[std] =  top_down(\"이\", std//2)\n",
    "        arr[std]= top_down(\"일\", std-1)\n",
    "        return "
   ]
  },
  {
   "cell_type": "code",
   "execution_count": null,
   "metadata": {},
   "outputs": [],
   "source": []
  },
  {
   "cell_type": "code",
   "execution_count": 57,
   "metadata": {},
   "outputs": [],
   "source": [
    "arr =[999999]*(10+1)"
   ]
  },
  {
   "cell_type": "code",
   "execution_count": 58,
   "metadata": {},
   "outputs": [],
   "source": [
    "arr[2] = 1\n",
    "arr[1] = 0\n",
    "arr[3] = 1"
   ]
  },
  {
   "cell_type": "code",
   "execution_count": 59,
   "metadata": {},
   "outputs": [
    {
     "ename": "TypeError",
     "evalue": "'<' not supported between instances of 'int' and 'NoneType'",
     "output_type": "error",
     "traceback": [
      "\u001b[0;31m---------------------------------------------------------------------------\u001b[0m",
      "\u001b[0;31mTypeError\u001b[0m                                 Traceback (most recent call last)",
      "\u001b[0;32m<ipython-input-59-78778e418002>\u001b[0m in \u001b[0;36m<module>\u001b[0;34m\u001b[0m\n\u001b[0;32m----> 1\u001b[0;31m \u001b[0mtop_down\u001b[0m\u001b[0;34m(\u001b[0m\u001b[0;34m\"일\"\u001b[0m\u001b[0;34m,\u001b[0m\u001b[0;36m5\u001b[0m\u001b[0;34m)\u001b[0m\u001b[0;34m\u001b[0m\u001b[0;34m\u001b[0m\u001b[0m\n\u001b[0m",
      "\u001b[0;32m<ipython-input-56-3fe51a8bbe7e>\u001b[0m in \u001b[0;36mtop_down\u001b[0;34m(flag, std)\u001b[0m\n\u001b[1;32m     16\u001b[0m         \u001b[0;32mif\u001b[0m \u001b[0mstd\u001b[0m \u001b[0;34m%\u001b[0m \u001b[0;36m2\u001b[0m \u001b[0;34m==\u001b[0m \u001b[0;36m0\u001b[0m\u001b[0;34m:\u001b[0m\u001b[0;34m\u001b[0m\u001b[0;34m\u001b[0m\u001b[0m\n\u001b[1;32m     17\u001b[0m             \u001b[0marr\u001b[0m\u001b[0;34m[\u001b[0m\u001b[0mstd\u001b[0m\u001b[0;34m]\u001b[0m \u001b[0;34m=\u001b[0m  \u001b[0mtop_down\u001b[0m\u001b[0;34m(\u001b[0m\u001b[0;34m\"이\"\u001b[0m\u001b[0;34m,\u001b[0m \u001b[0mstd\u001b[0m\u001b[0;34m//\u001b[0m\u001b[0;36m2\u001b[0m\u001b[0;34m)\u001b[0m\u001b[0;34m\u001b[0m\u001b[0;34m\u001b[0m\u001b[0m\n\u001b[0;32m---> 18\u001b[0;31m         \u001b[0marr\u001b[0m\u001b[0;34m[\u001b[0m\u001b[0mstd\u001b[0m\u001b[0;34m]\u001b[0m\u001b[0;34m=\u001b[0m \u001b[0mtop_down\u001b[0m\u001b[0;34m(\u001b[0m\u001b[0;34m\"일\"\u001b[0m\u001b[0;34m,\u001b[0m \u001b[0mstd\u001b[0m\u001b[0;34m-\u001b[0m\u001b[0;36m1\u001b[0m\u001b[0;34m)\u001b[0m\u001b[0;34m\u001b[0m\u001b[0;34m\u001b[0m\u001b[0m\n\u001b[0m\u001b[1;32m     19\u001b[0m         \u001b[0;32mreturn\u001b[0m\u001b[0;34m\u001b[0m\u001b[0;34m\u001b[0m\u001b[0m\n",
      "\u001b[0;32m<ipython-input-56-3fe51a8bbe7e>\u001b[0m in \u001b[0;36mtop_down\u001b[0;34m(flag, std)\u001b[0m\n\u001b[1;32m     16\u001b[0m         \u001b[0;32mif\u001b[0m \u001b[0mstd\u001b[0m \u001b[0;34m%\u001b[0m \u001b[0;36m2\u001b[0m \u001b[0;34m==\u001b[0m \u001b[0;36m0\u001b[0m\u001b[0;34m:\u001b[0m\u001b[0;34m\u001b[0m\u001b[0;34m\u001b[0m\u001b[0m\n\u001b[1;32m     17\u001b[0m             \u001b[0marr\u001b[0m\u001b[0;34m[\u001b[0m\u001b[0mstd\u001b[0m\u001b[0;34m]\u001b[0m \u001b[0;34m=\u001b[0m  \u001b[0mtop_down\u001b[0m\u001b[0;34m(\u001b[0m\u001b[0;34m\"이\"\u001b[0m\u001b[0;34m,\u001b[0m \u001b[0mstd\u001b[0m\u001b[0;34m//\u001b[0m\u001b[0;36m2\u001b[0m\u001b[0;34m)\u001b[0m\u001b[0;34m\u001b[0m\u001b[0;34m\u001b[0m\u001b[0m\n\u001b[0;32m---> 18\u001b[0;31m         \u001b[0marr\u001b[0m\u001b[0;34m[\u001b[0m\u001b[0mstd\u001b[0m\u001b[0;34m]\u001b[0m\u001b[0;34m=\u001b[0m \u001b[0mtop_down\u001b[0m\u001b[0;34m(\u001b[0m\u001b[0;34m\"일\"\u001b[0m\u001b[0;34m,\u001b[0m \u001b[0mstd\u001b[0m\u001b[0;34m-\u001b[0m\u001b[0;36m1\u001b[0m\u001b[0;34m)\u001b[0m\u001b[0;34m\u001b[0m\u001b[0;34m\u001b[0m\u001b[0m\n\u001b[0m\u001b[1;32m     19\u001b[0m         \u001b[0;32mreturn\u001b[0m\u001b[0;34m\u001b[0m\u001b[0;34m\u001b[0m\u001b[0m\n",
      "\u001b[0;32m<ipython-input-56-3fe51a8bbe7e>\u001b[0m in \u001b[0;36mtop_down\u001b[0;34m(flag, std)\u001b[0m\n\u001b[1;32m      9\u001b[0m             \u001b[0marr\u001b[0m\u001b[0;34m[\u001b[0m\u001b[0mstd\u001b[0m\u001b[0;34m*\u001b[0m\u001b[0;36m2\u001b[0m\u001b[0;34m]\u001b[0m \u001b[0;34m=\u001b[0m \u001b[0mmin\u001b[0m\u001b[0;34m(\u001b[0m\u001b[0marr\u001b[0m\u001b[0;34m[\u001b[0m\u001b[0mstd\u001b[0m\u001b[0;34m*\u001b[0m\u001b[0;36m2\u001b[0m\u001b[0;34m]\u001b[0m\u001b[0;34m,\u001b[0m \u001b[0marr\u001b[0m\u001b[0;34m[\u001b[0m\u001b[0mstd\u001b[0m\u001b[0;34m]\u001b[0m \u001b[0;34m+\u001b[0m \u001b[0;36m1\u001b[0m\u001b[0;34m)\u001b[0m\u001b[0;34m\u001b[0m\u001b[0;34m\u001b[0m\u001b[0m\n\u001b[1;32m     10\u001b[0m         \u001b[0;32melse\u001b[0m\u001b[0;34m:\u001b[0m\u001b[0;34m\u001b[0m\u001b[0;34m\u001b[0m\u001b[0m\n\u001b[0;32m---> 11\u001b[0;31m             \u001b[0marr\u001b[0m\u001b[0;34m[\u001b[0m\u001b[0mstd\u001b[0m\u001b[0;34m+\u001b[0m\u001b[0;36m1\u001b[0m\u001b[0;34m]\u001b[0m \u001b[0;34m=\u001b[0m \u001b[0mmin\u001b[0m\u001b[0;34m(\u001b[0m\u001b[0marr\u001b[0m\u001b[0;34m[\u001b[0m\u001b[0mstd\u001b[0m\u001b[0;34m+\u001b[0m\u001b[0;36m1\u001b[0m\u001b[0;34m]\u001b[0m\u001b[0;34m,\u001b[0m \u001b[0marr\u001b[0m\u001b[0;34m[\u001b[0m\u001b[0mstd\u001b[0m\u001b[0;34m]\u001b[0m \u001b[0;34m+\u001b[0m\u001b[0;36m1\u001b[0m\u001b[0;34m)\u001b[0m\u001b[0;34m\u001b[0m\u001b[0;34m\u001b[0m\u001b[0m\n\u001b[0m\u001b[1;32m     12\u001b[0m         \u001b[0;32mreturn\u001b[0m\u001b[0;34m\u001b[0m\u001b[0;34m\u001b[0m\u001b[0m\n\u001b[1;32m     13\u001b[0m     \u001b[0;32melse\u001b[0m\u001b[0;34m:\u001b[0m\u001b[0;34m\u001b[0m\u001b[0;34m\u001b[0m\u001b[0m\n",
      "\u001b[0;31mTypeError\u001b[0m: '<' not supported between instances of 'int' and 'NoneType'"
     ]
    }
   ],
   "source": [
    "top_down(\"일\",5)"
   ]
  },
  {
   "cell_type": "code",
   "execution_count": 60,
   "metadata": {},
   "outputs": [
    {
     "name": "stdout",
     "output_type": "stream",
     "text": [
      "10\n",
      "3\n"
     ]
    }
   ],
   "source": [
    "def go(n):\n",
    "    if n == 1:\n",
    "        return 0\n",
    "    if d[n] > 0:\n",
    "        return d[n]\n",
    "    d[n] = go(n-1) + 1\n",
    "    if n%2 == 0:\n",
    "        temp = go(n//2) + 1 # 나누기(/)로 하면 소수 나와서 오류생김\n",
    "        if d[n] > temp:\n",
    "            d[n] = temp\n",
    "    if n%3 == 0:\n",
    "        temp = go(n//3) + 1\n",
    "        if d[n] > temp:\n",
    "            d[n] = temp\n",
    "    return d[n]\n",
    "\n",
    "\n",
    "n = int(input())\n",
    "d = [0]*(n+1)\n",
    "print(go(n))"
   ]
  },
  {
   "cell_type": "code",
   "execution_count": 18,
   "metadata": {},
   "outputs": [
    {
     "data": {
      "text/plain": [
       "7"
      ]
     },
     "execution_count": 18,
     "metadata": {},
     "output_type": "execute_result"
    }
   ],
   "source": [
    "mini"
   ]
  },
  {
   "cell_type": "code",
   "execution_count": 61,
   "metadata": {},
   "outputs": [],
   "source": [
    "def func(n):\n",
    "    if n == 1:\n",
    "        return 0\n",
    "    if dp[n] != -1:\n",
    "        return dp[n]\n",
    "    result = func(n-1) + 1\n",
    "    if n % 2 == 0:\n",
    "        result = min(result,func(n//2) + 1)\n",
    "    if n % 3 == 0:\n",
    "        result = min(result,func(n//3) + 1)\n",
    "    dp[n] = result\n",
    "    return dp[n]"
   ]
  },
  {
   "cell_type": "code",
   "execution_count": 65,
   "metadata": {},
   "outputs": [
    {
     "data": {
      "text/plain": [
       "3"
      ]
     },
     "execution_count": 65,
     "metadata": {},
     "output_type": "execute_result"
    }
   ],
   "source": [
    "dp = [-1]*100000\n",
    "func(10)"
   ]
  },
  {
   "cell_type": "code",
   "execution_count": null,
   "metadata": {},
   "outputs": [],
   "source": [
    "def func(n):\n",
    "    if n == 1:\n",
    "        return 0\n",
    "    if dp[n] != -1:\n",
    "        return dp[n]\n",
    "    result = func(n-1) + 1\n",
    "    if n % 2 == 0:\n",
    "        result = min(result, fun(n//2) + 1)\n",
    "    if n % 3 == 0:\n",
    "        result = min(result, func(n//3) + 1)\n",
    "    dp[n] = result \n",
    "    return dp[n]"
   ]
  },
  {
   "cell_type": "code",
   "execution_count": null,
   "metadata": {},
   "outputs": [],
   "source": [
    "def func(n):\n",
    "    if n == 1:\n",
    "        return 0\n",
    "    if dp[n] != -1:\n",
    "        return dp[n]\n",
    "    result = func(n-1) + 1\n",
    "    if n % 2 == 0:\n",
    "        result = min(result,func(n//2) + 1)\n",
    "    if n % 3 == 0:\n",
    "        result = min(result,func(n//3) + 1)\n",
    "    dp[n] = result\n",
    "    return dp[n]\n",
    "k = int(input())\n",
    "dp = [-1]*(k+1)\n",
    "func(k)\n",
    "print(dp[k])"
   ]
  },
  {
   "cell_type": "code",
   "execution_count": 7,
   "metadata": {},
   "outputs": [],
   "source": [
    "dp =[-1]*11\n",
    "dp[1] = 0\n",
    "def bottmup(n):\n",
    "    for i in range(2,n+1):\n",
    "        res =dp[i-1] + 1\n",
    "        if i % 2 == 0:\n",
    "            res = min(res,dp[i//2]+1)\n",
    "        if i % 3 == 0:\n",
    "            res = min(res,dp[i//3]+1)\n",
    "        dp[i] = res\n",
    "bottmup(10)\n",
    "    "
   ]
  },
  {
   "cell_type": "code",
   "execution_count": 4,
   "metadata": {},
   "outputs": [
    {
     "data": {
      "text/plain": [
       "[-1, 1, 2, 2, 3, 4, 3, 4, 4, 3, 4]"
      ]
     },
     "execution_count": 4,
     "metadata": {},
     "output_type": "execute_result"
    }
   ],
   "source": [
    "dp"
   ]
  },
  {
   "cell_type": "code",
   "execution_count": 8,
   "metadata": {},
   "outputs": [
    {
     "name": "stdout",
     "output_type": "stream",
     "text": [
      "10\n",
      "3\n"
     ]
    }
   ],
   "source": [
    "def bottmup(n):\n",
    "    for i in range(2,n+1):\n",
    "        res =dp[i-1] + 1\n",
    "        if i % 2 == 0:\n",
    "            res = min(res,dp[i//2]+1)\n",
    "        if i % 3 == 0:\n",
    "            res = min(res,dp[i//3]+1)\n",
    "        dp[i] = res\n",
    "k = int(input())\n",
    "bottmup(k)\n",
    "print(dp[-1])"
   ]
  },
  {
   "cell_type": "code",
   "execution_count": null,
   "metadata": {},
   "outputs": [],
   "source": []
  }
 ],
 "metadata": {
  "kernelspec": {
   "display_name": "Python 3",
   "language": "python",
   "name": "python3"
  },
  "language_info": {
   "codemirror_mode": {
    "name": "ipython",
    "version": 3
   },
   "file_extension": ".py",
   "mimetype": "text/x-python",
   "name": "python",
   "nbconvert_exporter": "python",
   "pygments_lexer": "ipython3",
   "version": "3.8.5"
  }
 },
 "nbformat": 4,
 "nbformat_minor": 4
}
