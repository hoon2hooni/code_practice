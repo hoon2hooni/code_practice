{
 "cells": [
  {
   "cell_type": "code",
   "execution_count": 20,
   "metadata": {},
   "outputs": [
    {
     "name": "stdout",
     "output_type": "stream",
     "text": [
      "2 10\n",
      "2\n",
      "3\n"
     ]
    },
    {
     "ename": "TypeError",
     "evalue": "unsupported operand type(s) for +: 'NoneType' and 'int'",
     "output_type": "error",
     "traceback": [
      "\u001b[0;31m---------------------------------------------------------------------------\u001b[0m",
      "\u001b[0;31mTypeError\u001b[0m                                 Traceback (most recent call last)",
      "\u001b[0;32m<ipython-input-20-b9789b0deafd>\u001b[0m in \u001b[0;36m<module>\u001b[0;34m\u001b[0m\n\u001b[1;32m     17\u001b[0m         \u001b[0;32mreturn\u001b[0m \u001b[0mresult\u001b[0m\u001b[0;34m\u001b[0m\u001b[0;34m\u001b[0m\u001b[0m\n\u001b[1;32m     18\u001b[0m \u001b[0;34m\u001b[0m\u001b[0m\n\u001b[0;32m---> 19\u001b[0;31m \u001b[0mfunc\u001b[0m\u001b[0;34m(\u001b[0m\u001b[0mn\u001b[0m\u001b[0;34m)\u001b[0m\u001b[0;34m\u001b[0m\u001b[0;34m\u001b[0m\u001b[0m\n\u001b[0m",
      "\u001b[0;32m<ipython-input-20-b9789b0deafd>\u001b[0m in \u001b[0;36mfunc\u001b[0;34m(n)\u001b[0m\n\u001b[1;32m     10\u001b[0m     \u001b[0;32mif\u001b[0m \u001b[0marr\u001b[0m\u001b[0;34m[\u001b[0m\u001b[0mn\u001b[0m\u001b[0;34m]\u001b[0m \u001b[0;34m!=\u001b[0m \u001b[0;36m0\u001b[0m\u001b[0;34m:\u001b[0m\u001b[0;34m\u001b[0m\u001b[0;34m\u001b[0m\u001b[0m\n\u001b[1;32m     11\u001b[0m         \u001b[0;32mreturn\u001b[0m \u001b[0marr\u001b[0m\u001b[0;34m[\u001b[0m\u001b[0mn\u001b[0m\u001b[0;34m]\u001b[0m\u001b[0;34m\u001b[0m\u001b[0;34m\u001b[0m\u001b[0m\n\u001b[0;32m---> 12\u001b[0;31m     \u001b[0mresult\u001b[0m \u001b[0;34m=\u001b[0m \u001b[0mfunc\u001b[0m\u001b[0;34m(\u001b[0m\u001b[0mn\u001b[0m\u001b[0;34m-\u001b[0m\u001b[0mstd_arr\u001b[0m\u001b[0;34m[\u001b[0m\u001b[0;36m0\u001b[0m\u001b[0;34m]\u001b[0m\u001b[0;34m)\u001b[0m \u001b[0;34m+\u001b[0m \u001b[0;36m1\u001b[0m\u001b[0;34m\u001b[0m\u001b[0;34m\u001b[0m\u001b[0m\n\u001b[0m\u001b[1;32m     13\u001b[0m     \u001b[0;32mif\u001b[0m \u001b[0mresult\u001b[0m \u001b[0;34m>\u001b[0m \u001b[0;36m0\u001b[0m\u001b[0;34m:\u001b[0m\u001b[0;34m\u001b[0m\u001b[0;34m\u001b[0m\u001b[0m\n\u001b[1;32m     14\u001b[0m         \u001b[0;32mfor\u001b[0m \u001b[0mstd_n\u001b[0m \u001b[0;32min\u001b[0m \u001b[0mstd_arr\u001b[0m\u001b[0;34m[\u001b[0m\u001b[0;36m1\u001b[0m\u001b[0;34m:\u001b[0m\u001b[0;34m]\u001b[0m\u001b[0;34m:\u001b[0m\u001b[0;34m\u001b[0m\u001b[0;34m\u001b[0m\u001b[0m\n",
      "\u001b[0;32m<ipython-input-20-b9789b0deafd>\u001b[0m in \u001b[0;36mfunc\u001b[0;34m(n)\u001b[0m\n\u001b[1;32m     10\u001b[0m     \u001b[0;32mif\u001b[0m \u001b[0marr\u001b[0m\u001b[0;34m[\u001b[0m\u001b[0mn\u001b[0m\u001b[0;34m]\u001b[0m \u001b[0;34m!=\u001b[0m \u001b[0;36m0\u001b[0m\u001b[0;34m:\u001b[0m\u001b[0;34m\u001b[0m\u001b[0;34m\u001b[0m\u001b[0m\n\u001b[1;32m     11\u001b[0m         \u001b[0;32mreturn\u001b[0m \u001b[0marr\u001b[0m\u001b[0;34m[\u001b[0m\u001b[0mn\u001b[0m\u001b[0;34m]\u001b[0m\u001b[0;34m\u001b[0m\u001b[0;34m\u001b[0m\u001b[0m\n\u001b[0;32m---> 12\u001b[0;31m     \u001b[0mresult\u001b[0m \u001b[0;34m=\u001b[0m \u001b[0mfunc\u001b[0m\u001b[0;34m(\u001b[0m\u001b[0mn\u001b[0m\u001b[0;34m-\u001b[0m\u001b[0mstd_arr\u001b[0m\u001b[0;34m[\u001b[0m\u001b[0;36m0\u001b[0m\u001b[0;34m]\u001b[0m\u001b[0;34m)\u001b[0m \u001b[0;34m+\u001b[0m \u001b[0;36m1\u001b[0m\u001b[0;34m\u001b[0m\u001b[0;34m\u001b[0m\u001b[0m\n\u001b[0m\u001b[1;32m     13\u001b[0m     \u001b[0;32mif\u001b[0m \u001b[0mresult\u001b[0m \u001b[0;34m>\u001b[0m \u001b[0;36m0\u001b[0m\u001b[0;34m:\u001b[0m\u001b[0;34m\u001b[0m\u001b[0;34m\u001b[0m\u001b[0m\n\u001b[1;32m     14\u001b[0m         \u001b[0;32mfor\u001b[0m \u001b[0mstd_n\u001b[0m \u001b[0;32min\u001b[0m \u001b[0mstd_arr\u001b[0m\u001b[0;34m[\u001b[0m\u001b[0;36m1\u001b[0m\u001b[0;34m:\u001b[0m\u001b[0;34m]\u001b[0m\u001b[0;34m:\u001b[0m\u001b[0;34m\u001b[0m\u001b[0;34m\u001b[0m\u001b[0m\n",
      "\u001b[0;32m<ipython-input-20-b9789b0deafd>\u001b[0m in \u001b[0;36mfunc\u001b[0;34m(n)\u001b[0m\n\u001b[1;32m     10\u001b[0m     \u001b[0;32mif\u001b[0m \u001b[0marr\u001b[0m\u001b[0;34m[\u001b[0m\u001b[0mn\u001b[0m\u001b[0;34m]\u001b[0m \u001b[0;34m!=\u001b[0m \u001b[0;36m0\u001b[0m\u001b[0;34m:\u001b[0m\u001b[0;34m\u001b[0m\u001b[0;34m\u001b[0m\u001b[0m\n\u001b[1;32m     11\u001b[0m         \u001b[0;32mreturn\u001b[0m \u001b[0marr\u001b[0m\u001b[0;34m[\u001b[0m\u001b[0mn\u001b[0m\u001b[0;34m]\u001b[0m\u001b[0;34m\u001b[0m\u001b[0;34m\u001b[0m\u001b[0m\n\u001b[0;32m---> 12\u001b[0;31m     \u001b[0mresult\u001b[0m \u001b[0;34m=\u001b[0m \u001b[0mfunc\u001b[0m\u001b[0;34m(\u001b[0m\u001b[0mn\u001b[0m\u001b[0;34m-\u001b[0m\u001b[0mstd_arr\u001b[0m\u001b[0;34m[\u001b[0m\u001b[0;36m0\u001b[0m\u001b[0;34m]\u001b[0m\u001b[0;34m)\u001b[0m \u001b[0;34m+\u001b[0m \u001b[0;36m1\u001b[0m\u001b[0;34m\u001b[0m\u001b[0;34m\u001b[0m\u001b[0m\n\u001b[0m\u001b[1;32m     13\u001b[0m     \u001b[0;32mif\u001b[0m \u001b[0mresult\u001b[0m \u001b[0;34m>\u001b[0m \u001b[0;36m0\u001b[0m\u001b[0;34m:\u001b[0m\u001b[0;34m\u001b[0m\u001b[0;34m\u001b[0m\u001b[0m\n\u001b[1;32m     14\u001b[0m         \u001b[0;32mfor\u001b[0m \u001b[0mstd_n\u001b[0m \u001b[0;32min\u001b[0m \u001b[0mstd_arr\u001b[0m\u001b[0;34m[\u001b[0m\u001b[0;36m1\u001b[0m\u001b[0;34m:\u001b[0m\u001b[0;34m]\u001b[0m\u001b[0;34m:\u001b[0m\u001b[0;34m\u001b[0m\u001b[0;34m\u001b[0m\u001b[0m\n",
      "\u001b[0;32m<ipython-input-20-b9789b0deafd>\u001b[0m in \u001b[0;36mfunc\u001b[0;34m(n)\u001b[0m\n\u001b[1;32m     10\u001b[0m     \u001b[0;32mif\u001b[0m \u001b[0marr\u001b[0m\u001b[0;34m[\u001b[0m\u001b[0mn\u001b[0m\u001b[0;34m]\u001b[0m \u001b[0;34m!=\u001b[0m \u001b[0;36m0\u001b[0m\u001b[0;34m:\u001b[0m\u001b[0;34m\u001b[0m\u001b[0;34m\u001b[0m\u001b[0m\n\u001b[1;32m     11\u001b[0m         \u001b[0;32mreturn\u001b[0m \u001b[0marr\u001b[0m\u001b[0;34m[\u001b[0m\u001b[0mn\u001b[0m\u001b[0;34m]\u001b[0m\u001b[0;34m\u001b[0m\u001b[0;34m\u001b[0m\u001b[0m\n\u001b[0;32m---> 12\u001b[0;31m     \u001b[0mresult\u001b[0m \u001b[0;34m=\u001b[0m \u001b[0mfunc\u001b[0m\u001b[0;34m(\u001b[0m\u001b[0mn\u001b[0m\u001b[0;34m-\u001b[0m\u001b[0mstd_arr\u001b[0m\u001b[0;34m[\u001b[0m\u001b[0;36m0\u001b[0m\u001b[0;34m]\u001b[0m\u001b[0;34m)\u001b[0m \u001b[0;34m+\u001b[0m \u001b[0;36m1\u001b[0m\u001b[0;34m\u001b[0m\u001b[0;34m\u001b[0m\u001b[0m\n\u001b[0m\u001b[1;32m     13\u001b[0m     \u001b[0;32mif\u001b[0m \u001b[0mresult\u001b[0m \u001b[0;34m>\u001b[0m \u001b[0;36m0\u001b[0m\u001b[0;34m:\u001b[0m\u001b[0;34m\u001b[0m\u001b[0;34m\u001b[0m\u001b[0m\n\u001b[1;32m     14\u001b[0m         \u001b[0;32mfor\u001b[0m \u001b[0mstd_n\u001b[0m \u001b[0;32min\u001b[0m \u001b[0mstd_arr\u001b[0m\u001b[0;34m[\u001b[0m\u001b[0;36m1\u001b[0m\u001b[0;34m:\u001b[0m\u001b[0;34m]\u001b[0m\u001b[0;34m:\u001b[0m\u001b[0;34m\u001b[0m\u001b[0;34m\u001b[0m\u001b[0m\n",
      "\u001b[0;32m<ipython-input-20-b9789b0deafd>\u001b[0m in \u001b[0;36mfunc\u001b[0;34m(n)\u001b[0m\n\u001b[1;32m     13\u001b[0m     \u001b[0;32mif\u001b[0m \u001b[0mresult\u001b[0m \u001b[0;34m>\u001b[0m \u001b[0;36m0\u001b[0m\u001b[0;34m:\u001b[0m\u001b[0;34m\u001b[0m\u001b[0;34m\u001b[0m\u001b[0m\n\u001b[1;32m     14\u001b[0m         \u001b[0;32mfor\u001b[0m \u001b[0mstd_n\u001b[0m \u001b[0;32min\u001b[0m \u001b[0mstd_arr\u001b[0m\u001b[0;34m[\u001b[0m\u001b[0;36m1\u001b[0m\u001b[0;34m:\u001b[0m\u001b[0;34m]\u001b[0m\u001b[0;34m:\u001b[0m\u001b[0;34m\u001b[0m\u001b[0;34m\u001b[0m\u001b[0m\n\u001b[0;32m---> 15\u001b[0;31m             \u001b[0mresult\u001b[0m \u001b[0;34m=\u001b[0m \u001b[0mmin\u001b[0m\u001b[0;34m(\u001b[0m\u001b[0mresult\u001b[0m\u001b[0;34m,\u001b[0m\u001b[0mfunc\u001b[0m\u001b[0;34m(\u001b[0m\u001b[0mn\u001b[0m\u001b[0;34m-\u001b[0m\u001b[0mstd_n\u001b[0m\u001b[0;34m)\u001b[0m \u001b[0;34m+\u001b[0m \u001b[0;36m1\u001b[0m\u001b[0;34m)\u001b[0m\u001b[0;34m\u001b[0m\u001b[0;34m\u001b[0m\u001b[0m\n\u001b[0m\u001b[1;32m     16\u001b[0m         \u001b[0marr\u001b[0m\u001b[0;34m[\u001b[0m\u001b[0mn\u001b[0m\u001b[0;34m]\u001b[0m \u001b[0;34m=\u001b[0m \u001b[0mresult\u001b[0m\u001b[0;34m\u001b[0m\u001b[0;34m\u001b[0m\u001b[0m\n\u001b[1;32m     17\u001b[0m         \u001b[0;32mreturn\u001b[0m \u001b[0mresult\u001b[0m\u001b[0;34m\u001b[0m\u001b[0;34m\u001b[0m\u001b[0m\n",
      "\u001b[0;31mTypeError\u001b[0m: unsupported operand type(s) for +: 'NoneType' and 'int'"
     ]
    }
   ],
   "source": [
    "m, n = map(int,input().split())\n",
    "arr = [0]*(n+1)\n",
    "std_arr =[int(input()) for _ in range(m)]\n",
    "std_arr.sort()\n",
    "def func(n, flag):\n",
    "\n",
    "    if n < 0:\n",
    "        \n",
    "    if n == 0:\n",
    "        return 0\n",
    "    if arr[n] != 0:\n",
    "        return arr[n]\n",
    "    result = func(n-std_arr[0]) + 1\n",
    "    if result > 0:\n",
    "        for std_n in std_arr[1:]:\n",
    "            result = min(result,func(n-std_n) + 1)\n",
    "        arr[n] = result\n",
    "        return result\n",
    "\n",
    "func(n)"
   ]
  },
  {
   "cell_type": "code",
   "execution_count": 83,
   "metadata": {},
   "outputs": [],
   "source": [
    "def bottomup(std_arr, target):\n",
    "    #std_arr.insert(0,0) #[0,2,3]\n",
    "    kinds = len(std_arr)\n",
    "    dp = [[0]*(target+1) for _ in range(kinds+1)]\n",
    "    for i in range(kinds + 1): #0,1,2,\n",
    "        for j in range(0,target + 1):\n",
    "            if i == 0:\n",
    "                dp[i][j] = 999\n",
    "            elif j == 0:\n",
    "                dp[i][j] = 0\n",
    "            elif j >= std_arr[i-1]:\n",
    "                dp[i][j] = min(dp[i-1][j-std_arr[i-1]], dp[i-1][j]) + 1 \n",
    "            else:\n",
    "                dp[i][j] = dp[i-1][j]\n",
    "                    \n",
    "    return dp\n",
    "    \n",
    "        \n",
    "    "
   ]
  },
  {
   "cell_type": "code",
   "execution_count": 84,
   "metadata": {},
   "outputs": [
    {
     "data": {
      "text/plain": [
       "[[999, 999, 999, 999, 999, 999, 999, 999, 999, 999, 999],\n",
       " [0, 999, 1000, 1000, 1000, 1000, 1000, 1000, 1000, 1000, 1000],\n",
       " [0, 999, 1000, 1, 1000, 1001, 1001, 1001, 1001, 1001, 1001]]"
      ]
     },
     "execution_count": 84,
     "metadata": {},
     "output_type": "execute_result"
    }
   ],
   "source": [
    "bottomup([2,3],10)"
   ]
  },
  {
   "cell_type": "code",
   "execution_count": 19,
   "metadata": {},
   "outputs": [
    {
     "data": {
      "text/plain": [
       "5"
      ]
     },
     "execution_count": 19,
     "metadata": {},
     "output_type": "execute_result"
    }
   ],
   "source": [
    "m, n = map(int,input().split())\n",
    "arr = [0]*(n+1)\n",
    "std_arr =[int(input()) for _ in range(m)]\n",
    "std_arr.sort()\n",
    "def func(n):\n",
    "    if n == 0:\n",
    "        return 0\n",
    "    if arr[n] != 0:\n",
    "        return arr[n]\n",
    "    result = 99999\n",
    "    for std_n in std_arr:\n",
    "        if n % std_n == 0:\n",
    "            result = min(result,func(n-std_n) + 1)\n",
    "        arr[n] = result\n",
    "        return result\n",
    "func(n)"
   ]
  },
  {
   "cell_type": "code",
   "execution_count": 7,
   "metadata": {},
   "outputs": [
    {
     "data": {
      "text/plain": [
       "[[1, 2, 3, 4], [5, 5, 5, 5]]"
      ]
     },
     "execution_count": 7,
     "metadata": {},
     "output_type": "execute_result"
    }
   ],
   "source": [
    "arr"
   ]
  },
  {
   "cell_type": "code",
   "execution_count": 140,
   "metadata": {},
   "outputs": [
    {
     "name": "stdout",
     "output_type": "stream",
     "text": [
      "[0, 20000, 20000]\n",
      "[0, 20000, 20000]\n",
      "[0, 20000, 1]\n"
     ]
    }
   ],
   "source": [
    "dp = [20000] * 3\n",
    "coins = [2,3,5]\n",
    "coins = sorted(coins)\n",
    "dp[0] = 0\n",
    "for i in range(1,3):\n",
    "    for c in coins:\n",
    "        print(dp)\n",
    "        if i < c:\n",
    "            break\n",
    "        else:\n",
    "            dp[i] = min(dp[i-c]+1, dp[i])\n"
   ]
  },
  {
   "cell_type": "code",
   "execution_count": 159,
   "metadata": {},
   "outputs": [],
   "source": [
    "arr =[2,3,5]\n",
    "dp = [20000 for _ in range(20 + 1)]\n",
    "dp[0] = 0\n",
    "arr =sorted(arr)\n",
    "def top_down(t): #arr 는 오름차순으로 되어있어얌\n",
    "    if t == 0:\n",
    "        return 0\n",
    "    if t < 0:\n",
    "        print(\"야야\")\n",
    "        return 100\n",
    "    if dp[t] != 20000:\n",
    "        return dp[t]\n",
    "        \n",
    "    for c in arr:\n",
    "        res = min(top_down(t-c)+1, dp[t]) \n",
    "        dp[t] =res\n",
    "        print(dp)\n",
    "    return res\n",
    "    \n",
    "    "
   ]
  },
  {
   "cell_type": "code",
   "execution_count": 160,
   "metadata": {},
   "outputs": [
    {
     "name": "stdout",
     "output_type": "stream",
     "text": [
      "11\n",
      "야야\n",
      "[0, 101, 20000, 20000, 20000, 20000, 20000, 20000, 20000, 20000, 20000, 20000]\n",
      "야야\n",
      "[0, 101, 20000, 20000, 20000, 20000, 20000, 20000, 20000, 20000, 20000, 20000]\n",
      "야야\n",
      "[0, 101, 20000, 20000, 20000, 20000, 20000, 20000, 20000, 20000, 20000, 20000]\n",
      "[0, 101, 20000, 102, 20000, 20000, 20000, 20000, 20000, 20000, 20000, 20000]\n",
      "[0, 101, 20000, 1, 20000, 20000, 20000, 20000, 20000, 20000, 20000, 20000]\n",
      "야야\n",
      "[0, 101, 20000, 1, 20000, 20000, 20000, 20000, 20000, 20000, 20000, 20000]\n",
      "[0, 101, 20000, 1, 20000, 2, 20000, 20000, 20000, 20000, 20000, 20000]\n",
      "[0, 101, 1, 1, 20000, 2, 20000, 20000, 20000, 20000, 20000, 20000]\n",
      "야야\n",
      "[0, 101, 1, 1, 20000, 2, 20000, 20000, 20000, 20000, 20000, 20000]\n",
      "야야\n",
      "[0, 101, 1, 1, 20000, 2, 20000, 20000, 20000, 20000, 20000, 20000]\n",
      "[0, 101, 1, 1, 20000, 2, 20000, 20000, 20000, 20000, 20000, 20000]\n",
      "[0, 101, 1, 1, 20000, 1, 20000, 20000, 20000, 20000, 20000, 20000]\n",
      "[0, 101, 1, 1, 20000, 1, 20000, 2, 20000, 20000, 20000, 20000]\n",
      "[0, 101, 1, 1, 2, 1, 20000, 2, 20000, 20000, 20000, 20000]\n",
      "[0, 101, 1, 1, 2, 1, 20000, 2, 20000, 20000, 20000, 20000]\n",
      "야야\n",
      "[0, 101, 1, 1, 2, 1, 20000, 2, 20000, 20000, 20000, 20000]\n",
      "[0, 101, 1, 1, 2, 1, 20000, 2, 20000, 20000, 20000, 20000]\n",
      "[0, 101, 1, 1, 2, 1, 20000, 2, 20000, 20000, 20000, 20000]\n",
      "[0, 101, 1, 1, 2, 1, 20000, 2, 20000, 3, 20000, 20000]\n",
      "[0, 101, 1, 1, 2, 1, 3, 2, 20000, 3, 20000, 20000]\n",
      "[0, 101, 1, 1, 2, 1, 2, 2, 20000, 3, 20000, 20000]\n",
      "[0, 101, 1, 1, 2, 1, 2, 2, 20000, 3, 20000, 20000]\n",
      "[0, 101, 1, 1, 2, 1, 2, 2, 20000, 3, 20000, 20000]\n",
      "[0, 101, 1, 1, 2, 1, 2, 2, 20000, 3, 20000, 20000]\n",
      "[0, 101, 1, 1, 2, 1, 2, 2, 20000, 3, 20000, 4]\n",
      "[0, 101, 1, 1, 2, 1, 2, 2, 3, 3, 20000, 4]\n",
      "[0, 101, 1, 1, 2, 1, 2, 2, 2, 3, 20000, 4]\n",
      "[0, 101, 1, 1, 2, 1, 2, 2, 2, 3, 20000, 4]\n",
      "[0, 101, 1, 1, 2, 1, 2, 2, 2, 3, 20000, 3]\n",
      "[0, 101, 1, 1, 2, 1, 2, 2, 2, 3, 20000, 3]\n"
     ]
    },
    {
     "data": {
      "text/plain": [
       "3"
      ]
     },
     "execution_count": 160,
     "metadata": {},
     "output_type": "execute_result"
    }
   ],
   "source": [
    "target =int(input())\n",
    "dp = [20000 for _ in range(target + 1)]\n",
    "dp[0] = 0\n",
    "top_down(target)"
   ]
  },
  {
   "cell_type": "code",
   "execution_count": 96,
   "metadata": {},
   "outputs": [
    {
     "data": {
      "text/plain": [
       "[1, 2, 2]"
      ]
     },
     "execution_count": 96,
     "metadata": {},
     "output_type": "execute_result"
    }
   ],
   "source": [
    "a"
   ]
  },
  {
   "cell_type": "code",
   "execution_count": 162,
   "metadata": {},
   "outputs": [
    {
     "name": "stdout",
     "output_type": "stream",
     "text": [
      "2 7\n",
      "4\n",
      "5\n",
      "-1\n"
     ]
    }
   ],
   "source": [
    "def top_down(t): #arr 는 오름차순으로 되어있어얌\n",
    "    if t == 0:\n",
    "        return 0\n",
    "    if t < 0:\n",
    "        return 20002\n",
    "    if dp[t] != 20000:\n",
    "        return dp[t]\n",
    "    for c in arr:\n",
    "        res = min(top_down(t-c)+1, dp[t]) \n",
    "        dp[t] =res\n",
    "    return res\n",
    "n, target = map(int,input().split())\n",
    "dp = [20000 for _ in range(target+1)]\n",
    "arr = []\n",
    "for i in range(n):\n",
    "    arr.append(int(input()))\n",
    "arr.sort()\n",
    "result = top_down(target) \n",
    "if result >= 20000:\n",
    "    print(-1)\n",
    "else:\n",
    "    print(result)"
   ]
  },
  {
   "cell_type": "code",
   "execution_count": 164,
   "metadata": {},
   "outputs": [
    {
     "name": "stdout",
     "output_type": "stream",
     "text": [
      "-1\n"
     ]
    }
   ],
   "source": [
    "print(\"happy\" if \"happe\" ==\"djd\" else -1)\n",
    "\n"
   ]
  },
  {
   "cell_type": "code",
   "execution_count": 165,
   "metadata": {},
   "outputs": [
    {
     "name": "stdout",
     "output_type": "stream",
     "text": [
      "3 15\n",
      "1\n",
      "2\n",
      "5\n"
     ]
    },
    {
     "ename": "NameError",
     "evalue": "name 'k' is not defined",
     "output_type": "error",
     "traceback": [
      "\u001b[0;31m---------------------------------------------------------------------------\u001b[0m",
      "\u001b[0;31mNameError\u001b[0m                                 Traceback (most recent call last)",
      "\u001b[0;32m<ipython-input-165-8b4398e58da2>\u001b[0m in \u001b[0;36m<module>\u001b[0;34m\u001b[0m\n\u001b[1;32m     11\u001b[0m         \u001b[0;32melse\u001b[0m\u001b[0;34m:\u001b[0m\u001b[0;34m\u001b[0m\u001b[0;34m\u001b[0m\u001b[0m\n\u001b[1;32m     12\u001b[0m             \u001b[0mdp\u001b[0m\u001b[0;34m[\u001b[0m\u001b[0mi\u001b[0m\u001b[0;34m]\u001b[0m \u001b[0;34m=\u001b[0m \u001b[0mmin\u001b[0m\u001b[0;34m(\u001b[0m\u001b[0mdp\u001b[0m\u001b[0;34m[\u001b[0m\u001b[0mi\u001b[0m\u001b[0;34m-\u001b[0m\u001b[0mc\u001b[0m\u001b[0;34m]\u001b[0m\u001b[0;34m+\u001b[0m\u001b[0;36m1\u001b[0m\u001b[0;34m,\u001b[0m \u001b[0mdp\u001b[0m\u001b[0;34m[\u001b[0m\u001b[0mi\u001b[0m\u001b[0;34m]\u001b[0m\u001b[0;34m)\u001b[0m\u001b[0;34m\u001b[0m\u001b[0;34m\u001b[0m\u001b[0m\n\u001b[0;32m---> 13\u001b[0;31m \u001b[0mprint\u001b[0m\u001b[0;34m(\u001b[0m\u001b[0mdp\u001b[0m\u001b[0;34m[\u001b[0m\u001b[0mk\u001b[0m\u001b[0;34m]\u001b[0m \u001b[0;32mif\u001b[0m \u001b[0mdp\u001b[0m\u001b[0;34m[\u001b[0m\u001b[0mk\u001b[0m\u001b[0;34m]\u001b[0m \u001b[0;34m!=\u001b[0m \u001b[0;36m20000\u001b[0m \u001b[0;32melse\u001b[0m \u001b[0;34m-\u001b[0m\u001b[0;36m1\u001b[0m\u001b[0;34m)\u001b[0m\u001b[0;34m\u001b[0m\u001b[0;34m\u001b[0m\u001b[0m\n\u001b[0m\u001b[1;32m     14\u001b[0m \u001b[0;34m\u001b[0m\u001b[0m\n",
      "\u001b[0;31mNameError\u001b[0m: name 'k' is not defined"
     ]
    }
   ],
   "source": [
    "n, target = map(int,input().split())\n",
    "dp = [20000 for _ in range(target+1)]\n",
    "coins = []\n",
    "for i in range(n):\n",
    "    coins.append(int(input()))\n",
    "coins.sort()\n",
    "for i in range(1,target+1):\n",
    "    for c in coins:\n",
    "        if i < c:\n",
    "            break\n",
    "        else:\n",
    "            dp[i] = min(dp[i-c]+1, dp[i])\n",
    "print(dp[k] if dp[k] != 20000 else -1)\n",
    "\n"
   ]
  },
  {
   "cell_type": "code",
   "execution_count": 168,
   "metadata": {},
   "outputs": [
    {
     "name": "stdout",
     "output_type": "stream",
     "text": [
      "3 15\n",
      "1\n",
      "2\n",
      "5\n",
      "[0, 1, 1, 2, 2, 1, 2, 2, 3, 3, 2, 3, 3, 4, 4, 3]\n",
      "3\n"
     ]
    }
   ],
   "source": [
    "n, target = map(int,input().split())\n",
    "dp = [20000 for _ in range(target+1)]\n",
    "dp[0] = 0\n",
    "coins = []\n",
    "for i in range(n):\n",
    "    coins.append(int(input()))\n",
    "coins.sort()\n",
    "for i in range(1,target+1):\n",
    "    for c in coins:\n",
    "        if i < c:\n",
    "            break\n",
    "        else:\n",
    "            dp[i] = min(dp[i-c]+1, dp[i])\n",
    "print(dp)\n",
    "print(dp[target] if dp[target] != 20000 else -1)\n",
    "\n"
   ]
  },
  {
   "cell_type": "code",
   "execution_count": null,
   "metadata": {},
   "outputs": [],
   "source": []
  }
 ],
 "metadata": {
  "kernelspec": {
   "display_name": "Python 3",
   "language": "python",
   "name": "python3"
  },
  "language_info": {
   "codemirror_mode": {
    "name": "ipython",
    "version": 3
   },
   "file_extension": ".py",
   "mimetype": "text/x-python",
   "name": "python",
   "nbconvert_exporter": "python",
   "pygments_lexer": "ipython3",
   "version": "3.8.5"
  }
 },
 "nbformat": 4,
 "nbformat_minor": 4
}
