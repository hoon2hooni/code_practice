{
 "cells": [
  {
   "cell_type": "code",
   "execution_count": 6,
   "metadata": {},
   "outputs": [
    {
     "name": "stdout",
     "output_type": "stream",
     "text": [
      "11\n",
      "3\n"
     ]
    }
   ],
   "source": [
    "import math\n",
    "def dp_func(n:int) -> int:\n",
    "    if dp[n] != -1:\n",
    "        return dp[n]\n",
    "    if n == 0:\n",
    "        dp[n] = 0\n",
    "        return 0\n",
    "    else:\n",
    "        res = n + 1\n",
    "        n_int =int(math.sqrt(n))\n",
    "        for i in range(1, n_int + 1):\n",
    "            res = min(dp_func(n - i**2)+1 ,res)\n",
    "        dp[n] = res\n",
    "        return dp[n]\n",
    "\n",
    "num = int(input())\n",
    "dp = [-1 for i in range(num+1)]\n",
    "\n",
    "dp_func(num)\n",
    "print(dp[num])\n",
    "        \n",
    "        "
   ]
  },
  {
   "cell_type": "code",
   "execution_count": 2,
   "metadata": {},
   "outputs": [
    {
     "name": "stdout",
     "output_type": "stream",
     "text": [
      "11\n",
      "3\n"
     ]
    }
   ],
   "source": [
    "import math\n",
    "num = int(input())\n",
    "dp = [num+1 for _ in range(num+1)]\n",
    "dp[0] = 0\n",
    "for a_num in range(1,num+1):\n",
    "    sqrted_num = int(math.sqrt(a_num))\n",
    "    for a_sqrted_num in range(1,sqrted_num+1):\n",
    "        if dp[a_num-a_sqrted_num**2] + 1 <= dp[a_num]:\n",
    "            dp[a_num] = dp[a_num-a_sqrted_num**2] + 1\n",
    "print(dp[-1])"
   ]
  },
  {
   "cell_type": "code",
   "execution_count": 3,
   "metadata": {},
   "outputs": [
    {
     "data": {
      "text/plain": [
       "[0, 1, 2, 3, 1, 2, 3, 4, 2, 1, 2, 3]"
      ]
     },
     "execution_count": 3,
     "metadata": {},
     "output_type": "execute_result"
    }
   ],
   "source": [
    "dp"
   ]
  },
  {
   "cell_type": "code",
   "execution_count": null,
   "metadata": {},
   "outputs": [],
   "source": []
  }
 ],
 "metadata": {
  "kernelspec": {
   "display_name": "Python 3",
   "language": "python",
   "name": "python3"
  },
  "language_info": {
   "codemirror_mode": {
    "name": "ipython",
    "version": 3
   },
   "file_extension": ".py",
   "mimetype": "text/x-python",
   "name": "python",
   "nbconvert_exporter": "python",
   "pygments_lexer": "ipython3",
   "version": "3.8.5"
  }
 },
 "nbformat": 4,
 "nbformat_minor": 4
}
