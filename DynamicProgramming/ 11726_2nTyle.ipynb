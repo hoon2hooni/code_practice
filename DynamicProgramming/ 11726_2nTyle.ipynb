{
 "cells": [
  {
   "cell_type": "code",
   "execution_count": 4,
   "metadata": {},
   "outputs": [
    {
     "ename": "IndentationError",
     "evalue": "unexpected indent (<ipython-input-4-0ec4c3c9d569>, line 7)",
     "output_type": "error",
     "traceback": [
      "\u001b[0;36m  File \u001b[0;32m\"<ipython-input-4-0ec4c3c9d569>\"\u001b[0;36m, line \u001b[0;32m7\u001b[0m\n\u001b[0;31m    return dp[w]\u001b[0m\n\u001b[0m    ^\u001b[0m\n\u001b[0;31mIndentationError\u001b[0m\u001b[0;31m:\u001b[0m unexpected indent\n"
     ]
    }
   ],
   "source": [
    "n =int(input())\n",
    "dp = [0 for _ in range(n+1)]\n",
    "dp[1] = 1\n",
    "dp[2] = 2\n",
    "def tyle(w):\n",
    "    if dp[w] != 0:print\n",
    "        return dp[w]\n",
    "    else:\n",
    "        dp[w] = tyle(w-1) + tyle(w-2)\n",
    "        return dp[w]\n"
   ]
  },
  {
   "cell_type": "code",
   "execution_count": 5,
   "metadata": {},
   "outputs": [
    {
     "name": "stdout",
     "output_type": "stream",
     "text": [
      "[0, 1, 2, 3, 5, 8]\n"
     ]
    }
   ],
   "source": [
    "tyle(n)\n",
    "print(dp)"
   ]
  },
  {
   "cell_type": "code",
   "execution_count": 13,
   "metadata": {},
   "outputs": [
    {
     "name": "stdout",
     "output_type": "stream",
     "text": [
      "5\n",
      "8\n"
     ]
    }
   ],
   "source": [
    "def tyle(w):\n",
    "    if dp[w] != 0:\n",
    "        return dp[w]\n",
    "    else:\n",
    "        dp[w] = tyle(w-1) + tyle(w-2)\n",
    "        return dp[w]\n",
    "n =int(input())\n",
    "\n",
    "dp = [0 for _ in range(n+1)]\n",
    "\n",
    "if n < 2:\n",
    "    print(n%10007)\n",
    "else:\n",
    "    dp[1] = 1\n",
    "    dp[2] = 2\n",
    "    print(tyle(n)%10007)"
   ]
  },
  {
   "cell_type": "code",
   "execution_count": null,
   "metadata": {},
   "outputs": [],
   "source": []
  }
 ],
 "metadata": {
  "kernelspec": {
   "display_name": "Python 3",
   "language": "python",
   "name": "python3"
  },
  "language_info": {
   "codemirror_mode": {
    "name": "ipython",
    "version": 3
   },
   "file_extension": ".py",
   "mimetype": "text/x-python",
   "name": "python",
   "nbconvert_exporter": "python",
   "pygments_lexer": "ipython3",
   "version": "3.8.5"
  }
 },
 "nbformat": 4,
 "nbformat_minor": 4
}
