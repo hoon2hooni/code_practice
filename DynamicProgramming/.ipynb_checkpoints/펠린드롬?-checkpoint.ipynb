{
 "cells": [
  {
   "cell_type": "code",
   "execution_count": 29,
   "metadata": {},
   "outputs": [
    {
     "name": "stdout",
     "output_type": "stream",
     "text": [
      "7\n",
      "1 2 1 3 1 2 1\n",
      "4\n",
      "0 0\n",
      "1 0\n",
      "2 0\n",
      "3 0\n",
      "4 0\n",
      "5 0\n",
      "6 0\n",
      "7 0\n",
      "0 1\n",
      "1 1\n",
      "2 1\n",
      "3 1\n",
      "4 1\n",
      "5 1\n",
      "6 1\n",
      "0 2\n",
      "1 2\n",
      "2 2\n",
      "3 2\n",
      "4 2\n",
      "5 2\n",
      "0 3\n",
      "1 3\n",
      "2 3\n",
      "3 3\n",
      "4 3\n",
      "0 4\n",
      "1 4\n",
      "2 4\n",
      "3 4\n",
      "0 5\n",
      "1 5\n",
      "2 5\n",
      "0 6\n",
      "1 6\n",
      "4\n",
      "1 3\n",
      "1\n",
      "2 5\n",
      "0\n",
      "3 3\n",
      "1\n",
      "5 7\n",
      "1\n"
     ]
    }
   ],
   "source": [
    "import sys\n",
    "input = sys.stdin.readline\n",
    "\"\"\"\n",
    "dp문제였다..\n",
    "start와 end가 같을때는\n",
    "무조건 참이다.\n",
    "\n",
    "start와 end차이가 1일때는\n",
    "양끝값이 같으면 1이다\n",
    "\n",
    "차이가 그이상이면\n",
    "일단 시작과 끝값이 같은지 본다 ,\n",
    "그리고 시작그 다음것과 끝값 직전의 string이 펠린드롬인지 본다\n",
    "7\n",
    "1 2 1 3 1 2 1\n",
    "4\n",
    "1 3\n",
    "2 5\n",
    "3 3\n",
    "5 7\n",
    "\"\"\"\n",
    "\n",
    "n = int(input())\n",
    "nums = [0] + [int(num) for num in input().split()]\n",
    "n += 1\n",
    "dp = [[0]*(n) for _ in range(n)]\n",
    "for diff in range(n-1):\n",
    "    for start in range(n-diff):\n",
    "        if start == 0:\n",
    "            continue\n",
    "        end = start + diff\n",
    "        if start == end:\n",
    "            dp[start][end] = 1\n",
    "        elif diff == 1:\n",
    "            if nums[start] == nums[end]:\n",
    "                dp[start][end] = 1\n",
    "            continue\n",
    "        else:\n",
    "            if (\n",
    "                nums[start] == nums[end] \n",
    "                and dp[start+1][end-1] == 1\n",
    "            ):\n",
    "                dp[start][end] = 1\n",
    "                \n",
    "                \n",
    "queries = int(input())\n",
    "for _ in range(queries):\n",
    "    s, e = map(int,(input().split()))\n",
    "    print(dp[s][e])\n",
    "            \n",
    "\n",
    "\n",
    "\n",
    "\n",
    "        "
   ]
  },
  {
   "cell_type": "code",
   "execution_count": 30,
   "metadata": {},
   "outputs": [
    {
     "name": "stdout",
     "output_type": "stream",
     "text": [
      "0\n",
      "1\n",
      "2\n",
      "3\n",
      "4\n",
      "5\n",
      "6\n"
     ]
    }
   ],
   "source": [
    "for diff in range(n-1):\n",
    "    print(diff)"
   ]
  },
  {
   "cell_type": "code",
   "execution_count": null,
   "metadata": {},
   "outputs": [],
   "source": []
  }
 ],
 "metadata": {
  "kernelspec": {
   "display_name": "Python 3",
   "language": "python",
   "name": "python3"
  },
  "language_info": {
   "codemirror_mode": {
    "name": "ipython",
    "version": 3
   },
   "file_extension": ".py",
   "mimetype": "text/x-python",
   "name": "python",
   "nbconvert_exporter": "python",
   "pygments_lexer": "ipython3",
   "version": "3.8.5"
  }
 },
 "nbformat": 4,
 "nbformat_minor": 4
}
