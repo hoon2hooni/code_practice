{
 "cells": [
  {
   "cell_type": "code",
   "execution_count": 24,
   "metadata": {},
   "outputs": [
    {
     "name": "stdout",
     "output_type": "stream",
     "text": [
      "5\n",
      "2002\n"
     ]
    }
   ],
   "source": [
    "n=int(input())\n",
    "arr = [[0]*10 for _ in range(n+1)]\n",
    "arr[0] = [1]*10\n",
    "for i in range(1,n+1):\n",
    "    for j in range(10):\n",
    "        arr[i][j] = sum(arr[i-1][j:])\n",
    "res = sum(arr[n-1])%10007\n",
    "print(res)"
   ]
  },
  {
   "cell_type": "code",
   "execution_count": 26,
   "metadata": {},
   "outputs": [
    {
     "name": "stdout",
     "output_type": "stream",
     "text": [
      "1\n"
     ]
    }
   ],
   "source": [
    "n=int(input())\n",
    "dp = [[0]*10 for _ in range(n+1)]\n",
    "dp[0] = [1]*10\n",
    "def func(i,j):\n",
    "    if dp[i][j] != 0:\n",
    "        return dp[i][j]\n",
    "    else:\n",
    "        res = 0 \n",
    "        for idx in range(j,10):\n",
    "            res += func(i-1,idx)\n",
    "        dp[i][j] = res\n",
    "        return dp[i][j]\n",
    "\n",
    "    \n"
   ]
  },
  {
   "cell_type": "code",
   "execution_count": 25,
   "metadata": {},
   "outputs": [
    {
     "data": {
      "text/plain": [
       "[[1, 1, 1, 1, 1, 1, 1, 1, 1, 1],\n",
       " [10, 9, 8, 7, 6, 5, 4, 3, 2, 1],\n",
       " [55, 45, 36, 28, 21, 15, 10, 6, 3, 1],\n",
       " [220, 165, 120, 84, 56, 35, 20, 10, 4, 1],\n",
       " [715, 495, 330, 210, 126, 70, 35, 15, 5, 1],\n",
       " [2002, 1287, 792, 462, 252, 126, 56, 21, 6, 1]]"
      ]
     },
     "execution_count": 25,
     "metadata": {},
     "output_type": "execute_result"
    }
   ],
   "source": [
    "arr"
   ]
  },
  {
   "cell_type": "code",
   "execution_count": 27,
   "metadata": {},
   "outputs": [
    {
     "data": {
      "text/plain": [
       "10"
      ]
     },
     "execution_count": 27,
     "metadata": {},
     "output_type": "execute_result"
    }
   ],
   "source": [
    "func(1,0)"
   ]
  },
  {
   "cell_type": "code",
   "execution_count": 22,
   "metadata": {},
   "outputs": [
    {
     "data": {
      "text/plain": [
       "[[1, 1, 1, 1, 1, 1, 1, 1, 1, 1],\n",
       " [10, 9, 8, 7, 6, 5, 4, 3, 2, 1],\n",
       " [55, 45, 36, 28, 21, 15, 10, 6, 3, 1],\n",
       " [220, 165, 120, 84, 56, 35, 20, 10, 4, 1],\n",
       " [715, 495, 330, 210, 126, 70, 35, 15, 5, 1],\n",
       " [2002, 0, 0, 0, 0, 0, 0, 0, 0, 0]]"
      ]
     },
     "execution_count": 22,
     "metadata": {},
     "output_type": "execute_result"
    }
   ],
   "source": [
    "dp"
   ]
  },
  {
   "cell_type": "code",
   "execution_count": null,
   "metadata": {},
   "outputs": [],
   "source": []
  }
 ],
 "metadata": {
  "kernelspec": {
   "display_name": "Python 3",
   "language": "python",
   "name": "python3"
  },
  "language_info": {
   "codemirror_mode": {
    "name": "ipython",
    "version": 3
   },
   "file_extension": ".py",
   "mimetype": "text/x-python",
   "name": "python",
   "nbconvert_exporter": "python",
   "pygments_lexer": "ipython3",
   "version": "3.8.5"
  }
 },
 "nbformat": 4,
 "nbformat_minor": 4
}
