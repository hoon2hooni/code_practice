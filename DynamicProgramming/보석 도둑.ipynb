{
 "cells": [
  {
   "cell_type": "code",
   "execution_count": 6,
   "metadata": {},
   "outputs": [
    {
     "name": "stdout",
     "output_type": "stream",
     "text": [
      "3 2\n",
      "1 65\n",
      "5 23\n",
      "2 99\n",
      "10\n",
      "2\n",
      "164\n"
     ]
    }
   ],
   "source": [
    "import heapq\n",
    "n, m = map(int, input().split())\n",
    "least_weight_priority_que =[]\n",
    "for _ in range(n):\n",
    "    w, v = map(int,input().split())\n",
    "    heapq.heappush(least_weight_priority_que,[w, v])\n",
    "    \n",
    "    \n",
    "bags = [int(input()) for _ in range(m)]\n",
    "bags.sort()\n",
    "max_value = 0\n",
    "fitable_jewerlies = []\n",
    "for bag in bags:\n",
    "    while (least_weight_priority_que \n",
    "           and bag >= least_weight_priority_que[0][0]\n",
    "          ):\n",
    "        w, v = heapq.heappop(least_weight_priority_que)\n",
    "        heapq.heappush(fitable_jewerlies, [-v, w])\n",
    "    if fitable_jewerlies:\n",
    "        max_value -= heapq.heappop(fitable_jewerlies)[0]\n",
    "    if not least_weight_priority_que:\n",
    "        break\n",
    "print(max_value)\n",
    "        \n",
    "        \n",
    "        \n",
    "            \n",
    "            \n",
    "        "
   ]
  },
  {
   "cell_type": "markdown",
   "metadata": {},
   "source": [
    "##### max_value = 0\n",
    "\n",
    "for C in c:\n",
    "    max_value = "
   ]
  },
  {
   "cell_type": "markdown",
   "metadata": {},
   "source": [
    "# import \n",
    "n, m = map(int, input().split())\n",
    "\n",
    "for _ in range(n):\n",
    "    w, v = map(int,input().split())\n",
    "    values[w] = v\n",
    "\n",
    "c = [int(input()) for _ in range(m)]\n",
    "    \n",
    "\n",
    "    \n",
    "\n",
    "c.sort()\n",
    "ans = 0\n",
    "for c_ in c:\n",
    "    max_ = 0\n",
    "    for idx, value in enumerate(values[:c_+1]):\n",
    "        if visited[idx] == 1:\n",
    "            continue\n",
    "        if value > max_:\n",
    "            max_idx = idx\n",
    "            max_ = value\n",
    "    ans += max_\n",
    "    visited[max_idx] = 1\n",
    "print(ans)"
   ]
  }
 ],
 "metadata": {
  "kernelspec": {
   "display_name": "Python 3",
   "language": "python",
   "name": "python3"
  },
  "language_info": {
   "codemirror_mode": {
    "name": "ipython",
    "version": 3
   },
   "file_extension": ".py",
   "mimetype": "text/x-python",
   "name": "python",
   "nbconvert_exporter": "python",
   "pygments_lexer": "ipython3",
   "version": "3.8.5"
  }
 },
 "nbformat": 4,
 "nbformat_minor": 4
}
