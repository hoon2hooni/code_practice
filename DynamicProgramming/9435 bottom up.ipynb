{
 "cells": [
  {
   "cell_type": "code",
   "execution_count": 34,
   "metadata": {},
   "outputs": [],
   "source": [
    "#point 그대로 둘것과, 아래 + 그위치 둘중 큰것 비교\n",
    "\n",
    "def dp(matrix,n):\n",
    "    check_matrix = [[0]*(n) for _ in range(2)]\n",
    "    check_matrix[0][0] = matrix[0][0]\n",
    "    check_matrix[1][0] = matrix[1][0]\n",
    "    for i in range(1,n):\n",
    "        for j in range(2):\n",
    "            check_matrix[j][i] = max(check_matrix[j][i-1],\\\n",
    "                                     matrix[j][i]+check_matrix[1-j][i-1])\n",
    "    max_num = max(check_matrix[0][-1], check_matrix[1][-1])\n",
    "    return max_num\n",
    "    \n",
    "\n",
    "rep = int(input())\n",
    "answers =[]\n",
    "for i in range(rep):\n",
    "    n = int(input())\n",
    "    matrix_ = [list(map(int,input().split())) for _ in range(2)]\n",
    "    answers.append(dp(matrix_,n))\n",
    "for answer in answers:\n",
    "    print(answer)"
   ]
  },
  {
   "cell_type": "code",
   "execution_count": 13,
   "metadata": {},
   "outputs": [],
   "source": [
    "test_c = [[0]*5 for _ in range(2)]\n"
   ]
  },
  {
   "cell_type": "code",
   "execution_count": 35,
   "metadata": {},
   "outputs": [
    {
     "data": {
      "text/plain": [
       "260"
      ]
     },
     "execution_count": 35,
     "metadata": {},
     "output_type": "execute_result"
    }
   ],
   "source": [
    "dp(test_m,5)"
   ]
  },
  {
   "cell_type": "code",
   "execution_count": 8,
   "metadata": {},
   "outputs": [
    {
     "name": "stdout",
     "output_type": "stream",
     "text": [
      "50 10 100 20 40\n",
      "30 50 70 10 60\n"
     ]
    }
   ],
   "source": [
    "test_m = [list(map(int,input().split())) for _ in range(2)]\n"
   ]
  },
  {
   "cell_type": "code",
   "execution_count": 12,
   "metadata": {},
   "outputs": [
    {
     "data": {
      "text/plain": [
       "[[0, 0, 0, 0, 0, 0], [0, 0, 0, 0, 0, 0], [0, 0, 0, 0, 0, 0]]"
      ]
     },
     "execution_count": 12,
     "metadata": {},
     "output_type": "execute_result"
    }
   ],
   "source": [
    "test_"
   ]
  },
  {
   "cell_type": "code",
   "execution_count": 27,
   "metadata": {},
   "outputs": [],
   "source": [
    "test_c[0][0] = 50\n",
    "test_c[1][0] = 30"
   ]
  },
  {
   "cell_type": "code",
   "execution_count": 32,
   "metadata": {},
   "outputs": [],
   "source": [
    "for i in range(1,5):\n",
    "    for j in range(2):\n",
    "        test_c[j][i] = max(test_c[j][i-1], \\\n",
    "                           test_m[j][i]+\\\n",
    "                           test_c[1-j][i-1])"
   ]
  },
  {
   "cell_type": "code",
   "execution_count": 33,
   "metadata": {},
   "outputs": [
    {
     "data": {
      "text/plain": [
       "[[50, 50, 200, 200, 250], [30, 100, 120, 210, 260]]"
      ]
     },
     "execution_count": 33,
     "metadata": {},
     "output_type": "execute_result"
    }
   ],
   "source": [
    "test_c"
   ]
  },
  {
   "cell_type": "code",
   "execution_count": 18,
   "metadata": {},
   "outputs": [
    {
     "data": {
      "text/plain": [
       "[1, 0]"
      ]
     },
     "execution_count": 18,
     "metadata": {},
     "output_type": "execute_result"
    }
   ],
   "source": [
    "[1-i for i in range(2)]\n"
   ]
  },
  {
   "cell_type": "code",
   "execution_count": null,
   "metadata": {},
   "outputs": [],
   "source": []
  }
 ],
 "metadata": {
  "kernelspec": {
   "display_name": "Python 3",
   "language": "python",
   "name": "python3"
  },
  "language_info": {
   "codemirror_mode": {
    "name": "ipython",
    "version": 3
   },
   "file_extension": ".py",
   "mimetype": "text/x-python",
   "name": "python",
   "nbconvert_exporter": "python",
   "pygments_lexer": "ipython3",
   "version": "3.8.5"
  }
 },
 "nbformat": 4,
 "nbformat_minor": 4
}
