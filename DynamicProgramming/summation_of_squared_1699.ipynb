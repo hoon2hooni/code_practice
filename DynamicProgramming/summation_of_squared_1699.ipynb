{
 "cells": [
  {
   "cell_type": "code",
   "execution_count": 10,
   "metadata": {},
   "outputs": [
    {
     "name": "stdout",
     "output_type": "stream",
     "text": [
      "10\n",
      "1 4\n",
      "1 9\n",
      "2 4\n",
      "2 9\n",
      "3 4\n",
      "3 9\n",
      "4 4\n",
      "4 9\n",
      "5 4\n",
      "5 9\n",
      "6 4\n",
      "6 9\n",
      "7 4\n",
      "7 9\n",
      "8 4\n",
      "8 9\n",
      "9 4\n",
      "9 9\n",
      "10 4\n",
      "10 9\n",
      "10 3 [0, 1, 2, 3, 1, 2, 3, 4, 2, 1, 2]\n"
     ]
    }
   ],
   "source": [
    "import math\n",
    "\n",
    "\n",
    "def fun(n):\n",
    "    if n == 0:\n",
    "        #n이 0이 되면 0으로 return해줌\n",
    "        #print(\"무야호\")\n",
    "        return 0\n",
    "    if a[n] != default:\n",
    "        #default 값으로 default 줌\n",
    "        return a[n]\n",
    "    result = fun(n-1) + 1\n",
    "    for num in nums[1:]:\n",
    "        if n >= num ** 2:\n",
    "            result = min(result, fun(n-num**2)+1)\n",
    "    a[n] = result\n",
    "    return result\n",
    "\n",
    "k= int(input())\n",
    "default = k+2\n",
    "a = [default for _ in range(k+1)]\n",
    "a[0] = 0\n",
    "sqrt_n = int(math.sqrt(k))\n",
    "nums = [i for i in range(1 ,sqrt_n+1)]\n",
    "fun(k)\n",
    "print(a[-1])\n"
   ]
  },
  {
   "cell_type": "code",
   "execution_count": 17,
   "metadata": {},
   "outputs": [
    {
     "name": "stdout",
     "output_type": "stream",
     "text": [
      "10\n",
      "2\n"
     ]
    }
   ],
   "source": [
    "import math\n",
    "\n",
    "\n",
    "def fun(n):\n",
    "    if n == 0:\n",
    "        #n이 0이 되면 0으로 return해줌\n",
    "        #print(\"무야호\")\n",
    "        return 0\n",
    "    if a[n] != default:\n",
    "        #default 값으로 default 줌\n",
    "        return a[n]\n",
    "    for num in nums:\n",
    "        if n >= num ** 2:\n",
    "            result = min(a[n], fun(n-num**2)+1)\n",
    "    a[n] = result\n",
    "    return result\n",
    "\n",
    "k= int(input())\n",
    "default = k+2\n",
    "a = [default for _ in range(k+1)]\n",
    "a[0] = 0\n",
    "sqrt_n = int(math.sqrt(k))\n",
    "nums = [i for i in range(1 ,sqrt_n+1)]\n",
    "fun(k)\n",
    "print(a[-1])\n",
    "\n"
   ]
  },
  {
   "cell_type": "code",
   "execution_count": 22,
   "metadata": {},
   "outputs": [
    {
     "name": "stdout",
     "output_type": "stream",
     "text": [
      "100\n"
     ]
    }
   ],
   "source": [
    "k= int(input())\n",
    "default = k+2\n",
    "dp = [default for _ in range(k+1)]\n",
    "dp[0] = 0\n",
    "sqrt_n = int(math.sqrt(k))\n",
    "nums = [i for i in range(1 ,sqrt_n+1)]\n",
    "for i in range(1,k+1):\n",
    "    for num in nums:\n",
    "        if i >= num **2:\n",
    "            dp[i]=min(dp[i], dp[i-num**2]+1)\n",
    "        "
   ]
  },
  {
   "cell_type": "code",
   "execution_count": 23,
   "metadata": {},
   "outputs": [
    {
     "data": {
      "text/plain": [
       "[0,\n",
       " 1,\n",
       " 2,\n",
       " 3,\n",
       " 1,\n",
       " 2,\n",
       " 3,\n",
       " 4,\n",
       " 2,\n",
       " 1,\n",
       " 2,\n",
       " 3,\n",
       " 3,\n",
       " 2,\n",
       " 3,\n",
       " 4,\n",
       " 1,\n",
       " 2,\n",
       " 2,\n",
       " 3,\n",
       " 2,\n",
       " 3,\n",
       " 3,\n",
       " 4,\n",
       " 3,\n",
       " 1,\n",
       " 2,\n",
       " 3,\n",
       " 4,\n",
       " 2,\n",
       " 3,\n",
       " 4,\n",
       " 2,\n",
       " 3,\n",
       " 2,\n",
       " 3,\n",
       " 1,\n",
       " 2,\n",
       " 3,\n",
       " 4,\n",
       " 2,\n",
       " 2,\n",
       " 3,\n",
       " 3,\n",
       " 3,\n",
       " 2,\n",
       " 3,\n",
       " 4,\n",
       " 3,\n",
       " 1,\n",
       " 2,\n",
       " 3,\n",
       " 2,\n",
       " 2,\n",
       " 3,\n",
       " 4,\n",
       " 3,\n",
       " 3,\n",
       " 2,\n",
       " 3,\n",
       " 4,\n",
       " 2,\n",
       " 3,\n",
       " 4,\n",
       " 1,\n",
       " 2,\n",
       " 3,\n",
       " 3,\n",
       " 2,\n",
       " 3,\n",
       " 3,\n",
       " 4,\n",
       " 2,\n",
       " 2,\n",
       " 2,\n",
       " 3,\n",
       " 3,\n",
       " 3,\n",
       " 3,\n",
       " 4,\n",
       " 2,\n",
       " 1,\n",
       " 2,\n",
       " 3,\n",
       " 3,\n",
       " 2,\n",
       " 3,\n",
       " 4,\n",
       " 3,\n",
       " 2,\n",
       " 2,\n",
       " 3,\n",
       " 4,\n",
       " 3,\n",
       " 3,\n",
       " 4,\n",
       " 3,\n",
       " 2,\n",
       " 2,\n",
       " 3,\n",
       " 1]"
      ]
     },
     "execution_count": 23,
     "metadata": {},
     "output_type": "execute_result"
    }
   ],
   "source": [
    "dp"
   ]
  },
  {
   "cell_type": "code",
   "execution_count": null,
   "metadata": {},
   "outputs": [],
   "source": []
  }
 ],
 "metadata": {
  "kernelspec": {
   "display_name": "Python 3",
   "language": "python",
   "name": "python3"
  },
  "language_info": {
   "codemirror_mode": {
    "name": "ipython",
    "version": 3
   },
   "file_extension": ".py",
   "mimetype": "text/x-python",
   "name": "python",
   "nbconvert_exporter": "python",
   "pygments_lexer": "ipython3",
   "version": "3.8.5"
  }
 },
 "nbformat": 4,
 "nbformat_minor": 4
}
