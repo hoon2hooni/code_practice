{
 "cells": [
  {
   "cell_type": "code",
   "execution_count": 6,
   "metadata": {},
   "outputs": [],
   "source": [
    "matrix =[[0,0,0]] \n",
    "with open(\"question.txt\", \"r\") as f:\n",
    "    lines = f.readlines()\n",
    "    for idx, line in enumerate(lines):\n",
    "        if idx > 0:\n",
    "            matrix.append(list(map(int,line.split())))\n",
    "        else:\n",
    "            n = int(line)\n",
    "matrix.append([0,0,0])\n",
    "    "
   ]
  },
  {
   "cell_type": "code",
   "execution_count": 55,
   "metadata": {},
   "outputs": [],
   "source": [
    "dp = [[-1]*3 for _ in range(n+2)]\n"
   ]
  },
  {
   "cell_type": "code",
   "execution_count": 56,
   "metadata": {},
   "outputs": [],
   "source": [
    "def dp_func(level, idx):\n",
    "    if dp[level][idx] != -1:\n",
    "        return dp[level][idx]\n",
    "    if level == 0:\n",
    "        dp[level][idx] = 0 \n",
    "        return 0\n",
    "    else:\n",
    "        if idx == 0:\n",
    "            res = max(dp_func(level-1,0),dp_func(level-1,1)) +matrix[level][idx]\n",
    "        elif idx == 1:\n",
    "            res = max(dp_func(level-1,0),dp_func(level-1,1),\n",
    "                     dp_func(level-1,2)) +matrix[level][idx]\n",
    "        else:\n",
    "            res = max(dp_func(level-1,1),\n",
    "                     dp_func(level-1,2)) + matrix[level][idx]\n",
    "        dp[level][idx] = res\n",
    "        return res\n",
    "            \n",
    "            "
   ]
  },
  {
   "cell_type": "code",
   "execution_count": 57,
   "metadata": {},
   "outputs": [
    {
     "data": {
      "text/plain": [
       "[[0, 0, 0], [1, 2, 3], [4, 5, 6], [4, 9, 0], [0, 0, 0]]"
      ]
     },
     "execution_count": 57,
     "metadata": {},
     "output_type": "execute_result"
    }
   ],
   "source": [
    "matrix"
   ]
  },
  {
   "cell_type": "code",
   "execution_count": null,
   "metadata": {},
   "outputs": [],
   "source": []
  },
  {
   "cell_type": "code",
   "execution_count": 58,
   "metadata": {},
   "outputs": [
    {
     "data": {
      "text/plain": [
       "18"
      ]
     },
     "execution_count": 58,
     "metadata": {},
     "output_type": "execute_result"
    }
   ],
   "source": [
    "dp_func(4,1)"
   ]
  },
  {
   "cell_type": "code",
   "execution_count": 45,
   "metadata": {},
   "outputs": [
    {
     "name": "stdout",
     "output_type": "stream",
     "text": [
      "4 1\n",
      "i여기0\n",
      "3 0\n",
      "2 0\n",
      "1 0\n",
      "0 0\n",
      "0 1\n",
      "1 1\n",
      "i여기0\n",
      "0 0\n",
      "i여기1\n",
      "0 1\n",
      "i여기2\n",
      "0 2\n",
      "2 1\n",
      "i여기0\n",
      "1 0\n",
      "i여기1\n",
      "1 1\n",
      "i여기2\n",
      "1 2\n",
      "0 1\n",
      "0 2\n",
      "i여기1\n",
      "3 1\n",
      "i여기0\n",
      "2 0\n",
      "i여기1\n",
      "2 1\n",
      "i여기2\n",
      "2 2\n",
      "1 1\n",
      "1 2\n",
      "i여기2\n",
      "3 2\n",
      "2 1\n",
      "2 2\n"
     ]
    }
   ],
   "source": [
    "\n",
    "def dp_func(level, idx):\n",
    "    if dp[level][idx] != -1:\n",
    "        return dp[level][idx]\n",
    "    if level == 0:\n",
    "        dp[level][idx] = 0 \n",
    "        return 0\n",
    "    else:\n",
    "        res = -10\n",
    "        if idx == 0:\n",
    "            for i in range(2):\n",
    "                res = max(dp_func(level-1,i),res)\n",
    "        elif idx == 1:\n",
    "            for i in range(3):\n",
    "                res = max(dp_func(level-1,i),res)\n",
    "        else:\n",
    "            for i in range(1,3):\n",
    "                res = max(dp_func(level-1,i),res)\n",
    "        dp[level][idx] = res + matrix[level][idx]\n",
    "        return dp[level][idx]\n",
    "    \n",
    "def dp_func_min(level, idx):\n",
    "    if dp[level][idx] != 1000:\n",
    "        return dp[level][idx]\n",
    "    if level == 0:\n",
    "        dp[level][idx] = 0 \n",
    "        return 0\n",
    "    else:\n",
    "        res = 100000\n",
    "        if idx == 0:\n",
    "            for i in range(2):\n",
    "                res = min(dp_func_min(level-1,i),res)\n",
    "        elif idx == 1:\n",
    "            for i in range(3):\n",
    "                res = min(dp_func_min(level-1,i),res)\n",
    "        else:\n",
    "            for i in range(1,3):\n",
    "                res = min(dp_func_min(level-1,i),res)\n",
    "        dp[level][idx] = res + matrix[level][idx]\n",
    "        return dp[level][idx]\n",
    "    \n",
    "# matrix = [[0,0,0]]\n",
    "# n = int(input())\n",
    "# for _ in range(n):\n",
    "#     matrix.append(list(map(int, input().split())))\n",
    "# matrix.append([0,0,0])\n",
    "ans =[]\n",
    "dp = [[-1]*3 for _ in range(n+2)]\n",
    "ans.append(dp_func(n+1,1))\n",
    "# dp = [[1000]*3 for _ in range(n+2)]\n",
    "# ans.append(dp_func_min(n+1,1))\n",
    "# print(f\"{ans[0]} {ans[1]}\")\n",
    "\n",
    "\n"
   ]
  },
  {
   "cell_type": "code",
   "execution_count": 50,
   "metadata": {},
   "outputs": [],
   "source": [
    "dp = [[0]*3 for _ in range(n+2)]"
   ]
  },
  {
   "cell_type": "code",
   "execution_count": 65,
   "metadata": {},
   "outputs": [
    {
     "name": "stdout",
     "output_type": "stream",
     "text": [
      "[18, 6]\n"
     ]
    }
   ],
   "source": [
    "dp = [[0]*3 for _ in range(n+2)]\n",
    "ans = []\n",
    "for i in range(1,n+2):\n",
    "    for j in range(3):\n",
    "        if j == 0:\n",
    "            dp[i][j] = max(dp[i-1][j],dp[i-1][j+1]) + matrix[i][j]\n",
    "        elif j == 1:\n",
    "            dp[i][j] = max(dp[i-1][j-1],dp[i-1][j],dp[i-1][j+1]) + matrix[i][j]\n",
    "        else:\n",
    "            dp[i][j] = max(dp[i-1][j-1],dp[i-1][j]) + matrix[i][j]\n",
    "ans.append(dp[n+1][1])\n",
    "dp = [[0]*3 for _ in range(n+2)]\n",
    "for i in range(1,n+2):\n",
    "    for j in range(3):\n",
    "        if j == 0:\n",
    "            dp[i][j] = min(dp[i-1][j],dp[i-1][j+1]) + matrix[i][j]\n",
    "        elif j == 1:\n",
    "            dp[i][j] = min(dp[i-1][j-1],dp[i-1][j],dp[i-1][j+1]) + matrix[i][j]\n",
    "        else:\n",
    "            dp[i][j] = min(dp[i-1][j-1],dp[i-1][j]) + matrix[i][j]\n",
    "ans.append(dp[n+1][1])\n",
    "print(ans)"
   ]
  },
  {
   "cell_type": "code",
   "execution_count": 63,
   "metadata": {},
   "outputs": [],
   "source": [
    "matrix = [[0,0,0]]\n",
    "n = int(input())\n",
    "for _ in range(n):\n",
    "    matrix.append(list(map(int, input().split())))\n",
    "matrix.append([0,0,0])"
   ]
  },
  {
   "cell_type": "code",
   "execution_count": 2,
   "metadata": {},
   "outputs": [
    {
     "name": "stdout",
     "output_type": "stream",
     "text": [
      "4\n",
      "1 2 3\n",
      "1 2 3\n",
      "1 2 3\n",
      "1 2 3\n",
      "[12, 4]\n"
     ]
    }
   ],
   "source": [
    "matrix = [[0,0,0]]\n",
    "n = int(input())\n",
    "for _ in range(n):\n",
    "    matrix.append(list(map(int, input().split())))\n",
    "matrix.append([0,0,0])\n",
    "dp = [[0]*3 for _ in range(n+2)]\n",
    "ans = []\n",
    "for i in range(1,n+2):\n",
    "    for j in range(3):\n",
    "        if j == 0:\n",
    "            dp[i][j] = max(dp[i-1][j],dp[i-1][j+1]) + matrix[i][j]\n",
    "        elif j == 1:\n",
    "            dp[i][j] = max(dp[i-1][j-1],dp[i-1][j],dp[i-1][j+1]) + matrix[i][j]\n",
    "        else:\n",
    "            dp[i][j] = max(dp[i-1][j-1],dp[i-1][j]) + matrix[i][j]\n",
    "ans.append(dp[n+1][1])\n",
    "dp = [[0]*3 for _ in range(n+2)]\n",
    "for i in range(1,n+2):\n",
    "    for j in range(3):\n",
    "        if j == 0:\n",
    "            dp[i][j] = min(dp[i-1][j],dp[i-1][j+1]) + matrix[i][j]\n",
    "        elif j == 1:\n",
    "            dp[i][j] = min(dp[i-1][j-1],dp[i-1][j],dp[i-1][j+1]) + matrix[i][j]\n",
    "        else:\n",
    "            dp[i][j] = min(dp[i-1][j-1],dp[i-1][j]) + matrix[i][j]\n",
    "ans.append(dp[n+1][1])\n",
    "print(ans)"
   ]
  },
  {
   "cell_type": "code",
   "execution_count": null,
   "metadata": {},
   "outputs": [],
   "source": []
  }
 ],
 "metadata": {
  "kernelspec": {
   "display_name": "Python 3",
   "language": "python",
   "name": "python3"
  },
  "language_info": {
   "codemirror_mode": {
    "name": "ipython",
    "version": 3
   },
   "file_extension": ".py",
   "mimetype": "text/x-python",
   "name": "python",
   "nbconvert_exporter": "python",
   "pygments_lexer": "ipython3",
   "version": "3.8.5"
  }
 },
 "nbformat": 4,
 "nbformat_minor": 4
}
