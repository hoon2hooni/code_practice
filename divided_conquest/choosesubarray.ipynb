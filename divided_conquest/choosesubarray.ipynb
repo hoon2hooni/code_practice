{
 "cells": [
  {
   "cell_type": "code",
   "execution_count": 80,
   "metadata": {},
   "outputs": [],
   "source": [
    "def func(left, right):\n",
    "    return(min(Real_arr[left:right+1])*sum(Real_arr[left:right+1]))"
   ]
  },
  {
   "cell_type": "code",
   "execution_count": 83,
   "metadata": {},
   "outputs": [],
   "source": [
    "\n",
    "def getres(start, end):\n",
    "    std = 0\n",
    "    i = j = (start + end)//2\n",
    "    while True:\n",
    "        print(i,j)\n",
    "        new_i = i - 1\n",
    "        new_j = j + 1\n",
    "        if new_j > end and new_i < start:\n",
    "            break\n",
    "        elif new_i < start:\n",
    "            j += 1\n",
    "            std = max(std, func(start,j))\n",
    "        elif new_j > end:\n",
    "            i -= 1\n",
    "            std = max(std, func(i,end))\n",
    "        else:\n",
    "            if func(new_i,j) > func(i,new_j):\n",
    "                i = new_i\n",
    "            else:\n",
    "                j = new_j\n",
    "            std  = max(std, max(func(new_i,j),func(i,new_j)))\n",
    "    return std"
   ]
  },
  {
   "cell_type": "code",
   "execution_count": 7,
   "metadata": {},
   "outputs": [
    {
     "name": "stdout",
     "output_type": "stream",
     "text": [
      "s= 0, e= 5, mid = 2\n",
      "s= 0, e= 2, mid = 1\n",
      "s= 0, e= 1, mid = 0\n",
      "ret=100\n",
      "ret=100\n",
      "s= 0, e= 2, mid = 1,ret = 100\n",
      "s= 0, e= 2, mid = 1,ret = 100\n",
      "s= 3, e= 5, mid = 4\n",
      "s= 3, e= 4, mid = 3\n",
      "ret=49\n",
      "ret=78\n",
      "s= 3, e= 5, mid = 4,ret = 105\n",
      "s= 3, e= 5, mid = 4,ret = 105\n",
      "ret=126\n",
      "s= 0, e= 5, mid = 2,ret = 126\n",
      "s= 0, e= 5, mid = 2,ret = 126\n",
      "s= 0, e= 5, mid = 2,ret = 126\n",
      "s= 0, e= 5, mid = 2,ret = 126\n",
      "s= 0, e= 5, mid = 2,ret = 130\n",
      "s= 0, e= 5, mid = 2,ret = 130\n",
      "s= 0, e= 5, mid = 2,ret = 130\n",
      "s= 0, e= 5, mid = 2,ret = 130\n",
      "160\n"
     ]
    }
   ],
   "source": [
    "def solve(s, e):\n",
    "    if s == e:\n",
    "        return A[s] * A[s]\n",
    "    \n",
    "    mid = (s+e)//2\n",
    "    print(f's= {s}, e= {e}, mid = {mid}')\n",
    "    ret = max(solve(s, mid), solve(mid+1, e))\n",
    "    print('ret={}'.format(ret))\n",
    "\n",
    "    left = mid\n",
    "    right = mid + 1\n",
    "    _sum = A[left] + A[right]\n",
    "    min_val = min(A[left], A[right])\n",
    "    ret = max(ret, min_val * _sum)\n",
    "    while left > s or right < e:\n",
    "        print(f's= {s}, e= {e}, mid = {mid},ret = {ret}')\n",
    "        if right < e and (left == s or A[left-1] < A[right + 1]):\n",
    "            print(f's= {s}, e= {e}, mid = {mid},ret = {ret}')\n",
    "            right += 1\n",
    "            _sum += A[right]\n",
    "            min_val = min(min_val, A[right])\n",
    "        else:\n",
    "            print(f's= {s}, e= {e}, mid = {mid},ret = {ret}')\n",
    "            left -= 1\n",
    "            _sum += A[left]\n",
    "            min_val = min(min_val, A[left])\n",
    "        ret = max(ret, min_val * _sum)\n",
    "    return ret\n",
    "\n",
    "# input()\n",
    "# A = list(map(int, input().split()))\n",
    "print(solve(0, len(A)-1))"
   ]
  },
  {
   "cell_type": "code",
   "execution_count": 85,
   "metadata": {},
   "outputs": [
    {
     "name": "stdout",
     "output_type": "stream",
     "text": [
      "9 9\n",
      "9 10\n",
      "9 11\n",
      "8 11\n"
     ]
    },
    {
     "data": {
      "text/plain": [
       "18"
      ]
     },
     "execution_count": 85,
     "metadata": {},
     "output_type": "execute_result"
    }
   ],
   "source": [
    "getres(8,11)"
   ]
  },
  {
   "cell_type": "code",
   "execution_count": 78,
   "metadata": {},
   "outputs": [
    {
     "data": {
      "text/plain": [
       "[1, 2, 3]"
      ]
     },
     "execution_count": 78,
     "metadata": {},
     "output_type": "execute_result"
    }
   ],
   "source": [
    "Real_arr[4:7]"
   ]
  },
  {
   "cell_type": "code",
   "execution_count": 65,
   "metadata": {},
   "outputs": [
    {
     "name": "stdout",
     "output_type": "stream",
     "text": [
      "[3, 7, 12, 16]\n",
      "0 3\n",
      "4 7\n"
     ]
    },
    {
     "ename": "ValueError",
     "evalue": "min() arg is an empty sequence",
     "output_type": "error",
     "traceback": [
      "\u001b[0;31m---------------------------------------------------------------------------\u001b[0m",
      "\u001b[0;31mValueError\u001b[0m                                Traceback (most recent call last)",
      "\u001b[0;32m<ipython-input-65-5c325c91d4cf>\u001b[0m in \u001b[0;36m<module>\u001b[0;34m\u001b[0m\n\u001b[1;32m     10\u001b[0m     \u001b[0;32mif\u001b[0m \u001b[0mReal_arr\u001b[0m\u001b[0;34m[\u001b[0m\u001b[0ms\u001b[0m\u001b[0;34m:\u001b[0m\u001b[0midx\u001b[0m\u001b[0;34m]\u001b[0m\u001b[0;34m:\u001b[0m\u001b[0;34m\u001b[0m\u001b[0;34m\u001b[0m\u001b[0m\n\u001b[1;32m     11\u001b[0m         \u001b[0mprint\u001b[0m\u001b[0;34m(\u001b[0m\u001b[0ms\u001b[0m\u001b[0;34m,\u001b[0m\u001b[0midx\u001b[0m\u001b[0;34m)\u001b[0m\u001b[0;34m\u001b[0m\u001b[0;34m\u001b[0m\u001b[0m\n\u001b[0;32m---> 12\u001b[0;31m         \u001b[0mn1\u001b[0m \u001b[0;34m=\u001b[0m \u001b[0mgetres\u001b[0m\u001b[0;34m(\u001b[0m\u001b[0mReal_arr\u001b[0m\u001b[0;34m[\u001b[0m\u001b[0ms\u001b[0m\u001b[0;34m:\u001b[0m\u001b[0midx\u001b[0m\u001b[0;34m]\u001b[0m\u001b[0;34m,\u001b[0m\u001b[0ms\u001b[0m\u001b[0;34m,\u001b[0m\u001b[0midx\u001b[0m\u001b[0;34m-\u001b[0m\u001b[0;36m1\u001b[0m\u001b[0;34m)\u001b[0m\u001b[0;34m\u001b[0m\u001b[0;34m\u001b[0m\u001b[0m\n\u001b[0m\u001b[1;32m     13\u001b[0m         \u001b[0mres\u001b[0m \u001b[0;34m=\u001b[0m \u001b[0mmax\u001b[0m\u001b[0;34m(\u001b[0m\u001b[0mres\u001b[0m\u001b[0;34m,\u001b[0m\u001b[0mn1\u001b[0m\u001b[0;34m)\u001b[0m\u001b[0;34m\u001b[0m\u001b[0;34m\u001b[0m\u001b[0m\n\u001b[1;32m     14\u001b[0m     \u001b[0ms\u001b[0m \u001b[0;34m=\u001b[0m \u001b[0midx\u001b[0m \u001b[0;34m+\u001b[0m \u001b[0;36m1\u001b[0m\u001b[0;34m\u001b[0m\u001b[0;34m\u001b[0m\u001b[0m\n",
      "\u001b[0;32m<ipython-input-53-067e08d28029>\u001b[0m in \u001b[0;36mgetres\u001b[0;34m(arr, start, end)\u001b[0m\n\u001b[1;32m     15\u001b[0m             \u001b[0mstd\u001b[0m \u001b[0;34m=\u001b[0m \u001b[0mmax\u001b[0m\u001b[0;34m(\u001b[0m\u001b[0mstd\u001b[0m\u001b[0;34m,\u001b[0m \u001b[0mfunc\u001b[0m\u001b[0;34m(\u001b[0m\u001b[0marr\u001b[0m\u001b[0;34m,\u001b[0m\u001b[0mi\u001b[0m\u001b[0;34m,\u001b[0m\u001b[0;34m(\u001b[0m\u001b[0mend\u001b[0m\u001b[0;34m)\u001b[0m\u001b[0;34m)\u001b[0m\u001b[0;34m)\u001b[0m\u001b[0;34m\u001b[0m\u001b[0;34m\u001b[0m\u001b[0m\n\u001b[1;32m     16\u001b[0m         \u001b[0;32melse\u001b[0m\u001b[0;34m:\u001b[0m\u001b[0;34m\u001b[0m\u001b[0;34m\u001b[0m\u001b[0m\n\u001b[0;32m---> 17\u001b[0;31m             \u001b[0;32mif\u001b[0m \u001b[0mfunc\u001b[0m\u001b[0;34m(\u001b[0m\u001b[0marr\u001b[0m\u001b[0;34m,\u001b[0m\u001b[0mnew_i\u001b[0m\u001b[0;34m,\u001b[0m\u001b[0mj\u001b[0m\u001b[0;34m)\u001b[0m \u001b[0;34m>\u001b[0m \u001b[0mfunc\u001b[0m\u001b[0;34m(\u001b[0m\u001b[0marr\u001b[0m\u001b[0;34m,\u001b[0m\u001b[0mi\u001b[0m\u001b[0;34m,\u001b[0m\u001b[0mnew_j\u001b[0m\u001b[0;34m)\u001b[0m\u001b[0;34m:\u001b[0m\u001b[0;34m\u001b[0m\u001b[0;34m\u001b[0m\u001b[0m\n\u001b[0m\u001b[1;32m     18\u001b[0m                 \u001b[0mi\u001b[0m \u001b[0;34m=\u001b[0m \u001b[0mnew_i\u001b[0m\u001b[0;34m\u001b[0m\u001b[0;34m\u001b[0m\u001b[0m\n\u001b[1;32m     19\u001b[0m             \u001b[0;32melse\u001b[0m\u001b[0;34m:\u001b[0m\u001b[0;34m\u001b[0m\u001b[0;34m\u001b[0m\u001b[0m\n",
      "\u001b[0;32m<ipython-input-54-60acc1502cd2>\u001b[0m in \u001b[0;36mfunc\u001b[0;34m(arr, left, right)\u001b[0m\n\u001b[1;32m      1\u001b[0m \u001b[0;32mdef\u001b[0m \u001b[0mfunc\u001b[0m\u001b[0;34m(\u001b[0m\u001b[0marr\u001b[0m\u001b[0;34m,\u001b[0m\u001b[0mleft\u001b[0m\u001b[0;34m,\u001b[0m \u001b[0mright\u001b[0m\u001b[0;34m)\u001b[0m\u001b[0;34m:\u001b[0m\u001b[0;34m\u001b[0m\u001b[0;34m\u001b[0m\u001b[0m\n\u001b[0;32m----> 2\u001b[0;31m     \u001b[0;32mreturn\u001b[0m\u001b[0;34m(\u001b[0m\u001b[0mmin\u001b[0m\u001b[0;34m(\u001b[0m\u001b[0marr\u001b[0m\u001b[0;34m[\u001b[0m\u001b[0mleft\u001b[0m\u001b[0;34m:\u001b[0m\u001b[0mright\u001b[0m\u001b[0;34m+\u001b[0m\u001b[0;36m1\u001b[0m\u001b[0;34m]\u001b[0m\u001b[0;34m)\u001b[0m\u001b[0;34m*\u001b[0m\u001b[0msum\u001b[0m\u001b[0;34m(\u001b[0m\u001b[0marr\u001b[0m\u001b[0;34m[\u001b[0m\u001b[0mleft\u001b[0m\u001b[0;34m:\u001b[0m\u001b[0mright\u001b[0m\u001b[0;34m+\u001b[0m\u001b[0;36m1\u001b[0m\u001b[0;34m]\u001b[0m\u001b[0;34m)\u001b[0m\u001b[0;34m)\u001b[0m\u001b[0;34m\u001b[0m\u001b[0;34m\u001b[0m\u001b[0m\n\u001b[0m",
      "\u001b[0;31mValueError\u001b[0m: min() arg is an empty sequence"
     ]
    }
   ],
   "source": [
    "Real_arr = [1,2,3,0,1,2,3,0,1,2,3,4,0,7,9,10,0]\n",
    "zero_indexes = [i for i ,j in enumerate(Real_arr) if j ==0]\n",
    "s = 0 \n",
    "res = 0\n",
    "s =0\n",
    "#import collections from deque\n",
    "print(zero_indexes)\n",
    "while zero_indexes:\n",
    "    idx = zero_indexes.pop(0)\n",
    "    if Real_arr[s:idx]:\n",
    "        print(s,idx)\n",
    "        n1 = getres(s,idx-1)\n",
    "        res = max(res,n1)\n",
    "    s = idx + 1\n",
    "if Real_arr[s:]:\n",
    "    n2 = getres(s,len(Real_arr)-1)\n",
    "    res = max(res,n2)\n",
    "print(res)\n"
   ]
  },
  {
   "cell_type": "markdown",
   "metadata": {},
   "source": [
    "arr =list(map(int, input().split()))"
   ]
  },
  {
   "cell_type": "code",
   "execution_count": 3,
   "metadata": {},
   "outputs": [
    {
     "data": {
      "text/plain": [
       "3"
      ]
     },
     "execution_count": 3,
     "metadata": {},
     "output_type": "execute_result"
    }
   ],
   "source": [
    "p"
   ]
  },
  {
   "cell_type": "code",
   "execution_count": 58,
   "metadata": {},
   "outputs": [
    {
     "data": {
      "text/plain": [
       "182"
      ]
     },
     "execution_count": 58,
     "metadata": {},
     "output_type": "execute_result"
    }
   ],
   "source": [
    "getres(Real_arr[s:idx],13,16-1)"
   ]
  },
  {
   "cell_type": "code",
   "execution_count": null,
   "metadata": {},
   "outputs": [],
   "source": []
  }
 ],
 "metadata": {
  "kernelspec": {
   "display_name": "Python 3",
   "language": "python",
   "name": "python3"
  },
  "language_info": {
   "codemirror_mode": {
    "name": "ipython",
    "version": 3
   },
   "file_extension": ".py",
   "mimetype": "text/x-python",
   "name": "python",
   "nbconvert_exporter": "python",
   "pygments_lexer": "ipython3",
   "version": "3.8.5"
  }
 },
 "nbformat": 4,
 "nbformat_minor": 4
}
