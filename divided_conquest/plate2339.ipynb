{
 "cells": [
  {
   "cell_type": "code",
   "execution_count": null,
   "metadata": {},
   "outputs": [],
   "source": [
    "starts =[]\n",
    "#매트릭스 안에 별이 2개면 안되는거 조건 추가\n",
    "\n",
    "def checkplane(r,c,flag,start_p,end_p): #나눠주기\n",
    "    #가로체크\n",
    "    if flag == -1:\n",
    "        for col in range(start_p, end_p):\n",
    "            if matrix[r][col] == 2:\n",
    "                return 안돼!\n",
    "        \n",
    "        return 돼!\n",
    "    #elif flag == 1:\n",
    "    else\n",
    "        for row in range(start_p,end_p):\n",
    "            if matrix[row][c] == 2:\n",
    "                return 안돼!\n",
    "        \n",
    "        return 돼!\n",
    "    #세로체크\n",
    "    \n",
    "def main(#행시작점,#행끝나는점,#열시작점,#열끝나는점):\n",
    "    for i in range(#행시작점, 행끝나는점):\n",
    "        for j in range(#열시작점, 열끝나는점):\n",
    "            if matrix[i][j] == 1:\n",
    "                #가로로 나눌수 있는지?\n",
    "                if check(i,j,-1,#열시작점,#열끝나는점):\n",
    "                    #part1가로로 나눠준거 체크하기\n",
    "                    main(행시작점, i-1,열시작점,열끝나는점)\n",
    "                    #part2가로로 나눠준거 체크하기\n",
    "                    main(i+1,기존끝나는점,열시작점,열끝나는점)\n",
    "                #세로로 나눠줄수 있는지?\n",
    "                elif check(i,j,1,#행시작점,#행끝나는점):\n",
    "                    #part1 세로로 나눠준거 체크하기\n",
    "                    main(행시작점,행끝나는점,열시작점,j-1)\n",
    "                    #part2 세로로 나눠준거 체크하기\n",
    "                    main(행시작점,행끝나는점,j+1,열끝나는점)\n",
    "                else:\n",
    "                    #둘다 안되면 빢꾸쳐야지\n",
    "                    return 빢꾸\n",
    "                           \n",
    "            \n",
    "\n",
    "matrix =[]\n",
    "for i in range(int(input())):\n",
    "    matrix.append(list(map(int, input().split())))\n",
    "\n",
    "points =[]\n",
    "stars =[]\n",
    "for i in range(8):\n",
    "    for j in range(8):\n",
    "        if matrix[i][j] == 1:\n",
    "            points.append((i,j))\n",
    "        elif matrix[i][j] == 2:\n",
    "            stars.append((i,j))\n",
    "\n",
    "points\n",
    "print(stars)\n",
    "\n",
    "points"
   ]
  },
  {
   "cell_type": "code",
   "execution_count": 17,
   "metadata": {},
   "outputs": [],
   "source": [
    "cnt = 0\n",
    "def main(points,start_r,end_r,start_c,end_c):\n",
    "    global cnt \n",
    "    if checkpoints(points,start_r,end_r,start_c,end_c) == 0:\n",
    "        if not checkstars(start_r,end_r,start_c,end,c) == 1:\n",
    "            return False\n",
    "    if points:\n",
    "        cnt += 1\n",
    "    \n",
    "    else:            \n",
    "        for idx in range(len(points)):\n",
    "            loc = points.pop(idx)\n",
    "            checkprob = 0\n",
    "            if (start_r< q[0]< end_r) and(start_c< q[1]< end_c):\n",
    "                if check(loc[0],loc[1],-1,start_c, end_c+1):\n",
    "                    if not main(points,start_r,loc[0]-1,start_c,end_c):\n",
    "                        points.insert(idx,q)\n",
    "                        return\n",
    "                    else:\n",
    "                        main(points,start_r,loc[0]-1,start_c,end_c)\n",
    "                        points.insert(idx,q)\n",
    "                    if not main(points,loc[0]+1,end_r,start_c,end_c):\n",
    "                        points.insert(idx,q)\n",
    "                        return\n",
    "                    else:\n",
    "                        main(points,loc[0]+1,end_r,start_c,end_c)\n",
    "                        points.insert(idx,q)\n",
    "                elif check(loc[0],loc[1],1,start_r,end_r+1):\n",
    "                    if not main(points,start_r,end_r,start_c,loc[1]-1):\n",
    "                        points.insert(idx,q)\n",
    "                        return\n",
    "                    else:\n",
    "                        main(points,start_r,end_r,start_c,loc[1]-1)\n",
    "                        points.insert(idx,q)\n",
    "                    if not main(points,start_r,end_r,loc[1]+1,end_c):\n",
    "                        points.insert(idx,q)\n",
    "                        return\n",
    "                    else:\n",
    "                        main(points,start_r,end_r,loc[1]+1,end_c)\n",
    "                        points.insert(idx,q)\n",
    "                else:\n",
    "                    points.insert(idx,q)\n",
    "                    return    \n",
    "\n",
    "    \n",
    "    "
   ]
  },
  {
   "cell_type": "code",
   "execution_count": 18,
   "metadata": {},
   "outputs": [],
   "source": [
    "def check(r,c,flag,start_p,end_p): #나눠주기\n",
    "    if flag == -1:\n",
    "        for col in range(start_p, end_p):\n",
    "            if matrix[r][col] == 2:\n",
    "                return False\n",
    "    else:\n",
    "        for row in range(start_p,end_p):\n",
    "            if matrix[row][c] == 2:\n",
    "                return False\n",
    "        \n",
    "    return True"
   ]
  },
  {
   "cell_type": "code",
   "execution_count": 19,
   "metadata": {},
   "outputs": [],
   "source": [
    "def checkpoints(points,start_r,end_r,start_c,end_c):\n",
    "    nums = 0\n",
    "    for i,j in points:\n",
    "        if (start_r<= i <= end_r+1) and(start_c<= j <= end_c+1):\n",
    "            nums += 1\n",
    "    return nums\n",
    "\n",
    "def checkstars(start_r,end_r,start_c,end_c):\n",
    "    nums = 0\n",
    "    for i,j in stars:\n",
    "        if (start_r<= i <= end_r+1) and(start_c<= j <= end_c+1):\n",
    "            nums += 1\n",
    "    return nums\n",
    "    "
   ]
  },
  {
   "cell_type": "code",
   "execution_count": 20,
   "metadata": {},
   "outputs": [],
   "source": [
    "print(main(points,0,8,0,8))"
   ]
  },
  {
   "cell_type": "code",
   "execution_count": 21,
   "metadata": {},
   "outputs": [
    {
     "name": "stdout",
     "output_type": "stream",
     "text": [
      "1\n"
     ]
    }
   ],
   "source": [
    "print(cnt)"
   ]
  },
  {
   "cell_type": "code",
   "execution_count": 15,
   "metadata": {},
   "outputs": [
    {
     "data": {
      "text/plain": [
       "4"
      ]
     },
     "execution_count": 15,
     "metadata": {},
     "output_type": "execute_result"
    }
   ],
   "source": [
    "checkpoints(points,0,8,0,8)"
   ]
  },
  {
   "cell_type": "code",
   "execution_count": null,
   "metadata": {},
   "outputs": [],
   "source": [
    " check_num\n",
    "    더돌아야되 = False\n",
    "    for stars in range(len()):\n",
    "        if (행시작점 <stars[0] <행끝쩜) and(열시작점 <stars[1] <열끝쩜):\n",
    "            check_num +=1\n",
    "            if check_num >= 2:\n",
    "                더돌아야되 = 2            \n",
    "    elif check_num == 0:\n",
    "        return 1\n",
    "    else:#check_num ==1\n",
    "        return 0"
   ]
  },
  {
   "cell_type": "code",
   "execution_count": 1,
   "metadata": {},
   "outputs": [
    {
     "name": "stdout",
     "output_type": "stream",
     "text": [
      "8\n"
     ]
    },
    {
     "ename": "NameError",
     "evalue": "name 'matrix' is not defined",
     "output_type": "error",
     "traceback": [
      "\u001b[0;31m---------------------------------------------------------------------------\u001b[0m",
      "\u001b[0;31mNameError\u001b[0m                                 Traceback (most recent call last)",
      "\u001b[0;32m<ipython-input-1-74cfaef1bbeb>\u001b[0m in \u001b[0;36m<module>\u001b[0;34m\u001b[0m\n\u001b[1;32m     71\u001b[0m \u001b[0mn\u001b[0m\u001b[0;34m=\u001b[0m \u001b[0mint\u001b[0m\u001b[0;34m(\u001b[0m\u001b[0minput\u001b[0m\u001b[0;34m(\u001b[0m\u001b[0;34m)\u001b[0m\u001b[0;34m)\u001b[0m\u001b[0;34m\u001b[0m\u001b[0;34m\u001b[0m\u001b[0m\n\u001b[1;32m     72\u001b[0m \u001b[0;32mfor\u001b[0m \u001b[0mi\u001b[0m \u001b[0;32min\u001b[0m \u001b[0mrange\u001b[0m\u001b[0;34m(\u001b[0m\u001b[0mn\u001b[0m\u001b[0;34m)\u001b[0m\u001b[0;34m:\u001b[0m\u001b[0;34m\u001b[0m\u001b[0;34m\u001b[0m\u001b[0m\n\u001b[0;32m---> 73\u001b[0;31m     \u001b[0mmatrix\u001b[0m\u001b[0;34m.\u001b[0m\u001b[0mappend\u001b[0m\u001b[0;34m(\u001b[0m\u001b[0mlist\u001b[0m\u001b[0;34m(\u001b[0m\u001b[0mmap\u001b[0m\u001b[0;34m(\u001b[0m\u001b[0mint\u001b[0m\u001b[0;34m,\u001b[0m \u001b[0minput\u001b[0m\u001b[0;34m(\u001b[0m\u001b[0;34m)\u001b[0m\u001b[0;34m.\u001b[0m\u001b[0msplit\u001b[0m\u001b[0;34m(\u001b[0m\u001b[0;34m)\u001b[0m\u001b[0;34m)\u001b[0m\u001b[0;34m)\u001b[0m\u001b[0;34m)\u001b[0m\u001b[0;34m\u001b[0m\u001b[0;34m\u001b[0m\u001b[0m\n\u001b[0m\u001b[1;32m     74\u001b[0m \u001b[0;32mfor\u001b[0m \u001b[0mi\u001b[0m \u001b[0;32min\u001b[0m \u001b[0mrange\u001b[0m\u001b[0;34m(\u001b[0m\u001b[0mn\u001b[0m\u001b[0;34m)\u001b[0m\u001b[0;34m:\u001b[0m\u001b[0;34m\u001b[0m\u001b[0;34m\u001b[0m\u001b[0m\n\u001b[1;32m     75\u001b[0m     \u001b[0;32mfor\u001b[0m \u001b[0mj\u001b[0m \u001b[0;32min\u001b[0m \u001b[0mrange\u001b[0m\u001b[0;34m(\u001b[0m\u001b[0mn\u001b[0m\u001b[0;34m)\u001b[0m\u001b[0;34m:\u001b[0m\u001b[0;34m\u001b[0m\u001b[0;34m\u001b[0m\u001b[0m\n",
      "\u001b[0;31mNameError\u001b[0m: name 'matrix' is not defined"
     ]
    }
   ],
   "source": [
    "def main(points,start_r,end_r,start_c,end_c):\n",
    "    global cnt \n",
    "    if checkpoints(points,start_r,end_r,start_c,end_c) == 0:\n",
    "        if not checkstars(start_r,end_r,start_c,end,c) == 1:\n",
    "            return False\n",
    "    if points:\n",
    "        cnt += 1\n",
    "    \n",
    "    else:            \n",
    "        for idx in range(len(points)):\n",
    "            loc = points.pop(idx)\n",
    "            checkprob = 0\n",
    "            if (start_r< q[0]< end_r) and(start_c< q[1]< end_c):\n",
    "                if check(loc[0],loc[1],-1,start_c, end_c+1):\n",
    "                    if not main(points,start_r,loc[0]-1,start_c,end_c):\n",
    "                        points.insert(idx,q)\n",
    "                        return\n",
    "                    else:\n",
    "                        main(points,start_r,loc[0]-1,start_c,end_c)\n",
    "                        points.insert(idx,q)\n",
    "                    if not main(points,loc[0]+1,end_r,start_c,end_c):\n",
    "                        points.insert(idx,q)\n",
    "                        return\n",
    "                    else:\n",
    "                        main(points,loc[0]+1,end_r,start_c,end_c)\n",
    "                        points.insert(idx,q)\n",
    "                elif check(loc[0],loc[1],1,start_r,end_r+1):\n",
    "                    if not main(points,start_r,end_r,start_c,loc[1]-1):\n",
    "                        points.insert(idx,q)\n",
    "                        return\n",
    "                    else:\n",
    "                        main(points,start_r,end_r,start_c,loc[1]-1)\n",
    "                        points.insert(idx,q)\n",
    "                    if not main(points,start_r,end_r,loc[1]+1,end_c):\n",
    "                        points.insert(idx,q)\n",
    "                        return\n",
    "                    else:\n",
    "                        main(points,start_r,end_r,loc[1]+1,end_c)\n",
    "                        points.insert(idx,q)\n",
    "                else:\n",
    "                    points.insert(idx,q)\n",
    "                    return   \n",
    "def check(r,c,flag,start_p,end_p): #나눠주기\n",
    "    if flag == -1:\n",
    "        for col in range(start_p, end_p):\n",
    "            if matrix[r][col] == 2:\n",
    "                return False\n",
    "    else:\n",
    "        for row in range(start_p,end_p):\n",
    "            if matrix[row][c] == 2:\n",
    "                return False\n",
    "        \n",
    "    return True\n",
    "\n",
    "def checkpoints(points,start_r,end_r,start_c,end_c):\n",
    "    nums = 0\n",
    "    for i,j in points:\n",
    "        if (start_r<= i <= end_r+1) and(start_c<= j <= end_c+1):\n",
    "            nums += 1\n",
    "    return nums\n",
    "\n",
    "def checkstars(start_r,end_r,start_c,end_c):\n",
    "    nums = 0\n",
    "    for i,j in stars:\n",
    "        if (start_r<= i <= end_r+1) and(start_c<= j <= end_c+1):\n",
    "            nums += 1\n",
    "    return nums\n",
    "cnt = 0\n",
    "points =[]\n",
    "stars =[]\n",
    "matrix =[]\n",
    "n= int(input())\n",
    "for i in range(n):\n",
    "    matrix.append(list(map(int, input().split())))\n",
    "for i in range(n):\n",
    "    for j in range(n):\n",
    "        if matrix[i][j] == 1:\n",
    "            points.append((i,j))\n",
    "        elif matrix[i][j] == 2:\n",
    "            stars.append((i,j))\n",
    "            \n",
    "main(points,0,n,0,n)\n",
    "print(cnt)\n",
    "    \n",
    "    "
   ]
  },
  {
   "cell_type": "code",
   "execution_count": null,
   "metadata": {},
   "outputs": [],
   "source": [
    "1, 1, 2, 3, 5, 8"
   ]
  },
  {
   "cell_type": "code",
   "execution_count": 18,
   "metadata": {},
   "outputs": [],
   "source": [
    "arr =[0]*(4+1)\n",
    "def fibonaci(p):\n",
    "    global arr\n",
    "    print(arr)\n",
    "    if p == 1 or p ==2:\n",
    "        arr[p] == 1\n",
    "    if arr[p] != 0:\n",
    "        return arr[p]\n",
    "        \n",
    "    else:\n",
    "        arr[p] = fibonaci(p-1) + fibonaci(p-2)\n",
    "        return arr[p]\n",
    "        "
   ]
  },
  {
   "cell_type": "code",
   "execution_count": 19,
   "metadata": {},
   "outputs": [
    {
     "name": "stdout",
     "output_type": "stream",
     "text": [
      "[0, 0, 0, 0, 0]\n",
      "[0, 0, 0, 0, 0]\n",
      "[0, 0, 0, 0, 0]\n",
      "[0, 0, 0, 0, 0]\n",
      "[0, 0, 0, 0, 0]\n",
      "[0, 0, 0, 0, 0]\n",
      "[0, 0, 0, 0, 0]\n",
      "[0, 0, 0, 0, 0]\n",
      "[0, 0, 0, 0, 0]\n",
      "[0, 0, 0, 0, 0]\n",
      "[0, 0, 0, 0, 0]\n"
     ]
    },
    {
     "ename": "IndexError",
     "evalue": "list index out of range",
     "output_type": "error",
     "traceback": [
      "\u001b[0;31m---------------------------------------------------------------------------\u001b[0m",
      "\u001b[0;31mIndexError\u001b[0m                                Traceback (most recent call last)",
      "\u001b[0;32m<ipython-input-19-04b161e91006>\u001b[0m in \u001b[0;36m<module>\u001b[0;34m\u001b[0m\n\u001b[0;32m----> 1\u001b[0;31m \u001b[0mfibonaci\u001b[0m\u001b[0;34m(\u001b[0m\u001b[0;36m4\u001b[0m\u001b[0;34m)\u001b[0m\u001b[0;34m\u001b[0m\u001b[0;34m\u001b[0m\u001b[0m\n\u001b[0m",
      "\u001b[0;32m<ipython-input-18-c9cd1e4f7f7b>\u001b[0m in \u001b[0;36mfibonaci\u001b[0;34m(p)\u001b[0m\n\u001b[1;32m      9\u001b[0m \u001b[0;34m\u001b[0m\u001b[0m\n\u001b[1;32m     10\u001b[0m     \u001b[0;32melse\u001b[0m\u001b[0;34m:\u001b[0m\u001b[0;34m\u001b[0m\u001b[0;34m\u001b[0m\u001b[0m\n\u001b[0;32m---> 11\u001b[0;31m         \u001b[0marr\u001b[0m\u001b[0;34m[\u001b[0m\u001b[0mp\u001b[0m\u001b[0;34m]\u001b[0m \u001b[0;34m=\u001b[0m \u001b[0mfibonaci\u001b[0m\u001b[0;34m(\u001b[0m\u001b[0mp\u001b[0m\u001b[0;34m-\u001b[0m\u001b[0;36m1\u001b[0m\u001b[0;34m)\u001b[0m \u001b[0;34m+\u001b[0m \u001b[0mfibonaci\u001b[0m\u001b[0;34m(\u001b[0m\u001b[0mp\u001b[0m\u001b[0;34m-\u001b[0m\u001b[0;36m2\u001b[0m\u001b[0;34m)\u001b[0m\u001b[0;34m\u001b[0m\u001b[0;34m\u001b[0m\u001b[0m\n\u001b[0m\u001b[1;32m     12\u001b[0m         \u001b[0;32mreturn\u001b[0m \u001b[0marr\u001b[0m\u001b[0;34m[\u001b[0m\u001b[0mp\u001b[0m\u001b[0;34m]\u001b[0m\u001b[0;34m\u001b[0m\u001b[0;34m\u001b[0m\u001b[0m\n\u001b[1;32m     13\u001b[0m \u001b[0;34m\u001b[0m\u001b[0m\n",
      "\u001b[0;32m<ipython-input-18-c9cd1e4f7f7b>\u001b[0m in \u001b[0;36mfibonaci\u001b[0;34m(p)\u001b[0m\n\u001b[1;32m      9\u001b[0m \u001b[0;34m\u001b[0m\u001b[0m\n\u001b[1;32m     10\u001b[0m     \u001b[0;32melse\u001b[0m\u001b[0;34m:\u001b[0m\u001b[0;34m\u001b[0m\u001b[0;34m\u001b[0m\u001b[0m\n\u001b[0;32m---> 11\u001b[0;31m         \u001b[0marr\u001b[0m\u001b[0;34m[\u001b[0m\u001b[0mp\u001b[0m\u001b[0;34m]\u001b[0m \u001b[0;34m=\u001b[0m \u001b[0mfibonaci\u001b[0m\u001b[0;34m(\u001b[0m\u001b[0mp\u001b[0m\u001b[0;34m-\u001b[0m\u001b[0;36m1\u001b[0m\u001b[0;34m)\u001b[0m \u001b[0;34m+\u001b[0m \u001b[0mfibonaci\u001b[0m\u001b[0;34m(\u001b[0m\u001b[0mp\u001b[0m\u001b[0;34m-\u001b[0m\u001b[0;36m2\u001b[0m\u001b[0;34m)\u001b[0m\u001b[0;34m\u001b[0m\u001b[0;34m\u001b[0m\u001b[0m\n\u001b[0m\u001b[1;32m     12\u001b[0m         \u001b[0;32mreturn\u001b[0m \u001b[0marr\u001b[0m\u001b[0;34m[\u001b[0m\u001b[0mp\u001b[0m\u001b[0;34m]\u001b[0m\u001b[0;34m\u001b[0m\u001b[0;34m\u001b[0m\u001b[0m\n\u001b[1;32m     13\u001b[0m \u001b[0;34m\u001b[0m\u001b[0m\n",
      "\u001b[0;32m<ipython-input-18-c9cd1e4f7f7b>\u001b[0m in \u001b[0;36mfibonaci\u001b[0;34m(p)\u001b[0m\n\u001b[1;32m      9\u001b[0m \u001b[0;34m\u001b[0m\u001b[0m\n\u001b[1;32m     10\u001b[0m     \u001b[0;32melse\u001b[0m\u001b[0;34m:\u001b[0m\u001b[0;34m\u001b[0m\u001b[0;34m\u001b[0m\u001b[0m\n\u001b[0;32m---> 11\u001b[0;31m         \u001b[0marr\u001b[0m\u001b[0;34m[\u001b[0m\u001b[0mp\u001b[0m\u001b[0;34m]\u001b[0m \u001b[0;34m=\u001b[0m \u001b[0mfibonaci\u001b[0m\u001b[0;34m(\u001b[0m\u001b[0mp\u001b[0m\u001b[0;34m-\u001b[0m\u001b[0;36m1\u001b[0m\u001b[0;34m)\u001b[0m \u001b[0;34m+\u001b[0m \u001b[0mfibonaci\u001b[0m\u001b[0;34m(\u001b[0m\u001b[0mp\u001b[0m\u001b[0;34m-\u001b[0m\u001b[0;36m2\u001b[0m\u001b[0;34m)\u001b[0m\u001b[0;34m\u001b[0m\u001b[0;34m\u001b[0m\u001b[0m\n\u001b[0m\u001b[1;32m     12\u001b[0m         \u001b[0;32mreturn\u001b[0m \u001b[0marr\u001b[0m\u001b[0;34m[\u001b[0m\u001b[0mp\u001b[0m\u001b[0;34m]\u001b[0m\u001b[0;34m\u001b[0m\u001b[0;34m\u001b[0m\u001b[0m\n\u001b[1;32m     13\u001b[0m \u001b[0;34m\u001b[0m\u001b[0m\n",
      "\u001b[0;32m<ipython-input-18-c9cd1e4f7f7b>\u001b[0m in \u001b[0;36mfibonaci\u001b[0;34m(p)\u001b[0m\n\u001b[1;32m      9\u001b[0m \u001b[0;34m\u001b[0m\u001b[0m\n\u001b[1;32m     10\u001b[0m     \u001b[0;32melse\u001b[0m\u001b[0;34m:\u001b[0m\u001b[0;34m\u001b[0m\u001b[0;34m\u001b[0m\u001b[0m\n\u001b[0;32m---> 11\u001b[0;31m         \u001b[0marr\u001b[0m\u001b[0;34m[\u001b[0m\u001b[0mp\u001b[0m\u001b[0;34m]\u001b[0m \u001b[0;34m=\u001b[0m \u001b[0mfibonaci\u001b[0m\u001b[0;34m(\u001b[0m\u001b[0mp\u001b[0m\u001b[0;34m-\u001b[0m\u001b[0;36m1\u001b[0m\u001b[0;34m)\u001b[0m \u001b[0;34m+\u001b[0m \u001b[0mfibonaci\u001b[0m\u001b[0;34m(\u001b[0m\u001b[0mp\u001b[0m\u001b[0;34m-\u001b[0m\u001b[0;36m2\u001b[0m\u001b[0;34m)\u001b[0m\u001b[0;34m\u001b[0m\u001b[0;34m\u001b[0m\u001b[0m\n\u001b[0m\u001b[1;32m     12\u001b[0m         \u001b[0;32mreturn\u001b[0m \u001b[0marr\u001b[0m\u001b[0;34m[\u001b[0m\u001b[0mp\u001b[0m\u001b[0;34m]\u001b[0m\u001b[0;34m\u001b[0m\u001b[0;34m\u001b[0m\u001b[0m\n\u001b[1;32m     13\u001b[0m \u001b[0;34m\u001b[0m\u001b[0m\n",
      "\u001b[0;32m<ipython-input-18-c9cd1e4f7f7b>\u001b[0m in \u001b[0;36mfibonaci\u001b[0;34m(p)\u001b[0m\n\u001b[1;32m      9\u001b[0m \u001b[0;34m\u001b[0m\u001b[0m\n\u001b[1;32m     10\u001b[0m     \u001b[0;32melse\u001b[0m\u001b[0;34m:\u001b[0m\u001b[0;34m\u001b[0m\u001b[0;34m\u001b[0m\u001b[0m\n\u001b[0;32m---> 11\u001b[0;31m         \u001b[0marr\u001b[0m\u001b[0;34m[\u001b[0m\u001b[0mp\u001b[0m\u001b[0;34m]\u001b[0m \u001b[0;34m=\u001b[0m \u001b[0mfibonaci\u001b[0m\u001b[0;34m(\u001b[0m\u001b[0mp\u001b[0m\u001b[0;34m-\u001b[0m\u001b[0;36m1\u001b[0m\u001b[0;34m)\u001b[0m \u001b[0;34m+\u001b[0m \u001b[0mfibonaci\u001b[0m\u001b[0;34m(\u001b[0m\u001b[0mp\u001b[0m\u001b[0;34m-\u001b[0m\u001b[0;36m2\u001b[0m\u001b[0;34m)\u001b[0m\u001b[0;34m\u001b[0m\u001b[0;34m\u001b[0m\u001b[0m\n\u001b[0m\u001b[1;32m     12\u001b[0m         \u001b[0;32mreturn\u001b[0m \u001b[0marr\u001b[0m\u001b[0;34m[\u001b[0m\u001b[0mp\u001b[0m\u001b[0;34m]\u001b[0m\u001b[0;34m\u001b[0m\u001b[0;34m\u001b[0m\u001b[0m\n\u001b[1;32m     13\u001b[0m \u001b[0;34m\u001b[0m\u001b[0m\n",
      "\u001b[0;32m<ipython-input-18-c9cd1e4f7f7b>\u001b[0m in \u001b[0;36mfibonaci\u001b[0;34m(p)\u001b[0m\n\u001b[1;32m      9\u001b[0m \u001b[0;34m\u001b[0m\u001b[0m\n\u001b[1;32m     10\u001b[0m     \u001b[0;32melse\u001b[0m\u001b[0;34m:\u001b[0m\u001b[0;34m\u001b[0m\u001b[0;34m\u001b[0m\u001b[0m\n\u001b[0;32m---> 11\u001b[0;31m         \u001b[0marr\u001b[0m\u001b[0;34m[\u001b[0m\u001b[0mp\u001b[0m\u001b[0;34m]\u001b[0m \u001b[0;34m=\u001b[0m \u001b[0mfibonaci\u001b[0m\u001b[0;34m(\u001b[0m\u001b[0mp\u001b[0m\u001b[0;34m-\u001b[0m\u001b[0;36m1\u001b[0m\u001b[0;34m)\u001b[0m \u001b[0;34m+\u001b[0m \u001b[0mfibonaci\u001b[0m\u001b[0;34m(\u001b[0m\u001b[0mp\u001b[0m\u001b[0;34m-\u001b[0m\u001b[0;36m2\u001b[0m\u001b[0;34m)\u001b[0m\u001b[0;34m\u001b[0m\u001b[0;34m\u001b[0m\u001b[0m\n\u001b[0m\u001b[1;32m     12\u001b[0m         \u001b[0;32mreturn\u001b[0m \u001b[0marr\u001b[0m\u001b[0;34m[\u001b[0m\u001b[0mp\u001b[0m\u001b[0;34m]\u001b[0m\u001b[0;34m\u001b[0m\u001b[0;34m\u001b[0m\u001b[0m\n\u001b[1;32m     13\u001b[0m \u001b[0;34m\u001b[0m\u001b[0m\n",
      "\u001b[0;32m<ipython-input-18-c9cd1e4f7f7b>\u001b[0m in \u001b[0;36mfibonaci\u001b[0;34m(p)\u001b[0m\n\u001b[1;32m      9\u001b[0m \u001b[0;34m\u001b[0m\u001b[0m\n\u001b[1;32m     10\u001b[0m     \u001b[0;32melse\u001b[0m\u001b[0;34m:\u001b[0m\u001b[0;34m\u001b[0m\u001b[0;34m\u001b[0m\u001b[0m\n\u001b[0;32m---> 11\u001b[0;31m         \u001b[0marr\u001b[0m\u001b[0;34m[\u001b[0m\u001b[0mp\u001b[0m\u001b[0;34m]\u001b[0m \u001b[0;34m=\u001b[0m \u001b[0mfibonaci\u001b[0m\u001b[0;34m(\u001b[0m\u001b[0mp\u001b[0m\u001b[0;34m-\u001b[0m\u001b[0;36m1\u001b[0m\u001b[0;34m)\u001b[0m \u001b[0;34m+\u001b[0m \u001b[0mfibonaci\u001b[0m\u001b[0;34m(\u001b[0m\u001b[0mp\u001b[0m\u001b[0;34m-\u001b[0m\u001b[0;36m2\u001b[0m\u001b[0;34m)\u001b[0m\u001b[0;34m\u001b[0m\u001b[0;34m\u001b[0m\u001b[0m\n\u001b[0m\u001b[1;32m     12\u001b[0m         \u001b[0;32mreturn\u001b[0m \u001b[0marr\u001b[0m\u001b[0;34m[\u001b[0m\u001b[0mp\u001b[0m\u001b[0;34m]\u001b[0m\u001b[0;34m\u001b[0m\u001b[0;34m\u001b[0m\u001b[0m\n\u001b[1;32m     13\u001b[0m \u001b[0;34m\u001b[0m\u001b[0m\n",
      "\u001b[0;32m<ipython-input-18-c9cd1e4f7f7b>\u001b[0m in \u001b[0;36mfibonaci\u001b[0;34m(p)\u001b[0m\n\u001b[1;32m      9\u001b[0m \u001b[0;34m\u001b[0m\u001b[0m\n\u001b[1;32m     10\u001b[0m     \u001b[0;32melse\u001b[0m\u001b[0;34m:\u001b[0m\u001b[0;34m\u001b[0m\u001b[0;34m\u001b[0m\u001b[0m\n\u001b[0;32m---> 11\u001b[0;31m         \u001b[0marr\u001b[0m\u001b[0;34m[\u001b[0m\u001b[0mp\u001b[0m\u001b[0;34m]\u001b[0m \u001b[0;34m=\u001b[0m \u001b[0mfibonaci\u001b[0m\u001b[0;34m(\u001b[0m\u001b[0mp\u001b[0m\u001b[0;34m-\u001b[0m\u001b[0;36m1\u001b[0m\u001b[0;34m)\u001b[0m \u001b[0;34m+\u001b[0m \u001b[0mfibonaci\u001b[0m\u001b[0;34m(\u001b[0m\u001b[0mp\u001b[0m\u001b[0;34m-\u001b[0m\u001b[0;36m2\u001b[0m\u001b[0;34m)\u001b[0m\u001b[0;34m\u001b[0m\u001b[0;34m\u001b[0m\u001b[0m\n\u001b[0m\u001b[1;32m     12\u001b[0m         \u001b[0;32mreturn\u001b[0m \u001b[0marr\u001b[0m\u001b[0;34m[\u001b[0m\u001b[0mp\u001b[0m\u001b[0;34m]\u001b[0m\u001b[0;34m\u001b[0m\u001b[0;34m\u001b[0m\u001b[0m\n\u001b[1;32m     13\u001b[0m \u001b[0;34m\u001b[0m\u001b[0m\n",
      "\u001b[0;32m<ipython-input-18-c9cd1e4f7f7b>\u001b[0m in \u001b[0;36mfibonaci\u001b[0;34m(p)\u001b[0m\n\u001b[1;32m      9\u001b[0m \u001b[0;34m\u001b[0m\u001b[0m\n\u001b[1;32m     10\u001b[0m     \u001b[0;32melse\u001b[0m\u001b[0;34m:\u001b[0m\u001b[0;34m\u001b[0m\u001b[0;34m\u001b[0m\u001b[0m\n\u001b[0;32m---> 11\u001b[0;31m         \u001b[0marr\u001b[0m\u001b[0;34m[\u001b[0m\u001b[0mp\u001b[0m\u001b[0;34m]\u001b[0m \u001b[0;34m=\u001b[0m \u001b[0mfibonaci\u001b[0m\u001b[0;34m(\u001b[0m\u001b[0mp\u001b[0m\u001b[0;34m-\u001b[0m\u001b[0;36m1\u001b[0m\u001b[0;34m)\u001b[0m \u001b[0;34m+\u001b[0m \u001b[0mfibonaci\u001b[0m\u001b[0;34m(\u001b[0m\u001b[0mp\u001b[0m\u001b[0;34m-\u001b[0m\u001b[0;36m2\u001b[0m\u001b[0;34m)\u001b[0m\u001b[0;34m\u001b[0m\u001b[0;34m\u001b[0m\u001b[0m\n\u001b[0m\u001b[1;32m     12\u001b[0m         \u001b[0;32mreturn\u001b[0m \u001b[0marr\u001b[0m\u001b[0;34m[\u001b[0m\u001b[0mp\u001b[0m\u001b[0;34m]\u001b[0m\u001b[0;34m\u001b[0m\u001b[0;34m\u001b[0m\u001b[0m\n\u001b[1;32m     13\u001b[0m \u001b[0;34m\u001b[0m\u001b[0m\n",
      "\u001b[0;32m<ipython-input-18-c9cd1e4f7f7b>\u001b[0m in \u001b[0;36mfibonaci\u001b[0;34m(p)\u001b[0m\n\u001b[1;32m      9\u001b[0m \u001b[0;34m\u001b[0m\u001b[0m\n\u001b[1;32m     10\u001b[0m     \u001b[0;32melse\u001b[0m\u001b[0;34m:\u001b[0m\u001b[0;34m\u001b[0m\u001b[0;34m\u001b[0m\u001b[0m\n\u001b[0;32m---> 11\u001b[0;31m         \u001b[0marr\u001b[0m\u001b[0;34m[\u001b[0m\u001b[0mp\u001b[0m\u001b[0;34m]\u001b[0m \u001b[0;34m=\u001b[0m \u001b[0mfibonaci\u001b[0m\u001b[0;34m(\u001b[0m\u001b[0mp\u001b[0m\u001b[0;34m-\u001b[0m\u001b[0;36m1\u001b[0m\u001b[0;34m)\u001b[0m \u001b[0;34m+\u001b[0m \u001b[0mfibonaci\u001b[0m\u001b[0;34m(\u001b[0m\u001b[0mp\u001b[0m\u001b[0;34m-\u001b[0m\u001b[0;36m2\u001b[0m\u001b[0;34m)\u001b[0m\u001b[0;34m\u001b[0m\u001b[0;34m\u001b[0m\u001b[0m\n\u001b[0m\u001b[1;32m     12\u001b[0m         \u001b[0;32mreturn\u001b[0m \u001b[0marr\u001b[0m\u001b[0;34m[\u001b[0m\u001b[0mp\u001b[0m\u001b[0;34m]\u001b[0m\u001b[0;34m\u001b[0m\u001b[0;34m\u001b[0m\u001b[0m\n\u001b[1;32m     13\u001b[0m \u001b[0;34m\u001b[0m\u001b[0m\n",
      "\u001b[0;32m<ipython-input-18-c9cd1e4f7f7b>\u001b[0m in \u001b[0;36mfibonaci\u001b[0;34m(p)\u001b[0m\n\u001b[1;32m      5\u001b[0m     \u001b[0;32mif\u001b[0m \u001b[0mn\u001b[0m \u001b[0;34m==\u001b[0m \u001b[0;36m1\u001b[0m \u001b[0;32mor\u001b[0m \u001b[0mn\u001b[0m \u001b[0;34m==\u001b[0m\u001b[0;36m2\u001b[0m\u001b[0;34m:\u001b[0m\u001b[0;34m\u001b[0m\u001b[0;34m\u001b[0m\u001b[0m\n\u001b[1;32m      6\u001b[0m         \u001b[0marr\u001b[0m\u001b[0;34m[\u001b[0m\u001b[0mp\u001b[0m\u001b[0;34m]\u001b[0m \u001b[0;34m==\u001b[0m \u001b[0;36m1\u001b[0m\u001b[0;34m\u001b[0m\u001b[0;34m\u001b[0m\u001b[0m\n\u001b[0;32m----> 7\u001b[0;31m     \u001b[0;32mif\u001b[0m \u001b[0marr\u001b[0m\u001b[0;34m[\u001b[0m\u001b[0mp\u001b[0m\u001b[0;34m]\u001b[0m \u001b[0;34m!=\u001b[0m \u001b[0;36m0\u001b[0m\u001b[0;34m:\u001b[0m\u001b[0;34m\u001b[0m\u001b[0;34m\u001b[0m\u001b[0m\n\u001b[0m\u001b[1;32m      8\u001b[0m         \u001b[0;32mreturn\u001b[0m \u001b[0marr\u001b[0m\u001b[0;34m[\u001b[0m\u001b[0mp\u001b[0m\u001b[0;34m]\u001b[0m\u001b[0;34m\u001b[0m\u001b[0;34m\u001b[0m\u001b[0m\n\u001b[1;32m      9\u001b[0m \u001b[0;34m\u001b[0m\u001b[0m\n",
      "\u001b[0;31mIndexError\u001b[0m: list index out of range"
     ]
    }
   ],
   "source": [
    "fibonaci(4)\n"
   ]
  },
  {
   "cell_type": "code",
   "execution_count": null,
   "metadata": {},
   "outputs": [],
   "source": [
    "def fibonaci(n):\n",
    "2\t    if n == 1 or n ==2:\n",
    "3\t        return 1\n",
    "4\t        \n",
    "5\t    else:\n",
    "6\t        return fibonaci(n-1) + fibonaci(n-2)\n",
    "7\t        \n",
    "8\tfibonaci(6)"
   ]
  },
  {
   "cell_type": "code",
   "execution_count": 35,
   "metadata": {},
   "outputs": [
    {
     "name": "stdout",
     "output_type": "stream",
     "text": [
      "[0, 1, 1, 0, 0, 0, 0, 0]\n",
      "3 2\n",
      "[0, 1, 1, 2, 0, 0, 0, 0]\n",
      "4 2\n",
      "[0, 1, 1, 2, 0, 0, 0, 0]\n",
      "4 3\n",
      "[0, 1, 1, 2, 3, 0, 0, 0]\n",
      "5 2\n",
      "[0, 1, 1, 2, 3, 0, 0, 0]\n",
      "5 3\n",
      "[0, 1, 1, 2, 3, 0, 0, 0]\n",
      "5 4\n",
      "[0, 1, 1, 2, 3, 5, 0, 0]\n",
      "6 2\n",
      "[0, 1, 1, 2, 3, 5, 0, 0]\n",
      "6 3\n",
      "[0, 1, 1, 2, 3, 5, 0, 0]\n",
      "6 4\n",
      "[0, 1, 1, 2, 3, 5, 0, 0]\n",
      "6 5\n",
      "[0, 1, 1, 2, 3, 5, 8, 0]\n",
      "7 2\n",
      "[0, 1, 1, 2, 3, 5, 8, 0]\n",
      "7 3\n",
      "[0, 1, 1, 2, 3, 5, 8, 0]\n",
      "7 4\n",
      "[0, 1, 1, 2, 3, 5, 8, 0]\n",
      "7 5\n",
      "[0, 1, 1, 2, 3, 5, 8, 0]\n",
      "7 6\n"
     ]
    }
   ],
   "source": [
    "n = 7\n",
    "arr =[0]*(n+1)\n",
    "arr[1] = 1\n",
    "arr[2] = 1\n",
    "for i in range(2,n+1):\n",
    "    for j in range(2,i):\n",
    "        print(arr)\n",
    "        print(i,j)\n",
    "        arr[j+1] = arr[j]+arr[j-1]\n"
   ]
  },
  {
   "cell_type": "code",
   "execution_count": null,
   "metadata": {},
   "outputs": [],
   "source": []
  }
 ],
 "metadata": {
  "kernelspec": {
   "display_name": "Python 3",
   "language": "python",
   "name": "python3"
  },
  "language_info": {
   "codemirror_mode": {
    "name": "ipython",
    "version": 3
   },
   "file_extension": ".py",
   "mimetype": "text/x-python",
   "name": "python",
   "nbconvert_exporter": "python",
   "pygments_lexer": "ipython3",
   "version": "3.8.5"
  }
 },
 "nbformat": 4,
 "nbformat_minor": 4
}
