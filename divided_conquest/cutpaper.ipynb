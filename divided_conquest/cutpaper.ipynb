{
 "cells": [
  {
   "cell_type": "code",
   "execution_count": null,
   "metadata": {},
   "outputs": [],
   "source": [
    "minus= 0\n",
    "zero = 0\n",
    "plus = 0\n",
    "def check(arr):\n",
    "    std = arr[0][0]\n",
    "    n = len(arr)\n",
    "    for i in range(n):\n",
    "        for j in range(n):\n",
    "            if std != arr[i][j]:\n",
    "                return False\n",
    "    return True\n",
    "            \n",
    "        \n",
    "def divide(arr):\n",
    "    global minus, zero, plus\n",
    "    if check(arr):\n",
    "        if arr[0][0] == -1:\n",
    "            minus += 1\n",
    "        elif arr[0][0] == 0:\n",
    "            zero += 1\n",
    "        else:\n",
    "            plus += 1\n",
    "    else:\n",
    "        w = len(arr)\n",
    "        divide([i[:w//3] for i in arr[:w//3]])\n",
    "        divide([i[w//3:2*w//3] for i in arr[:w//3]])\n",
    "        divide([i[2*w//3:] for i in arr[:w//3]])\n",
    "        divide([i[:w//3] for i in arr[w//3:2*w//3]])\n",
    "        divide([i[w//3:2*w//3] for i in arr[w//3:2*w//3]])\n",
    "        divide([i[2*w//3:] for i in arr[w//3:2*w//3]])\n",
    "        divide([i[:w//3] for i in arr[2*w//3:]])\n",
    "        divide([i[w//3:2*w//3] for i in arr[2*w//3:]])\n",
    "        divide([i[2*w//3:] for i in arr[2*w//3:]])\n",
    "n_ = int(input())\n",
    "Arr = []\n",
    "for i in range(n_):\n",
    "    Arr.append(list(map(int,input().split())))\n",
    "divide(Arr)\n",
    "print(minus)\n",
    "print(zero)\n",
    "print(plus)\n",
    "    \n",
    "    \n"
   ]
  },
  {
   "cell_type": "code",
   "execution_count": 35,
   "metadata": {},
   "outputs": [
    {
     "data": {
      "text/plain": [
       "[[0, 0, 0, 1, 1, 1, -1, -1, -1],\n",
       " [0, 0, 0, 1, 1, 1, -1, -1, -1],\n",
       " [0, 0, 0, 1, 1, 1, -1, -1, -1]]"
      ]
     },
     "execution_count": 35,
     "metadata": {},
     "output_type": "execute_result"
    }
   ],
   "source": [
    "Arr[:9//3]"
   ]
  },
  {
   "cell_type": "code",
   "execution_count": 34,
   "metadata": {},
   "outputs": [
    {
     "data": {
      "text/plain": [
       "[[-1, -1, -1], [-1, -1, -1], [-1, -1, -1]]"
      ]
     },
     "execution_count": 34,
     "metadata": {},
     "output_type": "execute_result"
    }
   ],
   "source": [
    "[i[6:9] for i in Arr[:9//3]]"
   ]
  },
  {
   "cell_type": "code",
   "execution_count": 3,
   "metadata": {},
   "outputs": [],
   "source": [
    "a = [i for i in range(9)]"
   ]
  },
  {
   "cell_type": "code",
   "execution_count": 7,
   "metadata": {},
   "outputs": [
    {
     "name": "stdout",
     "output_type": "stream",
     "text": [
      "[0, 1, 2]\n",
      "[3, 4, 5]\n",
      "[6, 7, 8]\n"
     ]
    }
   ],
   "source": [
    "print(a[:len(a)//3])\n",
    "print(a[len(a)//3: 2*len(a)//3])\n",
    "print(a[2*len(a)//3:])"
   ]
  },
  {
   "cell_type": "code",
   "execution_count": null,
   "metadata": {},
   "outputs": [],
   "source": [
    "import sys\n",
    "\n",
    "N = int(sys.stdin.readline())\n",
    "matrix = []\n",
    "result = [0] * 3\n",
    "\n",
    "for _ in range(N):\n",
    "    matrix.append(list(map(int, sys.stdin.readline().split())))\n",
    "\n",
    "def check(start_x: int, start_y: int, size: int):\n",
    "    temp = matrix[start_x][start_y] #초기값\n",
    "    for i in range(size):\n",
    "        for j in range(size):\n",
    "            if temp != matrix[start_x + i][start_y + j]:\n",
    "                return False\n",
    "    return True\n",
    "\n",
    "def divide(start_x: int, start_y: int, size: int):\n",
    "    if check(start_x, start_y, size):\n",
    "        result[matrix[start_x][start_y] + 1] += 1 #-1, 0, 1 -> 0, 1 2 index로 봤을때\n",
    "    else:\n",
    "        for i in range(3):\n",
    "            for j in range(3):\n",
    "                divide(start_x + i * size//3, start_y + j * size//3, size//3)\n",
    "    return\n",
    "\n",
    "divide(0,0,N)\n",
    "for i in range(3):\n",
    "    print(result[i])\n",
    "        \n",
    "    "
   ]
  },
  {
   "cell_type": "code",
   "execution_count": null,
   "metadata": {},
   "outputs": [],
   "source": []
  }
 ],
 "metadata": {
  "kernelspec": {
   "display_name": "Python 3",
   "language": "python",
   "name": "python3"
  },
  "language_info": {
   "codemirror_mode": {
    "name": "ipython",
    "version": 3
   },
   "file_extension": ".py",
   "mimetype": "text/x-python",
   "name": "python",
   "nbconvert_exporter": "python",
   "pygments_lexer": "ipython3",
   "version": "3.8.5"
  }
 },
 "nbformat": 4,
 "nbformat_minor": 4
}
