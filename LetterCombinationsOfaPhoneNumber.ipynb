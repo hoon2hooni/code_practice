{
 "cells": [
  {
   "cell_type": "code",
   "execution_count": 19,
   "metadata": {},
   "outputs": [
    {
     "name": "stdout",
     "output_type": "stream",
     "text": [
      "23\n",
      "idx=2, L=['ad']\n",
      "idx=2, L=['ad', 'ae']\n",
      "idx=2, L=['ad', 'ae', 'af']\n",
      "idx=2, L=['ad', 'ae', 'af', 'bd']\n",
      "idx=2, L=['ad', 'ae', 'af', 'bd', 'be']\n",
      "idx=2, L=['ad', 'ae', 'af', 'bd', 'be', 'bf']\n",
      "idx=2, L=['ad', 'ae', 'af', 'bd', 'be', 'bf', 'cd']\n",
      "idx=2, L=['ad', 'ae', 'af', 'bd', 'be', 'bf', 'cd', 'ce']\n",
      "idx=2, L=['ad', 'ae', 'af', 'bd', 'be', 'bf', 'cd', 'ce', 'cf']\n"
     ]
    }
   ],
   "source": [
    "graph = {\n",
    "    \"2\" :[\"a\", \"b\", \"c\"],\n",
    "    \"3\" :[\"d\", \"e\", \"f\"],\n",
    "    \"4\" :[\"g\", \"h\", \"i\"],\n",
    "    \"5\" :[\"j\", \"k\", \"l\"],\n",
    "    \"6\" :[\"m\", \"n\", \"o\"],\n",
    "    \"7\" :[\"p\", \"q\", \"r\", \"s\"],\n",
    "    \"8\" :[\"t\", \"u\", \"v\"],\n",
    "    \"9\" :[\"w\", \"x\", \"y\", \"z\"]\n",
    "}\n",
    "nums = input()\n",
    "\n",
    "def recursive_dfs(w_, idx, L):\n",
    "    if idx >= len(nums):\n",
    "        if w_ not in L:\n",
    "            L.append(w_)\n",
    "            print(f'idx={idx}, L={L}')\n",
    "            return\n",
    "    else:\n",
    "        for w in graph[nums[idx]]:\n",
    "            recursive_dfs(w_+w, idx+1, L)\n",
    "        \n",
    "recursive_dfs(\"\",0,[])"
   ]
  },
  {
   "cell_type": "code",
   "execution_count": 1,
   "metadata": {},
   "outputs": [
    {
     "data": {
      "text/plain": [
       "['a', 'b', 'c']"
      ]
     },
     "execution_count": 1,
     "metadata": {},
     "output_type": "execute_result"
    }
   ],
   "source": [
    "graph = {\n",
    "    \"2\" :[\"a\", \"b\", \"c\"],\n",
    "    \"3\" :[\"d\", \"e\", \"f\"],\n",
    "    \"4\" :[\"g\", \"h\", \"i\"],\n",
    "    \"5\" :[\"j\", \"k\", \"l\"],\n",
    "    \"6\" :[\"m\", \"n\", \"o\"],\n",
    "    \"7\" :[\"p\", \"q\", \"r\", \"s\"],\n",
    "    \"8\" :[\"t\", \"u\", \"v\"],\n",
    "    \"9\" :[\"w\", \"x\", \"y\", \"z\"]\n",
    "}\n",
    "\n"
   ]
  },
  {
   "cell_type": "code",
   "execution_count": 23,
   "metadata": {},
   "outputs": [
    {
     "name": "stdout",
     "output_type": "stream",
     "text": [
      "index =0\n",
      "index =1\n",
      "path  = ad\n",
      "path  = ae\n",
      "path  = af\n",
      "index =1\n",
      "path  = bd\n",
      "path  = be\n",
      "path  = bf\n",
      "index =1\n",
      "path  = cd\n",
      "path  = ce\n",
      "path  = cf\n",
      "index =0\n"
     ]
    }
   ],
   "source": [
    "def dfs(index, path):\n",
    "    if len(path) == len(digits):\n",
    "        result.append(path)\n",
    "        print(f'path  = {path}')\n",
    "        return\n",
    "    \n",
    "    for i in range(index, len(digits)): #첫째 자리일때 둘째자리일때\n",
    "        print(f'index ={index}')\n",
    "        for j in dic[digits[i]]:\n",
    "            dfs(i + 1, path + j) # a부터 출발~\n",
    "digits = \"23\"\n",
    "dic  = graph.copy()\n",
    "result = []\n",
    "dfs(0,\"\")\n",
    "\n",
    "    \n",
    "    "
   ]
  },
  {
   "cell_type": "code",
   "execution_count": 21,
   "metadata": {},
   "outputs": [
    {
     "name": "stdout",
     "output_type": "stream",
     "text": [
      "['ad', 'ae', 'af', 'bd', 'be', 'bf', 'cd', 'ce', 'cf']\n"
     ]
    }
   ],
   "source": [
    "print(result)"
   ]
  },
  {
   "cell_type": "code",
   "execution_count": null,
   "metadata": {},
   "outputs": [],
   "source": []
  }
 ],
 "metadata": {
  "kernelspec": {
   "display_name": "Python 3",
   "language": "python",
   "name": "python3"
  },
  "language_info": {
   "codemirror_mode": {
    "name": "ipython",
    "version": 3
   },
   "file_extension": ".py",
   "mimetype": "text/x-python",
   "name": "python",
   "nbconvert_exporter": "python",
   "pygments_lexer": "ipython3",
   "version": "3.8.5"
  }
 },
 "nbformat": 4,
 "nbformat_minor": 4
}
