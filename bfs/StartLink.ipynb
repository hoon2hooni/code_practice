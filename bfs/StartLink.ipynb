{
 "cells": [
  {
   "cell_type": "code",
   "execution_count": 1,
   "metadata": {},
   "outputs": [
    {
     "name": "stdout",
     "output_type": "stream",
     "text": [
      "10 1 10 2 1\n",
      "6\n"
     ]
    }
   ],
   "source": [
    "\"\"\"\n",
    "\n",
    "스타트링크\n",
    "https://www.acmicpc.net/problem/5014\n",
    "\n",
    "\"\"\"\n",
    "\n",
    "from collections import deque\n",
    "def bfs(start):\n",
    "    q = deque()\n",
    "    q.append(start)\n",
    "    dr = [U, -D]\n",
    "    floors[start] = 1\n",
    "    while q:\n",
    "        curr_f = q.popleft()\n",
    "        for i in range(2):\n",
    "            next_f = curr_f + dr[i]\n",
    "            if (1 <= next_f <= F):\n",
    "                if floors[next_f] == 0:\n",
    "                    floors[next_f] = 1\n",
    "                    depth[next_f] = depth[curr_f] + 1\n",
    "                    q.append(next_f)\n",
    "                elif floors[next_f] == '*':\n",
    "                    return depth[curr_f] + 1\n",
    "    return \"use the stairs\"\n",
    "F, S, G, U, D = map(int,input().split())\n",
    "floors = [0]*(F+1)\n",
    "depth  =[0]*(F+1)\n",
    "floors[G] = '*'\n",
    "if S == G:\n",
    "    print(0)\n",
    "else:\n",
    "    print(bfs(S))\n"
   ]
  },
  {
   "cell_type": "code",
   "execution_count": 2,
   "metadata": {},
   "outputs": [
    {
     "data": {
      "text/plain": [
       "[0, 0, 2, 1, 3, 2, 4, 3, 5, 4, 0]"
      ]
     },
     "execution_count": 2,
     "metadata": {},
     "output_type": "execute_result"
    }
   ],
   "source": [
    "depth"
   ]
  },
  {
   "cell_type": "code",
   "execution_count": null,
   "metadata": {},
   "outputs": [],
   "source": []
  }
 ],
 "metadata": {
  "kernelspec": {
   "display_name": "Python 3",
   "language": "python",
   "name": "python3"
  },
  "language_info": {
   "codemirror_mode": {
    "name": "ipython",
    "version": 3
   },
   "file_extension": ".py",
   "mimetype": "text/x-python",
   "name": "python",
   "nbconvert_exporter": "python",
   "pygments_lexer": "ipython3",
   "version": "3.8.5"
  }
 },
 "nbformat": 4,
 "nbformat_minor": 4
}
