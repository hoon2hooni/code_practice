{
 "cells": [
  {
   "cell_type": "code",
   "execution_count": null,
   "metadata": {},
   "outputs": [
    {
     "name": "stdout",
     "output_type": "stream",
     "text": [
      "1\n",
      "5 5\n"
     ]
    }
   ],
   "source": [
    "import copy\n",
    "from collections import deque\n",
    "def bfs(start:list): \n",
    "    b = copy.deepcopy(building)\n",
    "    d = copy.deepcopy(depth)\n",
    "    q = deque()\n",
    "    q.append(start)\n",
    "    while q:\n",
    "        r,c = q.popleft()\n",
    "        for i in range(4):\n",
    "            updated_r = r + dr[i]\n",
    "            updated_c = c + dc[i]\n",
    "            if (\n",
    "                0 <= updated_r < row_count\n",
    "                and 0<= updated_c < col_count\n",
    "            ):\n",
    "                if b[updated_r][updated_c] == '.':\n",
    "                    q.append([updated_r, updated_c])\n",
    "                    b[r][c] = '#'\n",
    "                    d[updated_r][updated_c] = d[r][c] + 1\n",
    "                elif b[updated_r][updated_c] == 'E':\n",
    "                    #탈출까지해서 +2 \n",
    "                    return d[r][c] + 2\n",
    "    return False\n",
    "\n",
    "        \n",
    "\n",
    "def main():\n",
    "    for i in range(row_count):\n",
    "        for j in range(col_count):\n",
    "            if building[i][j] =='@':\n",
    "                sangun_loc = [i,j]\n",
    "            elif building[i][j] == '*':\n",
    "                fire_loc =[i,j]\n",
    "            elif building[i][j] == '.':\n",
    "                if(\n",
    "                    i == 0\n",
    "                    or i == row_count-1\n",
    "                    or j  == 0\n",
    "                    or j == col_count-1\n",
    "                ):\n",
    "                    building[i][j] ='E'\n",
    "    n1 = bfs(sangun_loc)\n",
    "    if n1 == False:\n",
    "        return \"IMPOSSIBLE\"\n",
    "    n2 = bfs(fire_loc)\n",
    "    if (\n",
    "        n1 < n2 \n",
    "        or n2 == False\n",
    "    ):\n",
    "        return n1\n",
    "    else:\n",
    "        return \"IMPOSSIBLE\"\n",
    "            \n",
    "\n",
    "dr = [-1, 0, 1, 0]\n",
    "dc = [0, -1, 0, 1]\n",
    "rep = int(input())\n",
    "for _ in range(rep):\n",
    "    row_count, col_count = map(int,input().split())\n",
    "    building = [list(input()) for _ in range(row_count)]\n",
    "    depth = [[0]*col_count for _ in range(row_count)]\n",
    "    print(main())\n",
    "    \n"
   ]
  },
  {
   "cell_type": "code",
   "execution_count": null,
   "metadata": {},
   "outputs": [],
   "source": []
  },
  {
   "cell_type": "code",
   "execution_count": null,
   "metadata": {},
   "outputs": [],
   "source": []
  }
 ],
 "metadata": {
  "kernelspec": {
   "display_name": "Python 3",
   "language": "python",
   "name": "python3"
  },
  "language_info": {
   "codemirror_mode": {
    "name": "ipython",
    "version": 3
   },
   "file_extension": ".py",
   "mimetype": "text/x-python",
   "name": "python",
   "nbconvert_exporter": "python",
   "pygments_lexer": "ipython3",
   "version": "3.8.5"
  }
 },
 "nbformat": 4,
 "nbformat_minor": 4
}
