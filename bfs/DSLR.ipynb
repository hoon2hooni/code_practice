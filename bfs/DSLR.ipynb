{
 "cells": [
  {
   "cell_type": "code",
   "execution_count": 11,
   "metadata": {},
   "outputs": [
    {
     "name": "stdout",
     "output_type": "stream",
     "text": [
      "1\n",
      "0 998\n",
      "SDDSDDR\n"
     ]
    }
   ],
   "source": [
    "def int2str(num : int) -> str:\n",
    "    int2str_without_zero = str(num)\n",
    "    zeroCounts = 4 - len(int2str_without_zero)\n",
    "    return zeroCounts * str(0) + int2str_without_zero  \n",
    "\n",
    "def D(num: str) -> str:\n",
    "    n = int(num)\n",
    "    if 2*n > 9999:\n",
    "        n = 2*n % 10000\n",
    "    else: \n",
    "        n = 2*n\n",
    "    return int2str(n)\n",
    "\n",
    "def S(num: str) -> str:\n",
    "    n = int(num)\n",
    "    if n == 0:\n",
    "        n = 9999\n",
    "    else:\n",
    "        n -= 1\n",
    "    return int2str(n)\n",
    "\n",
    "def L(num: str) -> str:\n",
    "    num = num[1:] + num[0]\n",
    "    return num\n",
    "\n",
    "def R(num: str) -> str:\n",
    "    num = num[-1] + num[0:-1]\n",
    "    return num\n",
    "from collections import deque\n",
    "def bfs(start: int, end: int):\n",
    "    function_list = [D, S, L, R]\n",
    "    depth = {int2str(i):\"\" for i in range(0,10000)}\n",
    "    check_dict ={int2str(i):0 for i in range(0,10000)}\n",
    "    start =int2str(start)\n",
    "    end = int2str(end)\n",
    "    que = deque()\n",
    "    que.append(start)\n",
    "    check_dict[start] = 1\n",
    "    while que:\n",
    "        curr_num = que.popleft()\n",
    "        for i in range(4):\n",
    "            next_num = function_list[i](curr_num)\n",
    "            if check_dict[next_num] == 0:\n",
    "                if next_num == end:\n",
    "                    return depth[curr_num] + function_list[i].__name__\n",
    "                else:\n",
    "                    que.append(next_num)\n",
    "                    depth[next_num] = depth[curr_num] + function_list[i].__name__\n",
    "                    check_dict[next_num] = 1\n",
    "    return check_dict[end]\n",
    "\n",
    "rep = int(input())\n",
    "for _ in range(rep):\n",
    "    input_num, target_num = map(int,input().split())\n",
    "    print(bfs(input_num,target_num))\n",
    "    \n",
    "        \n",
    "    "
   ]
  },
  {
   "cell_type": "code",
   "execution_count": 17,
   "metadata": {},
   "outputs": [
    {
     "name": "stdout",
     "output_type": "stream",
     "text": [
      "1\n",
      "0 998\n",
      "SDDSDDR\n"
     ]
    }
   ],
   "source": [
    "def int2str(num : int) -> str:\n",
    "    int2str_without_zero = str(num)\n",
    "    zeroCounts = 4 - len(int2str_without_zero)\n",
    "    return zeroCounts * str(0) + int2str_without_zero  \n",
    "\n",
    "def D(num: int) -> int:\n",
    "    if 2*num > 9999:\n",
    "        num = 2*num % 10000\n",
    "    else: \n",
    "        num = 2*num\n",
    "    return num\n",
    "\n",
    "def S(num: int) -> int:\n",
    "    if num == 0:\n",
    "        num = 9999\n",
    "    else:\n",
    "        num -= 1\n",
    "    return num\n",
    "\n",
    "def L(num: int) -> int:\n",
    "    num = int2str(num)\n",
    "    num = num[1:] + num[0]\n",
    "    return int(num)\n",
    "\n",
    "def R(num: int) -> int:\n",
    "    num = int2str(num)\n",
    "    num = num[-1] + num[0:-1]\n",
    "    return int(num)\n",
    "\n",
    "from collections import deque\n",
    "\n",
    "def bfs(start: int, end: int):\n",
    "    function_list = [D, S, L, R]\n",
    "    depth = {i:\"\" for i in range(0,10000)}\n",
    "    check_dict ={i:0 for i in range(0,10000)}\n",
    "    que = deque()\n",
    "    que.append(start)\n",
    "    check_dict[start] = 1\n",
    "    while que:\n",
    "        curr_num = que.popleft()\n",
    "        for i in range(4):\n",
    "            next_num = function_list[i](curr_num)\n",
    "            if check_dict[next_num] == 0:\n",
    "                if next_num == end:\n",
    "                    return depth[curr_num] + function_list[i].__name__\n",
    "                else:\n",
    "                    que.append(next_num)\n",
    "                    depth[next_num] = depth[curr_num] + function_list[i].__name__\n",
    "                    check_dict[next_num] = 1\n",
    "    return check_dict[end]\n",
    "\n",
    "rep = int(input())\n",
    "for _ in range(rep):\n",
    "    input_num, target_num = map(int,input().split())\n",
    "    print(bfs(input_num,target_num))\n",
    "    \n",
    "        \n",
    "    "
   ]
  },
  {
   "cell_type": "markdown",
   "metadata": {},
   "source": [
    "int2str(0)"
   ]
  },
  {
   "cell_type": "code",
   "execution_count": 21,
   "metadata": {},
   "outputs": [
    {
     "name": "stdout",
     "output_type": "stream",
     "text": [
      "1\n",
      "0 300\n",
      "D\n"
     ]
    }
   ],
   "source": [
    "def int2str(num : int) -> str:\n",
    "    int2str_without_zero = str(num)\n",
    "    zeroCounts = 4 - len(int2str_without_zero)\n",
    "    return zeroCounts * str(0) + int2str_without_zero  \n",
    "\n",
    "def D(num: int) -> int:\n",
    "    if 2*num > 9999:\n",
    "        num = 2*num % 10000\n",
    "    else: \n",
    "        num = 2*num\n",
    "    return num\n",
    "\n",
    "def S(num: int) -> int:\n",
    "    if num == 0:\n",
    "        num = 9999\n",
    "    else:\n",
    "        num -= 1\n",
    "    return num\n",
    "\n",
    "def L(num: int) -> int:\n",
    "    num = int2str(num)\n",
    "    num = num[1:] + num[0]\n",
    "    return int(num)\n",
    "\n",
    "def R(num: int) -> int:\n",
    "    num = int2str(num)\n",
    "    num = num[-1] + num[0:-1]\n",
    "    return int(num)\n",
    "\n",
    "from collections import deque\n",
    "\n",
    "def bfs(start: int, end: int):\n",
    "    function_list = [D, S, L, R]\n",
    "    depth = {i:\"\" for i in range(0,10000)}\n",
    "    check_dict ={i:0 for i in range(0,10000)}\n",
    "    que = deque()\n",
    "    que.append(start)\n",
    "    check_dict[start] = 1\n",
    "    while que:\n",
    "        curr_num = que.popleft()\n",
    "        for i in range(4):\n",
    "            next_num = function_list[i](curr_num)\n",
    "            if check_dict[next_num] == 0:\n",
    "                if next_num == end:\n",
    "                    return function_list[i].__name__\n",
    "                else:\n",
    "                    que.append(next_num)\n",
    "                    depth[next_num] = function_list[i].__name__\n",
    "                    check_dict[next_num] = 1\n",
    "    return check_dict[end]\n",
    "\n",
    "\n",
    "rep = int(input())\n",
    "for _ in range(rep):\n",
    "    input_num, target_num = map(int,input().split())\n",
    "    print(bfs(input_num,target_num))\n",
    "    \n",
    "        \n",
    "    "
   ]
  },
  {
   "cell_type": "code",
   "execution_count": 29,
   "metadata": {},
   "outputs": [
    {
     "data": {
      "text/plain": [
       "''"
      ]
     },
     "execution_count": 29,
     "metadata": {},
     "output_type": "execute_result"
    }
   ],
   "source": [
    "import sys\n",
    "\n",
    "sys.stdin.readline()"
   ]
  },
  {
   "cell_type": "code",
   "execution_count": 56,
   "metadata": {},
   "outputs": [],
   "source": [
    "n = 3-int(math.log10(10))"
   ]
  },
  {
   "cell_type": "code",
   "execution_count": 57,
   "metadata": {},
   "outputs": [
    {
     "data": {
      "text/plain": [
       "2"
      ]
     },
     "execution_count": 57,
     "metadata": {},
     "output_type": "execute_result"
    }
   ],
   "source": [
    "n"
   ]
  },
  {
   "cell_type": "code",
   "execution_count": 58,
   "metadata": {},
   "outputs": [
    {
     "data": {
      "text/plain": [
       "'0010'"
      ]
     },
     "execution_count": 58,
     "metadata": {},
     "output_type": "execute_result"
    }
   ],
   "source": [
    "str(0) * n + str(10)"
   ]
  },
  {
   "cell_type": "code",
   "execution_count": null,
   "metadata": {},
   "outputs": [],
   "source": []
  }
 ],
 "metadata": {
  "kernelspec": {
   "display_name": "Python 3",
   "language": "python",
   "name": "python3"
  },
  "language_info": {
   "codemirror_mode": {
    "name": "ipython",
    "version": 3
   },
   "file_extension": ".py",
   "mimetype": "text/x-python",
   "name": "python",
   "nbconvert_exporter": "python",
   "pygments_lexer": "ipython3",
   "version": "3.8.5"
  }
 },
 "nbformat": 4,
 "nbformat_minor": 4
}
