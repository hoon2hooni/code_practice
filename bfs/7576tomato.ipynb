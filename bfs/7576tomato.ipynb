{
 "cells": [
  {
   "cell_type": "code",
   "execution_count": null,
   "metadata": {},
   "outputs": [],
   "source": [
    "6 4\n",
    "0 -1 0 0 0 0\n",
    "-1 0 0 0 0 0\n",
    "0 0 0 0 0 0\n",
    "0 0 0 0 0 1"
   ]
  },
  {
   "cell_type": "code",
   "execution_count": 34,
   "metadata": {},
   "outputs": [
    {
     "name": "stdout",
     "output_type": "stream",
     "text": [
      "6 4\n",
      "0 -1 0 0 0 0\n",
      "-1 0 0 0 0 0\n",
      "0 0 0 0 0 0\n",
      "0 0 0 0 0 1\n"
     ]
    }
   ],
   "source": [
    "\n",
    "from collections import deque\n",
    "def bfs(starts:list, check:list) -> int:\n",
    "    dr = [-1, 0, 1, 0]\n",
    "    dc = [0, -1, 0, 1]\n",
    "    max_depth = 0\n",
    "    q = deque(starts)\n",
    "    while q:\n",
    "        r, c = q.popleft()\n",
    "        for i in range(4):\n",
    "            r_moved = r + dr[i]\n",
    "            c_moved = c + dc[i]\n",
    "            if(\n",
    "                0 <= r_moved < row_count\n",
    "                and 0 <= c_moved < col_count\n",
    "            ):\n",
    "                if matrix[r_moved][c_moved] == '0':\n",
    "                    matrix[r_moved][c_moved] = '1'\n",
    "                    depth[r_moved][c_moved] = depth[r][c] + 1\n",
    "                    q.append([r_moved,c_moved])\n",
    "                    max_depth = max(max_depth, depth[r_moved][c_moved])\n",
    "    for i,j in check:\n",
    "        if matrix[i][j] == '0':\n",
    "            max_depth = -1\n",
    "            break\n",
    "    return max_depth \n",
    "        \n",
    "col_count, row_count = map(int,input().split())\n",
    "matrix = [input().split() for _ in range(row_count)]\n",
    "depth = [[0]*col_count for _ in range(row_count)]\n",
    "unripe_tomatos = []\n",
    "ripe_tomatos = []\n",
    "\n",
    "for i in range(row_count):\n",
    "    for j in range(col_count):\n",
    "        if matrix[i][j] == '0':\n",
    "            unripe_tomatos.append([i,j])\n",
    "        elif matrix[i][j] =='1':\n",
    "            ripe_tomatos.append([i,j])\n",
    "\n",
    "print(bfs(ripe_tomatos, unripe_tomatos))"
   ]
  },
  {
   "cell_type": "code",
   "execution_count": 39,
   "metadata": {},
   "outputs": [
    {
     "data": {
      "text/plain": [
       "[['0', '-1', '1', '1', '1', '1'],\n",
       " ['-1', '1', '1', '1', '1', '1'],\n",
       " ['1', '1', '1', '1', '1', '1'],\n",
       " ['1', '1', '1', '1', '1', '1']]"
      ]
     },
     "execution_count": 39,
     "metadata": {},
     "output_type": "execute_result"
    }
   ],
   "source": [
    "matrix\n"
   ]
  },
  {
   "cell_type": "code",
   "execution_count": 18,
   "metadata": {},
   "outputs": [
    {
     "data": {
      "text/plain": [
       "[0, 0]"
      ]
     },
     "execution_count": 18,
     "metadata": {},
     "output_type": "execute_result"
    }
   ],
   "source": []
  },
  {
   "cell_type": "code",
   "execution_count": null,
   "metadata": {},
   "outputs": [],
   "source": []
  }
 ],
 "metadata": {
  "kernelspec": {
   "display_name": "Python 3",
   "language": "python",
   "name": "python3"
  },
  "language_info": {
   "codemirror_mode": {
    "name": "ipython",
    "version": 3
   },
   "file_extension": ".py",
   "mimetype": "text/x-python",
   "name": "python",
   "nbconvert_exporter": "python",
   "pygments_lexer": "ipython3",
   "version": "3.8.5"
  }
 },
 "nbformat": 4,
 "nbformat_minor": 4
}
