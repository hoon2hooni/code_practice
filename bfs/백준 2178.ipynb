{
 "cells": [
  {
   "cell_type": "code",
   "execution_count": 3,
   "metadata": {},
   "outputs": [
    {
     "name": "stdout",
     "output_type": "stream",
     "text": [
      "4 6\n",
      "110110\n",
      "110110\n",
      "111111\n",
      "111101\n"
     ]
    }
   ],
   "source": [
    "n, m = map(int,input().split())\n",
    "matrix = []\n",
    "for i in range(n):\n",
    "    matrix.append(list(input()))"
   ]
  },
  {
   "cell_type": "code",
   "execution_count": 9,
   "metadata": {},
   "outputs": [],
   "source": [
    "distance_matrix = [[0]*m for _ in range(n)]"
   ]
  },
  {
   "cell_type": "code",
   "execution_count": 10,
   "metadata": {},
   "outputs": [
    {
     "data": {
      "text/plain": [
       "[[0, 0, 0, 0, 0, 0],\n",
       " [0, 0, 0, 0, 0, 0],\n",
       " [0, 0, 0, 0, 0, 0],\n",
       " [0, 0, 0, 0, 0, 0]]"
      ]
     },
     "execution_count": 10,
     "metadata": {},
     "output_type": "execute_result"
    }
   ],
   "source": [
    "distance_matrix "
   ]
  },
  {
   "cell_type": "code",
   "execution_count": 54,
   "metadata": {},
   "outputs": [],
   "source": [
    "from collections import deque\n",
    "dr =[1,0,-1,0]\n",
    "dc =[0,1,0,-1]\n",
    "def bfs(start_loc,end_loc): #tuples\n",
    "    #\n",
    "    row,col = start_loc\n",
    "    q = deque()\n",
    "    visited =set()\n",
    "    q.append(start_loc)\n",
    "    visited.add(start_loc)\n",
    "    while q:\n",
    "        print(q)\n",
    "        v = q.popleft()\n",
    "        r_, c_ = v\n",
    "        if r_ ==end_loc[0] and c_ ==end_loc[1]:\n",
    "            break\n",
    "        #상하좌우 \n",
    "        for i in range(4):\n",
    "            r , c = r_ + dr[i], c_ + dc[i]\n",
    "            #한칸씩 움직였을때 matrix범위 안에 있는지\n",
    "            if (0 <= r < n) and (0<= c < m):\n",
    "                if matrix[r][c] == '1' and (r,c) not in visited:\n",
    "                    q.append((r,c))\n",
    "                    visited.add((r,c))\n",
    "                    if distance[r][c] == 0:\n",
    "                        distance[r][c] = distance[r_][c_] + 1               \n",
    "                    else:\n",
    "                        distance[r][c] =min(distance[r][c], distance[r_][c_] + 1)\n",
    "    return distance"
   ]
  },
  {
   "cell_type": "code",
   "execution_count": 74,
   "metadata": {},
   "outputs": [
    {
     "name": "stdout",
     "output_type": "stream",
     "text": [
      "deque([(0, 0)])\n",
      "deque([(1, 0), (0, 1)])\n",
      "deque([(0, 1), (2, 0), (1, 1)])\n",
      "deque([(2, 0), (1, 1)])\n",
      "deque([(1, 1), (3, 0), (2, 1)])\n",
      "deque([(3, 0), (2, 1)])\n",
      "deque([(2, 1), (3, 1)])\n",
      "deque([(3, 1), (2, 2)])\n",
      "deque([(2, 2), (3, 2)])\n",
      "deque([(3, 2), (2, 3)])\n",
      "deque([(2, 3), (3, 3)])\n",
      "deque([(3, 3), (2, 4), (1, 3)])\n",
      "deque([(2, 4), (1, 3)])\n",
      "deque([(1, 3), (2, 5), (1, 4)])\n",
      "deque([(2, 5), (1, 4), (0, 3)])\n",
      "deque([(1, 4), (0, 3), (3, 5)])\n",
      "deque([(0, 3), (3, 5), (0, 4)])\n",
      "deque([(3, 5), (0, 4)])\n"
     ]
    },
    {
     "data": {
      "text/plain": [
       "[[0, 1, 0, 7, 8, 0],\n",
       " [1, 2, 0, 6, 7, 0],\n",
       " [2, 3, 4, 5, 6, 7],\n",
       " [3, 4, 5, 6, 0, 8]]"
      ]
     },
     "execution_count": 74,
     "metadata": {},
     "output_type": "execute_result"
    }
   ],
   "source": [
    "distance = [[0]*m for _ in range(n)]\n",
    "bfs((0,0),(n-1,m-1))\n",
    "distance"
   ]
  },
  {
   "cell_type": "code",
   "execution_count": 67,
   "metadata": {},
   "outputs": [
    {
     "data": {
      "text/plain": [
       "<function print>"
      ]
     },
     "execution_count": 67,
     "metadata": {},
     "output_type": "execute_result"
    }
   ],
   "source": [
    "print"
   ]
  },
  {
   "cell_type": "code",
   "execution_count": 1,
   "metadata": {},
   "outputs": [
    {
     "name": "stdout",
     "output_type": "stream",
     "text": [
      "4 6\n",
      "101111\n",
      "101010\n",
      "101011\n",
      "111011\n",
      "14\n"
     ]
    }
   ],
   "source": [
    "n, m = map(int,input().split())\n",
    "matrix = []\n",
    "for i in range(n):\n",
    "    matrix.append(list(input()))\n",
    "from collections import deque\n",
    "dr =[1,0,-1,0]\n",
    "dc =[0,1,0,-1]\n",
    "def bfs(start_loc,end_loc): #tuples\n",
    "    #\n",
    "    row,col = start_loc\n",
    "    q = deque()\n",
    "    visited =set()\n",
    "    q.append(start_loc)\n",
    "    visited.add(start_loc)\n",
    "    while q:\n",
    "        v = q.popleft()\n",
    "        r_, c_ = v\n",
    "        if r_ ==end_loc[0] and c_ ==end_loc[1]:\n",
    "            break\n",
    "        #상하좌우 \n",
    "        for i in range(4):\n",
    "            r , c = r_ + dr[i], c_ + dc[i]\n",
    "            #한칸씩 움직였을때 matrix범위 안에 있는지\n",
    "            if (0 <= r < n) and (0<= c < m):\n",
    "                if matrix[r][c] == '1' and (r,c) not in visited:\n",
    "                    q.append((r,c))\n",
    "                    visited.add((r,c))\n",
    "                    if distance[r][c] == 0:\n",
    "                        distance[r][c] = distance[r_][c_] + 1               \n",
    "                    else:\n",
    "                        distance[r][c] =min(distance[r][c], distance[r_][c_] + 1)\n",
    "    return distance\n",
    "distance = [[0]*m for _ in range(n)]\n",
    "bfs((0,0),(n-1,m-1))\n",
    "print(distance[n-1][m-1]+1)"
   ]
  },
  {
   "cell_type": "code",
   "execution_count": 2,
   "metadata": {},
   "outputs": [
    {
     "data": {
      "text/plain": [
       "[[0, 0, 8, 9, 10, 11],\n",
       " [1, 0, 7, 0, 11, 0],\n",
       " [2, 0, 6, 0, 12, 13],\n",
       " [3, 4, 5, 0, 13, 14]]"
      ]
     },
     "execution_count": 2,
     "metadata": {},
     "output_type": "execute_result"
    }
   ],
   "source": [
    "distance"
   ]
  },
  {
   "cell_type": "code",
   "execution_count": null,
   "metadata": {},
   "outputs": [],
   "source": []
  }
 ],
 "metadata": {
  "kernelspec": {
   "display_name": "Python 3",
   "language": "python",
   "name": "python3"
  },
  "language_info": {
   "codemirror_mode": {
    "name": "ipython",
    "version": 3
   },
   "file_extension": ".py",
   "mimetype": "text/x-python",
   "name": "python",
   "nbconvert_exporter": "python",
   "pygments_lexer": "ipython3",
   "version": "3.8.5"
  }
 },
 "nbformat": 4,
 "nbformat_minor": 4
}
