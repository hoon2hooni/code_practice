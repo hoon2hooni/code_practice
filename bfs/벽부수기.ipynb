{
 "cells": [
  {
   "cell_type": "code",
   "execution_count": 8,
   "metadata": {},
   "outputs": [
    {
     "name": "stdout",
     "output_type": "stream",
     "text": [
      "1 1 \n",
      "0\n",
      "-1\n"
     ]
    }
   ],
   "source": [
    "from collections import deque\n",
    "def bfs():\n",
    "    dr =[-1,0,1,0]\n",
    "    dc =[0,-1,0,1]\n",
    "    q = deque()\n",
    "    q.append([0,0,0])\n",
    "    while q:\n",
    "        r, c, flag = q.popleft()\n",
    "        for i in range(4):\n",
    "            updated_r = r +dr[i]\n",
    "            updated_c = c + dc[i]\n",
    "            if (\n",
    "                0 <= updated_r < row_count\n",
    "                and 0 <= updated_c < col_count\n",
    "            ):\n",
    "                if matrix[updated_r][updated_c] == 'E':\n",
    "                        return depth[r][c] + 1\n",
    "                if flag == 0:\n",
    "                    if matrix[updated_r][updated_c] == '1':\n",
    "                        matrix[updated_r][updated_c] = '#'\n",
    "                        depth[updated_r][updated_c] = depth[r][c] + 1\n",
    "                        q.append([updated_r, updated_c, 1])\n",
    "                    elif matrix[updated_r][updated_c] == '0' or matrix[updated_r][updated_c] == 'p':\n",
    "                        matrix[updated_r][updated_c] = '#'\n",
    "                        depth[updated_r][updated_c] = depth[r][c] + 1\n",
    "                        q.append([updated_r, updated_c, 0])\n",
    "                else:\n",
    "                    if matrix[updated_r][updated_c] == '0':\n",
    "                        matrix[updated_r][updated_c] = 'p'\n",
    "                        depth[updated_r][updated_c] = depth[r][c] + 1\n",
    "                        q.append([updated_r, updated_c, 1])\n",
    "    return -1\n",
    "            \n",
    "            \n",
    "\n",
    "row_count, col_count = map(int,input().split())\n",
    "matrix = [list(input()) for _ in range(row_count)]\n",
    "depth =[[1]*col_count for _ in range(row_count)]\n",
    "matrix[row_count-1][col_count-1] = 'E'\n",
    "\n",
    "print(bfs())\n"
   ]
  },
  {
   "cell_type": "code",
   "execution_count": 9,
   "metadata": {},
   "outputs": [
    {
     "data": {
      "text/plain": [
       "[[1]]"
      ]
     },
     "execution_count": 9,
     "metadata": {},
     "output_type": "execute_result"
    }
   ],
   "source": [
    "depth"
   ]
  },
  {
   "cell_type": "code",
   "execution_count": 4,
   "metadata": {},
   "outputs": [
    {
     "name": "stdout",
     "output_type": "stream",
     "text": [
      "[['E']]\n"
     ]
    }
   ],
   "source": [
    "import pprint\n",
    "pprint.pprint(matrix, width = 60)"
   ]
  },
  {
   "cell_type": "code",
   "execution_count": 5,
   "metadata": {},
   "outputs": [],
   "source": [
    "8 8\n",
    "\n",
    "01000100\n",
    "\n",
    "01010100\n",
    "\n",
    "01010100\n",
    "\n",
    "01010100\n",
    "\n",
    "01010100\n",
    "\n",
    "01010100\n",
    "\n",
    "01010100\n",
    "\n",
    "00010100"
   ]
  },
  {
   "cell_type": "code",
   "execution_count": 24,
   "metadata": {},
   "outputs": [],
   "source": [
    "depth =[[1]*col_count for _ in range(row_count)]\n",
    "4 4\n",
    "0111\n",
    "1111\n",
    "1111\n",
    "1110"
   ]
  },
  {
   "cell_type": "code",
   "execution_count": 25,
   "metadata": {},
   "outputs": [
    {
     "name": "stdout",
     "output_type": "stream",
     "text": [
      "deque([[0, 0, 0]])\n",
      "deque([[1, 0, 1], [0, 1, 1]])\n",
      "deque([[0, 1, 1], [0, 0, 1]])\n",
      "deque([[0, 0, 1], [0, 2, 1]])\n",
      "deque([[0, 2, 1]])\n",
      "deque([[0, 3, 1]])\n",
      "deque([[1, 3, 1]])\n",
      "deque([[2, 3, 1]])\n",
      "deque([[2, 2, 1], [3, 3, 1]])\n",
      "deque([[3, 3, 1], [2, 1, 1], [3, 2, 1]])\n",
      "deque([[2, 1, 1], [3, 2, 1]])\n",
      "deque([[3, 2, 1], [3, 1, 1]])\n",
      "deque([[3, 1, 1]])\n",
      "deque([[3, 0, 1]])\n",
      "deque([[4, 0, 1]])\n",
      "deque([[5, 0, 1]])\n",
      "deque([[5, 1, 1]])\n",
      "deque([[5, 2, 1]])\n",
      "15\n"
     ]
    }
   ],
   "source": [
    "matrix = copy.deepcopy(copied)\n",
    "matrix[row_count-1][col_count-1] = 'E'\n",
    "print(bfs())"
   ]
  },
  {
   "cell_type": "code",
   "execution_count": 19,
   "metadata": {},
   "outputs": [
    {
     "name": "stdout",
     "output_type": "stream",
     "text": [
      "[[0, 0, 0, 0], [0, 0, 0, 0], [0, 0, 0, 0], [0, 0, 0, 0], [0, 0, 0, 0], [0, 0, 0, 0]]\n"
     ]
    }
   ],
   "source": [
    "6 4\n",
    "0100\n",
    "1110\n",
    "1000\n",
    "0000\n",
    "0111\n",
    "0000"
   ]
  },
  {
   "cell_type": "code",
   "execution_count": null,
   "metadata": {},
   "outputs": [],
   "source": []
  }
 ],
 "metadata": {
  "kernelspec": {
   "display_name": "Python 3",
   "language": "python",
   "name": "python3"
  },
  "language_info": {
   "codemirror_mode": {
    "name": "ipython",
    "version": 3
   },
   "file_extension": ".py",
   "mimetype": "text/x-python",
   "name": "python",
   "nbconvert_exporter": "python",
   "pygments_lexer": "ipython3",
   "version": "3.8.5"
  }
 },
 "nbformat": 4,
 "nbformat_minor": 4
}
