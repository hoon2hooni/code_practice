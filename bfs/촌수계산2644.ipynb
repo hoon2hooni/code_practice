{
 "cells": [
  {
   "cell_type": "code",
   "execution_count": 2,
   "metadata": {},
   "outputs": [
    {
     "name": "stdout",
     "output_type": "stream",
     "text": [
      "7\n",
      "1 2\n",
      "1 3\n",
      "2 7\n",
      "2 8\n",
      "4 5\n",
      "4 6\n",
      "2 9\n"
     ]
    }
   ],
   "source": [
    "#그래프 노드 만들기.\n",
    "from collections import defaultdict\n",
    "n = int(input())\n",
    "adj_graph = defaultdict(list)\n",
    "for i in range(n):\n",
    "    father, son = map(int,input().split())\n",
    "    adj_graph[father].append(son)\n",
    "    adj_graph[son].append(father)\n",
    "    \n",
    "\n"
   ]
  },
  {
   "cell_type": "code",
   "execution_count": 5,
   "metadata": {},
   "outputs": [
    {
     "name": "stdout",
     "output_type": "stream",
     "text": [
      "defaultdict(<class 'list'>,\n",
      "            {1: [2, 3],\n",
      "             2: [1, 7, 8, 9],\n",
      "             3: [1],\n",
      "             4: [5, 6],\n",
      "             5: [4],\n",
      "             6: [4],\n",
      "             7: [2],\n",
      "             8: [2],\n",
      "             9: [2]})\n"
     ]
    }
   ],
   "source": [
    "import pprint\n",
    "pprint.pprint(adj_graph, width = 40)"
   ]
  },
  {
   "cell_type": "code",
   "execution_count": 29,
   "metadata": {},
   "outputs": [
    {
     "name": "stdout",
     "output_type": "stream",
     "text": [
      "3\n"
     ]
    }
   ],
   "source": [
    "from collections import deque, defaultdict\n",
    "    \n",
    "def bfs(query):\n",
    "    \n",
    "    \"\"\"\n",
    "    \n",
    "    bfs로 시작점에서 끝점까지 level이 몇단계 증가 됐는지 본다.\n",
    "    이때 시작점에서 끝점까지 도달할수 있다면 bfs의 깊이가 출력되고\n",
    "    도달 하지 않는다면 -1값을 return한다.\n",
    "    \n",
    "    \"\"\"\n",
    "    start, end = query\n",
    "    q = deque()\n",
    "    q.append(start)\n",
    "    visited = []\n",
    "    depth = [0]*(num_of_family+1)\n",
    "    \n",
    "    while q:\n",
    "        node = q.popleft()\n",
    "        if node in visited:\n",
    "            continue\n",
    "        visited.append(node)\n",
    "        for adj_node in adj_graph[node]:\n",
    "            if adj_node not in visited:\n",
    "                q.append(adj_node)\n",
    "                depth[adj_node] = depth[node] + 1\n",
    "                if adj_node == end:\n",
    "                    return depth[adj_node]\n",
    "                \n",
    "    return -1\n",
    "\n",
    "num_of_family = int(input())\n",
    "query = list(map(int,input().split()))\n",
    "num_of_conditions = int(input())\n",
    "adj_graph = defaultdict(list)\n",
    "\n",
    "for i in range(num_of_conditions):\n",
    "    father, son = map(int,input().split())\n",
    "    adj_graph[father].append(son)\n",
    "    adj_graph[son].append(father)\n",
    "\n",
    "print(bfs(query))\n",
    "        "
   ]
  },
  {
   "cell_type": "code",
   "execution_count": 27,
   "metadata": {},
   "outputs": [
    {
     "data": {
      "text/plain": [
       "2"
      ]
     },
     "execution_count": 27,
     "metadata": {},
     "output_type": "execute_result"
    }
   ],
   "source": [
    "9\n",
    "7 3\n",
    "7\n",
    "1 2\n",
    "1 3\n",
    "2 7\n",
    "2 8\n",
    "2 9\n",
    "4 5\n",
    "4 6"
   ]
  },
  {
   "cell_type": "code",
   "execution_count": null,
   "metadata": {},
   "outputs": [],
   "source": []
  }
 ],
 "metadata": {
  "kernelspec": {
   "display_name": "Python 3",
   "language": "python",
   "name": "python3"
  },
  "language_info": {
   "codemirror_mode": {
    "name": "ipython",
    "version": 3
   },
   "file_extension": ".py",
   "mimetype": "text/x-python",
   "name": "python",
   "nbconvert_exporter": "python",
   "pygments_lexer": "ipython3",
   "version": "3.8.5"
  }
 },
 "nbformat": 4,
 "nbformat_minor": 4
}
