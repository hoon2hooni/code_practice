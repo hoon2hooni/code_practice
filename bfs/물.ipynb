{
 "cells": [
  {
   "cell_type": "code",
   "execution_count": 31,
   "metadata": {},
   "outputs": [],
   "source": [
    "from collections import deque\n",
    "\n",
    "def bfs(water_loc: list, squirrel_loc: list):\n",
    "    q =deque()\n",
    "    q.extend(water_loc)\n",
    "    q.append(squirrel_loc)\n",
    "    while q:\n",
    "        r,c = q.popleft()\n",
    "        mark = matrix[r][c]\n",
    "        for i in range(4):\n",
    "            new_r =r +dr[i]\n",
    "            new_c =c +dc[i]\n",
    "            if (\n",
    "                0 <= new_r  < row_count\n",
    "                and 0 <= new_c < col_count\n",
    "            ):\n",
    "                if mark == '*':\n",
    "                    if matrix[new_r][new_c] == '.':\n",
    "                        matrix[new_r][new_c] = '*'\n",
    "                        q.append([new_r,new_c])\n",
    "                elif mark == 'S':\n",
    "                    if matrix[new_r][new_c] == 'D':\n",
    "                        return depth[r][c] + 1\n",
    "                    elif matrix[new_r][new_c] == '.':\n",
    "                        matrix[new_r][new_c] = 'S'\n",
    "                        q.append([new_r,new_c])\n",
    "                        depth[new_r][new_c] = depth[r][c] + 1\n",
    "\n",
    "    return \"KAKTUS\"            \n",
    "        \n",
    "\n",
    "\n",
    "dr =[-1,0,1,0]\n",
    "dc =[0,-1,0,1]\n",
    "row_count, col_count = map(int,input().split())\n",
    "matrix =[list(input()) for _ in range(row_count)]\n",
    "depth = [[0]*col_count for _ in range(row_count)]\n",
    "water_loc = []\n",
    "for i in range(row_count):\n",
    "    for j in range(col_count):\n",
    "        if matrix[i][j] == '*':\n",
    "            water_loc.append([i,j])\n",
    "        elif matrix[i][j] =='S':\n",
    "            s_loc =[i,j]\n",
    "print(bfs(water_loc,s_loc))\n"
   ]
  },
  {
   "cell_type": "code",
   "execution_count": 38,
   "metadata": {},
   "outputs": [
    {
     "name": "stdout",
     "output_type": "stream",
     "text": [
      "[['D', '*', '*', '*', '*', '*'],\n",
      " ['S', 'X', '*', 'X', '*', '*'],\n",
      " ['S', 'S', 'S', 'S', 'S', 'S']]\n"
     ]
    }
   ],
   "source": [
    "\n",
    "import pprint\n",
    "pprint.pprint(matrix, width =50)"
   ]
  },
  {
   "cell_type": "code",
   "execution_count": 26,
   "metadata": {},
   "outputs": [
    {
     "data": {
      "text/plain": [
       "[[0, 0, 0], [2, 1, 0], [1, 0, 1]]"
      ]
     },
     "execution_count": 26,
     "metadata": {},
     "output_type": "execute_result"
    }
   ],
   "source": [
    "D...*.\n",
    ".X.X..\n",
    "....S."
   ]
  },
  {
   "cell_type": "code",
   "execution_count": 5,
   "metadata": {},
   "outputs": [
    {
     "name": "stdout",
     "output_type": "stream",
     "text": [
      "[[1, 2], [1, 2]]\n"
     ]
    }
   ],
   "source": [
    "\n",
    "copied = copy.deepcopy(matrix)\n",
    "D.*\n",
    "...\n",
    ".S.\n",
    "def check_and_go(r,c,q):\n",
    "    mark = matrix[r][c]\n",
    "    future = []\n",
    "    for i in range(4):\n",
    "        new_r =r +dr[i]\n",
    "        new_c =c +dc[i]\n",
    "        if (\n",
    "            0 <= new_r  < row_count:\n",
    "            and 0 <= new_c < col_count:\n",
    "        ):\n",
    "            if matrix[new_r][new_c] == '.':\n",
    "                matrix[new_r][new_c] = mark\n",
    "                q.append([new_r,new_c])\n",
    "        \n",
    "                \n",
    "                    \n",
    "                    \n",
    "                \n",
    "            \n",
    "        "
   ]
  },
  {
   "cell_type": "code",
   "execution_count": 4,
   "metadata": {},
   "outputs": [
    {
     "data": {
      "text/plain": [
       "[1, 2]"
      ]
     },
     "execution_count": 4,
     "metadata": {},
     "output_type": "execute_result"
    }
   ],
   "source": [
    "\n",
    "copied = copy.deepcopy(matrix)\n",
    "D.*\n",
    "...\n",
    ".S."
   ]
  },
  {
   "cell_type": "code",
   "execution_count": null,
   "metadata": {},
   "outputs": [],
   "source": []
  }
 ],
 "metadata": {
  "kernelspec": {
   "display_name": "Python 3",
   "language": "python",
   "name": "python3"
  },
  "language_info": {
   "codemirror_mode": {
    "name": "ipython",
    "version": 3
   },
   "file_extension": ".py",
   "mimetype": "text/x-python",
   "name": "python",
   "nbconvert_exporter": "python",
   "pygments_lexer": "ipython3",
   "version": "3.8.5"
  }
 },
 "nbformat": 4,
 "nbformat_minor": 4
}
