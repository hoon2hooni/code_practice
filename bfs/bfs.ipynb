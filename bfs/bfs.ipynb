{
 "cells": [
  {
   "cell_type": "code",
   "execution_count": 3,
   "metadata": {},
   "outputs": [],
   "source": [
    "adjacent_list = {\n",
    "    0:[2, 1],\n",
    "    1:[2],\n",
    "    2:[0,3],\n",
    "    3:[3]\n",
    "}"
   ]
  },
  {
   "cell_type": "code",
   "execution_count": 18,
   "metadata": {},
   "outputs": [],
   "source": [
    "from collections import deque\n",
    "def bfs(s,adj_l):\n",
    "    visited =[]\n",
    "    visited.append(s)\n",
    "    q = deque()\n",
    "    q.append(s)\n",
    "    route = []\n",
    "    while q:\n",
    "        v = q.popleft()\n",
    "        print(v, end = \" \")\n",
    "        for n in adj_l[v]:\n",
    "            if n not in visited:\n",
    "                visited.append(n)\n",
    "                q.append(n)\n",
    "#                 if n == e:\n",
    "#                     return True\n",
    "                route.append(n)\n",
    "    return route\n",
    "    \n"
   ]
  },
  {
   "cell_type": "code",
   "execution_count": 19,
   "metadata": {},
   "outputs": [
    {
     "name": "stdout",
     "output_type": "stream",
     "text": [
      "2 0 3 1 "
     ]
    },
    {
     "data": {
      "text/plain": [
       "[0, 3, 1]"
      ]
     },
     "execution_count": 19,
     "metadata": {},
     "output_type": "execute_result"
    }
   ],
   "source": [
    "bfs(2,adjacent_list)"
   ]
  },
  {
   "cell_type": "code",
   "execution_count": null,
   "metadata": {},
   "outputs": [],
   "source": []
  }
 ],
 "metadata": {
  "kernelspec": {
   "display_name": "Python 3",
   "language": "python",
   "name": "python3"
  },
  "language_info": {
   "codemirror_mode": {
    "name": "ipython",
    "version": 3
   },
   "file_extension": ".py",
   "mimetype": "text/x-python",
   "name": "python",
   "nbconvert_exporter": "python",
   "pygments_lexer": "ipython3",
   "version": "3.8.5"
  }
 },
 "nbformat": 4,
 "nbformat_minor": 4
}
