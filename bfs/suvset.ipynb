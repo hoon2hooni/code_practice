{
 "cells": [
  {
   "cell_type": "code",
   "execution_count": null,
   "metadata": {},
   "outputs": [],
   "source": [
    "visited =[]\n",
    "nums = [1,2,3]\n",
    "check = [0]*4\n",
    "res = []\n",
    "def dfs(ans , idx):\n",
    "    global res\n",
    "    if idx == 3:\n",
    "        return ans\n",
    "    \n",
    "    for n in nums[idx:]:\n",
    "        if check[n] == 0:\n",
    "            ans.append(n)\n",
    "            check[n] = 1\n",
    "            res.append(dfs(ans, idx + 1))\n",
    "            \n",
    "            \n",
    "            \n",
    "        \n",
    "    \n",
    "    "
   ]
  },
  {
   "cell_type": "code",
   "execution_count": 2,
   "metadata": {},
   "outputs": [],
   "source": [
    "nums = [1,2,3]\n",
    "result = []\n",
    "def dfs(index, path):\n",
    "    #매번 결과 추가\n",
    "    result.append(path)\n",
    "    for i in range(index, len(nums)):\n",
    "        dfs(i + 1,  path +[nums[i]])\n",
    "dfs(0,[])"
   ]
  },
  {
   "cell_type": "code",
   "execution_count": 3,
   "metadata": {},
   "outputs": [
    {
     "data": {
      "text/plain": [
       "[[], [1], [1, 2], [1, 2, 3], [1, 3], [2], [2, 3], [3]]"
      ]
     },
     "execution_count": 3,
     "metadata": {},
     "output_type": "execute_result"
    }
   ],
   "source": [
    "result"
   ]
  },
  {
   "cell_type": "code",
   "execution_count": null,
   "metadata": {},
   "outputs": [],
   "source": []
  }
 ],
 "metadata": {
  "kernelspec": {
   "display_name": "Python 3",
   "language": "python",
   "name": "python3"
  },
  "language_info": {
   "codemirror_mode": {
    "name": "ipython",
    "version": 3
   },
   "file_extension": ".py",
   "mimetype": "text/x-python",
   "name": "python",
   "nbconvert_exporter": "python",
   "pygments_lexer": "ipython3",
   "version": "3.8.5"
  }
 },
 "nbformat": 4,
 "nbformat_minor": 4
}
