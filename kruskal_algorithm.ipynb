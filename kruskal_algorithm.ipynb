{
 "cells": [
  {
   "cell_type": "code",
   "execution_count": 59,
   "metadata": {},
   "outputs": [],
   "source": [
    "def find(v):\n",
    "    if root[v] == v:\n",
    "        return v\n",
    "    else:\n",
    "        return find(root[v])\n",
    "\n",
    "def union(u, v):\n",
    "    root_u, root_v = find(u), find(v)\n",
    "    if root_u != root_v:\n",
    "        #레벨이 다를경우\n",
    "        if level[root_u] > level[root_v]:\n",
    "            root[root_v] = root_u\n",
    "        elif level[root_v] > level[root_u]:\n",
    "            root[root_v] = root_u\n",
    "\n",
    "        #레벨이 같을경우\n",
    "        else:\n",
    "            root[root_u] = root_v\n",
    "            level[root_v] += 1\n",
    "import heapq\n",
    "\n",
    "node_count = int(input())\n",
    "line_count = int(input())\n",
    "root = [i for i in range(0,node_count + 1)]\n",
    "level = [1 for i in range(0,node_count + 1)]\n",
    "que =[]\n",
    "for _ in range(line_count):\n",
    "    start, end, weight = map(int,input().split())\n",
    "    heapq.heappush(que,[weight,start,end])\n",
    "\n",
    "ans = 0\n",
    "cnt = 1\n",
    "while que:\n",
    "    weight, v1, v2 = heapq.heappop(que)\n",
    "    if find(v1) != find(v2):\n",
    "        union(v1,v2)\n",
    "        cnt += 1\n",
    "        ans += weight\n",
    "        \n",
    "    #만약 다 연결됐으면\n",
    "    if cnt == node_count:\n",
    "        break\n",
    "        \n",
    "print(ans)\n",
    "        "
   ]
  },
  {
   "cell_type": "code",
   "execution_count": null,
   "metadata": {},
   "outputs": [],
   "source": []
  }
 ],
 "metadata": {
  "kernelspec": {
   "display_name": "Python 3",
   "language": "python",
   "name": "python3"
  },
  "language_info": {
   "codemirror_mode": {
    "name": "ipython",
    "version": 3
   },
   "file_extension": ".py",
   "mimetype": "text/x-python",
   "name": "python",
   "nbconvert_exporter": "python",
   "pygments_lexer": "ipython3",
   "version": "3.8.5"
  }
 },
 "nbformat": 4,
 "nbformat_minor": 4
}
