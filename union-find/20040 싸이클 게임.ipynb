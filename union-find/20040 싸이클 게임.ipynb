{
 "cells": [
  {
   "cell_type": "code",
   "execution_count": 28,
   "metadata": {},
   "outputs": [
    {
     "name": "stdout",
     "output_type": "stream",
     "text": [
      "0\n"
     ]
    }
   ],
   "source": [
    "def find(v):\n",
    "    if root[v] == v:\n",
    "        return v\n",
    "    else:\n",
    "        root[v] = find(root[v])\n",
    "        return root[v]\n",
    "    \n",
    "def union(root_x,root_y):\n",
    "    if size[root_x] >= size[root_y]:\n",
    "            root[root_y] = root_x\n",
    "            size[root_x] += size[root_y]\n",
    "    else:\n",
    "        root[root_x] = root_y\n",
    "        size[root_y] += size[root_x]\n",
    "\n",
    "        \n",
    "idx = 0\n",
    "ans = 0\n",
    "\n",
    "with open('cycle.txt', \"r\") as f:\n",
    "    for i, line in enumerate(f.readlines()):\n",
    "        if i == 0:\n",
    "            n, m = map(int,line.split())\n",
    "            root = [i for i in range(n)]\n",
    "            size = [1 for i in range(n)]\n",
    "        else:\n",
    "            idx += 1\n",
    "            v1, v2 = map(int,line.split())\n",
    "            root_v1 , root_v2 = find(v1), find(v2)\n",
    "            if root_v1 != root_v2:\n",
    "                union(root_v1,root_v2)\n",
    "            else:\n",
    "                ans = idx\n",
    "                break\n",
    "print(ans)\n",
    "            \n",
    "                \n",
    "            "
   ]
  },
  {
   "cell_type": "code",
   "execution_count": 32,
   "metadata": {},
   "outputs": [
    {
     "data": {
      "text/plain": [
       "[6, 1, 1, 1, 1, 2]"
      ]
     },
     "execution_count": 32,
     "metadata": {},
     "output_type": "execute_result"
    }
   ],
   "source": [
    "size"
   ]
  },
  {
   "cell_type": "code",
   "execution_count": 17,
   "metadata": {},
   "outputs": [],
   "source": [
    "root = [i for i in range(n)]\n",
    "size = [1 for i in range(n)]"
   ]
  },
  {
   "cell_type": "code",
   "execution_count": 1,
   "metadata": {},
   "outputs": [
    {
     "name": "stdout",
     "output_type": "stream",
     "text": [
      "6 5\n",
      "0 1\n",
      "1 2 \n",
      "2 3\n",
      "5 4\n",
      "0 4\n",
      "0\n"
     ]
    }
   ],
   "source": [
    "def find(v):\n",
    "    if root[v] == v:\n",
    "        return v\n",
    "    else:\n",
    "        root[v] = find(root[v])\n",
    "        return root[v]\n",
    "    \n",
    "def union(root_x,root_y):\n",
    "    if size[root_x] >= size[root_y]:\n",
    "            root[root_y] = root_x\n",
    "            size[root_x] += size[root_y]\n",
    "    else:\n",
    "        root[root_x] = root_y\n",
    "        size[root_y] += size[root_x]\n",
    "\n",
    "        \n",
    "\n",
    "n, m = map(int,input().split())\n",
    "root = [i for i in range(n)]\n",
    "size = [1 for i in range(n)]\n",
    "idx = 0\n",
    "ans = 0\n",
    "for _ in range(m):\n",
    "    idx += 1\n",
    "    v1, v2 = map(int,input().split())\n",
    "    root_v1 , root_v2 = find(v1), find(v2)\n",
    "    if root_v1 != root_v2:\n",
    "        union(root_v1,root_v2)\n",
    "    else:\n",
    "        ans = idx\n",
    "        break\n",
    "print(ans)\n",
    "            \n",
    "                \n",
    "            "
   ]
  },
  {
   "cell_type": "code",
   "execution_count": 19,
   "metadata": {},
   "outputs": [
    {
     "data": {
      "text/plain": [
       "[0, 0, 2, 3, 4, 5]"
      ]
     },
     "execution_count": 19,
     "metadata": {},
     "output_type": "execute_result"
    }
   ],
   "source": [
    "root"
   ]
  },
  {
   "cell_type": "code",
   "execution_count": null,
   "metadata": {},
   "outputs": [],
   "source": []
  }
 ],
 "metadata": {
  "kernelspec": {
   "display_name": "Python 3",
   "language": "python",
   "name": "python3"
  },
  "language_info": {
   "codemirror_mode": {
    "name": "ipython",
    "version": 3
   },
   "file_extension": ".py",
   "mimetype": "text/x-python",
   "name": "python",
   "nbconvert_exporter": "python",
   "pygments_lexer": "ipython3",
   "version": "3.8.5"
  }
 },
 "nbformat": 4,
 "nbformat_minor": 4
}
