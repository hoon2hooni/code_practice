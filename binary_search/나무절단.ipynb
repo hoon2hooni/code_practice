{
 "cells": [
  {
   "cell_type": "code",
   "execution_count": 17,
   "metadata": {},
   "outputs": [
    {
     "name": "stdout",
     "output_type": "stream",
     "text": [
      "15\n"
     ]
    }
   ],
   "source": [
    "trees = [20, 15, 10, 17]\n",
    "max_height = max(trees)\n",
    "target = 7\n",
    "\n",
    "min_height = 0\n",
    "\n",
    "def get_tree_by_cut(tree):\n",
    "    if tree >= mid_height:\n",
    "        return tree-mid_height\n",
    "    else:\n",
    "        return 0\n",
    "\n",
    "while min_height <= max_height:\n",
    "    #중간 길이 \n",
    "    mid_height = (max_height + min_height)//2 \n",
    "    #print(f'mid_height ={mid_height}, target = {target}')\n",
    "    tmp_amount = sum(map(get_tree_by_cut,trees))\n",
    "    #얻어진 나무의 양이 목표치보다 적으면 톱날 높이 낮혀줌\n",
    "    if tmp_amount < target:\n",
    "        max_height = mid_height - 1 \n",
    "    elif tmp_amount > target:\n",
    "        min_height = mid_height + 1\n",
    "    else:\n",
    "        break\n",
    "print(mid_height)\n",
    "        "
   ]
  },
  {
   "cell_type": "code",
   "execution_count": null,
   "metadata": {},
   "outputs": [],
   "source": [
    "n, target = map(int,input().split())\n",
    "trees = list(map(int,(input().split())))\n",
    "max_height = max(trees)\n",
    "\n",
    "\n",
    "min_height = 0\n",
    "\n",
    "def get_tree_by_cut(tree):\n",
    "    if tree >= mid_height:\n",
    "        return tree-mid_height\n",
    "    else:\n",
    "        return 0\n",
    "mid_height = (max_height + min_height)//2 \n",
    "while min_height <= max_height:\n",
    "    #중간 길이 \n",
    "    mid_height = (max_height + min_height)//2 \n",
    "    tmp_amount = sum(map(get_tree_by_cut,trees))\n",
    "    #얻어진 나무의 양이 목표치보다 적으면 톱날 높이 낮혀줌\n",
    "    if tmp_amount < target:\n",
    "        max_height = mid_height - 1\n",
    "    elif tmp_amount > target:\n",
    "        min_height = mid_height + 1\n",
    "    else:\n",
    "        break\n",
    "print(mid_height)\n",
    "        "
   ]
  },
  {
   "cell_type": "code",
   "execution_count": null,
   "metadata": {},
   "outputs": [],
   "source": []
  }
 ],
 "metadata": {
  "kernelspec": {
   "display_name": "Python 3",
   "language": "python",
   "name": "python3"
  },
  "language_info": {
   "codemirror_mode": {
    "name": "ipython",
    "version": 3
   },
   "file_extension": ".py",
   "mimetype": "text/x-python",
   "name": "python",
   "nbconvert_exporter": "python",
   "pygments_lexer": "ipython3",
   "version": "3.8.5"
  }
 },
 "nbformat": 4,
 "nbformat_minor": 4
}
