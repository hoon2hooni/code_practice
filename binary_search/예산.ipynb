{
 "cells": [
  {
   "cell_type": "code",
   "execution_count": 22,
   "metadata": {},
   "outputs": [
    {
     "name": "stdout",
     "output_type": "stream",
     "text": [
      "127\n"
     ]
    }
   ],
   "source": [
    "arr = [120, 110, 140, 150]\n",
    "\n",
    "target_budget = 485\n",
    "\n",
    "def get_value_from_max(num):\n",
    "    if num >= max_num:\n",
    "        return max_num\n",
    "    else:\n",
    "        return num\n",
    "\n",
    "l = 0\n",
    "r = max(arr)\n",
    "max_num = -1\n",
    "min_arr = []\n",
    "while l <= r:\n",
    "    max_num = (l + r)//2\n",
    "    expected_budget = sum(map(get_value_from_max, arr))\n",
    "    if target_budget == expected_budget:\n",
    "        min_arr.append(expected_budget)\n",
    "        break\n",
    "    elif target_budget > expected_budget:\n",
    "        min_arr.append(max_num)\n",
    "        l = max_num + 1\n",
    "    else:\n",
    "        r = max_num - 1\n",
    "print(max(min_arr))\n",
    "      \n",
    "        "
   ]
  },
  {
   "cell_type": "code",
   "execution_count": 11,
   "metadata": {},
   "outputs": [
    {
     "data": {
      "text/plain": [
       "486"
      ]
     },
     "execution_count": 11,
     "metadata": {},
     "output_type": "execute_result"
    }
   ],
   "source": [
    "expected_budget"
   ]
  },
  {
   "cell_type": "code",
   "execution_count": null,
   "metadata": {
    "scrolled": true
   },
   "outputs": [],
   "source": [
    "n = int(input())\n",
    "arr = list(map(int,input().split()))\n",
    "target_budget = int(input())\n",
    "def get_value_from_max(num):\n",
    "    if num >= max_num:\n",
    "        return max_num\n",
    "    else:\n",
    "        return num\n",
    "\n",
    "l = 0\n",
    "r = max(arr)\n",
    "max_num = -1\n",
    "res = 0\n",
    "while l <= r:\n",
    "    max_num = l + (r-l)//2\n",
    "    expected_budget = sum(map(get_value_from_max, arr))\n",
    "    if target_budget == expected_budget:\n",
    "        res = max(res,max_num)\n",
    "        break\n",
    "    elif target_budget > expected_budget:\n",
    "        res = max(res,max_num)\n",
    "        l = max_num + 1\n",
    "    else:\n",
    "        r = max_num - 1\n",
    "\n",
    "print(res)      \n",
    "       "
   ]
  },
  {
   "cell_type": "code",
   "execution_count": null,
   "metadata": {},
   "outputs": [],
   "source": []
  }
 ],
 "metadata": {
  "kernelspec": {
   "display_name": "Python 3",
   "language": "python",
   "name": "python3"
  },
  "language_info": {
   "codemirror_mode": {
    "name": "ipython",
    "version": 3
   },
   "file_extension": ".py",
   "mimetype": "text/x-python",
   "name": "python",
   "nbconvert_exporter": "python",
   "pygments_lexer": "ipython3",
   "version": "3.8.5"
  }
 },
 "nbformat": 4,
 "nbformat_minor": 4
}
