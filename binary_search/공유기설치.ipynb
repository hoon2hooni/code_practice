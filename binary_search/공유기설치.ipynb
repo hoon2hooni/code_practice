{
 "cells": [
  {
   "cell_type": "code",
   "execution_count": 33,
   "metadata": {},
   "outputs": [
    {
     "name": "stdout",
     "output_type": "stream",
     "text": [
      "5 3\n",
      "1\n",
      "2\n",
      "3\n",
      "4\n",
      "5\n"
     ]
    }
   ],
   "source": [
    "def get_wifi_nums(houses:list, d:int)-> int:\n",
    "    wifi_count = 1\n",
    "    tmp = houses[0]\n",
    "    std = tmp + d\n",
    "    for h in houses[1:]:\n",
    "        if h >= std:\n",
    "            tmp = h\n",
    "            std = tmp + d\n",
    "            wifi_count +=1\n",
    "    return wifi_count\n",
    "\n",
    "n, c= map(int,input().split())\n",
    "houese = [int(input()) for _ in range(n)]\n",
    "\n",
    "houese.sort()\n",
    "l = 1\n",
    "r = houese[-1] -  houese[0]\n",
    "ans = 0\n",
    "if c == 2:\n",
    "    print(r)\n",
    "else:\n",
    "    while l <= r :\n",
    "        mid = (r + l)//2\n",
    "        wifi_cnt = get_wifi_nums(houese, mid)\n",
    "        if wifi_cnt >= c :\n",
    "            ans = max(ans,mid)\n",
    "            l = mid + 1\n",
    "        else:\n",
    "            r = mid - 1\n",
    "        \n",
    "        "
   ]
  },
  {
   "cell_type": "code",
   "execution_count": 34,
   "metadata": {},
   "outputs": [
    {
     "data": {
      "text/plain": [
       "2"
      ]
     },
     "execution_count": 34,
     "metadata": {},
     "output_type": "execute_result"
    }
   ],
   "source": [
    "ans"
   ]
  },
  {
   "cell_type": "code",
   "execution_count": 20,
   "metadata": {},
   "outputs": [
    {
     "name": "stdout",
     "output_type": "stream",
     "text": [
      "4 3\n",
      "8 3\n"
     ]
    },
    {
     "data": {
      "text/plain": [
       "3"
      ]
     },
     "execution_count": 20,
     "metadata": {},
     "output_type": "execute_result"
    }
   ],
   "source": [
    "get_wifi_nums(houese,3)\n"
   ]
  },
  {
   "cell_type": "code",
   "execution_count": null,
   "metadata": {},
   "outputs": [],
   "source": []
  }
 ],
 "metadata": {
  "kernelspec": {
   "display_name": "Python 3",
   "language": "python",
   "name": "python3"
  },
  "language_info": {
   "codemirror_mode": {
    "name": "ipython",
    "version": 3
   },
   "file_extension": ".py",
   "mimetype": "text/x-python",
   "name": "python",
   "nbconvert_exporter": "python",
   "pygments_lexer": "ipython3",
   "version": "3.8.5"
  }
 },
 "nbformat": 4,
 "nbformat_minor": 4
}
