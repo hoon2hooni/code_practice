{
 "cells": [
  {
   "cell_type": "code",
   "execution_count": 1,
   "metadata": {},
   "outputs": [
    {
     "data": {
      "text/plain": [
       "45"
      ]
     },
     "execution_count": 1,
     "metadata": {},
     "output_type": "execute_result"
    }
   ],
   "source": [
    "sum([i for i in range(1,10)])"
   ]
  },
  {
   "cell_type": "code",
   "execution_count": 30,
   "metadata": {},
   "outputs": [
    {
     "name": "stdout",
     "output_type": "stream",
     "text": [
      "r 45 l 0\n",
      "3 22\n",
      "r 21 l 0\n",
      "6 10\n",
      "r 21 l 11\n",
      "4 16\n",
      "r 21 l 17\n",
      "3 19\n",
      "r 18 l 17\n",
      "3 17\n",
      "17\n"
     ]
    }
   ],
   "source": [
    "l = 0\n",
    "r = sum([i for i in range(1,10)])\n",
    "target = 3\n",
    "records =[i for i in range(1,10)]\n",
    "\n",
    "def get_num_of_cd(re_list):\n",
    "    cd_num = 1\n",
    "    tmp = 0\n",
    "    for re in re_list:\n",
    "        tmp += re\n",
    "        if tmp > record_length:\n",
    "            tmp = re\n",
    "            cd_num += 1\n",
    "    return cd_num\n",
    "        \n",
    "res = (10**5)*(100000)        \n",
    "while l <= r:\n",
    "    print('r',r,'l',l)\n",
    "    record_length = l + (r-l)//2\n",
    "    num_cd = get_num_of_cd(records)\n",
    "    print(num_cd, record_length)\n",
    "    if num_cd > target:\n",
    "        l = record_length + 1\n",
    "    else:\n",
    "        if num_cd == target:\n",
    "            res = min(res,record_length)\n",
    "        r = record_length - 1\n",
    "print(res)\n",
    "        \n",
    "    \n",
    "9 3\n",
    "1 2 3 4 5 6 7 8 9"
   ]
  },
  {
   "cell_type": "code",
   "execution_count": 40,
   "metadata": {},
   "outputs": [
    {
     "name": "stdout",
     "output_type": "stream",
     "text": [
      "300\n",
      "500\n",
      "101\n",
      "400\n"
     ]
    },
    {
     "data": {
      "text/plain": [
       "5"
      ]
     },
     "execution_count": 40,
     "metadata": {},
     "output_type": "execute_result"
    }
   ],
   "source": [
    "def get_num_of_cd(re_list):\n",
    "    cd_num = 1\n",
    "    tmp = 0\n",
    "    for re in re_list:\n",
    "        tmp += re\n",
    "        if tmp > record_length:\n",
    "            print(re)\n",
    "            tmp = re\n",
    "            cd_num += 1\n",
    "    return cd_num\n",
    "record_length = 500\n",
    "get_num_of_cd(records)"
   ]
  },
  {
   "cell_type": "code",
   "execution_count": 13,
   "metadata": {},
   "outputs": [
    {
     "data": {
      "text/plain": [
       "21"
      ]
     },
     "execution_count": 13,
     "metadata": {},
     "output_type": "execute_result"
    }
   ],
   "source": [
    "sum(range(7-))"
   ]
  },
  {
   "cell_type": "code",
   "execution_count": 51,
   "metadata": {},
   "outputs": [
    {
     "name": "stdout",
     "output_type": "stream",
     "text": [
      "1 1\n",
      "1 1\n",
      "0 2\n",
      "2 2\n",
      "2\n"
     ]
    }
   ],
   "source": [
    "n, target = map(int,input().split())\n",
    "records = [int(i) for i in input().split()]\n",
    "def get_num_of_cd(re_list):\n",
    "    cd_num = 1\n",
    "    tmp = 0\n",
    "    for re in re_list:\n",
    "        tmp += re\n",
    "        if tmp > record_length:\n",
    "            tmp = re\n",
    "            cd_num += 1\n",
    "    return cd_num\n",
    "        \n",
    "res = (10**5)*(100000) \n",
    "l = 0\n",
    "r = sum(records)\n",
    "maxi = max(records)\n",
    "while l <= r:\n",
    "    print(l,r)\n",
    "    record_length = l + (r-l)//2\n",
    "    num_cd = get_num_of_cd(records)\n",
    "    if num_cd > target:\n",
    "        l = record_length + 1\n",
    "    else:\n",
    "#         if num_cd == target:\n",
    "        res = min(res,record_length)\n",
    "        r = record_length - 1\n",
    "print(max(maxi,res))"
   ]
  },
  {
   "cell_type": "code",
   "execution_count": 48,
   "metadata": {},
   "outputs": [
    {
     "data": {
      "text/plain": [
       "3"
      ]
     },
     "execution_count": 48,
     "metadata": {},
     "output_type": "execute_result"
    }
   ],
   "source": [
    "target"
   ]
  },
  {
   "cell_type": "code",
   "execution_count": null,
   "metadata": {},
   "outputs": [],
   "source": []
  }
 ],
 "metadata": {
  "kernelspec": {
   "display_name": "Python 3",
   "language": "python",
   "name": "python3"
  },
  "language_info": {
   "codemirror_mode": {
    "name": "ipython",
    "version": 3
   },
   "file_extension": ".py",
   "mimetype": "text/x-python",
   "name": "python",
   "nbconvert_exporter": "python",
   "pygments_lexer": "ipython3",
   "version": "3.8.5"
  }
 },
 "nbformat": 4,
 "nbformat_minor": 4
}
