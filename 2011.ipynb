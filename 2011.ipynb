{
 "cells": [
  {
   "cell_type": "code",
   "execution_count": 38,
   "metadata": {},
   "outputs": [],
   "source": [
    "nums = \"2511011\""
   ]
  },
  {
   "cell_type": "code",
   "execution_count": 39,
   "metadata": {},
   "outputs": [],
   "source": [
    "nums = [ int(i) for i in nums]\n",
    "# if nums[0] == 0:\n",
    "#     #에러처리"
   ]
  },
  {
   "cell_type": "code",
   "execution_count": 40,
   "metadata": {},
   "outputs": [],
   "source": [
    "cntList = [0]*(len(nums)+1)"
   ]
  },
  {
   "cell_type": "code",
   "execution_count": 41,
   "metadata": {},
   "outputs": [],
   "source": [
    "cntList[0],cntList[1] = 1, 1\n",
    "nums.insert(0,0)"
   ]
  },
  {
   "cell_type": "code",
   "execution_count": 42,
   "metadata": {},
   "outputs": [
    {
     "data": {
      "text/plain": [
       "[0, 2, 5, 1, 1, 0, 1, 1]"
      ]
     },
     "execution_count": 42,
     "metadata": {},
     "output_type": "execute_result"
    }
   ],
   "source": [
    "nums"
   ]
  },
  {
   "cell_type": "code",
   "execution_count": 43,
   "metadata": {},
   "outputs": [
    {
     "data": {
      "text/plain": [
       "[1, 1, 0, 0, 0, 0, 0, 0]"
      ]
     },
     "execution_count": 43,
     "metadata": {},
     "output_type": "execute_result"
    }
   ],
   "source": [
    "cntList"
   ]
  },
  {
   "cell_type": "code",
   "execution_count": 23,
   "metadata": {},
   "outputs": [
    {
     "name": "stdout",
     "output_type": "stream",
     "text": [
      "10111\n",
      "[1, 1, 1, 1, 2, 3]\n"
     ]
    }
   ],
   "source": [
    "# nums =input()\n",
    "nums = list(map(int, list(input())))\n",
    "if nums[0] == 0:\n",
    "    print(0)\n",
    "\n",
    "# nums = [int(i) for i in nums]\n",
    "cntList = [0]*(len(nums)+1)\n",
    "cntList[0],cntList[1] = 1, 1\n",
    "nums.insert(0,0)\n",
    "\n",
    "for i in range(2,len(nums)):\n",
    "    n1 = nums[i]\n",
    "    n2 = nums[i-1]*10 + nums[i]\n",
    "    if 1<= n1 <= 9:\n",
    "        cntList[i] += cntList[i-1]\n",
    "    if 10 <= n2 <= 26:\n",
    "        cntList[i] += cntList[i-2]\n",
    "\n",
    "print(cntList)\n",
    "\n",
    "    "
   ]
  },
  {
   "cell_type": "code",
   "execution_count": 11,
   "metadata": {},
   "outputs": [
    {
     "name": "stdout",
     "output_type": "stream",
     "text": [
      "10111\n",
      "[1, 1, 1, 1, 2, 3]\n",
      "3\n"
     ]
    }
   ],
   "source": [
    "a = list(map(int, list(input())))\n",
    "l = len(a)\n",
    "dp = [0] * (l+1)\n",
    "if a[0] == 0:\n",
    "    print(0)\n",
    "else :\n",
    "    a = [0] + a # 인덱싱을 위해 추가한 0\n",
    "    dp[0] = 1\n",
    "    dp[1] = 1\n",
    "\n",
    "    for i in range(2, l+1):\n",
    "        cur = a[i]\n",
    "        cur2 = a[i-1] * 10 + a[i]\n",
    "        if cur >= 1 and cur <= 10:\n",
    "            dp[i] += dp[i-1]\n",
    "        if cur2 >= 10 and cur2 <= 26:\n",
    "            dp[i] += dp[i-2]\n",
    "        dp[i] %= 1000000\n",
    "\n",
    "    print(dp[l])"
   ]
  },
  {
   "cell_type": "code",
   "execution_count": 52,
   "metadata": {},
   "outputs": [
    {
     "data": {
      "text/plain": [
       "[1, 1, 2, 2, 4, 4, 4, 8]"
      ]
     },
     "execution_count": 52,
     "metadata": {},
     "output_type": "execute_result"
    }
   ],
   "source": [
    "cntList"
   ]
  },
  {
   "cell_type": "code",
   "execution_count": 55,
   "metadata": {},
   "outputs": [],
   "source": [
    "if 51 >= 10 and 51 <= 26:\n",
    "    print(True)\n",
    "    #((nums[i-1]*10 + nums[i]) >= 10 & (nums[i-1]*10 + nums[i]) <= 26): 완전히다른것"
   ]
  },
  {
   "cell_type": "code",
   "execution_count": 29,
   "metadata": {},
   "outputs": [
    {
     "name": "stdout",
     "output_type": "stream",
     "text": [
      "[1, 2, 3, 4, 5]\n"
     ]
    }
   ],
   "source": [
    "a =[1,2,3,4,5]\n",
    "a[1]\n",
    "print(a)"
   ]
  },
  {
   "cell_type": "code",
   "execution_count": null,
   "metadata": {},
   "outputs": [],
   "source": []
  }
 ],
 "metadata": {
  "kernelspec": {
   "display_name": "Python 3",
   "language": "python",
   "name": "python3"
  },
  "language_info": {
   "codemirror_mode": {
    "name": "ipython",
    "version": 3
   },
   "file_extension": ".py",
   "mimetype": "text/x-python",
   "name": "python",
   "nbconvert_exporter": "python",
   "pygments_lexer": "ipython3",
   "version": "3.8.5"
  }
 },
 "nbformat": 4,
 "nbformat_minor": 4
}
