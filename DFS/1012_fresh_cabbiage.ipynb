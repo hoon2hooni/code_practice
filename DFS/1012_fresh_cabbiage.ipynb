{
 "cells": [
  {
   "cell_type": "code",
   "execution_count": 26,
   "metadata": {},
   "outputs": [
    {
     "name": "stdout",
     "output_type": "stream",
     "text": [
      "5 3 6\n",
      "0 2\n",
      "1 2\n",
      "2 2\n",
      "3 2\n",
      "4 2\n",
      "4 0\n",
      "[[0, 0, 1],\n",
      " [0, 0, 1],\n",
      " [0, 0, 1],\n",
      " [0, 0, 1],\n",
      " [1, 0, 1]]\n"
     ]
    }
   ],
   "source": [
    "import pprint\n",
    "row_length, col_length, n = map(int,input().split())\n",
    "matrix = [[0]*col_length for _ in range(row_length)]\n",
    "for i in range(n):\n",
    "    row_loc, col_loc = map(int,input().split())\n",
    "    matrix[row_loc][col_loc] = 1\n",
    "pprint.pprint(matrix, width=20)\n"
   ]
  },
  {
   "cell_type": "code",
   "execution_count": 56,
   "metadata": {},
   "outputs": [],
   "source": [
    "\n",
    "matrix = copy.deepcopy(matrix_)"
   ]
  },
  {
   "cell_type": "code",
   "execution_count": 57,
   "metadata": {},
   "outputs": [],
   "source": [
    "dr = [-1, 0, 1, 0]\n",
    "dc = [0, -1, 0, 1]\n",
    "\n",
    "def dfs(row_, col_, cnt):\n",
    "    stack = [[row_, col_]]\n",
    "    #처음 시작점을 방문했기에 0으로 해준다\n",
    "    matrix[row_][col_]  = 0\n",
    "    \n",
    "    while stack:\n",
    "        r, c = stack.pop()\n",
    "        for i in range(4): #상좌하우\n",
    "            updated_r = r + dr[i]\n",
    "            updated_c = c + dc[i]\n",
    "            #이동한 좌표가 매트릭스 범위내에 있을때\n",
    "            if 0<= updated_r < row_length and \\\n",
    "            0 <= updated_c < col_length:\n",
    "    \n",
    "                #1이면 움직임 가능하기에 움직여주고, stackd에 넣어준다. 그리고 방문했기에 0으로 해준다.\n",
    "                if matrix[updated_r][updated_c] == 1:\n",
    "                    stack.append([updated_r, updated_c])\n",
    "                    matrix[updated_r][updated_c] = 0\n",
    "                    pprint.pprint(matrix, width = 20)\n",
    "\n",
    "    #하나의 시작점에서 dfs가 끝나게되면 지렁이 갯수 추가\n",
    "    return cnt + 1\n",
    "                    \n",
    "                    \n",
    "#main 함수\n",
    "def get_swarms(cnt):\n",
    "    for r in range(row):\n",
    "        for c in range(col):\n",
    "            #cnt 추가됨\n",
    "            if matrix[r][c] == 1:\n",
    "                cnt = dfs(r,c,cnt)\n",
    "    return cnt\n",
    "                "
   ]
  },
  {
   "cell_type": "code",
   "execution_count": 58,
   "metadata": {},
   "outputs": [
    {
     "name": "stdout",
     "output_type": "stream",
     "text": [
      "[[0, 2]]\n",
      "[[0, 0, 0],\n",
      " [0, 0, 0],\n",
      " [0, 0, 1],\n",
      " [0, 0, 1],\n",
      " [1, 0, 1]]\n",
      "[[1, 2]]\n",
      "[[0, 0, 0],\n",
      " [0, 0, 0],\n",
      " [0, 0, 0],\n",
      " [0, 0, 1],\n",
      " [1, 0, 1]]\n",
      "[[2, 2]]\n",
      "[[0, 0, 0],\n",
      " [0, 0, 0],\n",
      " [0, 0, 0],\n",
      " [0, 0, 0],\n",
      " [1, 0, 1]]\n",
      "[[3, 2]]\n",
      "[[0, 0, 0],\n",
      " [0, 0, 0],\n",
      " [0, 0, 0],\n",
      " [0, 0, 0],\n",
      " [1, 0, 0]]\n",
      "[[4, 2]]\n",
      "[[4, 0]]\n"
     ]
    },
    {
     "data": {
      "text/plain": [
       "2"
      ]
     },
     "execution_count": 58,
     "metadata": {},
     "output_type": "execute_result"
    }
   ],
   "source": [
    "get_swarms(0)"
   ]
  },
  {
   "cell_type": "code",
   "execution_count": 44,
   "metadata": {},
   "outputs": [
    {
     "name": "stdout",
     "output_type": "stream",
     "text": [
      "[[0, 0, 1], [0, 0, 1], [0, 0, 1], [0, 0, 1], [1, 0, 1]]\n"
     ]
    }
   ],
   "source": [
    "print(matrix_)"
   ]
  },
  {
   "cell_type": "code",
   "execution_count": 2,
   "metadata": {},
   "outputs": [
    {
     "name": "stdout",
     "output_type": "stream",
     "text": [
      "1\n",
      "10 10 1\n",
      "5 5\n"
     ]
    },
    {
     "ename": "NameError",
     "evalue": "name 'row' is not defined",
     "output_type": "error",
     "traceback": [
      "\u001b[0;31m---------------------------------------------------------------------------\u001b[0m",
      "\u001b[0;31mNameError\u001b[0m                                 Traceback (most recent call last)",
      "\u001b[0;32m<ipython-input-2-0f5b7b68538f>\u001b[0m in \u001b[0;36m<module>\u001b[0;34m\u001b[0m\n\u001b[1;32m     43\u001b[0m         \u001b[0mrow_loc\u001b[0m\u001b[0;34m,\u001b[0m \u001b[0mcol_loc\u001b[0m \u001b[0;34m=\u001b[0m \u001b[0mmap\u001b[0m\u001b[0;34m(\u001b[0m\u001b[0mint\u001b[0m\u001b[0;34m,\u001b[0m\u001b[0minput\u001b[0m\u001b[0;34m(\u001b[0m\u001b[0;34m)\u001b[0m\u001b[0;34m.\u001b[0m\u001b[0msplit\u001b[0m\u001b[0;34m(\u001b[0m\u001b[0;34m)\u001b[0m\u001b[0;34m)\u001b[0m\u001b[0;34m\u001b[0m\u001b[0;34m\u001b[0m\u001b[0m\n\u001b[1;32m     44\u001b[0m         \u001b[0mmatrix\u001b[0m\u001b[0;34m[\u001b[0m\u001b[0mrow_loc\u001b[0m\u001b[0;34m]\u001b[0m\u001b[0;34m[\u001b[0m\u001b[0mcol_loc\u001b[0m\u001b[0;34m]\u001b[0m \u001b[0;34m=\u001b[0m \u001b[0;36m1\u001b[0m\u001b[0;34m\u001b[0m\u001b[0;34m\u001b[0m\u001b[0m\n\u001b[0;32m---> 45\u001b[0;31m     \u001b[0mprint\u001b[0m\u001b[0;34m(\u001b[0m\u001b[0mget_swarms\u001b[0m\u001b[0;34m(\u001b[0m\u001b[0;36m0\u001b[0m\u001b[0;34m)\u001b[0m\u001b[0;34m)\u001b[0m\u001b[0;34m\u001b[0m\u001b[0;34m\u001b[0m\u001b[0m\n\u001b[0m\u001b[1;32m     46\u001b[0m \u001b[0;34m\u001b[0m\u001b[0m\n\u001b[1;32m     47\u001b[0m \u001b[0;34m\u001b[0m\u001b[0m\n",
      "\u001b[0;32m<ipython-input-2-0f5b7b68538f>\u001b[0m in \u001b[0;36mget_swarms\u001b[0;34m(cnt)\u001b[0m\n\u001b[1;32m     28\u001b[0m \u001b[0;31m#main 함수\u001b[0m\u001b[0;34m\u001b[0m\u001b[0;34m\u001b[0m\u001b[0;34m\u001b[0m\u001b[0m\n\u001b[1;32m     29\u001b[0m \u001b[0;32mdef\u001b[0m \u001b[0mget_swarms\u001b[0m\u001b[0;34m(\u001b[0m\u001b[0mcnt\u001b[0m\u001b[0;34m)\u001b[0m\u001b[0;34m:\u001b[0m\u001b[0;34m\u001b[0m\u001b[0;34m\u001b[0m\u001b[0m\n\u001b[0;32m---> 30\u001b[0;31m     \u001b[0;32mfor\u001b[0m \u001b[0mr\u001b[0m \u001b[0;32min\u001b[0m \u001b[0mrange\u001b[0m\u001b[0;34m(\u001b[0m\u001b[0mrow\u001b[0m\u001b[0;34m)\u001b[0m\u001b[0;34m:\u001b[0m\u001b[0;34m\u001b[0m\u001b[0;34m\u001b[0m\u001b[0m\n\u001b[0m\u001b[1;32m     31\u001b[0m         \u001b[0;32mfor\u001b[0m \u001b[0mc\u001b[0m \u001b[0;32min\u001b[0m \u001b[0mrange\u001b[0m\u001b[0;34m(\u001b[0m\u001b[0mcol\u001b[0m\u001b[0;34m)\u001b[0m\u001b[0;34m:\u001b[0m\u001b[0;34m\u001b[0m\u001b[0;34m\u001b[0m\u001b[0m\n\u001b[1;32m     32\u001b[0m             \u001b[0;31m#cnt 추가됨\u001b[0m\u001b[0;34m\u001b[0m\u001b[0;34m\u001b[0m\u001b[0;34m\u001b[0m\u001b[0m\n",
      "\u001b[0;31mNameError\u001b[0m: name 'row' is not defined"
     ]
    }
   ],
   "source": [
    "dr = [-1, 0, 1, 0]\n",
    "dc = [0, -1, 0, 1]\n",
    "def dfs(row_, col_, cnt):\n",
    "    stack = [[row_, col_]]\n",
    "    #처음 시작점을 방문했기에 0으로 해준다\n",
    "    matrix[row_][col_]  = 0\n",
    "    \n",
    "    while stack:\n",
    "        r, c = stack.pop()\n",
    "        for i in range(4): #상좌하우\n",
    "            updated_r = r + dr[i]\n",
    "            updated_c = c + dc[i]\n",
    "            #이동한 좌표가 매트릭스 범위내에 있을때\n",
    "            if 0<= updated_r < row_length and \\\n",
    "            0 <= updated_c < col_length:\n",
    "    \n",
    "                #1이면 움직임 가능하기에 움직여주고, stackd에 넣어준다. 그리고 방문했기에 0으로 해준다.\n",
    "                if matrix[updated_r][updated_c] == 1:\n",
    "                    stack.append([updated_r, updated_c])\n",
    "                    matrix[updated_r][updated_c] = 0\n",
    "                    \n",
    "\n",
    "    #하나의 시작점에서 dfs가 끝나게되면 지렁이 갯수 추가\n",
    "#     pprint.pprint(matrix, width = 20)\n",
    "    return cnt + 1\n",
    "                    \n",
    "                    \n",
    "#main 함수\n",
    "def get_swarms(cnt):\n",
    "    for r in range(row_length):\n",
    "        for c in range(col_length):\n",
    "            #cnt 추가됨\n",
    "            if matrix[r][c] == 1:\n",
    "                cnt = dfs(r,c,cnt)\n",
    "    return cnt\n",
    "\n",
    "#init 시작\n",
    "rep = int(input())\n",
    "for _ in range(rep):\n",
    "    row_length, col_length, n = map(int,input().split())\n",
    "    matrix = [[0]*col_length for _ in range(row_length)]\n",
    "    for i in range(n):\n",
    "        row_loc, col_loc = map(int,input().split())\n",
    "        matrix[row_loc][col_loc] = 1\n",
    "    print(get_swarms(0))\n",
    "    \n",
    "\n",
    "    \n",
    "\n",
    "\n",
    "    "
   ]
  },
  {
   "cell_type": "code",
   "execution_count": null,
   "metadata": {},
   "outputs": [],
   "source": []
  }
 ],
 "metadata": {
  "kernelspec": {
   "display_name": "Python 3",
   "language": "python",
   "name": "python3"
  }
 },
 "nbformat": 4,
 "nbformat_minor": 4
}
