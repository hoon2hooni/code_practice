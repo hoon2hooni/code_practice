{
 "cells": [
  {
   "cell_type": "code",
   "execution_count": 22,
   "metadata": {},
   "outputs": [
    {
     "name": "stdout",
     "output_type": "stream",
     "text": [
      "1\n",
      "13\n",
      "2 4 5 2 4 1 8 9 10 11 9 10 10\n",
      "[1]\n",
      "[-1, -1, -1, -1, -1, -1, -1, -1, -1, -1, -1, -1, -1, -1]\n",
      "[1, 2]\n",
      "[-1, -1, -1, -1, -1, -1, -1, -1, -1, -1, -1, -1, -1, -1]\n",
      "[1, 2, 4]\n",
      "[-1, -1, -1, -1, -1, -1, -1, -1, -1, -1, -1, -1, -1, -1]\n",
      "[3]\n",
      "[-1, 1, 0, -1, 0, -1, -1, -1, -1, -1, -1, -1, -1, -1]\n",
      "[3, 5]\n",
      "[-1, 1, 0, -1, 0, -1, -1, -1, -1, -1, -1, -1, -1, -1]\n",
      "[6]\n",
      "[-1, 1, 0, 1, 0, 1, -1, -1, -1, -1, -1, -1, -1, -1]\n",
      "[7]\n",
      "[-1, 1, 0, 1, 0, 1, 1, -1, -1, -1, -1, -1, -1, -1]\n",
      "[7, 8]\n",
      "[-1, 1, 0, 1, 0, 1, 1, -1, -1, -1, -1, -1, -1, -1]\n",
      "[7, 8, 9]\n",
      "[-1, 1, 0, 1, 0, 1, 1, -1, -1, -1, -1, -1, -1, -1]\n",
      "[7, 8, 9, 10]\n",
      "[-1, 1, 0, 1, 0, 1, 1, -1, -1, -1, -1, -1, -1, -1]\n",
      "[7, 8, 9, 10, 11]\n",
      "[-1, 1, 0, 1, 0, 1, 1, -1, -1, -1, -1, -1, -1, -1]\n",
      "[12]\n",
      "[-1, 1, 0, 1, 0, 1, 1, 1, 1, 0, 0, 0, -1, -1]\n",
      "[13]\n",
      "[-1, 1, 0, 1, 0, 1, 1, 1, 1, 0, 0, 0, 1, -1]\n",
      "8\n"
     ]
    }
   ],
   "source": [
    "#포인트는 싸이클돌면 가능 안돌면 불가능 자기자신이면 쌉가능..\n",
    "\n",
    "#dfs\n",
    "#돌다가 다음노드가 이전 방문노드에 있을경우 \n",
    "\n",
    "\n",
    "\n",
    "def dfs(start_v):\n",
    "    global ans\n",
    "    visited = []\n",
    "    visited.append(start_v)\n",
    "    stack =[start_v]\n",
    "    while stack:\n",
    "        print(visited)\n",
    "        print(check_list)\n",
    "        parent_node = stack.pop()\n",
    "        child_node = adj_graph[parent_node]\n",
    "        \n",
    "        #가리키는 자식이 이미 사이클을 완성했으면 볼것도 없이 1로 가버림\n",
    "        \n",
    "        if check_list[child_node] != -1:\n",
    "            for un_group_node in visited:\n",
    "                check_list[un_group_node] = 1\n",
    "                ans += 1\n",
    "            return\n",
    "        \n",
    "        if child_node in visited:\n",
    "            idx = visited.index(child_node)\n",
    "            for un_group_node in visited[:idx]:\n",
    "                check_list[un_group_node] = 1\n",
    "                ans += 1\n",
    "            for group_node in visited[idx:]:\n",
    "                check_list[group_node] = 0\n",
    "            return\n",
    "        else:\n",
    "            if child_node not in visited:\n",
    "                stack.append(child_node)\n",
    "                visited.append(child_node)\n",
    "        \n",
    "    for un_group_node in visited:\n",
    "        check_list[un_group_node] = 1\n",
    "        ans += 1        \n",
    "    return \n",
    "\n",
    "if __name__ ==\"__main__\":\n",
    "    rep = int(input())\n",
    "    for _ in range(rep):\n",
    "        ans = 0\n",
    "        cnt = 0\n",
    "        n = int(input())\n",
    "        fav_list = list(map(int,input().split()))\n",
    "        adj_graph ={i:v for i,v in zip(range(1,n+1), fav_list)}\n",
    "        check_list =[-1]*(n+1)\n",
    "        for i in range(1,n+1):\n",
    "            if check_list[i] == 0 or check_list[i] == 1:\n",
    "                continue\n",
    "            else:\n",
    "                dfs(i)\n",
    "        print(ans)"
   ]
  },
  {
   "cell_type": "code",
   "execution_count": 17,
   "metadata": {},
   "outputs": [
    {
     "name": "stdout",
     "output_type": "stream",
     "text": [
      "[-1, 1, 1, 0, -1, 1, 1, 1, 1, 1, 0]\n"
     ]
    }
   ],
   "source": [
    "print(check_list)"
   ]
  },
  {
   "cell_type": "code",
   "execution_count": 30,
   "metadata": {},
   "outputs": [
    {
     "name": "stdout",
     "output_type": "stream",
     "text": [
      "1\n",
      "4\n",
      "2 3 4 1\n",
      "1 1\n",
      "0\n"
     ]
    }
   ],
   "source": [
    "T = int(input())\n",
    "for _ in range(T):\n",
    "    n=int(input())\n",
    "    data=[0]+list(map(int,input().split()))\n",
    "    visited=[0]*(n+1)\n",
    "    ans=0\n",
    "    for i in range(1,n+1):\n",
    "        if not visited[i]:\n",
    "            v=i\n",
    "            #방문한거 쭉죽가준다\n",
    "            while not visited[v]:\n",
    "                 visited[v]=1\n",
    "                 v=data[v]\n",
    "            w=i\n",
    "            ans += len(visited)\n",
    "            while w!=v:\n",
    "                ans+=1\n",
    "                w=data[w]\n",
    "\n",
    "                \n",
    "    print(ans)"
   ]
  },
  {
   "cell_type": "code",
   "execution_count": 24,
   "metadata": {},
   "outputs": [
    {
     "name": "stdout",
     "output_type": "stream",
     "text": [
      "[0, 1, 1, 1, 1, 1, 1, 1, 1, 1, 1, 1, 1, 1]\n"
     ]
    }
   ],
   "source": [
    "print(visited)"
   ]
  },
  {
   "cell_type": "code",
   "execution_count": null,
   "metadata": {},
   "outputs": [],
   "source": []
  }
 ],
 "metadata": {
  "kernelspec": {
   "display_name": "Python 3",
   "language": "python",
   "name": "python3"
  },
  "language_info": {
   "codemirror_mode": {
    "name": "ipython",
    "version": 3
   },
   "file_extension": ".py",
   "mimetype": "text/x-python",
   "name": "python",
   "nbconvert_exporter": "python",
   "pygments_lexer": "ipython3",
   "version": "3.8.5"
  }
 },
 "nbformat": 4,
 "nbformat_minor": 4
}
