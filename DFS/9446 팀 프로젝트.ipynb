{
 "cells": [
  {
   "cell_type": "code",
   "execution_count": null,
   "metadata": {},
   "outputs": [],
   "source": [
    "#포인트는 싸이클돌면 가능 안돌면 불가능 자기자신이면 쌉가능..\n",
    "\n",
    "#dfs\n",
    "#돌다가 다음노드가 이전 방문노드에 있을경우 \n",
    "\n",
    "\n",
    "\n",
    "def dfs(start_v):\n",
    "    visited = []\n",
    "    visited.append(start_v)\n",
    "    stack =[start_v]\n",
    "    while stack:\n",
    "        parent_node = stack.pop()\n",
    "        child_node = adj_graph[parent_node]\n",
    "        if checklist[child_node] != -1:\n",
    "            checklist[parent_node] = 1\n",
    "            return\n",
    "        if child_node in visited:\n",
    "            for idx, node in enumerate(visited):\n",
    "                if node == child_node:\n",
    "                    std = idx\n",
    "                    break\n",
    "            for k in visited[:std]:\n",
    "                checklist[k] = 1\n",
    "            for k in visited[std:]:\n",
    "                checklist[k] = 0\n",
    "                \n",
    "            return\n",
    "        else:\n",
    "            if child_node not in visited:\n",
    "                stack.append(child_node)\n",
    "                visited.append(child_node)\n",
    "    return 1\n",
    "\n",
    "if __name__ ==\"__main__\":\n",
    "    rep = int(input())\n",
    "    for _ in range(rep):\n",
    "        cnt = 0\n",
    "        n = int(input())\n",
    "        fav_list = list(map(int,input().split()))\n",
    "        adj_graph ={i:v for i,v in zip(range(1,n+1), fav_list)}\n",
    "        checklist =[-1]*(n+1)\n",
    "        for i in range(1,n+1):\n",
    "            if checklist[i] == 0 or checklist[i] == 1:\n",
    "                continue\n",
    "            else:\n",
    "                dfs(i)\n",
    "        print(sum(checklist)+1)"
   ]
  },
  {
   "cell_type": "code",
   "execution_count": 2,
   "metadata": {},
   "outputs": [
    {
     "data": {
      "text/plain": [
       "[-1, 0, 0, 0, 0, 0, 0, 0, 0]"
      ]
     },
     "execution_count": 2,
     "metadata": {},
     "output_type": "execute_result"
    }
   ],
   "source": [
    "checklist"
   ]
  },
  {
   "cell_type": "code",
   "execution_count": 2,
   "metadata": {},
   "outputs": [
    {
     "data": {
      "text/plain": [
       "[0, 0, 0, 1, 1, 0, 1, 1]"
      ]
     },
     "execution_count": 2,
     "metadata": {},
     "output_type": "execute_result"
    }
   ],
   "source": [
    "checklist"
   ]
  },
  {
   "cell_type": "code",
   "execution_count": null,
   "metadata": {},
   "outputs": [],
   "source": []
  }
 ],
 "metadata": {
  "kernelspec": {
   "display_name": "Python 3",
   "language": "python",
   "name": "python3"
  },
  "language_info": {
   "codemirror_mode": {
    "name": "ipython",
    "version": 3
   },
   "file_extension": ".py",
   "mimetype": "text/x-python",
   "name": "python",
   "nbconvert_exporter": "python",
   "pygments_lexer": "ipython3",
   "version": "3.8.5"
  }
 },
 "nbformat": 4,
 "nbformat_minor": 4
}
