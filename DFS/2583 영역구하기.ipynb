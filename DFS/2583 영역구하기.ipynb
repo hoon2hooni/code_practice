{
 "cells": [
  {
   "cell_type": "code",
   "execution_count": 33,
   "metadata": {
    "scrolled": true
   },
   "outputs": [
    {
     "name": "stdout",
     "output_type": "stream",
     "text": [
      "5 7 3\n",
      "0 2 4 4\n",
      "1 1 2 5\n",
      "4 0 6 2\n",
      "3\n",
      "1\n",
      "7\n",
      "13\n"
     ]
    }
   ],
   "source": [
    "\n",
    "def dfs(h, w):\n",
    "    stack =[[h, w]]\n",
    "    matrix[h][w] = 0\n",
    "    cnt = 1\n",
    "    while stack:\n",
    "        h_, w_ = stack.pop()\n",
    "        for i in range(4):\n",
    "            next_h = h_ + dh[i]\n",
    "            next_w = w_ + dw[i]\n",
    "            if 0 <= next_h < height and 0 <= next_w < width:\n",
    "                if matrix[next_h][next_w] == 1:\n",
    "                    stack.append([next_h, next_w])\n",
    "                    matrix[next_h][next_w] = 0\n",
    "                    cnt += 1\n",
    "    return cnt\n",
    "if __name__ == \"__main__\":\n",
    "    \n",
    "    height, width , n = map(int, input().split())\n",
    "    matrix = [[1]*width for _ in range(height)]\n",
    "    for _ in range(n):\n",
    "        x1, y1, x2, y2 = map(int, input().split())\n",
    "        #이렇게 짜야 백준 사진처럼 나옴..\n",
    "        for i in range(height - y2, height - y1):\n",
    "            for j in range(x1, x2):\n",
    "                matrix[i][j] = 0\n",
    "    dw =[0,-1,0,1]\n",
    "    dh =[-1,0,1,0]\n",
    "    ans = []\n",
    "    for h in range(height):\n",
    "        for w in range(width):\n",
    "            if matrix[h][w] == 1:\n",
    "                ans.append(dfs(h,w))\n",
    "    print(len(ans))\n",
    "    ans.sort()\n",
    "    for res in ans:\n",
    "        print(res)\n",
    "    "
   ]
  },
  {
   "cell_type": "code",
   "execution_count": 34,
   "metadata": {},
   "outputs": [
    {
     "name": "stdout",
     "output_type": "stream",
     "text": [
      "1 7 13 "
     ]
    }
   ],
   "source": [
    "for res in ans:\n",
    "    print(res , end =\" \")"
   ]
  },
  {
   "cell_type": "code",
   "execution_count": null,
   "metadata": {},
   "outputs": [],
   "source": []
  }
 ],
 "metadata": {
  "kernelspec": {
   "display_name": "Python 3",
   "language": "python",
   "name": "python3"
  },
  "language_info": {
   "codemirror_mode": {
    "name": "ipython",
    "version": 3
   },
   "file_extension": ".py",
   "mimetype": "text/x-python",
   "name": "python",
   "nbconvert_exporter": "python",
   "pygments_lexer": "ipython3",
   "version": "3.8.5"
  }
 },
 "nbformat": 4,
 "nbformat_minor": 4
}
