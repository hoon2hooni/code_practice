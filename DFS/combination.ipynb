{
 "cells": [
  {
   "cell_type": "code",
   "execution_count": 26,
   "metadata": {},
   "outputs": [],
   "source": [
    "nums = [1,2,3,4,5]\n",
    "ans = []\n",
    "def dfs(pointer, traverse, n):\n",
    "    global ans\n",
    "    if len(traverse) == n:\n",
    "        ans.append(traverse[:])\n",
    "        return\n",
    "    for i in range(pointer,len(nums)):\n",
    "        traverse.append(nums[i])\n",
    "        dfs(i+1, traverse, n)\n",
    "        traverse.pop()\n",
    "    return\n",
    "\n",
    "dfs(0,[],3)\n",
    "\n",
    "\n",
    "\n",
    "nums = [1,2,3,4,5]\n",
    "ans = []\n",
    "def dfs(pointer, traverse):\n",
    "    global ans\n",
    "    if pointer == len(nums):\n",
    "        return\n",
    "    for i in range(pointer,len(nums)):\n",
    "        traverse.append(nums[i])\n",
    "        ans.append(traverse[:])\n",
    "        dfs(i+1, traverse)\n",
    "        traverse.pop()\n",
    "    return\n",
    "\n",
    "dfs(0,[])\n",
    "\n"
   ]
  },
  {
   "cell_type": "code",
   "execution_count": null,
   "metadata": {},
   "outputs": [],
   "source": []
  }
 ],
 "metadata": {
  "kernelspec": {
   "display_name": "Python 3",
   "language": "python",
   "name": "python3"
  },
  "language_info": {
   "codemirror_mode": {
    "name": "ipython",
    "version": 3
   },
   "file_extension": ".py",
   "mimetype": "text/x-python",
   "name": "python",
   "nbconvert_exporter": "python",
   "pygments_lexer": "ipython3",
   "version": "3.8.5"
  }
 },
 "nbformat": 4,
 "nbformat_minor": 4
}
