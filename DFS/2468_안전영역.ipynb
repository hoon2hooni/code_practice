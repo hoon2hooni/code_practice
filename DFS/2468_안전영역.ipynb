{
 "cells": [
  {
   "cell_type": "code",
   "execution_count": 12,
   "metadata": {},
   "outputs": [
    {
     "name": "stdout",
     "output_type": "stream",
     "text": [
      "0\n"
     ]
    }
   ],
   "source": [
    "\n",
    "#강수량 범위 구해주기 \n",
    "def get_min_max():\n",
    "    minimum = 100\n",
    "    maximum = 1\n",
    "    for i in range(n):\n",
    "        for j in range(n):\n",
    "            minimum = min(minimum, matrix[i][j])\n",
    "            maximum = max(maximum, matrix[i][j])\n",
    "    return minimum, maximum\n",
    "\n",
    "#안전 범위 구해주기 \n",
    "def get_safety_zone(precipitation):\n",
    "    safety_zone = [[0]*n for _ in range(n)]\n",
    "    for i in range(n):\n",
    "        for j in range(n):\n",
    "            if matrix[i][j] > precipitation:\n",
    "                safety_zone[i][j] = 1\n",
    "    return safety_zone\n",
    "            \n",
    "\n",
    "#matrix들어가면 거기에 맞춘 안전범위 구하기\n",
    "def get_area_num(matrix_):\n",
    "    dr =[1, 0, -1, 0]\n",
    "    dc =[0, 1, 0, -1]\n",
    "    count = 0\n",
    "    def dfs(r,c,cnt):\n",
    "        stack =[[r, c]]\n",
    "        matrix_[r][c] = 0 \n",
    "        while stack:\n",
    "            r_,c_ = stack.pop()\n",
    "            for i in range(4):\n",
    "                new_r_ = r_ + dr[i]\n",
    "                new_c_ = c_ + dc[i]\n",
    "                if 0 <= new_r_ < n and \\\n",
    "                0 <= new_c_ < n:\n",
    "                    if matrix_[new_r_][new_c_] == 1:\n",
    "                        matrix_[new_r_][new_c_] = 0\n",
    "                        stack.append([new_r_, new_c_])\n",
    "        return cnt + 1\n",
    "    \n",
    "    for i in range(n):\n",
    "        for j in range(n):\n",
    "            if matrix_[i][j] == 1:\n",
    "                count = dfs(i,j,count)\n",
    "    return count\n",
    "\n",
    "if __name__ == \"__main__\":\n",
    "    n = int(input())\n",
    "    matrix = [list(map(int,input().split())) for _ in range(n)]\n",
    "    minnum, maxnum = get_min_max()\n",
    "    ans = 0 \n",
    "    for p in range(minnum, maxnum + 1):\n",
    "        new_matrix = get_safety_zone(p)\n",
    "        ans = max(ans,get_area_num(new_matrix))\n",
    "    if ans == 0:\n",
    "        print(1)\n",
    "    else:\n",
    "        print(ans)\n",
    "    \n",
    "    "
   ]
  },
  {
   "cell_type": "code",
   "execution_count": 8,
   "metadata": {},
   "outputs": [
    {
     "name": "stdout",
     "output_type": "stream",
     "text": [
      "2\n",
      "1 1\n",
      "1 1\n"
     ]
    }
   ],
   "source": [
    "n = int(input())\n",
    "matrix = [list(map(int,input().split())) for _ in range(n)]"
   ]
  },
  {
   "cell_type": "code",
   "execution_count": 11,
   "metadata": {},
   "outputs": [
    {
     "data": {
      "text/plain": [
       "(1, 2)"
      ]
     },
     "execution_count": 11,
     "metadata": {},
     "output_type": "execute_result"
    }
   ],
   "source": [
    "get_min_max()"
   ]
  },
  {
   "cell_type": "code",
   "execution_count": null,
   "metadata": {},
   "outputs": [],
   "source": []
  }
 ],
 "metadata": {
  "kernelspec": {
   "display_name": "Python 3",
   "language": "python",
   "name": "python3"
  },
  "language_info": {
   "codemirror_mode": {
    "name": "ipython",
    "version": 3
   },
   "file_extension": ".py",
   "mimetype": "text/x-python",
   "name": "python",
   "nbconvert_exporter": "python",
   "pygments_lexer": "ipython3",
   "version": "3.8.5"
  }
 },
 "nbformat": 4,
 "nbformat_minor": 4
}
