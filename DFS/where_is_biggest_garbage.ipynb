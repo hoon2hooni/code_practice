{
 "cells": [
  {
   "cell_type": "code",
   "execution_count": 1,
   "metadata": {},
   "outputs": [
    {
     "name": "stdout",
     "output_type": "stream",
     "text": [
      "3 4 5\n"
     ]
    }
   ],
   "source": [
    "row_len, col_len, garbage_nums = map(int,input().split())\n"
   ]
  },
  {
   "cell_type": "code",
   "execution_count": 9,
   "metadata": {},
   "outputs": [],
   "source": [
    "matrix = [['.']*col_len for _ in range(row_len)]"
   ]
  },
  {
   "cell_type": "code",
   "execution_count": 12,
   "metadata": {},
   "outputs": [
    {
     "name": "stdout",
     "output_type": "stream",
     "text": [
      "3 2\n",
      "2 2\n",
      "3 1\n",
      "2 3\n",
      "1 1\n",
      "[['#', '.', '.', '.'],\n",
      " ['.', '#', '#', '.'],\n",
      " ['#', '#', '.', '.']]\n"
     ]
    }
   ],
   "source": [
    "import pprint\n",
    "for _ in range(garbage_nums):\n",
    "    r, c = map(int,input().split())\n",
    "    \n",
    "    #이부분 padding 가로세로에 줘서 해줘도 되는데 그냥 인덱스로 1씩 빼줌.\n",
    "    matrix[r-1][c-1] ='#'\n",
    "    \n"
   ]
  },
  {
   "cell_type": "markdown",
   "metadata": {},
   "source": [
    "pprint.pprint(matrix, width = 30)\n"
   ]
  },
  {
   "cell_type": "code",
   "execution_count": 14,
   "metadata": {},
   "outputs": [
    {
     "name": "stdout",
     "output_type": "stream",
     "text": [
      "4\n"
     ]
    }
   ],
   "source": [
    "dr = [-1, 0, 1, 0]\n",
    "dc = [0, -1, 0, 1]\n",
    "\n",
    "def dfs(start_row, start_col):\n",
    "    stack = [[start_row, start_col]]\n",
    "    cnt = 1\n",
    "    matrix[start_row][start_col] = '.'\n",
    "    while stack:\n",
    "        r, c = stack.pop()\n",
    "        #상하 좌우\n",
    "        for i in range(4):\n",
    "            updated_r = r + dr[i]\n",
    "            updated_c = c + dc[i]\n",
    "            if 0 <= updated_r < row_len and \\\n",
    "            0 <= updated_c < col_len:\n",
    "                if matrix[updated_r][updated_c] == '#':\n",
    "                    stack.append([updated_r, updated_c])\n",
    "                    matrix[updated_r][updated_c] = '.'\n",
    "                    cnt += 1\n",
    "    return cnt\n",
    "\n",
    "def main():\n",
    "    biggest_size = 0\n",
    "    for i in range(row_len):\n",
    "        for j in range(col_len):\n",
    "            if matrix[i][j] =='#':\n",
    "                biggest_size = max(biggest_size, dfs(i,j))\n",
    "    return biggest_size\n",
    "\n",
    "print(main())\n",
    "    "
   ]
  },
  {
   "cell_type": "code",
   "execution_count": 15,
   "metadata": {},
   "outputs": [
    {
     "name": "stdout",
     "output_type": "stream",
     "text": [
      "3 4 5\n",
      "3 2\n",
      "2 2\n",
      "3 1\n",
      "2 3\n",
      "1 1\n",
      "4\n"
     ]
    }
   ],
   "source": [
    "\n",
    "def dfs(start_row, start_col):\n",
    "    stack = [[start_row, start_col]]\n",
    "    cnt = 1\n",
    "    matrix[start_row][start_col] = '.'\n",
    "    while stack:\n",
    "        r, c = stack.pop()\n",
    "        #상하 좌우\n",
    "        for i in range(4):\n",
    "            updated_r = r + dr[i]\n",
    "            updated_c = c + dc[i]\n",
    "            if 0 <= updated_r < row_len and \\\n",
    "            0 <= updated_c < col_len:\n",
    "                if matrix[updated_r][updated_c] == '#':\n",
    "                    stack.append([updated_r, updated_c])\n",
    "                    matrix[updated_r][updated_c] = '.'\n",
    "                    cnt += 1\n",
    "    return cnt\n",
    "\n",
    "def main():\n",
    "    biggest_size = 0\n",
    "    for i in range(row_len):\n",
    "        for j in range(col_len):\n",
    "            if matrix[i][j] =='#':\n",
    "                biggest_size = max(biggest_size, dfs(i,j))\n",
    "    return biggest_size\n",
    "\n",
    "row_len, col_len, garbage_nums = map(int,input().split())\n",
    "matrix = [['.']*col_len for _ in range(row_len)]\n",
    "dr = [-1, 0, 1, 0]\n",
    "dc = [0, -1, 0, 1]\n",
    "for _ in range(garbage_nums):\n",
    "    r, c = map(int,input().split())\n",
    "    \n",
    "    #이부분 padding 가로세로에 줘서 해줘도 되는데 그냥 인덱스로 1씩 빼줌.\n",
    "    matrix[r-1][c-1] ='#'\n",
    "print(main())"
   ]
  },
  {
   "cell_type": "code",
   "execution_count": null,
   "metadata": {},
   "outputs": [],
   "source": []
  }
 ],
 "metadata": {
  "kernelspec": {
   "display_name": "Python 3",
   "language": "python",
   "name": "python3"
  },
  "language_info": {
   "codemirror_mode": {
    "name": "ipython",
    "version": 3
   },
   "file_extension": ".py",
   "mimetype": "text/x-python",
   "name": "python",
   "nbconvert_exporter": "python",
   "pygments_lexer": "ipython3",
   "version": "3.8.5"
  }
 },
 "nbformat": 4,
 "nbformat_minor": 4
}
