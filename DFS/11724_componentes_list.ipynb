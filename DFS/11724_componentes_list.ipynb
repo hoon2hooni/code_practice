{
 "cells": [
  {
   "cell_type": "code",
   "execution_count": 3,
   "metadata": {},
   "outputs": [
    {
     "name": "stdout",
     "output_type": "stream",
     "text": [
      "6 5\n"
     ]
    }
   ],
   "source": [
    "\n",
    "v_len, e_len  = map(int, input().split())\n",
    "adj_dic = {v:[] for v in range(1, v_len+1)}\n",
    "\n",
    "for i in range(e_len):\n",
    "    start, end = map(int,input().split())\n",
    "    adj_dic[start].append(end)\n",
    "    adj_dic[end].append(start)\n",
    "\n",
    "\n",
    "def dfs(start, visited, cnt):\n",
    "    stack = [start]\n",
    "    visited.add(start)\n",
    "    while stack:\n",
    "        v = stack.pop()\n",
    "        for adj_node in adj_dic[v]:\n",
    "            if adj_node not in visited:\n",
    "                stack.append(adj_node)\n",
    "                visited.add(adj_node)\n",
    "    return cnt + 1\n",
    "\n",
    "def main():\n",
    "    visited =set()\n",
    "    cnt = 0 \n",
    "    for v in adj_dic.keys():\n",
    "        if v not in visited:\n",
    "            cnt = dfs(v, visited, cnt)\n",
    "    return cnt\n",
    "print(main())"
   ]
  },
  {
   "cell_type": "code",
   "execution_count": 22,
   "metadata": {},
   "outputs": [
    {
     "data": {
      "text/plain": [
       "2"
      ]
     },
     "execution_count": 22,
     "metadata": {},
     "output_type": "execute_result"
    }
   ],
   "source": [
    "main()"
   ]
  },
  {
   "cell_type": "code",
   "execution_count": 16,
   "metadata": {},
   "outputs": [
    {
     "ename": "NameError",
     "evalue": "name 'cnt' is not defined",
     "output_type": "error",
     "traceback": [
      "\u001b[0;31m---------------------------------------------------------------------------\u001b[0m",
      "\u001b[0;31mNameError\u001b[0m                                 Traceback (most recent call last)",
      "\u001b[0;32m<ipython-input-16-89ff4c596af5>\u001b[0m in \u001b[0;36m<module>\u001b[0;34m\u001b[0m\n\u001b[0;32m----> 1\u001b[0;31m \u001b[0mcnt\u001b[0m\u001b[0;34m\u001b[0m\u001b[0;34m\u001b[0m\u001b[0m\n\u001b[0m",
      "\u001b[0;31mNameError\u001b[0m: name 'cnt' is not defined"
     ]
    }
   ],
   "source": [
    "cnt"
   ]
  },
  {
   "cell_type": "code",
   "execution_count": null,
   "metadata": {},
   "outputs": [],
   "source": []
  }
 ],
 "metadata": {
  "kernelspec": {
   "display_name": "Python 3",
   "language": "python",
   "name": "python3"
  },
  "language_info": {
   "codemirror_mode": {
    "name": "ipython",
    "version": 3
   },
   "file_extension": ".py",
   "mimetype": "text/x-python",
   "name": "python",
   "nbconvert_exporter": "python",
   "pygments_lexer": "ipython3",
   "version": "3.8.5"
  }
 },
 "nbformat": 4,
 "nbformat_minor": 4
}
