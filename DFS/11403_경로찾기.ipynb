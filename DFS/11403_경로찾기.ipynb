{
 "cells": [
  {
   "cell_type": "code",
   "execution_count": 38,
   "metadata": {},
   "outputs": [
    {
     "name": "stdout",
     "output_type": "stream",
     "text": [
      "7\n",
      "0 0 0 1 0 0 0\n",
      "0 0 0 0 0 0 1\n",
      "0 0 0 0 0 0 0\n",
      "0 0 0 0 1 1 0\n",
      "1 0 0 0 0 0 0\n",
      "0 0 0 0 0 0 1\n",
      "0 0 1 0 0 0 0\n",
      "1 0 1 1 1 1 1\n",
      "0 0 1 0 0 0 1\n",
      "0 0 0 0 0 0 0\n",
      "1 0 1 1 1 1 1\n",
      "1 0 1 1 1 1 1\n",
      "0 0 1 0 0 0 1\n",
      "0 0 1 0 0 0 0\n"
     ]
    }
   ],
   "source": [
    "def dfs(start):\n",
    "    visited =set()\n",
    "    stack =[start]\n",
    "    while stack:\n",
    "        v = stack.pop()\n",
    "        for adj_node in adj_graph[v]:\n",
    "            if adj_node not in visited:\n",
    "                visited.add(adj_node)\n",
    "                stack.append(adj_node)\n",
    "                ans_matrix[start][adj_node] = 1\n",
    "    return\n",
    "if __name__ ==\"__main__\":    \n",
    "    n = int(input())\n",
    "    matrix =[]\n",
    "    for _ in range(n):\n",
    "        matrix.append(list(map(int, input().split())))\n",
    "    adj_graph = {i:[] for i in range(n)}\n",
    "    for i in range(n):\n",
    "        for j in range(n):\n",
    "            if matrix[i][j] == 1:\n",
    "                adj_graph[i].append(j)\n",
    "\n",
    "\n",
    "\n",
    "    ans_matrix =[[0]*n for _ in range(n)]\n",
    "    for i in range(n):\n",
    "        dfs(i)\n",
    "    for i in range(n):\n",
    "        print(\" \".join(str(e) for e in ans_matrix[i]))\n",
    "        "
   ]
  },
  {
   "cell_type": "code",
   "execution_count": 28,
   "metadata": {},
   "outputs": [
    {
     "data": {
      "text/plain": [
       "[[1, 1, 1], [1, 1, 1], [1, 1, 1]]"
      ]
     },
     "execution_count": 28,
     "metadata": {},
     "output_type": "execute_result"
    }
   ],
   "source": [
    "ans_matrix"
   ]
  },
  {
   "cell_type": "code",
   "execution_count": 36,
   "metadata": {},
   "outputs": [
    {
     "name": "stdout",
     "output_type": "stream",
     "text": [
      "1 1 1\n",
      "1 1 1\n",
      "1 1 1\n"
     ]
    }
   ],
   "source": [
    "for i in range(3):\n",
    "    print(\" \".join(str(e) for e in ans_matrix[i]))"
   ]
  },
  {
   "cell_type": "code",
   "execution_count": null,
   "metadata": {},
   "outputs": [],
   "source": []
  }
 ],
 "metadata": {
  "kernelspec": {
   "display_name": "Python 3",
   "language": "python",
   "name": "python3"
  },
  "language_info": {
   "codemirror_mode": {
    "name": "ipython",
    "version": 3
   },
   "file_extension": ".py",
   "mimetype": "text/x-python",
   "name": "python",
   "nbconvert_exporter": "python",
   "pygments_lexer": "ipython3",
   "version": "3.8.5"
  }
 },
 "nbformat": 4,
 "nbformat_minor": 4
}
