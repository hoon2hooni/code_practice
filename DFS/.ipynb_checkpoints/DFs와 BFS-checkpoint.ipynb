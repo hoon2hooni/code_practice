{
 "cells": [
  {
   "cell_type": "code",
   "execution_count": 1,
   "metadata": {},
   "outputs": [
    {
     "name": "stdout",
     "output_type": "stream",
     "text": [
      "4 5 1\n",
      "1 2\n",
      "1 3\n",
      "1 4\n",
      "2 4\n",
      "3 4\n"
     ]
    }
   ],
   "source": [
    "n, m, start = map(int,input().split())\n",
    "from collections import deque\n",
    "from collections import defaultdict\n",
    "adj_graph =defaultdict(list)\n",
    "for i in range(m):\n",
    "    v1, v2 = map(int,input().split())\n",
    "    adj_graph[v1].append(v2)\n",
    "    adj_graph[v2].append(v1)\n",
    "\n",
    "def dfs(start):\n",
    "    visited = []\n",
    "    visited.append(start)\n",
    "    stack = [start]\n",
    "    while stack:\n",
    "        node = stack.pop()\n",
    "        for adj_node in adj_graph[node]:\n",
    "            if adj_node not in visited:\n",
    "                stack.append(adj_node)\n",
    "                visited.append(adj_node)\n",
    "                \n",
    "    return visited\n",
    "    "
   ]
  },
  {
   "cell_type": "code",
   "execution_count": 5,
   "metadata": {},
   "outputs": [],
   "source": [
    "def dfs(start):\n",
    "    visited = []\n",
    "    ans = []\n",
    "    visited.append(start)\n",
    "    stack = [start]\n",
    "    while stack:\n",
    "        node = stack.pop()\n",
    "        for adj_node in adj_graph[node]:\n",
    "            if adj_node not in visited:\n",
    "                ans.append(n)\n",
    "                stack.append(adj_node)\n",
    "                visited.append(adj_node)\n",
    "                \n",
    "    return ans"
   ]
  },
  {
   "cell_type": "code",
   "execution_count": 31,
   "metadata": {},
   "outputs": [
    {
     "name": "stdout",
     "output_type": "stream",
     "text": [
      "5 5 3\n",
      "5 4\n",
      "5 2\n",
      "1 2\n",
      "3 4\n",
      "3 1\n"
     ]
    }
   ],
   "source": [
    "n, m, start = map(int,input().split())\n",
    "from collections import deque\n",
    "from collections import defaultdict\n",
    "adj_graph =defaultdict(list)\n",
    "for i in range(m):\n",
    "    v1, v2 = map(int,input().split())\n",
    "    adj_graph[v1].append(v2)\n",
    "    adj_graph[v2].append(v1)\n",
    "def dfs(start,visited):\n",
    "    visited.append(start)\n",
    "    for adj_node in adj_graph[start]:\n",
    "        if adj_node not in visited:\n",
    "            dfs(adj_node,visited)\n",
    "    return visited\n",
    "for key in adj_graph.keys():\n",
    "    adj_graph[key] = sorted(adj_graph[key])\n",
    "print(start,[])"
   ]
  },
  {
   "cell_type": "code",
   "execution_count": 34,
   "metadata": {},
   "outputs": [],
   "source": [
    "for key in adj_graph.keys():\n",
    "    adj_graph[key] = sorted(adj_graph[key])"
   ]
  },
  {
   "cell_type": "code",
   "execution_count": 35,
   "metadata": {
    "scrolled": true
   },
   "outputs": [
    {
     "data": {
      "text/plain": [
       "[3, 1, 2, 5, 4]"
      ]
     },
     "execution_count": 35,
     "metadata": {},
     "output_type": "execute_result"
    }
   ],
   "source": [
    "dfs(start,[])"
   ]
  },
  {
   "cell_type": "code",
   "execution_count": 36,
   "metadata": {},
   "outputs": [
    {
     "data": {
      "text/plain": [
       "defaultdict(list, {5: [2, 4], 4: [3, 5], 2: [1, 5], 1: [2, 3], 3: [1, 4]})"
      ]
     },
     "execution_count": 36,
     "metadata": {},
     "output_type": "execute_result"
    }
   ],
   "source": [
    "adj_graph"
   ]
  },
  {
   "cell_type": "code",
   "execution_count": null,
   "metadata": {},
   "outputs": [],
   "source": []
  }
 ],
 "metadata": {
  "kernelspec": {
   "display_name": "Python 3",
   "language": "python",
   "name": "python3"
  },
  "language_info": {
   "codemirror_mode": {
    "name": "ipython",
    "version": 3
   },
   "file_extension": ".py",
   "mimetype": "text/x-python",
   "name": "python",
   "nbconvert_exporter": "python",
   "pygments_lexer": "ipython3",
   "version": "3.8.5"
  }
 },
 "nbformat": 4,
 "nbformat_minor": 4
}
