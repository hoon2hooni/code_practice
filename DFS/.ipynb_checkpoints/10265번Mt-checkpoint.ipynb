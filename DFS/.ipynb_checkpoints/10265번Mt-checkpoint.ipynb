{
 "cells": [
  {
   "cell_type": "code",
   "execution_count": 2,
   "metadata": {},
   "outputs": [
    {
     "name": "stdout",
     "output_type": "stream",
     "text": [
      "5 4\n",
      "2 3 1 5 4\n",
      "[1] [0, 0, 0, 0, 0, 0]\n",
      "[1, 2] [0, 0, 0, 0, 0, 0]\n",
      "[1, 2, 3] [0, 0, 0, 0, 0, 0]\n",
      "[4] [0, 3, 2, 1, 0, 0]\n",
      "[4, 5] [0, 3, 2, 1, 0, 0]\n",
      "3\n"
     ]
    }
   ],
   "source": [
    "from itertools import combinations\n",
    "n, limit = map(int, input().split())\n",
    "fav_list = list(map(int,input().split()))\n",
    "adj_graph ={k:v for k,v in zip(range(1,len(fav_list)+1),fav_list)}\n",
    "\n",
    "\n",
    "adj_graph\n",
    "\n",
    "def dfs(start):\n",
    "    visited =[]\n",
    "    visited.append(start)\n",
    "    stack =[start]\n",
    "    while stack:\n",
    "        print(visited,checklist)\n",
    "        parent = stack.pop()\n",
    "        child = adj_graph[parent]\n",
    "        if checklist[child] != 0:\n",
    "            for i in range(len(visited)):\n",
    "                checklist[visited[i]] = checklist[child] + i + 1\n",
    "        if child not in visited:\n",
    "            stack.append(child)\n",
    "            visited.append(child)\n",
    "        else:\n",
    "            for i in range(len(visited)):\n",
    "                checklist[visited[i]] = len(visited)-i\n",
    "            return len(visited)\n",
    "    return 0\n",
    "\n",
    "ans =[]\n",
    "checklist =[0]*(len(fav_list)+1)\n",
    "for i in range(1,len(fav_list)+1):\n",
    "    if checklist[i] != 0:\n",
    "        continue\n",
    "    else:\n",
    "        ans.append(dfs(i))\n",
    "\n",
    "optimal_ans = [n for n in ans if n <= limit]\n",
    "\n",
    "maximum = 0\n",
    "for i in range(1,len(optimal_ans)+1):\n",
    "    num_list = [sum(n) for n in combinations(optimal_ans,i) if sum(n) <= limit]\n",
    "    if num_list:\n",
    "        num = max(num_list)\n",
    "        if num > maximum:\n",
    "            maximum = num\n",
    "\n",
    "print(maximum)"
   ]
  },
  {
   "cell_type": "code",
   "execution_count": 35,
   "metadata": {
    "scrolled": true
   },
   "outputs": [
    {
     "name": "stdout",
     "output_type": "stream",
     "text": [
      "5 4\n",
      "2 3 1 5 4\n"
     ]
    }
   ],
   "source": [
    "n, n_limit = map(int, input().split())\n",
    "graph = [0] + list(map(int, input().split()))\n",
    "visited = [0] * len(graph)"
   ]
  },
  {
   "cell_type": "code",
   "execution_count": 27,
   "metadata": {},
   "outputs": [],
   "source": [
    "\n",
    "def dfs(node):\n",
    "    global depth_group\n",
    "    visited =[]\n",
    "    stack = []\n",
    "    stack.append(node)\n",
    "    visited.append(node)\n",
    "    while stack:\n",
    "        curr = stack.pop()\n",
    "        next = graph[curr]\n",
    "        #다음노드가 이미 방문했었다면?\n",
    "        if check_list[next] != 0:\n",
    "            length = depth_list[next] + len(visited)\n",
    "            for uncycle_node in visited:\n",
    "                check_list[uncycle_node] = 1\n",
    "                depth_list[uncycle_node] = length\n",
    "                depth_group.append(length)\n",
    "                length -= 1\n",
    "            return \n",
    "        #방문중에 싸이클이 발견됐다면?\n",
    "        if next in visited:\n",
    "            idx = visited.index(next)\n",
    "            length = len(visited)\n",
    "            for uncycle_node in visited[:idx]:\n",
    "                check_list[uncycle_node] = 1\n",
    "                depth_list[uncycle_node] = length\n",
    "                depth_group.append(length)\n",
    "                length -= 1\n",
    "            for cycle_node in visited[idx:]:\n",
    "                check_list[cycle_node] = 1\n",
    "                depth_list[cycle_node] = length\n",
    "            depth_group.append(length)\n",
    "            return\n",
    "        stack.append(next)\n",
    "        visited.append(next)\n",
    "\n",
    "        \n",
    "        \n",
    "        \n",
    "        \n",
    "        \n",
    "\n",
    "        "
   ]
  },
  {
   "cell_type": "code",
   "execution_count": 36,
   "metadata": {},
   "outputs": [
    {
     "name": "stdout",
     "output_type": "stream",
     "text": [
      "1\n",
      "[1]\n",
      "[0, 0, 0, 0, 0, 0]\n",
      "[1, 2]\n",
      "[0, 0, 0, 0, 0, 0]\n",
      "[1, 2, 3]\n",
      "[0, 0, 0, 0, 0, 0]\n",
      "4\n",
      "[4]\n",
      "[0, 1, 1, 1, 0, 0]\n",
      "[4, 5]\n",
      "[0, 1, 1, 1, 0, 0]\n"
     ]
    }
   ],
   "source": [
    "\n",
    "depth = [0] * len(graph)\n",
    "depth_list = [0] * len(graph)\n",
    "check_list = [0] * len(graph)\n",
    "depth_group = []\n",
    "for i in range(1,len(graph)):\n",
    "    if check_list[i] == 0:\n",
    "        print(i)\n",
    "        dfs(i)\n",
    "    "
   ]
  },
  {
   "cell_type": "code",
   "execution_count": 37,
   "metadata": {},
   "outputs": [
    {
     "data": {
      "text/plain": [
       "[3, 2]"
      ]
     },
     "execution_count": 37,
     "metadata": {},
     "output_type": "execute_result"
    }
   ],
   "source": [
    "depth_group"
   ]
  },
  {
   "cell_type": "code",
   "execution_count": 31,
   "metadata": {},
   "outputs": [
    {
     "data": {
      "text/plain": [
       "[0, 7, 6, 5, 4, 4, 4, 4, 5, 6, 6, 2, 1]"
      ]
     },
     "execution_count": 31,
     "metadata": {},
     "output_type": "execute_result"
    }
   ],
   "source": [
    "depth_list"
   ]
  },
  {
   "cell_type": "code",
   "execution_count": 43,
   "metadata": {},
   "outputs": [],
   "source": [
    "for i in range(1,n+1):\n",
    "    if visited[i] == 1:\n",
    "        continue\n",
    "    print(visited)\n",
    "    v = i\n",
    "    length = 0\n",
    "    while visited[v] == 0:\n",
    "        visited[v] = 1\n",
    "        v = graph[v]\n",
    "        length += 1\n",
    "    w = i\n",
    "    while w != v:\n",
    "        depth[w] = length\n",
    "        depth_list.append(length)\n",
    "        w = graph[w]\n",
    "        length -= 1\n",
    "    dfs(w,length)\n",
    "    \n",
    "    \n",
    "    depth_list.append(length)\n",
    "    \n",
    "def dfs(node,length):\n",
    "    new_visited = [0] * len(graph)\n",
    "    while new_visited[node] == 0:\n",
    "        depth[node] = length\n",
    "        new_visited[node] = 1\n",
    "        node = graph[node]\n",
    "    return\n",
    "\n",
    "    "
   ]
  },
  {
   "cell_type": "code",
   "execution_count": 46,
   "metadata": {},
   "outputs": [
    {
     "data": {
      "text/plain": [
       "[0, 7, 6, 5, 0, 0, 0, 0, 0, 1, 1, 2, 1]"
      ]
     },
     "execution_count": 46,
     "metadata": {},
     "output_type": "execute_result"
    }
   ],
   "source": [
    "def dfs(node,length):\n",
    "    new_visited = [0] * len(graph)\n",
    "    while new_visited[node] == 0:\n",
    "        depth[node] = length\n",
    "        new_visited[node] = 1\n",
    "        node = graph[node]\n",
    "    return"
   ]
  },
  {
   "cell_type": "code",
   "execution_count": 49,
   "metadata": {},
   "outputs": [],
   "source": [
    "dfs(4,4)"
   ]
  },
  {
   "cell_type": "code",
   "execution_count": 50,
   "metadata": {},
   "outputs": [
    {
     "data": {
      "text/plain": [
       "[0, 7, 6, 5, 4, 4, 4, 4, 0, 1, 1, 2, 1]"
      ]
     },
     "execution_count": 50,
     "metadata": {},
     "output_type": "execute_result"
    }
   ],
   "source": [
    "depth"
   ]
  },
  {
   "cell_type": "code",
   "execution_count": null,
   "metadata": {},
   "outputs": [],
   "source": []
  }
 ],
 "metadata": {
  "kernelspec": {
   "display_name": "Python 3",
   "language": "python",
   "name": "python3"
  },
  "language_info": {
   "codemirror_mode": {
    "name": "ipython",
    "version": 3
   },
   "file_extension": ".py",
   "mimetype": "text/x-python",
   "name": "python",
   "nbconvert_exporter": "python",
   "pygments_lexer": "ipython3",
   "version": "3.8.5"
  }
 },
 "nbformat": 4,
 "nbformat_minor": 4
}
