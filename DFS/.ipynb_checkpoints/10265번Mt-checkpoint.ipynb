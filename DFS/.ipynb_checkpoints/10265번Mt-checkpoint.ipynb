{
 "cells": [
  {
   "cell_type": "code",
   "execution_count": 2,
   "metadata": {},
   "outputs": [
    {
     "name": "stdout",
     "output_type": "stream",
     "text": [
      "5 4\n",
      "2 3 1 5 4\n",
      "[1] [0, 0, 0, 0, 0, 0]\n",
      "[1, 2] [0, 0, 0, 0, 0, 0]\n",
      "[1, 2, 3] [0, 0, 0, 0, 0, 0]\n",
      "[4] [0, 3, 2, 1, 0, 0]\n",
      "[4, 5] [0, 3, 2, 1, 0, 0]\n",
      "3\n"
     ]
    }
   ],
   "source": [
    "from itertools import combinations\n",
    "n, limit = map(int, input().split())\n",
    "fav_list = list(map(int,input().split()))\n",
    "adj_graph ={k:v for k,v in zip(range(1,len(fav_list)+1),fav_list)}\n",
    "\n",
    "\n",
    "adj_graph\n",
    "\n",
    "def dfs(start):\n",
    "    visited =[]\n",
    "    visited.append(start)\n",
    "    stack =[start]\n",
    "    while stack:\n",
    "        print(visited,checklist)\n",
    "        parent = stack.pop()\n",
    "        child = adj_graph[parent]\n",
    "        if checklist[child] != 0:\n",
    "            for i in range(len(visited)):\n",
    "                checklist[visited[i]] = checklist[child] + i + 1\n",
    "        if child not in visited:\n",
    "            stack.append(child)\n",
    "            visited.append(child)\n",
    "        else:\n",
    "            for i in range(len(visited)):\n",
    "                checklist[visited[i]] = len(visited)-i\n",
    "            return len(visited)\n",
    "    return 0\n",
    "\n",
    "ans =[]\n",
    "checklist =[0]*(len(fav_list)+1)\n",
    "for i in range(1,len(fav_list)+1):\n",
    "    if checklist[i] != 0:\n",
    "        continue\n",
    "    else:\n",
    "        ans.append(dfs(i))\n",
    "\n",
    "optimal_ans = [n for n in ans if n <= limit]\n",
    "\n",
    "maximum = 0\n",
    "for i in range(1,len(optimal_ans)+1):\n",
    "    num_list = [sum(n) for n in combinations(optimal_ans,i) if sum(n) <= limit]\n",
    "    if num_list:\n",
    "        num = max(num_list)\n",
    "        if num > maximum:\n",
    "            maximum = num\n",
    "\n",
    "print(maximum)"
   ]
  },
  {
   "cell_type": "code",
   "execution_count": 8,
   "metadata": {},
   "outputs": [
    {
     "data": {
      "text/plain": [
       "[3, 2]"
      ]
     },
     "execution_count": 8,
     "metadata": {},
     "output_type": "execute_result"
    }
   ],
   "source": []
  },
  {
   "cell_type": "code",
   "execution_count": 6,
   "metadata": {},
   "outputs": [
    {
     "data": {
      "text/plain": [
       "[0, 3, 2, 1, 2, 1]"
      ]
     },
     "execution_count": 6,
     "metadata": {},
     "output_type": "execute_result"
    }
   ],
   "source": [
    "checklist"
   ]
  },
  {
   "cell_type": "code",
   "execution_count": 86,
   "metadata": {},
   "outputs": [
    {
     "data": {
      "text/plain": [
       "[3, 3, 3, 3]"
      ]
     },
     "execution_count": 86,
     "metadata": {},
     "output_type": "execute_result"
    }
   ],
   "source": [
    "[sum(n) for n in combinations(optimal_ans,4) if sum(n) < limit]"
   ]
  },
  {
   "cell_type": "code",
   "execution_count": 79,
   "metadata": {},
   "outputs": [
    {
     "ename": "ValueError",
     "evalue": "max() arg is an empty sequence",
     "output_type": "error",
     "traceback": [
      "\u001b[0;31m---------------------------------------------------------------------------\u001b[0m",
      "\u001b[0;31mValueError\u001b[0m                                Traceback (most recent call last)",
      "\u001b[0;32m<ipython-input-79-a48d8f8c12de>\u001b[0m in \u001b[0;36m<module>\u001b[0;34m\u001b[0m\n\u001b[0;32m----> 1\u001b[0;31m \u001b[0mmax\u001b[0m\u001b[0;34m(\u001b[0m\u001b[0;34m[\u001b[0m\u001b[0;34m]\u001b[0m\u001b[0;34m)\u001b[0m\u001b[0;34m\u001b[0m\u001b[0;34m\u001b[0m\u001b[0m\n\u001b[0m",
      "\u001b[0;31mValueError\u001b[0m: max() arg is an empty sequence"
     ]
    }
   ],
   "source": [
    "5 4\n",
    "2 3 1 5 4\n",
    "3"
   ]
  },
  {
   "cell_type": "code",
   "execution_count": null,
   "metadata": {},
   "outputs": [],
   "source": []
  }
 ],
 "metadata": {
  "kernelspec": {
   "display_name": "Python 3",
   "language": "python",
   "name": "python3"
  },
  "language_info": {
   "codemirror_mode": {
    "name": "ipython",
    "version": 3
   },
   "file_extension": ".py",
   "mimetype": "text/x-python",
   "name": "python",
   "nbconvert_exporter": "python",
   "pygments_lexer": "ipython3",
   "version": "3.8.5"
  }
 },
 "nbformat": 4,
 "nbformat_minor": 4
}
