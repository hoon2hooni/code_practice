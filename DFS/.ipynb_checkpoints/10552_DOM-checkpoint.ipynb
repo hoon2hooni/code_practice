{
 "cells": [
  {
   "cell_type": "code",
   "execution_count": 9,
   "metadata": {},
   "outputs": [
    {
     "name": "stdout",
     "output_type": "stream",
     "text": [
      "3 3 1\n",
      "1 2\n",
      "2 3\n",
      "3 1\n",
      "-1\n"
     ]
    }
   ],
   "source": [
    "#dfs 함수\n",
    "def dfs(start):\n",
    "    cnt = 0\n",
    "    visited =set()\n",
    "    visited.add(start)\n",
    "    stack = [start]\n",
    "    while stack:\n",
    "        v = stack.pop()\n",
    "        for next_v in adj_graph[v]:\n",
    "            #순회 하면 -1\n",
    "            if next_v in visited:\n",
    "                cnt = -1\n",
    "                break\n",
    "            else:\n",
    "                stack.append(next_v)\n",
    "                visited.add(next_v)\n",
    "                cnt +=1\n",
    "    return cnt \n",
    "            \n",
    "if __name__ == \"__main__\":\n",
    "    import sys\n",
    "    input = sys.stdin.readline\n",
    "    n, m, p = map(int,input().split())\n",
    "    #채널 인접\n",
    "    adj_graph ={i:[] for i in range(1,m+1)}\n",
    "    for _ in range(n):\n",
    "        fav, hated = map(int,input().split())\n",
    "        #어린사람 우선순위 \n",
    "        if adj_graph[hated]:\n",
    "            continue\n",
    "        adj_graph[hated].append(fav)\n",
    "    print(dfs(p))"
   ]
  },
  {
   "cell_type": "code",
   "execution_count": null,
   "metadata": {},
   "outputs": [],
   "source": []
  }
 ],
 "metadata": {
  "kernelspec": {
   "display_name": "Python 3",
   "language": "python",
   "name": "python3"
  },
  "language_info": {
   "codemirror_mode": {
    "name": "ipython",
    "version": 3
   },
   "file_extension": ".py",
   "mimetype": "text/x-python",
   "name": "python",
   "nbconvert_exporter": "python",
   "pygments_lexer": "ipython3",
   "version": "3.8.5"
  }
 },
 "nbformat": 4,
 "nbformat_minor": 4
}
