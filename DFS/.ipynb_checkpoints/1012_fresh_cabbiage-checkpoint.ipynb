{
 "cells": [
  {
   "cell_type": "code",
   "execution_count": 13,
   "metadata": {},
   "outputs": [
    {
     "name": "stdout",
     "output_type": "stream",
     "text": [
      "[[0, 0, 1],\n",
      " [0, 0, 1],\n",
      " [0, 0, 1],\n",
      " [0, 0, 1],\n",
      " [1, 0, 1]]\n"
     ]
    }
   ],
   "source": [
    "# import pprint\n",
    "# row, col, n = map(int,input().split())\n",
    "# matrix = [[0]*col for _ in range(row)]\n",
    "# for i in range(n):\n",
    "#     row_loc, col_loc = map(int,input().split())\n",
    "#     matrix[row_loc][col_loc] = 1\n",
    "pprint.pprint(matrix, width=20)\n"
   ]
  },
  {
   "cell_type": "code",
   "execution_count": 15,
   "metadata": {},
   "outputs": [],
   "source": [
    "dr = [-1, 0, 1, 0]\n",
    "dc = [0, -1, 0, 1]\n",
    "\n",
    "def dfs(row_, col_, cnt):\n",
    "    stack = [row_, col_]\n",
    "    #처음 시작점을 방문했기에 0으로 해준다\n",
    "    matrix[row_][col_]  = 0\n",
    "    \n",
    "    while stack:\n",
    "        r, c = stack.pop()\n",
    "        for i in range(4): #상좌하우\n",
    "            updated_r = r + dr[i]\n",
    "            updated_c = c + dr[c]\n",
    "            \n",
    "            #이동한 좌표가 매트릭스 범위내에 있을때\n",
    "            if 0<= updated_r < row_length and \\\n",
    "            0 <= updated_c < col_length:\n",
    "                \n",
    "                #1이면 움직임 가능하기에 움직여주고, stackd에 넣어준다. 그리고 방문했기에 0으로 해준다.\n",
    "                if matrix[updated_r][updated_c] == 1:\n",
    "                    stack.append([updated_r, updated_c])\n",
    "                    matrix[updated_r][updated_c] = 0\n",
    "\n",
    "    #하나의 시작점에서 dfs가 끝나게되면 지렁이 갯수 추가\n",
    "    return cnt + 1\n",
    "                    \n",
    "                    \n",
    "#main 함수\n",
    "def get_swarms(cnt):\n",
    "    for r in range(row):\n",
    "        for c in range(col):\n",
    "            #cnt 추가됨\n",
    "            if matrix[r][c] == 1:\n",
    "                cnt = dfs(r,c,cnt)\n",
    "    return cnt\n",
    "                "
   ]
  },
  {
   "cell_type": "code",
   "execution_count": 14,
   "metadata": {},
   "outputs": [
    {
     "data": {
      "text/plain": [
       "[0, 1, 0, 2]"
      ]
     },
     "execution_count": 14,
     "metadata": {},
     "output_type": "execute_result"
    }
   ],
   "source": []
  },
  {
   "cell_type": "code",
   "execution_count": null,
   "metadata": {},
   "outputs": [],
   "source": []
  }
 ],
 "metadata": {
  "kernelspec": {
   "display_name": "Python 3",
   "language": "python",
   "name": "python3"
  },
  "language_info": {
   "codemirror_mode": {
    "name": "ipython",
    "version": 3
   },
   "file_extension": ".py",
   "mimetype": "text/x-python",
   "name": "python",
   "nbconvert_exporter": "python",
   "pygments_lexer": "ipython3",
   "version": "3.8.5"
  }
 },
 "nbformat": 4,
 "nbformat_minor": 4
}
