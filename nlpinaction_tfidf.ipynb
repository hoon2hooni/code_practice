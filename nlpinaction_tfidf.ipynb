{
  "nbformat": 4,
  "nbformat_minor": 0,
  "metadata": {
    "colab": {
      "name": "nlpinaction_tfidf.ipynb",
      "provenance": [],
      "authorship_tag": "ABX9TyM+5JYEupN4AZ5DIHdTSC9j",
      "include_colab_link": true
    },
    "kernelspec": {
      "name": "python3",
      "display_name": "Python 3"
    }
  },
  "cells": [
    {
      "cell_type": "markdown",
      "metadata": {
        "id": "view-in-github",
        "colab_type": "text"
      },
      "source": [
        "<a href=\"https://colab.research.google.com/github/hoon2hooni/code_practice/blob/master/nlpinaction_tfidf.ipynb\" target=\"_parent\"><img src=\"https://colab.research.google.com/assets/colab-badge.svg\" alt=\"Open In Colab\"/></a>"
      ]
    },
    {
      "cell_type": "code",
      "metadata": {
        "colab": {
          "base_uri": "https://localhost:8080/"
        },
        "id": "8afkxIiedbzi",
        "outputId": "365e7c30-f90a-41d4-8a43-23052ae9d94f"
      },
      "source": [
        "from nltk.tokenize import TreebankWordTokenizer\n",
        "sentence = \"\"\"The faster Harry got to the store, the faster Harry, the faster, would get home.\"\"\"\n",
        "tokenizer = TreebankWordTokenizer()\n",
        "tokens = tokenizer.tokenize(sentence.lower())\n",
        "\n",
        "from collections import Counter\n",
        "bag_of_words = Counter(tokens)\n",
        "bag_of_words"
      ],
      "execution_count": 3,
      "outputs": [
        {
          "output_type": "execute_result",
          "data": {
            "text/plain": [
              "Counter({',': 3,\n",
              "         '.': 1,\n",
              "         'faster': 3,\n",
              "         'get': 1,\n",
              "         'got': 1,\n",
              "         'harry': 2,\n",
              "         'home': 1,\n",
              "         'store': 1,\n",
              "         'the': 4,\n",
              "         'to': 1,\n",
              "         'would': 1})"
            ]
          },
          "metadata": {
            "tags": []
          },
          "execution_count": 3
        }
      ]
    },
    {
      "cell_type": "code",
      "metadata": {
        "colab": {
          "base_uri": "https://localhost:8080/"
        },
        "id": "HkwbD347dlGP",
        "outputId": "ba5ed413-ce7d-4557-893c-8ece27af928a"
      },
      "source": [
        "bag_of_words.most_common(4)"
      ],
      "execution_count": 4,
      "outputs": [
        {
          "output_type": "execute_result",
          "data": {
            "text/plain": [
              "[('the', 4), ('faster', 3), (',', 3), ('harry', 2)]"
            ]
          },
          "metadata": {
            "tags": []
          },
          "execution_count": 4
        }
      ]
    },
    {
      "cell_type": "code",
      "metadata": {
        "id": "aPX3beaFeCYc"
      },
      "source": [
        "import nltk\n",
        "nltk.download('stopwords', quiet = True)\n",
        "stopwords = nltk.corpus.stopwords.words('english')"
      ],
      "execution_count": 8,
      "outputs": []
    },
    {
      "cell_type": "code",
      "metadata": {
        "id": "pVs4x-61eV4Y"
      },
      "source": [
        "tokens = [x for x in tokens if x not in stopwords]"
      ],
      "execution_count": 9,
      "outputs": []
    },
    {
      "cell_type": "code",
      "metadata": {
        "id": "1DHcp4SAeo_5"
      },
      "source": [
        "kite_counts = Counter(tokens)"
      ],
      "execution_count": 11,
      "outputs": []
    },
    {
      "cell_type": "code",
      "metadata": {
        "colab": {
          "base_uri": "https://localhost:8080/"
        },
        "id": "Tp289RyQeq7O",
        "outputId": "88c46225-0804-4d54-ffaa-13455ac9d710"
      },
      "source": [
        "kite_counts"
      ],
      "execution_count": 12,
      "outputs": [
        {
          "output_type": "execute_result",
          "data": {
            "text/plain": [
              "Counter({',': 3,\n",
              "         '.': 1,\n",
              "         'faster': 3,\n",
              "         'get': 1,\n",
              "         'got': 1,\n",
              "         'harry': 2,\n",
              "         'home': 1,\n",
              "         'store': 1,\n",
              "         'would': 1})"
            ]
          },
          "metadata": {
            "tags": []
          },
          "execution_count": 12
        }
      ]
    },
    {
      "cell_type": "code",
      "metadata": {
        "id": "tiFuBmDveuW5"
      },
      "source": [
        "document_vector = []\n",
        "doc_length = len(tokens)\n",
        "for key, value in kite_counts.most_common():\n",
        "    document_vector.append(value/doc_length)\n",
        "    "
      ],
      "execution_count": 13,
      "outputs": []
    },
    {
      "cell_type": "code",
      "metadata": {
        "colab": {
          "base_uri": "https://localhost:8080/"
        },
        "id": "7j6PIFP2fJW4",
        "outputId": "6d3241d4-a0ab-4e46-8043-9af1a03fe21a"
      },
      "source": [
        "document_vector"
      ],
      "execution_count": 14,
      "outputs": [
        {
          "output_type": "execute_result",
          "data": {
            "text/plain": [
              "[0.21428571428571427,\n",
              " 0.21428571428571427,\n",
              " 0.14285714285714285,\n",
              " 0.07142857142857142,\n",
              " 0.07142857142857142,\n",
              " 0.07142857142857142,\n",
              " 0.07142857142857142,\n",
              " 0.07142857142857142,\n",
              " 0.07142857142857142]"
            ]
          },
          "metadata": {
            "tags": []
          },
          "execution_count": 14
        }
      ]
    },
    {
      "cell_type": "code",
      "metadata": {
        "id": "paG1vKBcfKvO"
      },
      "source": [
        "docs = [\"The faster Harry got to the store, the faster and faster \\\n",
        "Harry would get home.\"]\n",
        "docs.append(\"Harry is hairy and faster than Jill\")\n",
        "docs.append(\"Jill is not as hairy as Harry.\")"
      ],
      "execution_count": 20,
      "outputs": []
    },
    {
      "cell_type": "code",
      "metadata": {
        "id": "jM7P8PuMf_44"
      },
      "source": [
        "doc_tokens = []\n",
        "for doc in docs:\n",
        "    doc_tokens += [sorted(tokenizer.tokenize(doc.lower()))]"
      ],
      "execution_count": 21,
      "outputs": []
    },
    {
      "cell_type": "code",
      "metadata": {
        "colab": {
          "base_uri": "https://localhost:8080/"
        },
        "id": "hVr8-YR5gInw",
        "outputId": "3714bede-769e-464b-cf35-2f579093434e"
      },
      "source": [
        "doc_tokens"
      ],
      "execution_count": 22,
      "outputs": [
        {
          "output_type": "execute_result",
          "data": {
            "text/plain": [
              "[[',',\n",
              "  '.',\n",
              "  'and',\n",
              "  'faster',\n",
              "  'faster',\n",
              "  'faster',\n",
              "  'get',\n",
              "  'got',\n",
              "  'harry',\n",
              "  'harry',\n",
              "  'home',\n",
              "  'store',\n",
              "  'the',\n",
              "  'the',\n",
              "  'the',\n",
              "  'to',\n",
              "  'would'],\n",
              " ['and', 'faster', 'hairy', 'harry', 'is', 'jill', 'than'],\n",
              " ['.', 'as', 'as', 'hairy', 'harry', 'is', 'jill', 'not']]"
            ]
          },
          "metadata": {
            "tags": []
          },
          "execution_count": 22
        }
      ]
    },
    {
      "cell_type": "code",
      "metadata": {
        "id": "_xttrQ1ZgVLW"
      },
      "source": [
        "len(doc_tokens[0])\n",
        "all_doc_tokens = sum(doc_tokens, [])#배열 다 합치는방법 메모"
      ],
      "execution_count": 25,
      "outputs": []
    },
    {
      "cell_type": "code",
      "metadata": {
        "colab": {
          "base_uri": "https://localhost:8080/"
        },
        "id": "UCxIiJSfgrjZ",
        "outputId": "a1d181a7-5a29-414a-927d-e07ab0bb43df"
      },
      "source": [
        "len(all_doc_tokens)\n"
      ],
      "execution_count": 27,
      "outputs": [
        {
          "output_type": "execute_result",
          "data": {
            "text/plain": [
              "32"
            ]
          },
          "metadata": {
            "tags": []
          },
          "execution_count": 27
        }
      ]
    },
    {
      "cell_type": "code",
      "metadata": {
        "id": "i276JzhUgzW4"
      },
      "source": [
        "lexicon = sorted(set(all_doc_tokens))"
      ],
      "execution_count": 28,
      "outputs": []
    },
    {
      "cell_type": "code",
      "metadata": {
        "colab": {
          "base_uri": "https://localhost:8080/"
        },
        "id": "h_RJ0VdYg_2D",
        "outputId": "07c6161f-cdcc-420e-d630-9c7e0841045e"
      },
      "source": [
        "len(lexicon)"
      ],
      "execution_count": 29,
      "outputs": [
        {
          "output_type": "execute_result",
          "data": {
            "text/plain": [
              "18"
            ]
          },
          "metadata": {
            "tags": []
          },
          "execution_count": 29
        }
      ]
    },
    {
      "cell_type": "code",
      "metadata": {
        "colab": {
          "base_uri": "https://localhost:8080/"
        },
        "id": "QmUEtLkahA1u",
        "outputId": "920f2ca4-bf1d-4850-880e-176a4afe7854"
      },
      "source": [
        "lexicon"
      ],
      "execution_count": 30,
      "outputs": [
        {
          "output_type": "execute_result",
          "data": {
            "text/plain": [
              "[',',\n",
              " '.',\n",
              " 'and',\n",
              " 'as',\n",
              " 'faster',\n",
              " 'get',\n",
              " 'got',\n",
              " 'hairy',\n",
              " 'harry',\n",
              " 'home',\n",
              " 'is',\n",
              " 'jill',\n",
              " 'not',\n",
              " 'store',\n",
              " 'than',\n",
              " 'the',\n",
              " 'to',\n",
              " 'would']"
            ]
          },
          "metadata": {
            "tags": []
          },
          "execution_count": 30
        }
      ]
    },
    {
      "cell_type": "code",
      "metadata": {
        "id": "azw559gZhCKc"
      },
      "source": [
        "from collections import OrderedDict\n",
        "zero_vector = OrderedDict((token,0) for token in lexicon)"
      ],
      "execution_count": 32,
      "outputs": []
    },
    {
      "cell_type": "code",
      "metadata": {
        "colab": {
          "base_uri": "https://localhost:8080/"
        },
        "id": "cvBwePYThSMv",
        "outputId": "0a958b7c-ba55-41c1-ea12-04e76cc22047"
      },
      "source": [
        "zero_vector"
      ],
      "execution_count": 33,
      "outputs": [
        {
          "output_type": "execute_result",
          "data": {
            "text/plain": [
              "OrderedDict([(',', 0),\n",
              "             ('.', 0),\n",
              "             ('and', 0),\n",
              "             ('as', 0),\n",
              "             ('faster', 0),\n",
              "             ('get', 0),\n",
              "             ('got', 0),\n",
              "             ('hairy', 0),\n",
              "             ('harry', 0),\n",
              "             ('home', 0),\n",
              "             ('is', 0),\n",
              "             ('jill', 0),\n",
              "             ('not', 0),\n",
              "             ('store', 0),\n",
              "             ('than', 0),\n",
              "             ('the', 0),\n",
              "             ('to', 0),\n",
              "             ('would', 0)])"
            ]
          },
          "metadata": {
            "tags": []
          },
          "execution_count": 33
        }
      ]
    },
    {
      "cell_type": "code",
      "metadata": {
        "id": "EB6KZPHjheHU"
      },
      "source": [
        "import copy\n",
        "doc_vectors = []\n",
        "for doc in docs:\n",
        "    vec = copy.copy(zero_vector) #메모리 복사가 아닌 값만 복사\n",
        "    tokens = tokenizer.tokenize(doc.lower()) #nltk tokenizer활용\n",
        "    token_counts = Counter(tokens) #token화 된거 Counter로 각 토큰당 빈도수 형식으로 만들어줌\n",
        "    for key, value in token_counts.items(): #key 단어 value 값\n",
        "        vec[key] =value/len(lexicon) #vec dict에 단어를 value/총 단어\n",
        "    doc_vectors.append(vec)"
      ],
      "execution_count": 36,
      "outputs": []
    },
    {
      "cell_type": "code",
      "metadata": {
        "colab": {
          "base_uri": "https://localhost:8080/"
        },
        "id": "xEtMHY7VjOOj",
        "outputId": "9eacc225-c3db-4d34-f2e9-7126f0031b35"
      },
      "source": [
        ""
      ],
      "execution_count": 38,
      "outputs": [
        {
          "output_type": "execute_result",
          "data": {
            "text/plain": [
              "list"
            ]
          },
          "metadata": {
            "tags": []
          },
          "execution_count": 38
        }
      ]
    },
    {
      "cell_type": "code",
      "metadata": {
        "id": "PWZ9PguPjdSC"
      },
      "source": [
        "#코사인 유사도 구하는 함수\n",
        "\n",
        "import math\n",
        "\n",
        "def cosine_sim(vec1, vec2):\n",
        "\n",
        "    vec1 = [val for val in vec1.values()]\n",
        "    vec2 = [val for val in vec2.values()]\n",
        "    dot_prod = 0\n",
        "    for i, v_1 in enumerate(vec1):\n",
        "        dot_prod += v_1 * vec2[i]\n",
        "    mag_1 = math.sqrt(sum([x**2 for x in vec1]))\n",
        "    mag_2 = math.sqrt(sum([x**2 for x in vec2]))\n",
        "\n",
        "    return dot_prod/(mag_1 * mag_2) #-1 에서 1 범위"
      ],
      "execution_count": 48,
      "outputs": []
    },
    {
      "cell_type": "code",
      "metadata": {
        "colab": {
          "base_uri": "https://localhost:8080/"
        },
        "id": "5XqeOr51lk2P",
        "outputId": "e4a5116c-b647-4321-b9d0-287d4b1a988c"
      },
      "source": [
        "#tf idf\n",
        "document_tfidf_vectors =[]\n",
        "for doc in docs:\n",
        "    vec = copy.copy(zero_vector)\n",
        "    tokens = tokenizer.tokenize(doc.lower())\n",
        "    token_counts = Counter(tokens)\n",
        "\n",
        "    for key, value in token_counts.items():\n",
        "        docs_containing_key = 0 \n",
        "        for _doc in docs:\n",
        "            if key in _doc:\n",
        "                docs_containing_key += 1\n",
        "        tf = value / len(lexicon)\n",
        "        if docs_containing_key:\n",
        "            idf = len(docs) / docs_containing_key\n",
        "        else:\n",
        "            idf = 0 \n",
        "        vec[key] = tf * idf\n",
        "    document_tfidf_vectors.append(vec)\n",
        "\n",
        "query = \"How long does it take to get to the store?\"\n",
        "query_vec = copy.copy(zero_vector)\n",
        "tokens = tokenizer.tokenize(query.lower())\n",
        "token_counts = Counter(tokens)\n",
        "\n",
        "for key, value in token_counts.items():\n",
        "    docs_containing_key = 0 \n",
        "    for _doc in docs:\n",
        "        if key in _doc.lower():\n",
        "            docs_containing_key +=1\n",
        "    if docs_containing_key == 0:\n",
        "        continue\n",
        "    tf = value/len(tokens)\n",
        "    idf = len(docs) / docs_containing_key\n",
        "    query_vec[key] = tf * idf\n",
        "\n",
        "cosine_sim(query_vec, document_tfidf_vectors[0])\n",
        "\n"
      ],
      "execution_count": 49,
      "outputs": [
        {
          "output_type": "execute_result",
          "data": {
            "text/plain": [
              "0.6110100926607784"
            ]
          },
          "metadata": {
            "tags": []
          },
          "execution_count": 49
        }
      ]
    },
    {
      "cell_type": "code",
      "metadata": {
        "colab": {
          "base_uri": "https://localhost:8080/"
        },
        "id": "IqranxSVrjpe",
        "outputId": "92bdef77-3f97-4950-e5d7-8d75dd436bc3"
      },
      "source": [
        ""
      ],
      "execution_count": 42,
      "outputs": [
        {
          "output_type": "execute_result",
          "data": {
            "text/plain": [
              "[OrderedDict([(',', 0.16666666666666666),\n",
              "              ('.', 0.08333333333333333),\n",
              "              ('and', 0.08333333333333333),\n",
              "              ('as', 0),\n",
              "              ('faster', 0.25),\n",
              "              ('get', 0.16666666666666666),\n",
              "              ('got', 0.16666666666666666),\n",
              "              ('hairy', 0),\n",
              "              ('harry', 0.0),\n",
              "              ('home', 0.16666666666666666),\n",
              "              ('is', 0),\n",
              "              ('jill', 0),\n",
              "              ('not', 0),\n",
              "              ('store', 0.16666666666666666),\n",
              "              ('than', 0),\n",
              "              ('the', 0.5),\n",
              "              ('to', 0.16666666666666666),\n",
              "              ('would', 0.16666666666666666)]),\n",
              " OrderedDict([(',', 0),\n",
              "              ('.', 0),\n",
              "              ('and', 0.08333333333333333),\n",
              "              ('as', 0),\n",
              "              ('faster', 0.08333333333333333),\n",
              "              ('get', 0),\n",
              "              ('got', 0),\n",
              "              ('hairy', 0.08333333333333333),\n",
              "              ('harry', 0.0),\n",
              "              ('home', 0),\n",
              "              ('is', 0.08333333333333333),\n",
              "              ('jill', 0.0),\n",
              "              ('not', 0),\n",
              "              ('store', 0),\n",
              "              ('than', 0.16666666666666666),\n",
              "              ('the', 0),\n",
              "              ('to', 0),\n",
              "              ('would', 0)]),\n",
              " OrderedDict([(',', 0),\n",
              "              ('.', 0.08333333333333333),\n",
              "              ('and', 0),\n",
              "              ('as', 0.1111111111111111),\n",
              "              ('faster', 0),\n",
              "              ('get', 0),\n",
              "              ('got', 0),\n",
              "              ('hairy', 0.08333333333333333),\n",
              "              ('harry', 0.0),\n",
              "              ('home', 0),\n",
              "              ('is', 0.08333333333333333),\n",
              "              ('jill', 0.0),\n",
              "              ('not', 0.16666666666666666),\n",
              "              ('store', 0),\n",
              "              ('than', 0),\n",
              "              ('the', 0),\n",
              "              ('to', 0),\n",
              "              ('would', 0)])]"
            ]
          },
          "metadata": {
            "tags": []
          },
          "execution_count": 42
        }
      ]
    },
    {
      "cell_type": "code",
      "metadata": {
        "id": "Lsn_Qy-2roxh"
      },
      "source": [
        "from sklearn.feature_extraction.text import TfidfVectorizer\n",
        "corpus = docs\n",
        "vectorizer = TfidfVectorizer(min_df = 1)\n",
        "model = vectorizer.fit_transform(corpus)"
      ],
      "execution_count": 50,
      "outputs": []
    },
    {
      "cell_type": "code",
      "metadata": {
        "colab": {
          "base_uri": "https://localhost:8080/"
        },
        "id": "wD_AchYntBVA",
        "outputId": "73df511c-0f23-45e3-dc49-ddcd324b52e9"
      },
      "source": [
        "print(model.todense().round(2))"
      ],
      "execution_count": 53,
      "outputs": [
        {
          "output_type": "stream",
          "text": [
            "[[0.16 0.   0.48 0.21 0.21 0.   0.25 0.21 0.   0.   0.   0.21 0.   0.64\n",
            "  0.21 0.21]\n",
            " [0.37 0.   0.37 0.   0.   0.37 0.29 0.   0.37 0.37 0.   0.   0.49 0.\n",
            "  0.   0.  ]\n",
            " [0.   0.75 0.   0.   0.   0.29 0.22 0.   0.29 0.29 0.38 0.   0.   0.\n",
            "  0.   0.  ]]\n"
          ],
          "name": "stdout"
        }
      ]
    },
    {
      "cell_type": "code",
      "metadata": {
        "id": "l5P0e2HTtDrj"
      },
      "source": [
        ""
      ],
      "execution_count": null,
      "outputs": []
    }
  ]
}