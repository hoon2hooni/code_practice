{
 "cells": [
  {
   "cell_type": "code",
   "execution_count": 3,
   "metadata": {},
   "outputs": [
    {
     "name": "stdout",
     "output_type": "stream",
     "text": [
      "3 3\n",
      "1 0 0\n",
      "0 0 0\n",
      "1 1 1\n"
     ]
    },
    {
     "ename": "NameError",
     "evalue": "name 'cnt' is not defined",
     "output_type": "error",
     "traceback": [
      "\u001b[0;31m---------------------------------------------------------------------------\u001b[0m",
      "\u001b[0;31mNameError\u001b[0m                                 Traceback (most recent call last)",
      "\u001b[0;32m<ipython-input-3-3d30b00a4df8>\u001b[0m in \u001b[0;36m<module>\u001b[0;34m\u001b[0m\n\u001b[1;32m     68\u001b[0m                     \u001b[0mnew_cheeze_contact_less_two\u001b[0m\u001b[0;34m.\u001b[0m\u001b[0mappend\u001b[0m\u001b[0;34m(\u001b[0m\u001b[0;34m[\u001b[0m\u001b[0mr\u001b[0m\u001b[0;34m,\u001b[0m\u001b[0mc\u001b[0m\u001b[0;34m]\u001b[0m\u001b[0;34m)\u001b[0m\u001b[0;34m\u001b[0m\u001b[0;34m\u001b[0m\u001b[0m\n\u001b[1;32m     69\u001b[0m         \u001b[0mcheeze_contact_less_two\u001b[0m \u001b[0;34m=\u001b[0m \u001b[0mnew_cheeze_contact_less_two\u001b[0m\u001b[0;34m\u001b[0m\u001b[0;34m\u001b[0m\u001b[0m\n\u001b[0;32m---> 70\u001b[0;31m         \u001b[0mcnt\u001b[0m \u001b[0;34m+=\u001b[0m \u001b[0;36m1\u001b[0m\u001b[0;34m\u001b[0m\u001b[0;34m\u001b[0m\u001b[0m\n\u001b[0m\u001b[1;32m     71\u001b[0m         \u001b[0;32mfor\u001b[0m \u001b[0mr\u001b[0m\u001b[0;34m,\u001b[0m\u001b[0mc\u001b[0m \u001b[0;32min\u001b[0m \u001b[0mnew_cheeze_contact_over_two\u001b[0m\u001b[0;34m:\u001b[0m\u001b[0;34m\u001b[0m\u001b[0;34m\u001b[0m\u001b[0m\n\u001b[1;32m     72\u001b[0m             \u001b[0mmatrix\u001b[0m\u001b[0;34m[\u001b[0m\u001b[0mr\u001b[0m\u001b[0;34m]\u001b[0m\u001b[0;34m[\u001b[0m\u001b[0mc\u001b[0m\u001b[0;34m]\u001b[0m \u001b[0;34m=\u001b[0m \u001b[0;36m2\u001b[0m\u001b[0;34m\u001b[0m\u001b[0;34m\u001b[0m\u001b[0m\n",
      "\u001b[0;31mNameError\u001b[0m: name 'cnt' is not defined"
     ]
    }
   ],
   "source": [
    "#체크하는부분\n",
    "def check(r,c):\n",
    "    dr =[-1, 0, 1, 0]\n",
    "    dc =[0, -1, 0, 1]\n",
    "    cnt = 0\n",
    "    for i in range(4):\n",
    "        next_r, next_c = r +dr[i], c +dc[i]\n",
    "        if (\n",
    "            0 <= next_r < row_count\n",
    "            and 0 <= next_c < col_count\n",
    "        ):\n",
    "            if matrix[next_r][next_c] == 2:\n",
    "                cnt += 1\n",
    "        if cnt == 2:\n",
    "            return True\n",
    "    else:\n",
    "        return False\n",
    "    \n",
    "#dfs로 바깥 부분 air찾기\n",
    "def dfs(r,c):\n",
    "    dr =[-1, 0, 1, 0]\n",
    "    dc =[0, -1, 0, 1]\n",
    "    for i in range(4):\n",
    "        next_r, next_c = r +dr[i], c + dc[i]\n",
    "        if (\n",
    "            0 <= next_r < row_count\n",
    "            and 0 <= next_c < col_count\n",
    "        ):\n",
    "            if matrix[next_r][next_c] == 0:\n",
    "                matrix[next_r][next_c] = 2\n",
    "                dfs(next_r,next_c)\n",
    "\n",
    "row_count, col_count = map(int,input().split())\n",
    "matrix = []\n",
    "for _ in range(row_count):\n",
    "    matrix.append(list(map(int,input().split())))\n",
    "ans = 0\n",
    "#첫번째 과정\n",
    "cheeze_contact_over_two =[]\n",
    "cheeze_contact_less_two =[]\n",
    "for r in range(row_count):\n",
    "    for c in range(col_count):\n",
    "        if matrix[r][c] == 1:\n",
    "            if check(r,c) is True:\n",
    "                cheeze_contact_over_two.append([r,c])\n",
    "            else:    \n",
    "                cheeze_contact_less_two.append([r,c])\n",
    "                \n",
    "if not cheeze_contact_less_two and not cheeze_contact_over_two:\n",
    "    print(0)\n",
    "else:\n",
    "    for r,c in cheeze_contact_over_two:\n",
    "        matrix[r][c] = 2\n",
    "        \n",
    "    #뚫린부분에서 dfs해주기\n",
    "    for r,c in cheeze_contact_over_two:\n",
    "        dfs(r,c)\n",
    "    #이후 반복 과정\n",
    "    ans += 1\n",
    "    while cheeze_contact_less_two:\n",
    "        new_cheeze_contact_over_two =[]\n",
    "        new_cheeze_contact_less_two =[]\n",
    "        for r,c in cheeze_contact_less_two:\n",
    "            if matrix[r][c] == 1:\n",
    "                if check(r,c) is True:\n",
    "                    new_cheeze_contact_over_two.append([r,c])\n",
    "                else:    \n",
    "                    new_cheeze_contact_less_two.append([r,c])\n",
    "        cheeze_contact_less_two = new_cheeze_contact_less_two\n",
    "        cnt += 1\n",
    "        for r,c in new_cheeze_contact_over_two:\n",
    "            matrix[r][c] = 2\n",
    "        for r,c in new_cheeze_contact_over_two:\n",
    "            dfs(r,c)\n",
    "    print(ans)\n",
    "                 \n",
    "    \n",
    "    \n",
    "    \n",
    "                "
   ]
  },
  {
   "cell_type": "code",
   "execution_count": 7,
   "metadata": {},
   "outputs": [
    {
     "data": {
      "text/plain": [
       "220"
      ]
     },
     "execution_count": 7,
     "metadata": {},
     "output_type": "execute_result"
    }
   ],
   "source": []
  },
  {
   "cell_type": "code",
   "execution_count": null,
   "metadata": {},
   "outputs": [],
   "source": []
  }
 ],
 "metadata": {
  "kernelspec": {
   "display_name": "Python 3",
   "language": "python",
   "name": "python3"
  },
  "language_info": {
   "codemirror_mode": {
    "name": "ipython",
    "version": 3
   },
   "file_extension": ".py",
   "mimetype": "text/x-python",
   "name": "python",
   "nbconvert_exporter": "python",
   "pygments_lexer": "ipython3",
   "version": "3.8.5"
  }
 },
 "nbformat": 4,
 "nbformat_minor": 4
}
