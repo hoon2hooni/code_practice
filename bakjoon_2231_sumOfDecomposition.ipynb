{
  "nbformat": 4,
  "nbformat_minor": 0,
  "metadata": {
    "colab": {
      "name": "bakjoon_2231_sumOfDecomposition.ipynb",
      "provenance": [],
      "authorship_tag": "ABX9TyPH3RmtSQEGBGUAEn+7/U+k",
      "include_colab_link": true
    },
    "kernelspec": {
      "name": "python3",
      "display_name": "Python 3"
    }
  },
  "cells": [
    {
      "cell_type": "markdown",
      "metadata": {
        "id": "view-in-github",
        "colab_type": "text"
      },
      "source": [
        "<a href=\"https://colab.research.google.com/github/hoon2hooni/code_practice/blob/master/bakjoon_2231_sumOfDecomposition.ipynb\" target=\"_parent\"><img src=\"https://colab.research.google.com/assets/colab-badge.svg\" alt=\"Open In Colab\"/></a>"
      ]
    },
    {
      "cell_type": "code",
      "metadata": {
        "id": "6xbNaKk4mRK1"
      },
      "source": [
        "\n",
        "result = int(input())\n",
        "def decomposition(n): #정수형들어옴\n",
        "    amount = n\n",
        "    for i in str(n):\n",
        "        amount += int(i)\n",
        "    return amount\n",
        "\n",
        "answer = 0 #내가 빠트린 부분 만약 부분합 없으면 0으로 출력해주어야함\n",
        "for i in range(1, result+1):\n",
        "    if decomposition(i) == result:\n",
        "        answer = i\n",
        "        break\n",
        "    \n",
        "print(answer)\n",
        "\n",
        "#정답코드\n",
        "N = int(input())\n",
        "print_num = 0\n",
        "for i in range(1, N+1):\n",
        "    div_num = list(map(int, str(i)))#따로 함수안만들어주고 map과 sum 활용 이거 기억하자\n",
        "    sum_num = i + sum(div_num)\n",
        "    if(sum_num == N):\n",
        "        print_num = i\n",
        "        break\n",
        "print(print_num)"
      ],
      "execution_count": null,
      "outputs": []
    }
  ]
}