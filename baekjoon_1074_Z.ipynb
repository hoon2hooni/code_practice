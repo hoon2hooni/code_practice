{
 "cells": [
  {
   "cell_type": "code",
   "execution_count": 28,
   "metadata": {},
   "outputs": [],
   "source": [
    "def get_nums(start_row,start_col,cnt):\n",
    "    flag = False\n",
    "    for i in range(2):\n",
    "        for j in range(2):\n",
    "            cnt += 1\n",
    "            #print(start_row+i,start_col+j,cnt)\n",
    "            if idx == (start_row + i,start_col + j):\n",
    "                flag = True\n",
    "                break\n",
    "    return cnt , flag\n",
    "\n",
    "def main_divided(start_row,start_col,size):\n",
    "    global num\n",
    "    if size == 2:\n",
    "        num, check = get_nums(start_row,start_col,num)\n",
    "        if check == True:\n",
    "            print(num)\n",
    "        \n",
    "    else:\n",
    "        for i in range(2):\n",
    "            for j in range(2):\n",
    "                r = start_row+(size*i//2)\n",
    "                c = start_col+(size*j//2)\n",
    "                main_divided(r,c,size//2)\n",
    "            "
   ]
  },
  {
   "cell_type": "code",
   "execution_count": 31,
   "metadata": {},
   "outputs": [
    {
     "name": "stdout",
     "output_type": "stream",
     "text": [
      "11\n"
     ]
    }
   ],
   "source": [
    "idx = (3,1)\n",
    "num = -\n",
    "main_divided(0,0,2**2)"
   ]
  },
  {
   "cell_type": "code",
   "execution_count": 33,
   "metadata": {},
   "outputs": [
    {
     "name": "stdout",
     "output_type": "stream",
     "text": [
      "2 3 1\n",
      "0 0\n",
      "0 2\n",
      "2 0\n",
      "11\n",
      "2 2\n"
     ]
    }
   ],
   "source": [
    "def get_nums(start_row,start_col,cnt):\n",
    "    flag = False\n",
    "    for i in range(2):\n",
    "        for j in range(2):\n",
    "            cnt += 1\n",
    "            #print(start_row+i,start_col+j,cnt)\n",
    "            if idx == (start_row + i,start_col + j):\n",
    "                flag = True\n",
    "                break\n",
    "    return cnt , flag\n",
    "\n",
    "def main_divided(start_row,start_col,size):\n",
    "    global num\n",
    "    if size == 2:\n",
    "        num, check = get_nums(start_row,start_col,num)\n",
    "        if check == True:\n",
    "            print(num)\n",
    "            exit()\n",
    "        \n",
    "    else:\n",
    "        for i in range(2):\n",
    "            for j in range(2):\n",
    "                \n",
    "                r = start_row+(size*i//2)\n",
    "                c = start_col+(size*j//2)\n",
    "                main_divided(r,c,size//2)\n",
    "n,row_idx, col_idx = map(int,input().split())\n",
    "num = -1\n",
    "idx = (row_idx,col_idx)\n",
    "main_divided(0,0,2**n)"
   ]
  },
  {
   "cell_type": "code",
   "execution_count": 5,
   "metadata": {},
   "outputs": [
    {
     "name": "stdout",
     "output_type": "stream",
     "text": [
      "2 3 1\n",
      "0 0\n",
      "0 2\n",
      "2 0\n",
      "11\n"
     ]
    },
    {
     "data": {
      "text/plain": [
       "True"
      ]
     },
     "execution_count": 5,
     "metadata": {},
     "output_type": "execute_result"
    }
   ],
   "source": [
    "def get_nums(start_row,start_col,cnt):\n",
    "    flag = False\n",
    "    for i in range(2):\n",
    "        for j in range(2):\n",
    "            cnt += 1\n",
    "            #print(start_row+i,start_col+j,cnt)\n",
    "            if idx == (start_row + i,start_col + j):\n",
    "                flag = True\n",
    "                break\n",
    "    return cnt , flag\n",
    "\n",
    "def main_divided(start_row,start_col,size):\n",
    "    global num, new_check\n",
    "    if new_check:\n",
    "        return\n",
    "    if size == 2:\n",
    "        num, check = get_nums(start_row,start_col,num)\n",
    "        if check == True:\n",
    "            print(num)\n",
    "            return True\n",
    "            \n",
    "       \n",
    "    else:\n",
    "        for i in range(2):\n",
    "            for j in range(2):\n",
    "                \n",
    "                r = start_row+(size*i//2)\n",
    "                c = start_col+(size*j//2)\n",
    "                main_divided\n",
    "                print(r,c)\n",
    "                if main_divided(r,c,size//2):\n",
    "                    return True\n",
    "                    \n",
    "                    \n",
    "n,row_idx, col_idx = map(int,input().split())\n",
    "num = -1\n",
    "new_check =False\n",
    "idx = (row_idx,col_idx)\n",
    "main_divided(0,0,2**n)\n",
    "\n",
    "\n",
    "\n"
   ]
  },
  {
   "cell_type": "code",
   "execution_count": null,
   "metadata": {},
   "outputs": [],
   "source": []
  }
 ],
 "metadata": {
  "kernelspec": {
   "display_name": "Python 3",
   "language": "python",
   "name": "python3"
  },
  "language_info": {
   "codemirror_mode": {
    "name": "ipython",
    "version": 3
   },
   "file_extension": ".py",
   "mimetype": "text/x-python",
   "name": "python",
   "nbconvert_exporter": "python",
   "pygments_lexer": "ipython3",
   "version": "3.8.5"
  }
 },
 "nbformat": 4,
 "nbformat_minor": 4
}
