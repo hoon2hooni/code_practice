{
 "cells": [
  {
   "cell_type": "code",
   "execution_count": 27,
   "metadata": {},
   "outputs": [],
   "source": [
    "stack =[]\n",
    "nums = [0, 1, 2, 3, 4]\n",
    "n = len(nums)"
   ]
  },
  {
   "cell_type": "code",
   "execution_count": 28,
   "metadata": {},
   "outputs": [],
   "source": [
    "ans =[-1]*n\n",
    "for idx, curr_num in enumerate(nums[:n-1]):\n",
    "    next_num = nums[idx+1]\n",
    "    if curr_num >= next_num:\n",
    "        stack.append([idx, num])\n",
    "    else:\n",
    "        ans[idx] = next_num\n",
    "        while stack:\n",
    "            minimum_failed_nums = stack[-1][1]\n",
    "            if minimum_failed_nums < next_num:\n",
    "                failed_num_idx, failed_num  = stack.pop()\n",
    "                ans[failed_num_idx] = next_num\n",
    "            else:\n",
    "                break\n",
    "        "
   ]
  },
  {
   "cell_type": "code",
   "execution_count": 3,
   "metadata": {},
   "outputs": [
    {
     "name": "stdout",
     "output_type": "stream",
     "text": [
      "5\n",
      "5 4 6 9 8 41 3 2 1 5 4 7 5 52 4 5 5 4 5 45 \n",
      "6 6 9 -1 -1\n"
     ]
    }
   ],
   "source": [
    "n = int(input())\n",
    "nums = list(map(int,input().split()))\n",
    "stack =[]\n",
    "ans =[-1]*n\n",
    "for idx, curr_num in enumerate(nums[:n-1]):\n",
    "    next_num = nums[idx+1]\n",
    "    if curr_num >= next_num:\n",
    "        stack.append([idx, curr_num])\n",
    "    else:\n",
    "        ans[idx] = next_num\n",
    "        while stack:\n",
    "            minimum_failed_nums = stack[-1][1]\n",
    "            if minimum_failed_nums < next_num:\n",
    "                failed_num_idx, failed_num  = stack.pop()\n",
    "                ans[failed_num_idx] = next_num\n",
    "            else:\n",
    "                break\n",
    "print(\" \".join(map(str,ans)))"
   ]
  },
  {
   "cell_type": "code",
   "execution_count": 4,
   "metadata": {},
   "outputs": [
    {
     "name": "stdout",
     "output_type": "stream",
     "text": [
      "1 2 3\n"
     ]
    }
   ],
   "source": [
    "ans = [1, 2, 3]\n",
    "print(\" \".join(map(str,ans)))"
   ]
  },
  {
   "cell_type": "code",
   "execution_count": null,
   "metadata": {},
   "outputs": [],
   "source": []
  }
 ],
 "metadata": {
  "kernelspec": {
   "display_name": "Python 3",
   "language": "python",
   "name": "python3"
  },
  "language_info": {
   "codemirror_mode": {
    "name": "ipython",
    "version": 3
   },
   "file_extension": ".py",
   "mimetype": "text/x-python",
   "name": "python",
   "nbconvert_exporter": "python",
   "pygments_lexer": "ipython3",
   "version": "3.8.5"
  }
 },
 "nbformat": 4,
 "nbformat_minor": 4
}
