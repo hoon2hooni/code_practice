{
  "nbformat": 4,
  "nbformat_minor": 0,
  "metadata": {
    "colab": {
      "name": "nlp_practice49,51.ipynb",
      "provenance": [],
      "authorship_tag": "ABX9TyNCkrKZHv0bTqhvbgb8XJ9v",
      "include_colab_link": true
    },
    "kernelspec": {
      "name": "python3",
      "display_name": "Python 3"
    }
  },
  "cells": [
    {
      "cell_type": "markdown",
      "metadata": {
        "id": "view-in-github",
        "colab_type": "text"
      },
      "source": [
        "<a href=\"https://colab.research.google.com/github/hoon2hooni/code_practice/blob/master/nlp_practice49%2C51.ipynb\" target=\"_parent\"><img src=\"https://colab.research.google.com/assets/colab-badge.svg\" alt=\"Open In Colab\"/></a>"
      ]
    },
    {
      "cell_type": "code",
      "metadata": {
        "id": "PE_wLspStKIL",
        "colab": {
          "base_uri": "https://localhost:8080/"
        },
        "outputId": "4eb4c599-387f-4f19-fa8f-0569583f340e"
      },
      "source": [
        "sentence_bow = {}\n",
        "sentence = \"\"\" Thomas Jefferson began building Monticello at the age of 26.\"\"\"\n",
        "for token in sentence.split():\n",
        "    sentence_bow[token] = 1\n",
        "sorted(sentence_bow.items())"
      ],
      "execution_count": 1,
      "outputs": [
        {
          "output_type": "execute_result",
          "data": {
            "text/plain": [
              "[('26.', 1),\n",
              " ('Jefferson', 1),\n",
              " ('Monticello', 1),\n",
              " ('Thomas', 1),\n",
              " ('age', 1),\n",
              " ('at', 1),\n",
              " ('began', 1),\n",
              " ('building', 1),\n",
              " ('of', 1),\n",
              " ('the', 1)]"
            ]
          },
          "metadata": {
            "tags": []
          },
          "execution_count": 1
        }
      ]
    },
    {
      "cell_type": "code",
      "metadata": {
        "id": "V8qQBRCh7JNy"
      },
      "source": [
        "import pandas as pd\n",
        "df = pd.DataFrame(pd.Series(dict([(token, 1) for token in sentence.split()])), columns =['sent']).T # Transpose 해준거 센스다"
      ],
      "execution_count": 2,
      "outputs": []
    },
    {
      "cell_type": "code",
      "metadata": {
        "colab": {
          "base_uri": "https://localhost:8080/"
        },
        "id": "UgMDA2T87pDG",
        "outputId": "e3c34c33-6a4d-4a94-de92-132c4d078618"
      },
      "source": [
        "sentences = \"\"\"Sometimes to understand a word's meaning you need more than a definition.\\n\"\"\"\n",
        "sentences +=\"\"\"At YourDictionary we try to give you all of the tools\\n\"\"\"\n",
        "sentences +=\"\"\"you need to really understand what the word means.\\n\"\"\"\n",
        "sentences +=\"\"\"Seeing the word in a sentence can provide more context and relevance.\"\"\"\n",
        "\n",
        "print(sentences)\n",
        "\n"
      ],
      "execution_count": 6,
      "outputs": [
        {
          "output_type": "stream",
          "text": [
            "Sometimes to understand a word's meaning you need more than a definition.\n",
            "At YourDictionary we try to give you all of the tools\n",
            "you need to really understand what the word means.\n",
            "Seeing the word in a sentence can provide more context and relevance.\n"
          ],
          "name": "stdout"
        }
      ]
    },
    {
      "cell_type": "code",
      "metadata": {
        "colab": {
          "base_uri": "https://localhost:8080/",
          "height": 210
        },
        "id": "A9iFv7mk7pmN",
        "outputId": "e5e979d8-7a02-442c-abd5-fbc625dd0bae"
      },
      "source": [
        "corpus = {}\n",
        "for i,sent in enumerate(sentences.split('\\n')):\n",
        "    corpus['sent{}'.format(i)] = dict((tok, 1) for tok in sent.split()) #dict((mapping!!))\n",
        "\n",
        "print(corpus)\n",
        "df = pd.DataFrame.from_records(corpus).fillna(0).astype(int).T\n",
        "df[df.columns[:100]]"
      ],
      "execution_count": 9,
      "outputs": [
        {
          "output_type": "stream",
          "text": [
            "{'sent0': {'Sometimes': 1, 'to': 1, 'understand': 1, 'a': 1, \"word's\": 1, 'meaning': 1, 'you': 1, 'need': 1, 'more': 1, 'than': 1, 'definition.': 1}, 'sent1': {'At': 1, 'YourDictionary': 1, 'we': 1, 'try': 1, 'to': 1, 'give': 1, 'you': 1, 'all': 1, 'of': 1, 'the': 1, 'tools': 1}, 'sent2': {'you': 1, 'need': 1, 'to': 1, 'really': 1, 'understand': 1, 'what': 1, 'the': 1, 'word': 1, 'means.': 1}, 'sent3': {'Seeing': 1, 'the': 1, 'word': 1, 'in': 1, 'a': 1, 'sentence': 1, 'can': 1, 'provide': 1, 'more': 1, 'context': 1, 'and': 1, 'relevance.': 1}}\n"
          ],
          "name": "stdout"
        },
        {
          "output_type": "execute_result",
          "data": {
            "text/html": [
              "<div>\n",
              "<style scoped>\n",
              "    .dataframe tbody tr th:only-of-type {\n",
              "        vertical-align: middle;\n",
              "    }\n",
              "\n",
              "    .dataframe tbody tr th {\n",
              "        vertical-align: top;\n",
              "    }\n",
              "\n",
              "    .dataframe thead th {\n",
              "        text-align: right;\n",
              "    }\n",
              "</style>\n",
              "<table border=\"1\" class=\"dataframe\">\n",
              "  <thead>\n",
              "    <tr style=\"text-align: right;\">\n",
              "      <th></th>\n",
              "      <th>Sometimes</th>\n",
              "      <th>to</th>\n",
              "      <th>understand</th>\n",
              "      <th>a</th>\n",
              "      <th>word's</th>\n",
              "      <th>meaning</th>\n",
              "      <th>you</th>\n",
              "      <th>need</th>\n",
              "      <th>more</th>\n",
              "      <th>than</th>\n",
              "      <th>definition.</th>\n",
              "      <th>At</th>\n",
              "      <th>YourDictionary</th>\n",
              "      <th>we</th>\n",
              "      <th>try</th>\n",
              "      <th>give</th>\n",
              "      <th>all</th>\n",
              "      <th>of</th>\n",
              "      <th>the</th>\n",
              "      <th>tools</th>\n",
              "      <th>really</th>\n",
              "      <th>what</th>\n",
              "      <th>word</th>\n",
              "      <th>means.</th>\n",
              "      <th>Seeing</th>\n",
              "      <th>in</th>\n",
              "      <th>sentence</th>\n",
              "      <th>can</th>\n",
              "      <th>provide</th>\n",
              "      <th>context</th>\n",
              "      <th>and</th>\n",
              "      <th>relevance.</th>\n",
              "    </tr>\n",
              "  </thead>\n",
              "  <tbody>\n",
              "    <tr>\n",
              "      <th>sent0</th>\n",
              "      <td>1</td>\n",
              "      <td>1</td>\n",
              "      <td>1</td>\n",
              "      <td>1</td>\n",
              "      <td>1</td>\n",
              "      <td>1</td>\n",
              "      <td>1</td>\n",
              "      <td>1</td>\n",
              "      <td>1</td>\n",
              "      <td>1</td>\n",
              "      <td>1</td>\n",
              "      <td>0</td>\n",
              "      <td>0</td>\n",
              "      <td>0</td>\n",
              "      <td>0</td>\n",
              "      <td>0</td>\n",
              "      <td>0</td>\n",
              "      <td>0</td>\n",
              "      <td>0</td>\n",
              "      <td>0</td>\n",
              "      <td>0</td>\n",
              "      <td>0</td>\n",
              "      <td>0</td>\n",
              "      <td>0</td>\n",
              "      <td>0</td>\n",
              "      <td>0</td>\n",
              "      <td>0</td>\n",
              "      <td>0</td>\n",
              "      <td>0</td>\n",
              "      <td>0</td>\n",
              "      <td>0</td>\n",
              "      <td>0</td>\n",
              "    </tr>\n",
              "    <tr>\n",
              "      <th>sent1</th>\n",
              "      <td>0</td>\n",
              "      <td>1</td>\n",
              "      <td>0</td>\n",
              "      <td>0</td>\n",
              "      <td>0</td>\n",
              "      <td>0</td>\n",
              "      <td>1</td>\n",
              "      <td>0</td>\n",
              "      <td>0</td>\n",
              "      <td>0</td>\n",
              "      <td>0</td>\n",
              "      <td>1</td>\n",
              "      <td>1</td>\n",
              "      <td>1</td>\n",
              "      <td>1</td>\n",
              "      <td>1</td>\n",
              "      <td>1</td>\n",
              "      <td>1</td>\n",
              "      <td>1</td>\n",
              "      <td>1</td>\n",
              "      <td>0</td>\n",
              "      <td>0</td>\n",
              "      <td>0</td>\n",
              "      <td>0</td>\n",
              "      <td>0</td>\n",
              "      <td>0</td>\n",
              "      <td>0</td>\n",
              "      <td>0</td>\n",
              "      <td>0</td>\n",
              "      <td>0</td>\n",
              "      <td>0</td>\n",
              "      <td>0</td>\n",
              "    </tr>\n",
              "    <tr>\n",
              "      <th>sent2</th>\n",
              "      <td>0</td>\n",
              "      <td>1</td>\n",
              "      <td>1</td>\n",
              "      <td>0</td>\n",
              "      <td>0</td>\n",
              "      <td>0</td>\n",
              "      <td>1</td>\n",
              "      <td>1</td>\n",
              "      <td>0</td>\n",
              "      <td>0</td>\n",
              "      <td>0</td>\n",
              "      <td>0</td>\n",
              "      <td>0</td>\n",
              "      <td>0</td>\n",
              "      <td>0</td>\n",
              "      <td>0</td>\n",
              "      <td>0</td>\n",
              "      <td>0</td>\n",
              "      <td>1</td>\n",
              "      <td>0</td>\n",
              "      <td>1</td>\n",
              "      <td>1</td>\n",
              "      <td>1</td>\n",
              "      <td>1</td>\n",
              "      <td>0</td>\n",
              "      <td>0</td>\n",
              "      <td>0</td>\n",
              "      <td>0</td>\n",
              "      <td>0</td>\n",
              "      <td>0</td>\n",
              "      <td>0</td>\n",
              "      <td>0</td>\n",
              "    </tr>\n",
              "    <tr>\n",
              "      <th>sent3</th>\n",
              "      <td>0</td>\n",
              "      <td>0</td>\n",
              "      <td>0</td>\n",
              "      <td>1</td>\n",
              "      <td>0</td>\n",
              "      <td>0</td>\n",
              "      <td>0</td>\n",
              "      <td>0</td>\n",
              "      <td>1</td>\n",
              "      <td>0</td>\n",
              "      <td>0</td>\n",
              "      <td>0</td>\n",
              "      <td>0</td>\n",
              "      <td>0</td>\n",
              "      <td>0</td>\n",
              "      <td>0</td>\n",
              "      <td>0</td>\n",
              "      <td>0</td>\n",
              "      <td>1</td>\n",
              "      <td>0</td>\n",
              "      <td>0</td>\n",
              "      <td>0</td>\n",
              "      <td>1</td>\n",
              "      <td>0</td>\n",
              "      <td>1</td>\n",
              "      <td>1</td>\n",
              "      <td>1</td>\n",
              "      <td>1</td>\n",
              "      <td>1</td>\n",
              "      <td>1</td>\n",
              "      <td>1</td>\n",
              "      <td>1</td>\n",
              "    </tr>\n",
              "  </tbody>\n",
              "</table>\n",
              "</div>"
            ],
            "text/plain": [
              "       Sometimes  to  understand  a  ...  provide  context  and  relevance.\n",
              "sent0          1   1           1  1  ...        0        0    0           0\n",
              "sent1          0   1           0  0  ...        0        0    0           0\n",
              "sent2          0   1           1  0  ...        0        0    0           0\n",
              "sent3          0   0           0  1  ...        1        1    1           1\n",
              "\n",
              "[4 rows x 32 columns]"
            ]
          },
          "metadata": {
            "tags": []
          },
          "execution_count": 9
        }
      ]
    },
    {
      "cell_type": "code",
      "metadata": {
        "id": "VYckvQTy9IBz"
      },
      "source": [
        ""
      ],
      "execution_count": null,
      "outputs": []
    }
  ]
}