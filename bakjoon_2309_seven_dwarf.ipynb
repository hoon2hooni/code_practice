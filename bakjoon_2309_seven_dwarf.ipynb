{
  "nbformat": 4,
  "nbformat_minor": 0,
  "metadata": {
    "colab": {
      "name": "bakjoon_2309_seven_dwarf.ipynb",
      "provenance": [],
      "authorship_tag": "ABX9TyNopt/AZFVhz+LVrSoxOgvp",
      "include_colab_link": true
    },
    "kernelspec": {
      "name": "python3",
      "display_name": "Python 3"
    }
  },
  "cells": [
    {
      "cell_type": "markdown",
      "metadata": {
        "id": "view-in-github",
        "colab_type": "text"
      },
      "source": [
        "<a href=\"https://colab.research.google.com/github/hoon2hooni/code_practice/blob/master/bakjoon_2309_seven_dwarf.ipynb\" target=\"_parent\"><img src=\"https://colab.research.google.com/assets/colab-badge.svg\" alt=\"Open In Colab\"/></a>"
      ]
    },
    {
      "cell_type": "code",
      "metadata": {
        "id": "Luu_rtB2llwV"
      },
      "source": [
        "#itertools 활용한 방법\n",
        "\n",
        "from itertools import combinations\n",
        "\n",
        "arr = [int(input()) for _ in range(9)]\n",
        "#itertool로 9C7 조합 다 찾는다 ;;얼마 안되네\n",
        "#sum(itertools함다)\n",
        "\n",
        "result = [sorted(result_arr) for result_arr in combinations(arr,7) if sum(result_arr) == 100]\n",
        "for dwarf in result[0]: # 리스트안에 리스트 실화;;그래서 [0]해줬음:\n",
        "    print(dwarf)\n",
        "\n",
        "\n",
        "#완전탐색 이용한 방법\n",
        "arr = [int(input()) for _ in range(9)]\n",
        "fake = sum(arr) - 100\n",
        "for i in range(len(arr)):\n",
        "    for j in range(len(arr)):\n",
        "        if i < j and fake == arr[i] + arr[j]:     \n",
        "            arr.pop(i), arr.pop(j-1) #pop해줄때 j-1 로 해줘야 함\n",
        "            break\n",
        "arr =sorted(arr)\n",
        "for i in arr:\n",
        "    print(i)\n",
        "\n",
        "\n",
        "\n"
      ],
      "execution_count": null,
      "outputs": []
    }
  ]
}