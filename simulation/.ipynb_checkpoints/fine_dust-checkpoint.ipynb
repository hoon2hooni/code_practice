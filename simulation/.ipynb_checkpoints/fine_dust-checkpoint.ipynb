{
 "cells": [
  {
   "cell_type": "code",
   "execution_count": 1,
   "metadata": {},
   "outputs": [],
   "source": [
    "def get_rest_dust(dust_amount, direction_count):\n",
    "    return dust_amount - (dust_amount//5 * direction_count)\n",
    "     "
   ]
  },
  {
   "cell_type": "code",
   "execution_count": 8,
   "metadata": {},
   "outputs": [],
   "source": [
    "def get_direction_count(r,c):\n",
    "    dr =[-1,0,1,0]\n",
    "    dc =[0,-1,0,1]\n",
    "    direction_count = 4\n",
    "    for i in range(4):\n",
    "        r_next, c_next = r+dr[i], c+dc[i]\n",
    "        if(\n",
    "            0 < r_next < row_limit\n",
    "            and 0 < c_next <col_limit\n",
    "        ):\n",
    "            if matrix[r_next][c_next] == -1:\n",
    "                direction_count -= 1\n",
    "                \n",
    "    if (r - 1 < 0) or (r+1 >=  row_limit):\n",
    "        direction_count -= 1\n",
    "    if (c - 1 < 0) or (c+1 >=  col_limit):\n",
    "        direction_count -= 1\n",
    "    return direction_count\n",
    "\n",
    "            "
   ]
  },
  {
   "cell_type": "code",
   "execution_count": 5,
   "metadata": {},
   "outputs": [],
   "source": [
    "matrix =[]\n",
    "\n",
    "with open(\"fine_dust.txt\", \"r\") as f:\n",
    "    lines = f.readlines()\n",
    "    for idx, line in enumerate(lines):\n",
    "        if idx == 0:\n",
    "            T = line[2]\n",
    "        else:\n",
    "            matrix.append(list(map(int,line.split())))\n",
    "        "
   ]
  },
  {
   "cell_type": "code",
   "execution_count": 6,
   "metadata": {},
   "outputs": [
    {
     "data": {
      "text/plain": [
       "[[0, 0, 0, 0, 0, 0, 0, 9],\n",
       " [0, 0, 0, 0, 3, 0, 0, 8],\n",
       " [-1, 0, 5, 0, 0, 0, 22, 0],\n",
       " [-1, 8, 0, 0, 0, 0, 0, 0],\n",
       " [0, 0, 0, 0, 0, 10, 43, 0],\n",
       " [0, 0, 5, 0, 15, 0, 0, 0],\n",
       " [0, 0, 40, 0, 0, 0, 20, 0]]"
      ]
     },
     "execution_count": 6,
     "metadata": {},
     "output_type": "execute_result"
    }
   ],
   "source": [
    "get\n"
   ]
  },
  {
   "cell_type": "code",
   "execution_count": null,
   "metadata": {},
   "outputs": [],
   "source": []
  }
 ],
 "metadata": {
  "kernelspec": {
   "display_name": "Python 3",
   "language": "python",
   "name": "python3"
  },
  "language_info": {
   "codemirror_mode": {
    "name": "ipython",
    "version": 3
   },
   "file_extension": ".py",
   "mimetype": "text/x-python",
   "name": "python",
   "nbconvert_exporter": "python",
   "pygments_lexer": "ipython3",
   "version": "3.8.5"
  }
 },
 "nbformat": 4,
 "nbformat_minor": 4
}
