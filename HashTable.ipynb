{
 "cells": [
  {
   "cell_type": "code",
   "execution_count": 103,
   "metadata": {},
   "outputs": [],
   "source": [
    "\n",
    "\n",
    "#일단 링크드 리스트 적용안함 ^^;;\n",
    "\n",
    "class HashTable:\n",
    "    def __init__(self, size = 10):\n",
    "        self.size = size\n",
    "        self.hash_table = [[] for _ in range(size)]\n",
    "    \n",
    "    def key2index(self, key):\n",
    "        hashed_key = hash(key)\n",
    "        index = hashed_key %self.size\n",
    "        return index\n",
    "    \n",
    "    def insert(self, key,value):\n",
    "        index = self.key2index(key)\n",
    "        hash_table = self.hash_table\n",
    "        if hash_table[index]:\n",
    "            print(f\"key '{key}' make a conflict\")\n",
    "            for idx, key_value in enumerate(hash_table[index]):\n",
    "                key_in_hash, hash_value = key_value\n",
    "                if key == key_in_hash:\n",
    "                    hash_table[index][idx][1] = value\n",
    "                    return\n",
    "        hash_table[index].append([key,value])\n",
    "    \n",
    "    def get_value(self, key):\n",
    "        hash_table = self.hash_table\n",
    "        index = self.key2index(key)\n",
    "        if hash_table[index]:\n",
    "            for key_in_hash, value in hash_table[index]:\n",
    "                if key == key_in_hash:\n",
    "                    return value\n",
    "        print(\"there is no value in that key\")\n",
    "        return\n",
    "    def show_table(self):\n",
    "        return self.hash_table\n",
    "    \n",
    "    \n",
    "            \n",
    "        \n",
    "    \n",
    "    "
   ]
  },
  {
   "cell_type": "code",
   "execution_count": 104,
   "metadata": {},
   "outputs": [],
   "source": [
    "A_hashT = HashTable()"
   ]
  },
  {
   "cell_type": "code",
   "execution_count": 105,
   "metadata": {},
   "outputs": [
    {
     "name": "stdout",
     "output_type": "stream",
     "text": [
      "key '야이' make a conflict\n"
     ]
    },
    {
     "data": {
      "text/plain": [
       "[[], [], [], [], [], [['야이', 4]], [], [], [], []]"
      ]
     },
     "execution_count": 105,
     "metadata": {},
     "output_type": "execute_result"
    }
   ],
   "source": [
    "A_hashT.insert(\"야이\", 3)\n",
    "A_hashT.insert(\"야이\", 4)\n",
    "A_hashT.show_table()\n"
   ]
  },
  {
   "cell_type": "code",
   "execution_count": 106,
   "metadata": {},
   "outputs": [
    {
     "data": {
      "text/plain": [
       "4"
      ]
     },
     "execution_count": 106,
     "metadata": {},
     "output_type": "execute_result"
    }
   ],
   "source": [
    "A_hashT.get_value(\"야이\")"
   ]
  },
  {
   "cell_type": "code",
   "execution_count": 65,
   "metadata": {},
   "outputs": [
    {
     "data": {
      "text/plain": [
       "6"
      ]
     },
     "execution_count": 65,
     "metadata": {},
     "output_type": "execute_result"
    }
   ],
   "source": [
    "A_hashT.key2index(\"야야\")"
   ]
  },
  {
   "cell_type": "code",
   "execution_count": null,
   "metadata": {},
   "outputs": [],
   "source": []
  },
  {
   "cell_type": "code",
   "execution_count": null,
   "metadata": {},
   "outputs": [],
   "source": []
  }
 ],
 "metadata": {
  "kernelspec": {
   "display_name": "Python 3.8.5 64-bit ('base': conda)",
   "language": "python",
   "name": "python385jvsc74a57bd0b2bb918a0942ba26a9376c97fc5cc9ed2446350eb0970c42479b753998e6d837"
  },
  "language_info": {
   "codemirror_mode": {
    "name": "ipython",
    "version": 3
   },
   "file_extension": ".py",
   "mimetype": "text/x-python",
   "name": "python",
   "nbconvert_exporter": "python",
   "pygments_lexer": "ipython3",
   "version": "3.8.5"
  }
 },
 "nbformat": 4,
 "nbformat_minor": 4
}
