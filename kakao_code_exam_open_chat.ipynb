{
  "nbformat": 4,
  "nbformat_minor": 0,
  "metadata": {
    "colab": {
      "name": "kakao_code exam_open_chat.ipynb",
      "provenance": [],
      "authorship_tag": "ABX9TyPJQddzxeiDmpfGQMzVusmb",
      "include_colab_link": true
    },
    "kernelspec": {
      "name": "python3",
      "display_name": "Python 3"
    }
  },
  "cells": [
    {
      "cell_type": "markdown",
      "metadata": {
        "id": "view-in-github",
        "colab_type": "text"
      },
      "source": [
        "<a href=\"https://colab.research.google.com/github/hoon2hooni/code_practice/blob/master/kakao_code_exam_open_chat.ipynb\" target=\"_parent\"><img src=\"https://colab.research.google.com/assets/colab-badge.svg\" alt=\"Open In Colab\"/></a>"
      ]
    },
    {
      "cell_type": "code",
      "metadata": {
        "id": "ePOsUWDP0E0G"
      },
      "source": [
        "#잘못푼것\n",
        "def solution(record):\n",
        "    result = make_dict(record)\n",
        "    return result\n",
        "\n",
        "\n",
        "def make_dict(id_list):\n",
        "    result =[]\n",
        "    from collections import defaultdict\n",
        "    user_dict =defaultdict(list)\n",
        "    user_dict_id =defaultdict(list)\n",
        "    for user_info in id_list:\n",
        "        user_info_arr = user_info.split()\n",
        "        if len(user_info_arr) == 3:\n",
        "            verb, user_id, virtual_id = user_info_arr\n",
        "            if verb == 'Change':\n",
        "                result.remove(\"{0}님이 들어왔습니다.\".format(user_dict_id[user_id][-1]))\n",
        "                result.append(\"{0}님이 들어왔습니다.\".format(virtual_id))\n",
        "                result.append(\"{0}님이 나갔습니다.\".format(user_dict_id[user_id][-1]))\n",
        "                user_dict_id[user_id].pop()\n",
        "                #들어왔다 나가기\n",
        "                user_dict[user_id].pop()\n",
        "            else:\n",
        "                if verb == 'Enter' and user_dict[user_id]:\n",
        "                    # if user_dict[user_id][-1] == 'Leave':\n",
        "                        #이름 바꿔주기\n",
        "                    for i,sentence in enumerate(result):\n",
        "                        if user_dict_id[user_id][-1] in sentence:\n",
        "                            changed =sentence.replace(user_dict_id[user_id][-1], virtual_id)\n",
        "                            if \"나갔습니다.\" in sentence:\n",
        "                                print(sentence)\n",
        "                                result.remove(sentence)\n",
        "                            else:\n",
        "                                result.remove(sentence)\n",
        "                                result.insert(i,changed)\n",
        "                    result.append(\"{0}님이 들어왔습니다.\".format(virtual_id))\n",
        "                            \n",
        "                    user_dict_id[user_id].pop()\n",
        "                    for i in range(2):\n",
        "                        user_dict[user_id].pop()\n",
        "                    \n",
        "                else:\n",
        "                    user_dict[user_id].append(verb)\n",
        "                    user_dict_id[user_id].append(virtual_id)\n",
        "                    result.append(\"{0}님이 들어왔습니다.\".format(user_dict_id[user_id][0]))\n",
        "                        \n",
        "                        # enter 들어가주기\n",
        "        else:\n",
        "            #leave일때 들어왔었을경우\n",
        "            #leave만 있었을 경우\n",
        "            verb, user_id = user_info_arr\n",
        "            user_dict[user_id].append(verb)\n",
        "            result.append(\"{0}님이 나갔습니다.\".format(user_dict_id[user_id][0]))\n",
        "            # print(result)\n",
        "    \n",
        "    return result"
      ],
      "execution_count": 3,
      "outputs": []
    },
    {
      "cell_type": "code",
      "metadata": {
        "id": "S7EhYeiDdmpS"
      },
      "source": [
        ""
      ],
      "execution_count": null,
      "outputs": []
    },
    {
      "cell_type": "code",
      "metadata": {
        "colab": {
          "base_uri": "https://localhost:8080/"
        },
        "id": "Qz9L67XR0HlL",
        "outputId": "ccdf0b7c-7112-490c-d5af-3d0a512b86a6"
      },
      "source": [
        "solution([\"Enter uid1234 Muzi\", \"Enter uid4567 Prodo\",\"Leave uid1234\",\"Enter uid1234 Prodo\",\"Change uid4567 Ryan\"])"
      ],
      "execution_count": 4,
      "outputs": [
        {
          "output_type": "stream",
          "text": [
            "defaultdict(<class 'list'>, {'uid1234': [], 'uid4567': []})\n"
          ],
          "name": "stdout"
        },
        {
          "output_type": "execute_result",
          "data": {
            "text/plain": [
              "[]"
            ]
          },
          "metadata": {
            "tags": []
          },
          "execution_count": 4
        }
      ]
    },
    {
      "cell_type": "code",
      "metadata": {
        "colab": {
          "base_uri": "https://localhost:8080/",
          "height": 37
        },
        "id": "xIbyWAeI5Shw",
        "outputId": "b7cd30ad-42af-431f-8c9b-506513499c4f"
      },
      "source": [
        "\"안녕 하세요\".replace(\"안녕\", \"씨발\")"
      ],
      "execution_count": 5,
      "outputs": [
        {
          "output_type": "execute_result",
          "data": {
            "application/vnd.google.colaboratory.intrinsic+json": {
              "type": "string"
            },
            "text/plain": [
              "'씨발 하세요'"
            ]
          },
          "metadata": {
            "tags": []
          },
          "execution_count": 5
        }
      ]
    },
    {
      "cell_type": "code",
      "metadata": {
        "id": "l_ImfYRu5WH2"
      },
      "source": [
        "def solution(record):\n",
        "    id_dict =dict()\n",
        "    result_list= []\n",
        "    for id_info in record:\n",
        "        id_info_arr = id_info.split()\n",
        "        if id_info_arr[0] in [\"Enter\", \"Change\"]:\n",
        "            id_dict[id_info_arr[1]] = id_info_arr[2]\n",
        "            \n",
        "        else:\n",
        "            continue\n",
        "    print(id_dict)\n",
        "    for id_info in record:\n",
        "        id_info_arr = id_info.split()\n",
        "        print(id_dict)\n",
        "        if id_info_arr[0] == 'Enter':   \n",
        "            result_list.append(\"{0}님이 들어왔습니다.\".format(id_dict[id_info_arr[1]]))\n",
        "        elif id_info_arr[0] == \"Leave\":\n",
        "            result_list.append(\"{0}님이 나갔습니다.\".format(id_dict[id_info_arr[1]]))\n",
        "        else:\n",
        "            continue\n",
        "    return result_list\n",
        "        \n",
        "            \n",
        "        \n",
        "    "
      ],
      "execution_count": 15,
      "outputs": []
    },
    {
      "cell_type": "code",
      "metadata": {
        "colab": {
          "base_uri": "https://localhost:8080/"
        },
        "id": "chl4QVNBDjW1",
        "outputId": "97ce15dd-c6de-4717-d501-efe4de0fbc1c"
      },
      "source": [
        "solution([\"Enter uid1234 Muzi\", \"Enter uid4567 Prodo\",\"Leave uid1234\",\"Enter uid1234 Prodo\",\"Change uid4567 Ryan\"])"
      ],
      "execution_count": 16,
      "outputs": [
        {
          "output_type": "stream",
          "text": [
            "{'uid1234': 'Prodo', 'uid4567': 'Ryan'}\n",
            "{'uid1234': 'Prodo', 'uid4567': 'Ryan'}\n",
            "{'uid1234': 'Prodo', 'uid4567': 'Ryan'}\n",
            "{'uid1234': 'Prodo', 'uid4567': 'Ryan'}\n",
            "{'uid1234': 'Prodo', 'uid4567': 'Ryan'}\n",
            "{'uid1234': 'Prodo', 'uid4567': 'Ryan'}\n"
          ],
          "name": "stdout"
        },
        {
          "output_type": "execute_result",
          "data": {
            "text/plain": [
              "['Prodo님이 들어왔습니다.', 'Ryan님이 들어왔습니다.', 'Prodo님이 나갔습니다.', 'Prodo님이 들어왔습니다.']"
            ]
          },
          "metadata": {
            "tags": []
          },
          "execution_count": 16
        }
      ]
    },
    {
      "cell_type": "code",
      "metadata": {
        "id": "W5lvFtDkDpW4"
      },
      "source": [
        ""
      ],
      "execution_count": null,
      "outputs": []
    }
  ]
}