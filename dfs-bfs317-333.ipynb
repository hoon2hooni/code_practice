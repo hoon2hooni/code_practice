{
 "cells": [
  {
   "cell_type": "code",
   "execution_count": 27,
   "metadata": {},
   "outputs": [],
   "source": [
    "graph = {\n",
    "    1: [2,3,4],\n",
    "    2: [5],\n",
    "    3: [5],\n",
    "    4: [],\n",
    "    5: [6, 7],\n",
    "    6: [],\n",
    "    7: [3]   \n",
    "}"
   ]
  },
  {
   "cell_type": "code",
   "execution_count": 34,
   "metadata": {},
   "outputs": [],
   "source": [
    "def recursive_dfs(v, discovered = []):\n",
    "    discovered.append(v)\n",
    "    print(f'discovered = {discovered}')\n",
    "    for w in graph[v]:\n",
    "        if not w in discovered:\n",
    "            recursive_dfs(w, discovered)\n",
    "    return discovered\n",
    "            "
   ]
  },
  {
   "cell_type": "code",
   "execution_count": 35,
   "metadata": {},
   "outputs": [
    {
     "name": "stdout",
     "output_type": "stream",
     "text": [
      "discovered = [1]\n",
      "discovered = [1, 2]\n",
      "discovered = [1, 2, 5]\n",
      "discovered = [1, 2, 5, 6]\n",
      "discovered = [1, 2, 5, 6, 7]\n",
      "discovered = [1, 2, 5, 6, 7, 3]\n",
      "discovered = [1, 2, 5, 6, 7, 3, 4]\n"
     ]
    },
    {
     "data": {
      "text/plain": [
       "[1, 2, 5, 6, 7, 3, 4]"
      ]
     },
     "execution_count": 35,
     "metadata": {},
     "output_type": "execute_result"
    }
   ],
   "source": [
    "recursive_dfs(1)"
   ]
  },
  {
   "cell_type": "code",
   "execution_count": 40,
   "metadata": {},
   "outputs": [],
   "source": [
    "def recursive_dfs(v, discovered = []):\n",
    "    discovered.append(v)\n",
    "    print(\"happy\")\n",
    "    for w in graph[v]:\n",
    "        if w not in discovered:\n",
    "            recursive_dfs(w,discovered)\n",
    "    return discovered"
   ]
  },
  {
   "cell_type": "code",
   "execution_count": 46,
   "metadata": {},
   "outputs": [],
   "source": [
    "def iterative_dfs(v, discovered = []):\n",
    "    stack = []\n",
    "    stack.append(v)\n",
    "    \n",
    "    while stack:\n",
    "        print(f'stack = {stack}')\n",
    "        print(f'discovered = {discovered}')\n",
    "        node = stack.pop()\n",
    "        discovered.append(node)\n",
    "        for adjacent in graph[node]:\n",
    "            if adjacent not in discovered:\n",
    "                stack.append(adjacent)\n",
    "    return discovered\n",
    "            \n"
   ]
  },
  {
   "cell_type": "code",
   "execution_count": 47,
   "metadata": {},
   "outputs": [
    {
     "name": "stdout",
     "output_type": "stream",
     "text": [
      "stack = [1]\n",
      "discovered = []\n",
      "stack = [2, 3, 4]\n",
      "discovered = [1]\n",
      "stack = [2, 3]\n",
      "discovered = [1, 4]\n",
      "stack = [2, 5]\n",
      "discovered = [1, 4, 3]\n",
      "stack = [2, 6, 7]\n",
      "discovered = [1, 4, 3, 5]\n",
      "stack = [2, 6]\n",
      "discovered = [1, 4, 3, 5, 7]\n",
      "stack = [2]\n",
      "discovered = [1, 4, 3, 5, 7, 6]\n"
     ]
    },
    {
     "data": {
      "text/plain": [
       "[1, 4, 3, 5, 7, 6, 2]"
      ]
     },
     "execution_count": 47,
     "metadata": {},
     "output_type": "execute_result"
    }
   ],
   "source": [
    "iterative_dfs(1)"
   ]
  },
  {
   "cell_type": "code",
   "execution_count": null,
   "metadata": {},
   "outputs": [],
   "source": [
    "def iterative_dfs(v, discovered = []):\n",
    "    stack = []\n",
    "    stack.append(v)\n",
    "    \n",
    "    while stack:\n",
    "        print(f'stack = {stack}')\n",
    "        print(f'discovered = {discovered}')\n",
    "        node = stack.pop()\n",
    "        discovered.append(node)\n",
    "        for adjacent in graph[node]:\n",
    "            if adjacent not in discovered:\n",
    "                stack.append(adjacent)\n",
    "    return discovered"
   ]
  },
  {
   "cell_type": "code",
   "execution_count": 55,
   "metadata": {},
   "outputs": [],
   "source": [
    "def iterative_dfs(v, discovered = []):\n",
    "    stack = []\n",
    "    stack.append(v)\n",
    "    while stack:\n",
    "        print(f'stack ={stack}\\ndiscovered ={discovered}')\n",
    "        v = stack.pop()\n",
    "        if v not in discovered:\n",
    "            discovered.append(v)\n",
    "#             stack.extend(graph[v])\n",
    "            for w in graph[v]:\n",
    "                stack.append(w)\n",
    "    return discovered"
   ]
  },
  {
   "cell_type": "code",
   "execution_count": 56,
   "metadata": {},
   "outputs": [
    {
     "name": "stdout",
     "output_type": "stream",
     "text": [
      "stack =[1]\n",
      "discovered =[]\n",
      "stack =[2, 3, 4]\n",
      "discovered =[1]\n",
      "stack =[2, 3]\n",
      "discovered =[1, 4]\n",
      "stack =[2, 5]\n",
      "discovered =[1, 4, 3]\n",
      "stack =[2, 6, 7]\n",
      "discovered =[1, 4, 3, 5]\n",
      "stack =[2, 6, 3]\n",
      "discovered =[1, 4, 3, 5, 7]\n",
      "stack =[2, 6]\n",
      "discovered =[1, 4, 3, 5, 7]\n",
      "stack =[2]\n",
      "discovered =[1, 4, 3, 5, 7, 6]\n",
      "stack =[5]\n",
      "discovered =[1, 4, 3, 5, 7, 6, 2]\n"
     ]
    },
    {
     "data": {
      "text/plain": [
       "[1, 4, 3, 5, 7, 6, 2]"
      ]
     },
     "execution_count": 56,
     "metadata": {},
     "output_type": "execute_result"
    }
   ],
   "source": [
    "iterative_dfs(1)"
   ]
  },
  {
   "cell_type": "code",
   "execution_count": 57,
   "metadata": {},
   "outputs": [],
   "source": [
    "from collections import deque\n",
    "def iterative_bfs(start_v , discovered =[]):\n",
    "    q = deque()\n",
    "    q.append(start_v)\n",
    "    while q:\n",
    "        v = q.popleft()\n",
    "        if v not in discovered:\n",
    "            discovered.append(v)\n",
    "            for w in graph[v]:\n",
    "                q.append(w)\n",
    "    return discovered"
   ]
  },
  {
   "cell_type": "code",
   "execution_count": 58,
   "metadata": {},
   "outputs": [
    {
     "data": {
      "text/plain": [
       "[1, 2, 3, 4, 5, 6, 7]"
      ]
     },
     "execution_count": 58,
     "metadata": {},
     "output_type": "execute_result"
    }
   ],
   "source": [
    "iterative_bfs(1)"
   ]
  },
  {
   "cell_type": "markdown",
   "metadata": {},
   "source": [
    "from collections import deque\n",
    "def iterative_bfs(start_v , discovered =[]):\n",
    "    q = deque()\n",
    "    q.append(start_v)\n",
    "    while q:\n",
    "        v = q.popleft()\n",
    "        discovered.append(v)\n",
    "            for w in graph[v]:\n",
    "                if w not in discovered:\n",
    "                    que.append()\n",
    "    return discovered\n",
    "\n",
    "\n",
    "\n",
    "iterative_bfs(1)\n",
    "\n"
   ]
  },
  {
   "cell_type": "markdown",
   "metadata": {},
   "source": [
    "# bfs는 재귀로 구현 불가하다..\n"
   ]
  },
  {
   "cell_type": "markdown",
   "metadata": {},
   "source": [
    "## 백트레킹 \n",
    "\n",
    "- 백트레킹은 해결책에 대한 후보를 구축해 나아가다 가능성이 없다고 판단되는 즉시 후보를 포기해 정답을 찾아가는 법용적인 알고리즘 이다\n",
    "\n",
    "- 백트래킹은 dfs보다 광의의 의미를 갖는다 \n",
    "\n",
    "- dfs는 백트래킹의 골격을 이루는 알고리즘이다.\n",
    "\n",
    "- 브루트포스보다 더 우아한 방식\n",
    "\n",
    "- 가지치기를 프루닝이라고 하며 이처럼 불필요한 부분을 일찍 포기한다면 탐색을 최적화 할 수있다."
   ]
  },
  {
   "cell_type": "markdown",
   "metadata": {},
   "source": [
    "# 섬의개수 교제 332페이지"
   ]
  },
  {
   "cell_type": "code",
   "execution_count": 75,
   "metadata": {},
   "outputs": [
    {
     "name": "stdout",
     "output_type": "stream",
     "text": [
      "[[0, 0, 0, 0], [0, 0, 0, 0], [0, 0, 0, 0]]\n"
     ]
    }
   ],
   "source": [
    "\n",
    "r_len = 3\n",
    "c_len = 4\n",
    "direction_list = [[1,-1],[1,0],[1,1],[0,-1],[0,1],[-1,-1],[0,-1],[-1,1]]\n",
    "discovered_matirx = [[0 for _ in range(c_len)] for _ in range(r_len)]\n",
    "print(discovered_matirx)\n",
    "def recursive_part(row,col,matrix):\n",
    "    if 0 <= row < r_len and 0<= col < c_len and r_\n",
    "    \n",
    "    \n",
    "def main_part(matrix):\n",
    "    for row_idx in r_len:\n",
    "        for col_idx in c_len:\n",
    "            for r_ , c_ in direction_list:\n",
    "                row_idx += r_\n",
    "                col_idx += c_\n",
    "                if row < r_len and col < c_len and visited[row_idx][col_idx] != 1,\n",
    "                matrix[row_idx][col_idx] == 1:\n",
    "                cnt += recursive_part(row_idx, col_idx, matrix, discovered)\n",
    "    \n",
    "    \n"
   ]
  },
  {
   "cell_type": "code",
   "execution_count": 66,
   "metadata": {},
   "outputs": [],
   "source": [
    "a =[[i for i in range(5)] for _ in range(4)]"
   ]
  },
  {
   "cell_type": "code",
   "execution_count": 70,
   "metadata": {},
   "outputs": [
    {
     "data": {
      "text/plain": [
       "5"
      ]
     },
     "execution_count": 70,
     "metadata": {},
     "output_type": "execute_result"
    }
   ],
   "source": []
  },
  {
   "cell_type": "code",
   "execution_count": 78,
   "metadata": {},
   "outputs": [],
   "source": [
    "\n",
    "\n",
    "\n",
    "def num_islands(grid):\n",
    "    def dfs(i,j):\n",
    "        if i < 0 or i >= len(grid) or j < 0 or j >= len(j) or grid[i][j] != '1':\n",
    "            return\n",
    "        grid[i][j] = '0'\n",
    "        \n",
    "        dfs(grid, i+1, j)\n",
    "        dfs(grid, i-1, j)\n",
    "        dfs(grid, i, j+1)\n",
    "        dfs(grid, i, j-1)\n",
    "    if not grid:\n",
    "        return 0\n",
    "    \n",
    "    count = 0 \n",
    "    for i in range(len(grid)):\n",
    "        for j in range(len(grid[0])):\n",
    "            if grid[i][j] == '1':\n",
    "                dfs(i,j)\n",
    "                #보낸다음에 출동~\n",
    "                count += 1\n",
    "        "
   ]
  },
  {
   "cell_type": "code",
   "execution_count": null,
   "metadata": {},
   "outputs": [],
   "source": []
  }
 ],
 "metadata": {
  "kernelspec": {
   "display_name": "Python 3",
   "language": "python",
   "name": "python3"
  },
  "language_info": {
   "codemirror_mode": {
    "name": "ipython",
    "version": 3
   },
   "file_extension": ".py",
   "mimetype": "text/x-python",
   "name": "python",
   "nbconvert_exporter": "python",
   "pygments_lexer": "ipython3",
   "version": "3.8.5"
  }
 },
 "nbformat": 4,
 "nbformat_minor": 4
}
