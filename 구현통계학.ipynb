{
 "cells": [
  {
   "cell_type": "code",
   "execution_count": 8,
   "metadata": {
    "scrolled": false
   },
   "outputs": [
    {
     "name": "stdout",
     "output_type": "stream",
     "text": [
      "5\n",
      "-1\n",
      "-2\n",
      "-3\n",
      "-1\n",
      "-2\n",
      "-2\n",
      "-2\n",
      "-1\n",
      "2\n"
     ]
    }
   ],
   "source": [
    "import heapq\n",
    "import sys\n",
    "\n",
    "\n",
    "N = int(input())\n",
    "arr = [int(sys.stdin.readline()) for _ in range(N)]\n",
    "\n",
    "            \n",
    "        \n",
    "        \n",
    "        \n",
    "            \n",
    "\n",
    "\n",
    "def mode(arr):\n",
    "    num2freq:dict = dict()\n",
    "    for num in arr:\n",
    "        if num in num2freq:\n",
    "            num2freq[num] += 1\n",
    "        else:\n",
    "            num2freq[num] = 1\n",
    "    max_freq = 0\n",
    "    freq2num = sorted(num2freq.items(), key = lambda x: x[1], reverse = True)\n",
    "    if len(freq2num) > 1:\n",
    "        if freq2num[0][1] == freq2num[1][1]:\n",
    "            return freq2num[1][0]\n",
    "        else:\n",
    "            return freq2num[0][0]\n",
    "    else:\n",
    "        return freq2num[0][0]\n",
    "\n",
    "\n",
    "answer =[0]*4\n",
    "arr.sort()\n",
    "\n",
    "answer[0] = round(sum(arr)/N)\n",
    "answer[1] = arr[N//2]\n",
    "answer[2] = mode(arr)\n",
    "answer[3] = arr[N-1]-arr[0]\n",
    "for num in answer:\n",
    "    print(num)\n",
    "    \n",
    "\n",
    "answer"
   ]
  },
  {
   "cell_type": "code",
   "execution_count": null,
   "metadata": {},
   "outputs": [],
   "source": [
    "#이걸로도 정답!\n",
    "for num, freq in num2freq.items():\n",
    "        if freq > max_freq:\n",
    "            max_freq = freq\n",
    "        if freq in freq2num:\n",
    "            heapq.heappush(freq2num[freq], num)\n",
    "        else:\n",
    "            heap =[]\n",
    "            heapq.heappush(heap, num)\n",
    "            freq2num[freq] = heap\n",
    "    if len(freq2num[max_freq])> 1:\n",
    "        heapq.heappop(freq2num[max_freq])\n",
    "    return heapq.heappop(freq2num[max_freq])"
   ]
  }
 ],
 "metadata": {
  "kernelspec": {
   "display_name": "Python 3.8.5 64-bit ('base': conda)",
   "language": "python",
   "name": "python385jvsc74a57bd0b2bb918a0942ba26a9376c97fc5cc9ed2446350eb0970c42479b753998e6d837"
  },
  "language_info": {
   "codemirror_mode": {
    "name": "ipython",
    "version": 3
   },
   "file_extension": ".py",
   "mimetype": "text/x-python",
   "name": "python",
   "nbconvert_exporter": "python",
   "pygments_lexer": "ipython3",
   "version": "3.8.5"
  }
 },
 "nbformat": 4,
 "nbformat_minor": 4
}
